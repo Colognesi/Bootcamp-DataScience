{
 "cells": [
  {
   "cell_type": "markdown",
   "metadata": {},
   "source": [
    "# Leitura e visualização dos dados"
   ]
  },
  {
   "cell_type": "code",
   "execution_count": 12,
   "metadata": {},
   "outputs": [],
   "source": [
    "import pandas as pd\n",
    "import matplotlib.pyplot as plt"
   ]
  },
  {
   "cell_type": "code",
   "execution_count": 13,
   "metadata": {},
   "outputs": [
    {
     "name": "stderr",
     "output_type": "stream",
     "text": [
      "C:\\Users\\Kaiqu\\anaconda3\\lib\\site-packages\\ipykernel_launcher.py:2: ParserWarning: Falling back to the 'python' engine because the 'c' engine does not support skipfooter; you can avoid this warning by specifying engine='python'.\n",
      "  \n"
     ]
    },
    {
     "data": {
      "text/html": [
       "<div>\n",
       "<style scoped>\n",
       "    .dataframe tbody tr th:only-of-type {\n",
       "        vertical-align: middle;\n",
       "    }\n",
       "\n",
       "    .dataframe tbody tr th {\n",
       "        vertical-align: top;\n",
       "    }\n",
       "\n",
       "    .dataframe thead th {\n",
       "        text-align: right;\n",
       "    }\n",
       "</style>\n",
       "<table border=\"1\" class=\"dataframe\">\n",
       "  <thead>\n",
       "    <tr style=\"text-align: right;\">\n",
       "      <th></th>\n",
       "      <th>Unidade da Federação</th>\n",
       "      <th>2008/Jan</th>\n",
       "      <th>2008/Fev</th>\n",
       "      <th>2008/Mar</th>\n",
       "      <th>2008/Abr</th>\n",
       "      <th>2008/Mai</th>\n",
       "      <th>2008/Jun</th>\n",
       "      <th>2008/Jul</th>\n",
       "      <th>2008/Ago</th>\n",
       "      <th>2008/Set</th>\n",
       "      <th>...</th>\n",
       "      <th>2019/Dez</th>\n",
       "      <th>2020/Jan</th>\n",
       "      <th>2020/Fev</th>\n",
       "      <th>2020/Mar</th>\n",
       "      <th>2020/Abr</th>\n",
       "      <th>2020/Mai</th>\n",
       "      <th>2020/Jun</th>\n",
       "      <th>2020/Jul</th>\n",
       "      <th>2020/Ago</th>\n",
       "      <th>Total</th>\n",
       "    </tr>\n",
       "  </thead>\n",
       "  <tbody>\n",
       "    <tr>\n",
       "      <th>0</th>\n",
       "      <td>11 Rondônia</td>\n",
       "      <td>1388528.39</td>\n",
       "      <td>2931283.42</td>\n",
       "      <td>1541682.52</td>\n",
       "      <td>1525314.96</td>\n",
       "      <td>1645953.84</td>\n",
       "      <td>1406150.68</td>\n",
       "      <td>3065279.01</td>\n",
       "      <td>3231494.61</td>\n",
       "      <td>3117178.63</td>\n",
       "      <td>...</td>\n",
       "      <td>8085025.66</td>\n",
       "      <td>9221412.18</td>\n",
       "      <td>7493310.88</td>\n",
       "      <td>8092260.11</td>\n",
       "      <td>7273843.63</td>\n",
       "      <td>7652120.28</td>\n",
       "      <td>8725530.68</td>\n",
       "      <td>11152107.08</td>\n",
       "      <td>10285455.78</td>\n",
       "      <td>9.291297e+08</td>\n",
       "    </tr>\n",
       "    <tr>\n",
       "      <th>1</th>\n",
       "      <td>12 Acre</td>\n",
       "      <td>902416.00</td>\n",
       "      <td>1497206.26</td>\n",
       "      <td>1794028.48</td>\n",
       "      <td>1730469.42</td>\n",
       "      <td>1819443.92</td>\n",
       "      <td>1828496.00</td>\n",
       "      <td>2511754.59</td>\n",
       "      <td>2089107.14</td>\n",
       "      <td>2275708.53</td>\n",
       "      <td>...</td>\n",
       "      <td>2874871.28</td>\n",
       "      <td>3331803.55</td>\n",
       "      <td>3417691.07</td>\n",
       "      <td>3076003.20</td>\n",
       "      <td>2286642.60</td>\n",
       "      <td>2896340.24</td>\n",
       "      <td>3045245.80</td>\n",
       "      <td>3915193.20</td>\n",
       "      <td>-</td>\n",
       "      <td>4.206680e+08</td>\n",
       "    </tr>\n",
       "    <tr>\n",
       "      <th>2</th>\n",
       "      <td>13 Amazonas</td>\n",
       "      <td>4735529.42</td>\n",
       "      <td>7118990.57</td>\n",
       "      <td>8196635.49</td>\n",
       "      <td>8259378.42</td>\n",
       "      <td>7831399.90</td>\n",
       "      <td>8477273.62</td>\n",
       "      <td>9368858.72</td>\n",
       "      <td>9352532.70</td>\n",
       "      <td>9363099.35</td>\n",
       "      <td>...</td>\n",
       "      <td>14346553.60</td>\n",
       "      <td>16018459.07</td>\n",
       "      <td>14913745.37</td>\n",
       "      <td>15068304.35</td>\n",
       "      <td>13509579.29</td>\n",
       "      <td>19658585.46</td>\n",
       "      <td>20897542.93</td>\n",
       "      <td>19346450.18</td>\n",
       "      <td>14726443.67</td>\n",
       "      <td>1.771655e+09</td>\n",
       "    </tr>\n",
       "    <tr>\n",
       "      <th>3</th>\n",
       "      <td>14 Roraima</td>\n",
       "      <td>657889.53</td>\n",
       "      <td>777939.31</td>\n",
       "      <td>718688.03</td>\n",
       "      <td>839994.39</td>\n",
       "      <td>862347.96</td>\n",
       "      <td>832440.66</td>\n",
       "      <td>996693.09</td>\n",
       "      <td>894271.18</td>\n",
       "      <td>910424.17</td>\n",
       "      <td>...</td>\n",
       "      <td>3097113.21</td>\n",
       "      <td>3059823.80</td>\n",
       "      <td>2912519.98</td>\n",
       "      <td>2937346.43</td>\n",
       "      <td>2868820.96</td>\n",
       "      <td>2752228.26</td>\n",
       "      <td>3401864.29</td>\n",
       "      <td>3015488.30</td>\n",
       "      <td>2826486.18</td>\n",
       "      <td>3.050109e+08</td>\n",
       "    </tr>\n",
       "    <tr>\n",
       "      <th>4</th>\n",
       "      <td>15 Pará</td>\n",
       "      <td>18864744.11</td>\n",
       "      <td>19553758.20</td>\n",
       "      <td>21937342.70</td>\n",
       "      <td>20842829.69</td>\n",
       "      <td>23249952.88</td>\n",
       "      <td>23240687.56</td>\n",
       "      <td>24002223.56</td>\n",
       "      <td>23341218.03</td>\n",
       "      <td>25172261.32</td>\n",
       "      <td>...</td>\n",
       "      <td>35925899.01</td>\n",
       "      <td>34345207.63</td>\n",
       "      <td>37384336.94</td>\n",
       "      <td>35512568.15</td>\n",
       "      <td>28217249.66</td>\n",
       "      <td>32617541.05</td>\n",
       "      <td>41625331.28</td>\n",
       "      <td>38438873.79</td>\n",
       "      <td>39911193.02</td>\n",
       "      <td>4.437116e+09</td>\n",
       "    </tr>\n",
       "  </tbody>\n",
       "</table>\n",
       "<p>5 rows × 154 columns</p>\n",
       "</div>"
      ],
      "text/plain": [
       "  Unidade da Federação     2008/Jan     2008/Fev     2008/Mar     2008/Abr  \\\n",
       "0          11 Rondônia   1388528.39   2931283.42   1541682.52   1525314.96   \n",
       "1              12 Acre    902416.00   1497206.26   1794028.48   1730469.42   \n",
       "2          13 Amazonas   4735529.42   7118990.57   8196635.49   8259378.42   \n",
       "3           14 Roraima    657889.53    777939.31    718688.03    839994.39   \n",
       "4              15 Pará  18864744.11  19553758.20  21937342.70  20842829.69   \n",
       "\n",
       "      2008/Mai     2008/Jun     2008/Jul     2008/Ago     2008/Set  ...  \\\n",
       "0   1645953.84   1406150.68   3065279.01   3231494.61   3117178.63  ...   \n",
       "1   1819443.92   1828496.00   2511754.59   2089107.14   2275708.53  ...   \n",
       "2   7831399.90   8477273.62   9368858.72   9352532.70   9363099.35  ...   \n",
       "3    862347.96    832440.66    996693.09    894271.18    910424.17  ...   \n",
       "4  23249952.88  23240687.56  24002223.56  23341218.03  25172261.32  ...   \n",
       "\n",
       "      2019/Dez     2020/Jan     2020/Fev     2020/Mar     2020/Abr  \\\n",
       "0   8085025.66   9221412.18   7493310.88   8092260.11   7273843.63   \n",
       "1   2874871.28   3331803.55   3417691.07   3076003.20   2286642.60   \n",
       "2  14346553.60  16018459.07  14913745.37  15068304.35  13509579.29   \n",
       "3   3097113.21   3059823.80   2912519.98   2937346.43   2868820.96   \n",
       "4  35925899.01  34345207.63  37384336.94  35512568.15  28217249.66   \n",
       "\n",
       "      2020/Mai     2020/Jun     2020/Jul     2020/Ago         Total  \n",
       "0   7652120.28   8725530.68  11152107.08  10285455.78  9.291297e+08  \n",
       "1   2896340.24   3045245.80   3915193.20            -  4.206680e+08  \n",
       "2  19658585.46  20897542.93  19346450.18  14726443.67  1.771655e+09  \n",
       "3   2752228.26   3401864.29   3015488.30   2826486.18  3.050109e+08  \n",
       "4  32617541.05  41625331.28  38438873.79  39911193.02  4.437116e+09  \n",
       "\n",
       "[5 rows x 154 columns]"
      ]
     },
     "execution_count": 13,
     "metadata": {},
     "output_type": "execute_result"
    }
   ],
   "source": [
    "dados = pd.read_csv(\"../../Dados/UF_AnoMesProc_ValorTotal.csv\", encoding='ISO-8859-1', sep=';', skiprows = 3, skipfooter = 12,\n",
    "                   thousands = '.', decimal = ',')\n",
    "dados.head()"
   ]
  },
  {
   "cell_type": "markdown",
   "metadata": {},
   "source": [
    "### Visualização dos gastos de Agosto de 2020"
   ]
  },
  {
   "cell_type": "code",
   "execution_count": 14,
   "metadata": {},
   "outputs": [],
   "source": [
    "# Importação Seaborn e definição da paleta\n",
    "import seaborn as sns\n",
    "sns.set_palette('Accent')\n",
    "sns.set_style('ticks')"
   ]
  },
  {
   "cell_type": "code",
   "execution_count": 15,
   "metadata": {},
   "outputs": [],
   "source": [
    "# usado para colocar o valor de zero a os dados que estiverem como NaN\n",
    "dados.fillna(0, inplace = True)"
   ]
  },
  {
   "cell_type": "code",
   "execution_count": 16,
   "metadata": {},
   "outputs": [],
   "source": [
    "# Usado isso para converter a tabela que era considerada Object para float\n",
    "dados['2020/Ago'] = list(map(lambda x: int(str(x).replace('-','0')) if x == '-' else x, dados['2020/Ago']))\n",
    "convert_dict = {'2020/Ago':float}\n",
    "dados = dados.astype(convert_dict)"
   ]
  },
  {
   "cell_type": "code",
   "execution_count": 17,
   "metadata": {},
   "outputs": [],
   "source": [
    "import matplotlib.ticker as ticker"
   ]
  },
  {
   "cell_type": "code",
   "execution_count": 22,
   "metadata": {},
   "outputs": [
    {
     "data": {
      "image/png": "[encoded data removed]",
      "text/plain": [
       "<Figure size 936x576 with 1 Axes>"
      ]
     },
     "metadata": {},
     "output_type": "display_data"
    }
   ],
   "source": [
    "ax, figure = plt.subplots(figsize=(13,8))\n",
    "ax = sns.barplot(y = 'Unidade da Federação', x = '2020/Ago', data = dados.sort_values('2020/Ago', ascending = True), orient = 'h')\n",
    "ax.xaxis.set_major_formatter(ticker.StrMethodFormatter('{x:,.2f}'))\n",
    "ax.set_title('Investimentos em Procedimentos Hospitalares por Local de Internação -- Agosto de 2020')\n",
    "ax.set_ylabel('')\n",
    "ax.set_xlabel('');"
   ]
  }
 ],
 "metadata": {
  "kernelspec": {
   "display_name": "Python 3",
   "language": "python",
   "name": "python3"
  },
  "language_info": {
   "codemirror_mode": {
    "name": "ipython",
    "version": 3
   },
   "file_extension": ".py",
   "mimetype": "text/x-python",
   "name": "python",
   "nbconvert_exporter": "python",
   "pygments_lexer": "ipython3",
   "version": "3.7.6"
  }
 },
 "nbformat": 4,
 "nbformat_minor": 4
}
