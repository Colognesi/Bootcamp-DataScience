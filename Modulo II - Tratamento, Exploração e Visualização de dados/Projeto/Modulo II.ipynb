{
 "cells": [
  {
   "cell_type": "code",
   "execution_count": 1,
   "metadata": {},
   "outputs": [],
   "source": [
    "import pandas as pd\n",
    "import numpy as np"
   ]
  },
  {
   "cell_type": "markdown",
   "metadata": {},
   "source": [
    "## Recaptulação"
   ]
  },
  {
   "cell_type": "markdown",
   "metadata": {},
   "source": [
    "### Leitura dos dados"
   ]
  },
  {
   "cell_type": "markdown",
   "metadata": {},
   "source": [
    "Base de dados do SUS, adquirida pelo tabnet, contendo as informações de investimentos em procedimentos hospitalares por mês de atendimento."
   ]
  },
  {
   "cell_type": "code",
   "execution_count": 2,
   "metadata": {},
   "outputs": [
    {
     "name": "stderr",
     "output_type": "stream",
     "text": [
      "C:\\Users\\Kaiqu\\anaconda3\\lib\\site-packages\\ipykernel_launcher.py:2: ParserWarning: Falling back to the 'python' engine because the 'c' engine does not support skipfooter; you can avoid this warning by specifying engine='python'.\n",
      "  \n"
     ]
    },
    {
     "data": {
      "text/html": [
       "<div>\n",
       "<style scoped>\n",
       "    .dataframe tbody tr th:only-of-type {\n",
       "        vertical-align: middle;\n",
       "    }\n",
       "\n",
       "    .dataframe tbody tr th {\n",
       "        vertical-align: top;\n",
       "    }\n",
       "\n",
       "    .dataframe thead th {\n",
       "        text-align: right;\n",
       "    }\n",
       "</style>\n",
       "<table border=\"1\" class=\"dataframe\">\n",
       "  <thead>\n",
       "    <tr style=\"text-align: right;\">\n",
       "      <th></th>\n",
       "      <th>Unidade da Federação</th>\n",
       "      <th>1992/Mar</th>\n",
       "      <th>1992/Abr</th>\n",
       "      <th>1993/Mai</th>\n",
       "      <th>1993/Dez</th>\n",
       "      <th>1994/Jan</th>\n",
       "      <th>1994/Fev</th>\n",
       "      <th>1994/Mai</th>\n",
       "      <th>1994/Ago</th>\n",
       "      <th>1994/Nov</th>\n",
       "      <th>...</th>\n",
       "      <th>2019/Dez</th>\n",
       "      <th>2020/Jan</th>\n",
       "      <th>2020/Fev</th>\n",
       "      <th>2020/Mar</th>\n",
       "      <th>2020/Abr</th>\n",
       "      <th>2020/Mai</th>\n",
       "      <th>2020/Jun</th>\n",
       "      <th>2020/Jul</th>\n",
       "      <th>2020/Ago</th>\n",
       "      <th>Total</th>\n",
       "    </tr>\n",
       "  </thead>\n",
       "  <tbody>\n",
       "    <tr>\n",
       "      <th>0</th>\n",
       "      <td>11 Rondônia</td>\n",
       "      <td>-</td>\n",
       "      <td>-</td>\n",
       "      <td>-</td>\n",
       "      <td>-</td>\n",
       "      <td>-</td>\n",
       "      <td>-</td>\n",
       "      <td>-</td>\n",
       "      <td>-</td>\n",
       "      <td>-</td>\n",
       "      <td>...</td>\n",
       "      <td>8660753.05</td>\n",
       "      <td>8326416.32</td>\n",
       "      <td>8413784.42</td>\n",
       "      <td>7174312.31</td>\n",
       "      <td>7423678.64</td>\n",
       "      <td>8581195.13</td>\n",
       "      <td>9193593.76</td>\n",
       "      <td>7407388.24</td>\n",
       "      <td>3556381.57</td>\n",
       "      <td>9.291297e+08</td>\n",
       "    </tr>\n",
       "    <tr>\n",
       "      <th>1</th>\n",
       "      <td>12 Acre</td>\n",
       "      <td>-</td>\n",
       "      <td>-</td>\n",
       "      <td>-</td>\n",
       "      <td>-</td>\n",
       "      <td>-</td>\n",
       "      <td>-</td>\n",
       "      <td>-</td>\n",
       "      <td>-</td>\n",
       "      <td>-</td>\n",
       "      <td>...</td>\n",
       "      <td>2959569.09</td>\n",
       "      <td>3261123.88</td>\n",
       "      <td>2981264.22</td>\n",
       "      <td>2859102.06</td>\n",
       "      <td>2472063.08</td>\n",
       "      <td>2383895.48</td>\n",
       "      <td>2199920.70</td>\n",
       "      <td>1163813.08</td>\n",
       "      <td>-</td>\n",
       "      <td>4.206680e+08</td>\n",
       "    </tr>\n",
       "    <tr>\n",
       "      <th>2</th>\n",
       "      <td>13 Amazonas</td>\n",
       "      <td>-</td>\n",
       "      <td>-</td>\n",
       "      <td>-</td>\n",
       "      <td>-</td>\n",
       "      <td>-</td>\n",
       "      <td>-</td>\n",
       "      <td>-</td>\n",
       "      <td>-</td>\n",
       "      <td>-</td>\n",
       "      <td>...</td>\n",
       "      <td>14923380.22</td>\n",
       "      <td>15939561.23</td>\n",
       "      <td>15138110.70</td>\n",
       "      <td>14773739.41</td>\n",
       "      <td>16330913.81</td>\n",
       "      <td>19441150.53</td>\n",
       "      <td>17509334.66</td>\n",
       "      <td>13358514.02</td>\n",
       "      <td>4726485.73</td>\n",
       "      <td>1.771655e+09</td>\n",
       "    </tr>\n",
       "    <tr>\n",
       "      <th>3</th>\n",
       "      <td>14 Roraima</td>\n",
       "      <td>-</td>\n",
       "      <td>-</td>\n",
       "      <td>-</td>\n",
       "      <td>-</td>\n",
       "      <td>-</td>\n",
       "      <td>-</td>\n",
       "      <td>-</td>\n",
       "      <td>-</td>\n",
       "      <td>-</td>\n",
       "      <td>...</td>\n",
       "      <td>2889969.87</td>\n",
       "      <td>3084561.08</td>\n",
       "      <td>2967159.04</td>\n",
       "      <td>2813954.05</td>\n",
       "      <td>2304961.42</td>\n",
       "      <td>2910776.44</td>\n",
       "      <td>3216466.51</td>\n",
       "      <td>2739498.41</td>\n",
       "      <td>1524478.04</td>\n",
       "      <td>3.050109e+08</td>\n",
       "    </tr>\n",
       "    <tr>\n",
       "      <th>4</th>\n",
       "      <td>15 Pará</td>\n",
       "      <td>-</td>\n",
       "      <td>-</td>\n",
       "      <td>-</td>\n",
       "      <td>-</td>\n",
       "      <td>-</td>\n",
       "      <td>-</td>\n",
       "      <td>-</td>\n",
       "      <td>-</td>\n",
       "      <td>-</td>\n",
       "      <td>...</td>\n",
       "      <td>35222625.80</td>\n",
       "      <td>37009819.17</td>\n",
       "      <td>34635702.52</td>\n",
       "      <td>34749098.46</td>\n",
       "      <td>28714969.96</td>\n",
       "      <td>41248502.78</td>\n",
       "      <td>35396030.78</td>\n",
       "      <td>27618727.51</td>\n",
       "      <td>11559714.54</td>\n",
       "      <td>4.437116e+09</td>\n",
       "    </tr>\n",
       "  </tbody>\n",
       "</table>\n",
       "<p>5 rows × 280 columns</p>\n",
       "</div>"
      ],
      "text/plain": [
       "  Unidade da Federação 1992/Mar 1992/Abr 1993/Mai 1993/Dez 1994/Jan 1994/Fev  \\\n",
       "0          11 Rondônia        -        -        -        -        -        -   \n",
       "1              12 Acre        -        -        -        -        -        -   \n",
       "2          13 Amazonas        -        -        -        -        -        -   \n",
       "3           14 Roraima        -        -        -        -        -        -   \n",
       "4              15 Pará        -        -        -        -        -        -   \n",
       "\n",
       "  1994/Mai 1994/Ago 1994/Nov  ...     2019/Dez     2020/Jan     2020/Fev  \\\n",
       "0        -        -        -  ...   8660753.05   8326416.32   8413784.42   \n",
       "1        -        -        -  ...   2959569.09   3261123.88   2981264.22   \n",
       "2        -        -        -  ...  14923380.22  15939561.23  15138110.70   \n",
       "3        -        -        -  ...   2889969.87   3084561.08   2967159.04   \n",
       "4        -        -        -  ...  35222625.80  37009819.17  34635702.52   \n",
       "\n",
       "      2020/Mar     2020/Abr     2020/Mai     2020/Jun     2020/Jul  \\\n",
       "0   7174312.31   7423678.64   8581195.13   9193593.76   7407388.24   \n",
       "1   2859102.06   2472063.08   2383895.48   2199920.70   1163813.08   \n",
       "2  14773739.41  16330913.81  19441150.53  17509334.66  13358514.02   \n",
       "3   2813954.05   2304961.42   2910776.44   3216466.51   2739498.41   \n",
       "4  34749098.46  28714969.96  41248502.78  35396030.78  27618727.51   \n",
       "\n",
       "      2020/Ago         Total  \n",
       "0   3556381.57  9.291297e+08  \n",
       "1            -  4.206680e+08  \n",
       "2   4726485.73  1.771655e+09  \n",
       "3   1524478.04  3.050109e+08  \n",
       "4  11559714.54  4.437116e+09  \n",
       "\n",
       "[5 rows x 280 columns]"
      ]
     },
     "execution_count": 2,
     "metadata": {},
     "output_type": "execute_result"
    }
   ],
   "source": [
    "dados = pd.read_csv('../Dados/UF_AnoMesAtend_ValorTotal.csv', encoding=\"ISO-8859-1\", skiprows=3, sep=\";\", \n",
    "                    skipfooter=12, thousands=\".\", decimal=\",\")\n",
    "dados.head()"
   ]
  },
  {
   "cell_type": "markdown",
   "metadata": {},
   "source": [
    "### tratamento inicial"
   ]
  },
  {
   "cell_type": "markdown",
   "metadata": {},
   "source": [
    "Parte usada para adicionar a média dos valores investidos, na coluna de agosto do Acre"
   ]
  },
  {
   "cell_type": "code",
   "execution_count": 3,
   "metadata": {},
   "outputs": [
    {
     "name": "stderr",
     "output_type": "stream",
     "text": [
      "C:\\Users\\Kaiqu\\anaconda3\\lib\\site-packages\\pandas\\core\\generic.py:6746: SettingWithCopyWarning: \n",
      "A value is trying to be set on a copy of a slice from a DataFrame\n",
      "\n",
      "See the caveats in the documentation: https://pandas.pydata.org/pandas-docs/stable/user_guide/indexing.html#returning-a-view-versus-a-copy\n",
      "  self._update_inplace(new_data)\n"
     ]
    }
   ],
   "source": [
    "# Seleção do Acre e adicionando o valor NaN ao seu valor '-'\n",
    "tratamento = dados.loc[1]\n",
    "tratamento.replace('-', np.nan, inplace = True)"
   ]
  },
  {
   "cell_type": "code",
   "execution_count": 4,
   "metadata": {},
   "outputs": [
    {
     "name": "stderr",
     "output_type": "stream",
     "text": [
      "C:\\Users\\Kaiqu\\anaconda3\\lib\\site-packages\\pandas\\core\\generic.py:6245: SettingWithCopyWarning: \n",
      "A value is trying to be set on a copy of a slice from a DataFrame\n",
      "\n",
      "See the caveats in the documentation: https://pandas.pydata.org/pandas-docs/stable/user_guide/indexing.html#returning-a-view-versus-a-copy\n",
      "  self._update_inplace(new_data)\n"
     ]
    }
   ],
   "source": [
    "# adicionando o valor 0 a os valores nan\n",
    "tratamento.fillna(0, inplace = True)"
   ]
  },
  {
   "cell_type": "code",
   "execution_count": 5,
   "metadata": {},
   "outputs": [
    {
     "data": {
      "text/plain": [
       "3015541.5"
      ]
     },
     "execution_count": 5,
     "metadata": {},
     "output_type": "execute_result"
    }
   ],
   "source": [
    "# Usado parra arredondar seu valor, com base em seus ultimos valores, setados como float e inserção da média.\n",
    "valor = round(tratamento.tail(-1).astype('float').mean(), 2)\n",
    "valor"
   ]
  },
  {
   "cell_type": "code",
   "execution_count": 6,
   "metadata": {},
   "outputs": [],
   "source": [
    "# usado para fazer o replace dos valores '-' na base original\n",
    "dados['2020/Ago'].replace('-', valor, inplace = True)"
   ]
  },
  {
   "cell_type": "code",
   "execution_count": 7,
   "metadata": {},
   "outputs": [],
   "source": [
    "# convertendo a coluna em float\n",
    "dados['2020/Ago'] = dados['2020/Ago'].astype('float')"
   ]
  },
  {
   "cell_type": "markdown",
   "metadata": {},
   "source": [
    "### Seleção de colunas utilizaveis"
   ]
  },
  {
   "cell_type": "code",
   "execution_count": 8,
   "metadata": {},
   "outputs": [],
   "source": [
    "colunas_usaveis = dados.mean().index.tolist()\n",
    "colunas_usaveis.insert(0, 'Unidade da Federação')"
   ]
  },
  {
   "cell_type": "code",
   "execution_count": 9,
   "metadata": {},
   "outputs": [],
   "source": [
    "dados_usaveis = dados[colunas_usaveis].sort_values('Total', ascending = False)"
   ]
  },
  {
   "cell_type": "code",
   "execution_count": 10,
   "metadata": {},
   "outputs": [],
   "source": [
    "# Deixar a UF como index da base de dados\n",
    "dados_usaveis.set_index('Unidade da Federação', inplace = True)"
   ]
  },
  {
   "cell_type": "code",
   "execution_count": 11,
   "metadata": {},
   "outputs": [],
   "source": [
    "dados_usaveis.drop('Total', 1, inplace = True)"
   ]
  },
  {
   "cell_type": "markdown",
   "metadata": {},
   "source": [
    "### Plotando gráfico de barras do mês mais recente"
   ]
  },
  {
   "cell_type": "code",
   "execution_count": 12,
   "metadata": {},
   "outputs": [
    {
     "data": {
      "text/plain": [
       "Unidade da Federação\n",
       "35 São Paulo            1.404149e+08\n",
       "31 Minas Gerais         5.747370e+07\n",
       "41 Paraná               4.154240e+07\n",
       "43 Rio Grande do Sul    2.834926e+07\n",
       "33 Rio de Janeiro       3.626432e+07\n",
       "Name: 2020/Ago, dtype: float64"
      ]
     },
     "execution_count": 12,
     "metadata": {},
     "output_type": "execute_result"
    }
   ],
   "source": [
    "mais_recente = dados_usaveis.columns[-1]\n",
    "interesse = dados_usaveis[mais_recente]\n",
    "interesse.head()"
   ]
  },
  {
   "cell_type": "code",
   "execution_count": 13,
   "metadata": {},
   "outputs": [],
   "source": [
    "import matplotlib.ticker as ticker\n",
    "import seaborn as sns"
   ]
  },
  {
   "cell_type": "code",
   "execution_count": 14,
   "metadata": {},
   "outputs": [],
   "source": [
    "sns.set_palette('Accent')\n",
    "sns.set_style('darkgrid')"
   ]
  },
  {
   "cell_type": "code",
   "execution_count": 15,
   "metadata": {},
   "outputs": [
    {
     "data": {
      "image/png": "[encoded data removed]",
      "text/plain": [
       "<Figure size 936x576 with 1 Axes>"
      ]
     },
     "metadata": {},
     "output_type": "display_data"
    }
   ],
   "source": [
    "ax = interesse.sort_values(ascending = True).T.plot(kind = 'barh', figsize=(13,8))\n",
    "ax.xaxis.set_major_formatter(ticker.StrMethodFormatter('{x:,.2f}'))\n",
    "ax.set_ylabel('');"
   ]
  },
  {
   "cell_type": "markdown",
   "metadata": {},
   "source": [
    "# Inicio modulo II"
   ]
  },
  {
   "cell_type": "markdown",
   "metadata": {},
   "source": [
    "## Parte I"
   ]
  },
  {
   "cell_type": "code",
   "execution_count": 16,
   "metadata": {},
   "outputs": [
    {
     "data": {
      "text/plain": [
       "Unidade da Federação\n",
       "35 São Paulo              0.27\n",
       "31 Minas Gerais           0.11\n",
       "41 Paraná                 0.08\n",
       "43 Rio Grande do Sul      0.05\n",
       "33 Rio de Janeiro         0.07\n",
       "29 Bahia                  0.05\n",
       "26 Pernambuco             0.06\n",
       "42 Santa Catarina         0.03\n",
       "23 Ceará                  0.03\n",
       "52 Goiás                  0.04\n",
       "15 Pará                   0.02\n",
       "21 Maranhão               0.02\n",
       "32 Espírito Santo         0.02\n",
       "24 Rio Grande do Norte    0.02\n",
       "25 Paraíba                0.02\n",
       "53 Distrito Federal       0.02\n",
       "50 Mato Grosso do Sul     0.01\n",
       "22 Piauí                  0.02\n",
       "27 Alagoas                0.01\n",
       "51 Mato Grosso            0.01\n",
       "13 Amazonas               0.01\n",
       "28 Sergipe                0.00\n",
       "17 Tocantins              0.00\n",
       "11 Rondônia               0.01\n",
       "12 Acre                   0.01\n",
       "14 Roraima                0.00\n",
       "16 Amapá                  0.00\n",
       "Name: 2020/Ago, dtype: float64"
      ]
     },
     "execution_count": 16,
     "metadata": {},
     "output_type": "execute_result"
    }
   ],
   "source": [
    "# fazer uma comparação do gasto per capta, qual porcentagem foi distribuida para X estado do valor total investido.\n",
    "proporcional = interesse / interesse.sum()\n",
    "round(proporcional, 2)"
   ]
  },
  {
   "cell_type": "code",
   "execution_count": 17,
   "metadata": {},
   "outputs": [
    {
     "data": {
      "text/plain": [
       "<matplotlib.axes._subplots.AxesSubplot at 0x28781d19f08>"
      ]
     },
     "execution_count": 17,
     "metadata": {},
     "output_type": "execute_result"
    },
    {
     "data": {
      "image/png": "[encoded data removed]",
      "text/plain": [
       "<Figure size 936x576 with 1 Axes>"
      ]
     },
     "metadata": {},
     "output_type": "display_data"
    }
   ],
   "source": [
    "# O gráfico é exatamente o mesmo que o anterior(como esperado), mas assim fica mais fácil a comparação de um todo\n",
    "proporcional.sort_values(ascending = True).T.plot(kind='barh', figsize = (13,8))"
   ]
  },
  {
   "cell_type": "markdown",
   "metadata": {},
   "source": [
    "### Estimativa de população segundo IBGE"
   ]
  },
  {
   "cell_type": "code",
   "execution_count": 18,
   "metadata": {},
   "outputs": [],
   "source": [
    "estimativa_populacional = pd.read_excel('../Dados/estimativa_dou_2020.xls', skipfooter=7, skiprows=1, convert_float = True)\n",
    "estimativa_populacional.set_index('BRASIL E UNIDADES DA FEDERAÇÃO', inplace = True)"
   ]
  },
  {
   "cell_type": "code",
   "execution_count": 19,
   "metadata": {},
   "outputs": [],
   "source": [
    "estimativa_populacional.drop('Unnamed: 1', 1, inplace = True)"
   ]
  },
  {
   "cell_type": "code",
   "execution_count": 20,
   "metadata": {},
   "outputs": [
    {
     "data": {
      "text/html": [
       "<div>\n",
       "<style scoped>\n",
       "    .dataframe tbody tr th:only-of-type {\n",
       "        vertical-align: middle;\n",
       "    }\n",
       "\n",
       "    .dataframe tbody tr th {\n",
       "        vertical-align: top;\n",
       "    }\n",
       "\n",
       "    .dataframe thead th {\n",
       "        text-align: right;\n",
       "    }\n",
       "</style>\n",
       "<table border=\"1\" class=\"dataframe\">\n",
       "  <thead>\n",
       "    <tr style=\"text-align: right;\">\n",
       "      <th></th>\n",
       "      <th>POPULAÇÃO ESTIMADA</th>\n",
       "    </tr>\n",
       "    <tr>\n",
       "      <th>BRASIL E UNIDADES DA FEDERAÇÃO</th>\n",
       "      <th></th>\n",
       "    </tr>\n",
       "  </thead>\n",
       "  <tbody>\n",
       "    <tr>\n",
       "      <th>Brasil</th>\n",
       "      <td>211755692</td>\n",
       "    </tr>\n",
       "    <tr>\n",
       "      <th>Região Norte</th>\n",
       "      <td>18672591</td>\n",
       "    </tr>\n",
       "    <tr>\n",
       "      <th>Rondônia</th>\n",
       "      <td>1796460</td>\n",
       "    </tr>\n",
       "    <tr>\n",
       "      <th>Acre</th>\n",
       "      <td>894470</td>\n",
       "    </tr>\n",
       "    <tr>\n",
       "      <th>Amazonas</th>\n",
       "      <td>4207714</td>\n",
       "    </tr>\n",
       "  </tbody>\n",
       "</table>\n",
       "</div>"
      ],
      "text/plain": [
       "                               POPULAÇÃO ESTIMADA\n",
       "BRASIL E UNIDADES DA FEDERAÇÃO                   \n",
       "Brasil                                  211755692\n",
       "Região Norte                             18672591\n",
       "Rondônia                                  1796460\n",
       "Acre                                       894470\n",
       "Amazonas                                  4207714"
      ]
     },
     "execution_count": 20,
     "metadata": {},
     "output_type": "execute_result"
    }
   ],
   "source": [
    "estimativa_populacional.head()"
   ]
  },
  {
   "cell_type": "code",
   "execution_count": 21,
   "metadata": {},
   "outputs": [],
   "source": [
    "estimativa_populacional['POPULAÇÃO ESTIMADA'].replace({r\"[(.)]+\" : ''}, regex = True, inplace = True)"
   ]
  },
  {
   "cell_type": "code",
   "execution_count": 22,
   "metadata": {},
   "outputs": [],
   "source": [
    "estimativa_populacional['POPULAÇÃO ESTIMADA'] = estimativa_populacional['POPULAÇÃO ESTIMADA'].astype('int')"
   ]
  },
  {
   "cell_type": "code",
   "execution_count": 23,
   "metadata": {},
   "outputs": [
    {
     "data": {
      "text/html": [
       "<div>\n",
       "<style scoped>\n",
       "    .dataframe tbody tr th:only-of-type {\n",
       "        vertical-align: middle;\n",
       "    }\n",
       "\n",
       "    .dataframe tbody tr th {\n",
       "        vertical-align: top;\n",
       "    }\n",
       "\n",
       "    .dataframe thead th {\n",
       "        text-align: right;\n",
       "    }\n",
       "</style>\n",
       "<table border=\"1\" class=\"dataframe\">\n",
       "  <thead>\n",
       "    <tr style=\"text-align: right;\">\n",
       "      <th></th>\n",
       "      <th>POPULAÇÃO ESTIMADA</th>\n",
       "    </tr>\n",
       "    <tr>\n",
       "      <th>BRASIL E UNIDADES DA FEDERAÇÃO</th>\n",
       "      <th></th>\n",
       "    </tr>\n",
       "  </thead>\n",
       "  <tbody>\n",
       "    <tr>\n",
       "      <th>Brasil</th>\n",
       "      <td>211755692</td>\n",
       "    </tr>\n",
       "    <tr>\n",
       "      <th>Região Norte</th>\n",
       "      <td>18672591</td>\n",
       "    </tr>\n",
       "    <tr>\n",
       "      <th>Rondônia</th>\n",
       "      <td>1796460</td>\n",
       "    </tr>\n",
       "    <tr>\n",
       "      <th>Acre</th>\n",
       "      <td>894470</td>\n",
       "    </tr>\n",
       "    <tr>\n",
       "      <th>Amazonas</th>\n",
       "      <td>4207714</td>\n",
       "    </tr>\n",
       "  </tbody>\n",
       "</table>\n",
       "</div>"
      ],
      "text/plain": [
       "                                POPULAÇÃO ESTIMADA\n",
       "BRASIL E UNIDADES DA FEDERAÇÃO                    \n",
       "Brasil                                   211755692\n",
       "Região Norte                              18672591\n",
       "Rondônia                                   1796460\n",
       "Acre                                        894470\n",
       "Amazonas                                   4207714"
      ]
     },
     "execution_count": 23,
     "metadata": {},
     "output_type": "execute_result"
    }
   ],
   "source": [
    "estimativa_populacional.head()"
   ]
  },
  {
   "cell_type": "markdown",
   "metadata": {},
   "source": [
    "### outro tipo de leitura"
   ]
  },
  {
   "cell_type": "code",
   "execution_count": 24,
   "metadata": {},
   "outputs": [],
   "source": [
    "dados_wikipedia = \"\"\"Posição\tUnidade federativa\tPopulação\t% da pop. total\tPaís comparável\n",
    "(habitantes)\n",
    "1\t São Paulo\t46 289 333\t21,9%\tFlag of Spain.svg Espanha (46 439 864)\n",
    "2\t Minas Gerais\t21 331 292\t10,1%\t Sri Lanka (20 675 000)\n",
    "3\t Rio de Janeiro\t17 366 189\t8,2%\t Países Baixos (16 922 900)\n",
    "4\t Bahia\t14 930 634\t7,1%\t Chade (14 037 000)\n",
    "5\t Paraná\t11 516 840\t5,4%\t Bolívia (11 410 651)\n",
    "6\t Rio Grande do Sul\t11 422 973\t5,4%\t Bélgica (11 250 659)\n",
    "7\t Pernambuco\t9 616 621\t4,5%\t Bielorrússia (9 485 300)\n",
    "8\t Ceará\t9 187 103\t4,3%\t Emirados Árabes Unidos (9 157 000)\n",
    "9\t Pará\t8 690 745\t4,1%\t Áustria (8 602 112)\n",
    "10\t Santa Catarina\t7 279 638\t3,4%\t Sérvia (7 114 393)\n",
    "12\t Goiás\t7 142 070\t3,4%\t Paraguai (7 003 406)\n",
    "11\t Maranhão\t7 127 460\t3,4%\t Paraguai (7 003 406)\n",
    "13\t Amazonas\t4 228 381\t2,0%\t Líbano (4 168 000)\n",
    "14\t Espírito Santo\t4 064 052\t1,9%\t Líbano (4 168 000)\n",
    "15\t Paraíba\t4 039 277\t1,9%\t Líbano (4 168 000)\n",
    "16\t Rio Grande do Norte\t3 534 165\t1,7%\t Uruguai (3 415 866)\n",
    "17\t Mato Grosso\t3 526 220\t1,7%\t Uruguai (3 415 866)\n",
    "18\t Alagoas\t3 351 543\t1,6%\t Uruguai (3 415 866)\n",
    "19\t Piauí\t3 281 480\t1,6%\t Kuwait (3 268 431)\n",
    "20\t Distrito Federal\t3 055 149\t1,4%\t Lituânia (2 900 787)\n",
    "21\t Mato Grosso do Sul\t2 809 394\t1,3%\t Jamaica (2 717 991)\n",
    "22\t Sergipe\t2 318 822\t1,1%\t Namíbia (2 280 700)\n",
    "23\t Rondônia\t1 796 460\t0,8%\t Gabão (1 725 000)\n",
    "24\t Tocantins\t1 590 248\t0,7%\t Bahrein (1 359 800)\n",
    "25\t Acre\t894 470\t0,4%\t Fiji (859 178)\n",
    "26\t Amapá\t861 773\t0,4%\t Fiji (859 178)\n",
    "27\t Roraima\t631 181\t0,3%\t Luxemburgo (562 958)\"\"\"\n",
    "\n",
    "#Fonte: https://pt.wikipedia.org/wiki/Lista_de_unidades_federativas_do_Brasil_por_popula%C3%A7%C3%A3o"
   ]
  },
  {
   "cell_type": "markdown",
   "metadata": {},
   "source": [
    "### leitura com IO"
   ]
  },
  {
   "cell_type": "code",
   "execution_count": 25,
   "metadata": {},
   "outputs": [],
   "source": [
    "from io import StringIO"
   ]
  },
  {
   "cell_type": "code",
   "execution_count": 26,
   "metadata": {},
   "outputs": [],
   "source": [
    "dados_wikipedia_io = StringIO(dados_wikipedia)"
   ]
  },
  {
   "cell_type": "code",
   "execution_count": 27,
   "metadata": {},
   "outputs": [],
   "source": [
    "# Aqui foi declarado que o leitor de centenas fosse visto como um espaço, e isso ja cuidou de deixar nossos numeros inteiros.\n",
    "df_wiki = pd.read_csv(dados_wikipedia_io, sep='\\t', thousands = ' ')"
   ]
  },
  {
   "cell_type": "markdown",
   "metadata": {},
   "source": [
    "outra forma de como fazer essa conversao dos dados, seria a seguinte:<br>\n",
    "    df_wiki['População'] = df_wiki['População'].str.replace(' ', '').astype('int')"
   ]
  },
  {
   "cell_type": "code",
   "execution_count": 28,
   "metadata": {},
   "outputs": [],
   "source": [
    "df_wiki.drop(0, inplace = True)"
   ]
  },
  {
   "cell_type": "code",
   "execution_count": 29,
   "metadata": {},
   "outputs": [],
   "source": [
    "df_wiki.drop('País comparável', 1, inplace=  True)\n",
    "df_wiki.drop('Posição', 1, inplace = True)\n",
    "df_wiki.drop('% da pop. total', 1, inplace=True)\n",
    "df_wiki['População'] = df_wiki['População'].astype('float')\n",
    "novo_indice = {'Unidade federativa':'uf' ,'População':'populacao'}\n",
    "df_wiki.rename(columns = novo_indice, inplace = True)"
   ]
  },
  {
   "cell_type": "code",
   "execution_count": 30,
   "metadata": {},
   "outputs": [],
   "source": [
    "# ordenando a leitura a esquerda\n",
    "#df_wiki.style.set_table_styles([dict(selector = 'th', props = [('text-allign', 'left')]),\n",
    "#                               dict(selector = 'td', props = [('text-allign', 'left')])])"
   ]
  },
  {
   "cell_type": "code",
   "execution_count": 31,
   "metadata": {},
   "outputs": [],
   "source": [
    "# Setando o uf como indice\n",
    "df_wiki.set_index('uf', inplace = True)"
   ]
  },
  {
   "cell_type": "markdown",
   "metadata": {},
   "source": [
    "### Juntando as tabelas"
   ]
  },
  {
   "cell_type": "code",
   "execution_count": 32,
   "metadata": {},
   "outputs": [
    {
     "data": {
      "text/plain": [
       "Unidade da Federação\n",
       "São Paulo            1.404149e+08\n",
       "Minas Gerais         5.747370e+07\n",
       "Paraná               4.154240e+07\n",
       "Rio Grande do Sul    2.834926e+07\n",
       "Rio de Janeiro       3.626432e+07\n",
       "Name: 2020/Ago, dtype: float64"
      ]
     },
     "execution_count": 32,
     "metadata": {},
     "output_type": "execute_result"
    }
   ],
   "source": [
    "# realizado slice para a remoção dos 3 primeiros caracteres para poder fazer o join\n",
    "interesse.index = interesse.index.str[3:]\n",
    "interesse.head()"
   ]
  },
  {
   "cell_type": "code",
   "execution_count": 33,
   "metadata": {},
   "outputs": [
    {
     "data": {
      "text/plain": [
       "Unidade da Federação\n",
       "São Paulo            1.404149e+08\n",
       "Minas Gerais         5.747370e+07\n",
       "Paraná               4.154240e+07\n",
       "Rio Grande do Sul    2.834926e+07\n",
       "Rio de Janeiro       3.626432e+07\n",
       "Name: 2020/Ago, dtype: float64"
      ]
     },
     "execution_count": 33,
     "metadata": {},
     "output_type": "execute_result"
    }
   ],
   "source": [
    "# ainda é necessário fazer mais um \"slice\", neste caso, é para a remoção dos espaços presentes nos nomes\n",
    "df_wiki.index = df_wiki.index.str.strip()\n",
    "interesse.head()"
   ]
  },
  {
   "cell_type": "code",
   "execution_count": 34,
   "metadata": {},
   "outputs": [],
   "source": [
    "for estado in interesse.index:\n",
    "    df_wiki.index = df_wiki.index.str.replace(f\"{estado} {estado}\", estado)"
   ]
  },
  {
   "cell_type": "markdown",
   "metadata": {},
   "source": [
    "### Parte II proporcionalidades e Seaborn"
   ]
  },
  {
   "cell_type": "code",
   "execution_count": 39,
   "metadata": {},
   "outputs": [
    {
     "data": {
      "text/html": [
       "<div>\n",
       "<style scoped>\n",
       "    .dataframe tbody tr th:only-of-type {\n",
       "        vertical-align: middle;\n",
       "    }\n",
       "\n",
       "    .dataframe tbody tr th {\n",
       "        vertical-align: top;\n",
       "    }\n",
       "\n",
       "    .dataframe thead th {\n",
       "        text-align: right;\n",
       "    }\n",
       "</style>\n",
       "<table border=\"1\" class=\"dataframe\">\n",
       "  <thead>\n",
       "    <tr style=\"text-align: right;\">\n",
       "      <th></th>\n",
       "      <th>populacao</th>\n",
       "      <th>2020/Ago</th>\n",
       "    </tr>\n",
       "    <tr>\n",
       "      <th>uf</th>\n",
       "      <th></th>\n",
       "      <th></th>\n",
       "    </tr>\n",
       "  </thead>\n",
       "  <tbody>\n",
       "    <tr>\n",
       "      <th>São Paulo</th>\n",
       "      <td>46289333.0</td>\n",
       "      <td>140414945.0</td>\n",
       "    </tr>\n",
       "    <tr>\n",
       "      <th>Minas Gerais</th>\n",
       "      <td>21331292.0</td>\n",
       "      <td>57473699.0</td>\n",
       "    </tr>\n",
       "    <tr>\n",
       "      <th>Rio de Janeiro</th>\n",
       "      <td>17366189.0</td>\n",
       "      <td>36264323.0</td>\n",
       "    </tr>\n",
       "    <tr>\n",
       "      <th>Bahia</th>\n",
       "      <td>14930634.0</td>\n",
       "      <td>26023559.0</td>\n",
       "    </tr>\n",
       "    <tr>\n",
       "      <th>Paraná</th>\n",
       "      <td>11516840.0</td>\n",
       "      <td>41542401.0</td>\n",
       "    </tr>\n",
       "  </tbody>\n",
       "</table>\n",
       "</div>"
      ],
      "text/plain": [
       "                 populacao     2020/Ago\n",
       "uf                                     \n",
       "São Paulo       46289333.0  140414945.0\n",
       "Minas Gerais    21331292.0   57473699.0\n",
       "Rio de Janeiro  17366189.0   36264323.0\n",
       "Bahia           14930634.0   26023559.0\n",
       "Paraná          11516840.0   41542401.0"
      ]
     },
     "execution_count": 39,
     "metadata": {},
     "output_type": "execute_result"
    }
   ],
   "source": [
    "gasto_mensal_habitante = df_wiki.join(round(interesse))\n",
    "gasto_mensal_habitante.head()"
   ]
  },
  {
   "cell_type": "code",
   "execution_count": 37,
   "metadata": {},
   "outputs": [
    {
     "data": {
      "text/plain": [
       "<matplotlib.axes._subplots.AxesSubplot at 0x287820e0508>"
      ]
     },
     "execution_count": 37,
     "metadata": {},
     "output_type": "execute_result"
    },
    {
     "data": {
      "image/png": "[encoded data removed]",
      "text/plain": [
       "<Figure size 432x288 with 1 Axes>"
      ]
     },
     "metadata": {},
     "output_type": "display_data"
    }
   ],
   "source": [
    "gasto_mensal_habitante.plot()"
   ]
  },
  {
   "cell_type": "code",
   "execution_count": 40,
   "metadata": {},
   "outputs": [
    {
     "data": {
      "text/html": [
       "<div>\n",
       "<style scoped>\n",
       "    .dataframe tbody tr th:only-of-type {\n",
       "        vertical-align: middle;\n",
       "    }\n",
       "\n",
       "    .dataframe tbody tr th {\n",
       "        vertical-align: top;\n",
       "    }\n",
       "\n",
       "    .dataframe thead th {\n",
       "        text-align: right;\n",
       "    }\n",
       "</style>\n",
       "<table border=\"1\" class=\"dataframe\">\n",
       "  <thead>\n",
       "    <tr style=\"text-align: right;\">\n",
       "      <th></th>\n",
       "      <th>populacao</th>\n",
       "      <th>2020/Ago</th>\n",
       "      <th>gasto por habitante</th>\n",
       "    </tr>\n",
       "    <tr>\n",
       "      <th>uf</th>\n",
       "      <th></th>\n",
       "      <th></th>\n",
       "      <th></th>\n",
       "    </tr>\n",
       "  </thead>\n",
       "  <tbody>\n",
       "    <tr>\n",
       "      <th>São Paulo</th>\n",
       "      <td>46289333.0</td>\n",
       "      <td>140414945.0</td>\n",
       "      <td>3.033419</td>\n",
       "    </tr>\n",
       "    <tr>\n",
       "      <th>Minas Gerais</th>\n",
       "      <td>21331292.0</td>\n",
       "      <td>57473699.0</td>\n",
       "      <td>2.694337</td>\n",
       "    </tr>\n",
       "    <tr>\n",
       "      <th>Rio de Janeiro</th>\n",
       "      <td>17366189.0</td>\n",
       "      <td>36264323.0</td>\n",
       "      <td>2.088214</td>\n",
       "    </tr>\n",
       "    <tr>\n",
       "      <th>Bahia</th>\n",
       "      <td>14930634.0</td>\n",
       "      <td>26023559.0</td>\n",
       "      <td>1.742964</td>\n",
       "    </tr>\n",
       "    <tr>\n",
       "      <th>Paraná</th>\n",
       "      <td>11516840.0</td>\n",
       "      <td>41542401.0</td>\n",
       "      <td>3.607101</td>\n",
       "    </tr>\n",
       "    <tr>\n",
       "      <th>Rio Grande do Sul</th>\n",
       "      <td>11422973.0</td>\n",
       "      <td>28349257.0</td>\n",
       "      <td>2.481776</td>\n",
       "    </tr>\n",
       "    <tr>\n",
       "      <th>Pernambuco</th>\n",
       "      <td>9616621.0</td>\n",
       "      <td>33544876.0</td>\n",
       "      <td>3.488219</td>\n",
       "    </tr>\n",
       "    <tr>\n",
       "      <th>Ceará</th>\n",
       "      <td>9187103.0</td>\n",
       "      <td>14559530.0</td>\n",
       "      <td>1.584779</td>\n",
       "    </tr>\n",
       "    <tr>\n",
       "      <th>Pará</th>\n",
       "      <td>8690745.0</td>\n",
       "      <td>11559715.0</td>\n",
       "      <td>1.330118</td>\n",
       "    </tr>\n",
       "    <tr>\n",
       "      <th>Santa Catarina</th>\n",
       "      <td>7279638.0</td>\n",
       "      <td>16991236.0</td>\n",
       "      <td>2.334077</td>\n",
       "    </tr>\n",
       "    <tr>\n",
       "      <th>Goiás</th>\n",
       "      <td>7142070.0</td>\n",
       "      <td>20242642.0</td>\n",
       "      <td>2.834282</td>\n",
       "    </tr>\n",
       "    <tr>\n",
       "      <th>Maranhão</th>\n",
       "      <td>7127460.0</td>\n",
       "      <td>10916719.0</td>\n",
       "      <td>1.531642</td>\n",
       "    </tr>\n",
       "    <tr>\n",
       "      <th>Amazonas</th>\n",
       "      <td>4228381.0</td>\n",
       "      <td>4726486.0</td>\n",
       "      <td>1.117800</td>\n",
       "    </tr>\n",
       "    <tr>\n",
       "      <th>Espírito Santo</th>\n",
       "      <td>4064052.0</td>\n",
       "      <td>10824255.0</td>\n",
       "      <td>2.663414</td>\n",
       "    </tr>\n",
       "    <tr>\n",
       "      <th>Paraíba</th>\n",
       "      <td>4039277.0</td>\n",
       "      <td>8585226.0</td>\n",
       "      <td>2.125436</td>\n",
       "    </tr>\n",
       "    <tr>\n",
       "      <th>Rio Grande do Norte</th>\n",
       "      <td>3534165.0</td>\n",
       "      <td>8080161.0</td>\n",
       "      <td>2.286300</td>\n",
       "    </tr>\n",
       "    <tr>\n",
       "      <th>Mato Grosso</th>\n",
       "      <td>3526220.0</td>\n",
       "      <td>6174225.0</td>\n",
       "      <td>1.750947</td>\n",
       "    </tr>\n",
       "    <tr>\n",
       "      <th>Alagoas</th>\n",
       "      <td>3351543.0</td>\n",
       "      <td>6487948.0</td>\n",
       "      <td>1.935809</td>\n",
       "    </tr>\n",
       "    <tr>\n",
       "      <th>Piauí</th>\n",
       "      <td>3281480.0</td>\n",
       "      <td>7926322.0</td>\n",
       "      <td>2.415472</td>\n",
       "    </tr>\n",
       "    <tr>\n",
       "      <th>Distrito Federal</th>\n",
       "      <td>3055149.0</td>\n",
       "      <td>12044848.0</td>\n",
       "      <td>3.942475</td>\n",
       "    </tr>\n",
       "    <tr>\n",
       "      <th>Mato Grosso do Sul</th>\n",
       "      <td>2809394.0</td>\n",
       "      <td>4059220.0</td>\n",
       "      <td>1.444874</td>\n",
       "    </tr>\n",
       "    <tr>\n",
       "      <th>Sergipe</th>\n",
       "      <td>2318822.0</td>\n",
       "      <td>1742128.0</td>\n",
       "      <td>0.751299</td>\n",
       "    </tr>\n",
       "    <tr>\n",
       "      <th>Rondônia</th>\n",
       "      <td>1796460.0</td>\n",
       "      <td>3556382.0</td>\n",
       "      <td>1.979661</td>\n",
       "    </tr>\n",
       "    <tr>\n",
       "      <th>Tocantins</th>\n",
       "      <td>1590248.0</td>\n",
       "      <td>2453363.0</td>\n",
       "      <td>1.542755</td>\n",
       "    </tr>\n",
       "    <tr>\n",
       "      <th>Acre</th>\n",
       "      <td>894470.0</td>\n",
       "      <td>3015542.0</td>\n",
       "      <td>3.371317</td>\n",
       "    </tr>\n",
       "    <tr>\n",
       "      <th>Amapá</th>\n",
       "      <td>861773.0</td>\n",
       "      <td>834187.0</td>\n",
       "      <td>0.967989</td>\n",
       "    </tr>\n",
       "    <tr>\n",
       "      <th>Roraima</th>\n",
       "      <td>631181.0</td>\n",
       "      <td>1524478.0</td>\n",
       "      <td>2.415279</td>\n",
       "    </tr>\n",
       "  </tbody>\n",
       "</table>\n",
       "</div>"
      ],
      "text/plain": [
       "                      populacao     2020/Ago  gasto por habitante\n",
       "uf                                                               \n",
       "São Paulo            46289333.0  140414945.0             3.033419\n",
       "Minas Gerais         21331292.0   57473699.0             2.694337\n",
       "Rio de Janeiro       17366189.0   36264323.0             2.088214\n",
       "Bahia                14930634.0   26023559.0             1.742964\n",
       "Paraná               11516840.0   41542401.0             3.607101\n",
       "Rio Grande do Sul    11422973.0   28349257.0             2.481776\n",
       "Pernambuco            9616621.0   33544876.0             3.488219\n",
       "Ceará                 9187103.0   14559530.0             1.584779\n",
       "Pará                  8690745.0   11559715.0             1.330118\n",
       "Santa Catarina        7279638.0   16991236.0             2.334077\n",
       "Goiás                 7142070.0   20242642.0             2.834282\n",
       "Maranhão              7127460.0   10916719.0             1.531642\n",
       "Amazonas              4228381.0    4726486.0             1.117800\n",
       "Espírito Santo        4064052.0   10824255.0             2.663414\n",
       "Paraíba               4039277.0    8585226.0             2.125436\n",
       "Rio Grande do Norte   3534165.0    8080161.0             2.286300\n",
       "Mato Grosso           3526220.0    6174225.0             1.750947\n",
       "Alagoas               3351543.0    6487948.0             1.935809\n",
       "Piauí                 3281480.0    7926322.0             2.415472\n",
       "Distrito Federal      3055149.0   12044848.0             3.942475\n",
       "Mato Grosso do Sul    2809394.0    4059220.0             1.444874\n",
       "Sergipe               2318822.0    1742128.0             0.751299\n",
       "Rondônia              1796460.0    3556382.0             1.979661\n",
       "Tocantins             1590248.0    2453363.0             1.542755\n",
       "Acre                   894470.0    3015542.0             3.371317\n",
       "Amapá                  861773.0     834187.0             0.967989\n",
       "Roraima                631181.0    1524478.0             2.415279"
      ]
     },
     "execution_count": 40,
     "metadata": {},
     "output_type": "execute_result"
    }
   ],
   "source": [
    "#pegaremos a proporcao dos gastos por habitantes, criando uma nova coluna\n",
    "gasto_mensal_habitante['gasto por habitante'] = gasto_mensal_habitante['2020/Ago'] / gasto_mensal_habitante['populacao']\n",
    "gasto_mensal_habitante"
   ]
  },
  {
   "cell_type": "code",
   "execution_count": 50,
   "metadata": {},
   "outputs": [
    {
     "data": {
      "text/plain": [
       "<matplotlib.axes._subplots.AxesSubplot at 0x28782d8ab48>"
      ]
     },
     "execution_count": 50,
     "metadata": {},
     "output_type": "execute_result"
    },
    {
     "data": {
      "image/png": "[encoded data removed]",
      "text/plain": [
       "<Figure size 936x576 with 1 Axes>"
      ]
     },
     "metadata": {},
     "output_type": "display_data"
    }
   ],
   "source": [
    "gasto_mensal_habitante['gasto por habitante'].sort_values(ascending = True).plot(kind = 'barh', figsize = (13,8))"
   ]
  },
  {
   "cell_type": "code",
   "execution_count": 53,
   "metadata": {},
   "outputs": [],
   "source": [
    "import matplotlib.pyplot as plt"
   ]
  },
  {
   "cell_type": "code",
   "execution_count": 55,
   "metadata": {},
   "outputs": [
    {
     "data": {
      "text/plain": [
       "<matplotlib.axes._subplots.AxesSubplot at 0x287831d2c48>"
      ]
     },
     "execution_count": 55,
     "metadata": {},
     "output_type": "execute_result"
    },
    {
     "data": {
      "image/png": "[encoded data removed]",
      "text/plain": [
       "<Figure size 576x576 with 1 Axes>"
      ]
     },
     "metadata": {},
     "output_type": "display_data"
    }
   ],
   "source": [
    "plt.figure(figsize=(8,8))\n",
    "sns.scatterplot(data = gasto_mensal_habitante, x = 'populacao', y = 'gasto por habitante')"
   ]
  },
  {
   "cell_type": "code",
   "execution_count": null,
   "metadata": {},
   "outputs": [],
   "source": []
  }
 ],
 "metadata": {
  "kernelspec": {
   "display_name": "Python 3",
   "language": "python",
   "name": "python3"
  },
  "language_info": {
   "codemirror_mode": {
    "name": "ipython",
    "version": 3
   },
   "file_extension": ".py",
   "mimetype": "text/x-python",
   "name": "python",
   "nbconvert_exporter": "python",
   "pygments_lexer": "ipython3",
   "version": "3.7.6"
  }
 },
 "nbformat": 4,
 "nbformat_minor": 4
}
