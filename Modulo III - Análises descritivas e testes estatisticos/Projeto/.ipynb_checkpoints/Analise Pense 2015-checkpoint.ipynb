{
 "cells": [
  {
   "cell_type": "markdown",
   "metadata": {},
   "source": [
    "# Módulo I"
   ]
  },
  {
   "cell_type": "markdown",
   "metadata": {},
   "source": [
    "## Aula I"
   ]
  },
  {
   "cell_type": "markdown",
   "metadata": {},
   "source": [
    "### Resumo:\n",
    " Aquisição dos dados IBGE PeNSE 2015 e leitura dos dados diretamente do arquivo zip. <br><br>\n",
    " PS: Para melhor entender os nomes das colunas, consultar o arquivo: Dicionario_PENSE_Microdados_AMOSTRA2.xls"
   ]
  },
  {
   "cell_type": "code",
   "execution_count": 1,
   "metadata": {},
   "outputs": [
    {
     "data": {
      "text/plain": [
       "['arquivos csv/',\n",
       " 'arquivos csv/PENSE_AMOSTRA2_ALUNO.CSV',\n",
       " 'arquivos csv/PENSE_AMOSTRA2_ALUNOESCOLA.CSV',\n",
       " 'arquivos csv/PENSE_AMOSTRA2_ESCOLA.CSV',\n",
       " 'arquivos sas/',\n",
       " 'arquivos sas/pense_amostra2_aluno.sas7bdat',\n",
       " 'arquivos sas/pense_amostra2_alunoescola.sas7bdat',\n",
       " 'arquivos sas/pense_amostra2_escola.sas7bdat',\n",
       " 'arquivos xlsx/',\n",
       " 'arquivos xlsx/PENSE_AMOSTRA2_ALUNO.xlsx',\n",
       " 'arquivos xlsx/PENSE_AMOSTRA2_ALUNOESCOLA.xlsx',\n",
       " 'arquivos xlsx/PENSE_AMOSTRA2_ESCOLA.xlsx',\n",
       " 'Dicionario_PENSE_Microdados_AMOSTRA2.xls']"
      ]
     },
     "execution_count": 1,
     "metadata": {},
     "output_type": "execute_result"
    }
   ],
   "source": [
    "import pandas as pd\n",
    "from zipfile import ZipFile\n",
    "\n",
    "caminho = \"../Dados/PeNSE_2015_AMOSTRA2.zip\"\n",
    "zip = ZipFile(caminho)\n",
    "zip.namelist()"
   ]
  },
  {
   "cell_type": "code",
   "execution_count": 2,
   "metadata": {},
   "outputs": [],
   "source": [
    "caminho_zipado = zip.namelist()[1]"
   ]
  },
  {
   "cell_type": "code",
   "execution_count": 3,
   "metadata": {},
   "outputs": [
    {
     "data": {
      "text/html": [
       "<div>\n",
       "<style scoped>\n",
       "    .dataframe tbody tr th:only-of-type {\n",
       "        vertical-align: middle;\n",
       "    }\n",
       "\n",
       "    .dataframe tbody tr th {\n",
       "        vertical-align: top;\n",
       "    }\n",
       "\n",
       "    .dataframe thead th {\n",
       "        text-align: right;\n",
       "    }\n",
       "</style>\n",
       "<table border=\"1\" class=\"dataframe\">\n",
       "  <thead>\n",
       "    <tr style=\"text-align: right;\">\n",
       "      <th></th>\n",
       "      <th>ANOPESQ</th>\n",
       "      <th>PAIS</th>\n",
       "      <th>REGEOGR</th>\n",
       "      <th>VB00004</th>\n",
       "      <th>VB01001</th>\n",
       "      <th>VB01002</th>\n",
       "      <th>VB01003</th>\n",
       "      <th>VB01004</th>\n",
       "      <th>VB01005</th>\n",
       "      <th>VB01006</th>\n",
       "      <th>...</th>\n",
       "      <th>ESTRATO_EXP</th>\n",
       "      <th>ESTRATOGEOREG</th>\n",
       "      <th>PESO</th>\n",
       "      <th>V0006</th>\n",
       "      <th>V0007</th>\n",
       "      <th>V0008</th>\n",
       "      <th>V0041</th>\n",
       "      <th>aluno</th>\n",
       "      <th>escola</th>\n",
       "      <th>turma</th>\n",
       "    </tr>\n",
       "  </thead>\n",
       "  <tbody>\n",
       "    <tr>\n",
       "      <th>0</th>\n",
       "      <td>2015</td>\n",
       "      <td>76</td>\n",
       "      <td>1</td>\n",
       "      <td>1</td>\n",
       "      <td>2</td>\n",
       "      <td>1</td>\n",
       "      <td>13</td>\n",
       "      <td>7</td>\n",
       "      <td>7</td>\n",
       "      <td>1</td>\n",
       "      <td>...</td>\n",
       "      <td>1223</td>\n",
       "      <td>1</td>\n",
       "      <td>299.735235</td>\n",
       "      <td>1</td>\n",
       "      <td>2</td>\n",
       "      <td>4</td>\n",
       "      <td>1</td>\n",
       "      <td>1</td>\n",
       "      <td>1</td>\n",
       "      <td>296</td>\n",
       "    </tr>\n",
       "    <tr>\n",
       "      <th>1</th>\n",
       "      <td>2015</td>\n",
       "      <td>76</td>\n",
       "      <td>1</td>\n",
       "      <td>1</td>\n",
       "      <td>2</td>\n",
       "      <td>1</td>\n",
       "      <td>14</td>\n",
       "      <td>4</td>\n",
       "      <td>7</td>\n",
       "      <td>1</td>\n",
       "      <td>...</td>\n",
       "      <td>1223</td>\n",
       "      <td>1</td>\n",
       "      <td>355.170081</td>\n",
       "      <td>1</td>\n",
       "      <td>2</td>\n",
       "      <td>4</td>\n",
       "      <td>1</td>\n",
       "      <td>2</td>\n",
       "      <td>1</td>\n",
       "      <td>296</td>\n",
       "    </tr>\n",
       "    <tr>\n",
       "      <th>2</th>\n",
       "      <td>2015</td>\n",
       "      <td>76</td>\n",
       "      <td>1</td>\n",
       "      <td>1</td>\n",
       "      <td>1</td>\n",
       "      <td>4</td>\n",
       "      <td>13</td>\n",
       "      <td>6</td>\n",
       "      <td>7</td>\n",
       "      <td>1</td>\n",
       "      <td>...</td>\n",
       "      <td>1223</td>\n",
       "      <td>1</td>\n",
       "      <td>299.735235</td>\n",
       "      <td>1</td>\n",
       "      <td>2</td>\n",
       "      <td>4</td>\n",
       "      <td>1</td>\n",
       "      <td>3</td>\n",
       "      <td>1</td>\n",
       "      <td>296</td>\n",
       "    </tr>\n",
       "    <tr>\n",
       "      <th>3</th>\n",
       "      <td>2015</td>\n",
       "      <td>76</td>\n",
       "      <td>1</td>\n",
       "      <td>1</td>\n",
       "      <td>1</td>\n",
       "      <td>1</td>\n",
       "      <td>14</td>\n",
       "      <td>6</td>\n",
       "      <td>7</td>\n",
       "      <td>1</td>\n",
       "      <td>...</td>\n",
       "      <td>1223</td>\n",
       "      <td>1</td>\n",
       "      <td>355.170081</td>\n",
       "      <td>1</td>\n",
       "      <td>2</td>\n",
       "      <td>4</td>\n",
       "      <td>1</td>\n",
       "      <td>4</td>\n",
       "      <td>1</td>\n",
       "      <td>296</td>\n",
       "    </tr>\n",
       "    <tr>\n",
       "      <th>4</th>\n",
       "      <td>2015</td>\n",
       "      <td>76</td>\n",
       "      <td>1</td>\n",
       "      <td>1</td>\n",
       "      <td>1</td>\n",
       "      <td>1</td>\n",
       "      <td>13</td>\n",
       "      <td>9</td>\n",
       "      <td>7</td>\n",
       "      <td>1</td>\n",
       "      <td>...</td>\n",
       "      <td>1223</td>\n",
       "      <td>1</td>\n",
       "      <td>299.735235</td>\n",
       "      <td>1</td>\n",
       "      <td>2</td>\n",
       "      <td>4</td>\n",
       "      <td>1</td>\n",
       "      <td>5</td>\n",
       "      <td>1</td>\n",
       "      <td>296</td>\n",
       "    </tr>\n",
       "  </tbody>\n",
       "</table>\n",
       "<p>5 rows × 181 columns</p>\n",
       "</div>"
      ],
      "text/plain": [
       "   ANOPESQ  PAIS  REGEOGR  VB00004  VB01001  VB01002  VB01003  VB01004  \\\n",
       "0     2015    76        1        1        2        1       13        7   \n",
       "1     2015    76        1        1        2        1       14        4   \n",
       "2     2015    76        1        1        1        4       13        6   \n",
       "3     2015    76        1        1        1        1       14        6   \n",
       "4     2015    76        1        1        1        1       13        9   \n",
       "\n",
       "   VB01005  VB01006  ...  ESTRATO_EXP  ESTRATOGEOREG        PESO  V0006  \\\n",
       "0        7        1  ...         1223              1  299.735235      1   \n",
       "1        7        1  ...         1223              1  355.170081      1   \n",
       "2        7        1  ...         1223              1  299.735235      1   \n",
       "3        7        1  ...         1223              1  355.170081      1   \n",
       "4        7        1  ...         1223              1  299.735235      1   \n",
       "\n",
       "   V0007  V0008  V0041  aluno  escola  turma  \n",
       "0      2      4      1      1       1    296  \n",
       "1      2      4      1      2       1    296  \n",
       "2      2      4      1      3       1    296  \n",
       "3      2      4      1      4       1    296  \n",
       "4      2      4      1      5       1    296  \n",
       "\n",
       "[5 rows x 181 columns]"
      ]
     },
     "execution_count": 3,
     "metadata": {},
     "output_type": "execute_result"
    }
   ],
   "source": [
    "dados = pd.read_csv(zip.open(caminho_zipado), sep = \";\", thousands = '.', decimal = ',')\n",
    "dados.head()"
   ]
  },
  {
   "cell_type": "markdown",
   "metadata": {},
   "source": [
    "## Aula II"
   ]
  },
  {
   "cell_type": "markdown",
   "metadata": {},
   "source": [
    "## Resumo:\n",
    "Identificar os tipos de dados que possuimos na base e \"Consertar\" dados Object para float."
   ]
  },
  {
   "cell_type": "code",
   "execution_count": 4,
   "metadata": {},
   "outputs": [
    {
     "name": "stdout",
     "output_type": "stream",
     "text": [
      "<class 'pandas.core.frame.DataFrame'>\n",
      "RangeIndex: 16556 entries, 0 to 16555\n",
      "Columns: 181 entries, ANOPESQ to turma\n",
      "dtypes: float64(10), int64(171)\n",
      "memory usage: 22.9 MB\n"
     ]
    }
   ],
   "source": [
    "dados.info()"
   ]
  },
  {
   "cell_type": "code",
   "execution_count": 5,
   "metadata": {},
   "outputs": [
    {
     "data": {
      "text/html": [
       "<div>\n",
       "<style scoped>\n",
       "    .dataframe tbody tr th:only-of-type {\n",
       "        vertical-align: middle;\n",
       "    }\n",
       "\n",
       "    .dataframe tbody tr th {\n",
       "        vertical-align: top;\n",
       "    }\n",
       "\n",
       "    .dataframe thead th {\n",
       "        text-align: right;\n",
       "    }\n",
       "</style>\n",
       "<table border=\"1\" class=\"dataframe\">\n",
       "  <thead>\n",
       "    <tr style=\"text-align: right;\">\n",
       "      <th></th>\n",
       "    </tr>\n",
       "  </thead>\n",
       "  <tbody>\n",
       "    <tr>\n",
       "      <th>0</th>\n",
       "    </tr>\n",
       "    <tr>\n",
       "      <th>1</th>\n",
       "    </tr>\n",
       "    <tr>\n",
       "      <th>2</th>\n",
       "    </tr>\n",
       "    <tr>\n",
       "      <th>3</th>\n",
       "    </tr>\n",
       "    <tr>\n",
       "      <th>4</th>\n",
       "    </tr>\n",
       "    <tr>\n",
       "      <th>...</th>\n",
       "    </tr>\n",
       "    <tr>\n",
       "      <th>16551</th>\n",
       "    </tr>\n",
       "    <tr>\n",
       "      <th>16552</th>\n",
       "    </tr>\n",
       "    <tr>\n",
       "      <th>16553</th>\n",
       "    </tr>\n",
       "    <tr>\n",
       "      <th>16554</th>\n",
       "    </tr>\n",
       "    <tr>\n",
       "      <th>16555</th>\n",
       "    </tr>\n",
       "  </tbody>\n",
       "</table>\n",
       "<p>16556 rows × 0 columns</p>\n",
       "</div>"
      ],
      "text/plain": [
       "Empty DataFrame\n",
       "Columns: []\n",
       "Index: [0, 1, 2, 3, 4, 5, 6, 7, 8, 9, 10, 11, 12, 13, 14, 15, 16, 17, 18, 19, 20, 21, 22, 23, 24, 25, 26, 27, 28, 29, 30, 31, 32, 33, 34, 35, 36, 37, 38, 39, 40, 41, 42, 43, 44, 45, 46, 47, 48, 49, 50, 51, 52, 53, 54, 55, 56, 57, 58, 59, 60, 61, 62, 63, 64, 65, 66, 67, 68, 69, 70, 71, 72, 73, 74, 75, 76, 77, 78, 79, 80, 81, 82, 83, 84, 85, 86, 87, 88, 89, 90, 91, 92, 93, 94, 95, 96, 97, 98, 99, ...]\n",
       "\n",
       "[16556 rows x 0 columns]"
      ]
     },
     "execution_count": 5,
     "metadata": {},
     "output_type": "execute_result"
    }
   ],
   "source": [
    "# Existiam dados do tipo Objetct, pois as casas decimais estavam definidas com \",\", isso foi resolvido ao inserir os \"separadores\" na leitura da base.\n",
    "dados.select_dtypes(include= \"object\")"
   ]
  },
  {
   "cell_type": "code",
   "execution_count": 6,
   "metadata": {},
   "outputs": [
    {
     "data": {
      "text/html": [
       "<div>\n",
       "<style scoped>\n",
       "    .dataframe tbody tr th:only-of-type {\n",
       "        vertical-align: middle;\n",
       "    }\n",
       "\n",
       "    .dataframe tbody tr th {\n",
       "        vertical-align: top;\n",
       "    }\n",
       "\n",
       "    .dataframe thead th {\n",
       "        text-align: right;\n",
       "    }\n",
       "</style>\n",
       "<table border=\"1\" class=\"dataframe\">\n",
       "  <thead>\n",
       "    <tr style=\"text-align: right;\">\n",
       "      <th></th>\n",
       "      <th>TEMPODESLOC</th>\n",
       "      <th>TEMPOTOTAL</th>\n",
       "      <th>TEMPOEDFIS</th>\n",
       "      <th>TEMPOEXTRA</th>\n",
       "      <th>TEMPOEST</th>\n",
       "      <th>VB17001</th>\n",
       "      <th>VB17002</th>\n",
       "      <th>VB17003</th>\n",
       "      <th>VB17004</th>\n",
       "      <th>PESO</th>\n",
       "    </tr>\n",
       "  </thead>\n",
       "  <tbody>\n",
       "    <tr>\n",
       "      <th>0</th>\n",
       "      <td>0.0</td>\n",
       "      <td>15.0</td>\n",
       "      <td>0.0</td>\n",
       "      <td>15.0</td>\n",
       "      <td>60.0</td>\n",
       "      <td>371.0</td>\n",
       "      <td>1570.0</td>\n",
       "      <td>37.1</td>\n",
       "      <td>157.0</td>\n",
       "      <td>299.735235</td>\n",
       "    </tr>\n",
       "    <tr>\n",
       "      <th>1</th>\n",
       "      <td>120.0</td>\n",
       "      <td>510.0</td>\n",
       "      <td>260.0</td>\n",
       "      <td>130.0</td>\n",
       "      <td>300.0</td>\n",
       "      <td>502.0</td>\n",
       "      <td>1520.0</td>\n",
       "      <td>50.2</td>\n",
       "      <td>152.0</td>\n",
       "      <td>355.170081</td>\n",
       "    </tr>\n",
       "    <tr>\n",
       "      <th>2</th>\n",
       "      <td>0.0</td>\n",
       "      <td>585.0</td>\n",
       "      <td>130.0</td>\n",
       "      <td>455.0</td>\n",
       "      <td>420.0</td>\n",
       "      <td>482.0</td>\n",
       "      <td>1614.0</td>\n",
       "      <td>48.2</td>\n",
       "      <td>161.4</td>\n",
       "      <td>299.735235</td>\n",
       "    </tr>\n",
       "    <tr>\n",
       "      <th>3</th>\n",
       "      <td>0.0</td>\n",
       "      <td>0.0</td>\n",
       "      <td>0.0</td>\n",
       "      <td>0.0</td>\n",
       "      <td>0.0</td>\n",
       "      <td>694.0</td>\n",
       "      <td>1725.0</td>\n",
       "      <td>69.4</td>\n",
       "      <td>172.5</td>\n",
       "      <td>355.170081</td>\n",
       "    </tr>\n",
       "    <tr>\n",
       "      <th>4</th>\n",
       "      <td>30.0</td>\n",
       "      <td>165.0</td>\n",
       "      <td>90.0</td>\n",
       "      <td>45.0</td>\n",
       "      <td>60.0</td>\n",
       "      <td>789.0</td>\n",
       "      <td>1675.0</td>\n",
       "      <td>78.9</td>\n",
       "      <td>167.5</td>\n",
       "      <td>299.735235</td>\n",
       "    </tr>\n",
       "    <tr>\n",
       "      <th>...</th>\n",
       "      <td>...</td>\n",
       "      <td>...</td>\n",
       "      <td>...</td>\n",
       "      <td>...</td>\n",
       "      <td>...</td>\n",
       "      <td>...</td>\n",
       "      <td>...</td>\n",
       "      <td>...</td>\n",
       "      <td>...</td>\n",
       "      <td>...</td>\n",
       "    </tr>\n",
       "    <tr>\n",
       "      <th>16551</th>\n",
       "      <td>30.0</td>\n",
       "      <td>400.0</td>\n",
       "      <td>110.0</td>\n",
       "      <td>260.0</td>\n",
       "      <td>240.0</td>\n",
       "      <td>567.0</td>\n",
       "      <td>1679.0</td>\n",
       "      <td>56.7</td>\n",
       "      <td>167.9</td>\n",
       "      <td>447.815539</td>\n",
       "    </tr>\n",
       "    <tr>\n",
       "      <th>16552</th>\n",
       "      <td>20.0</td>\n",
       "      <td>800.0</td>\n",
       "      <td>325.0</td>\n",
       "      <td>455.0</td>\n",
       "      <td>240.0</td>\n",
       "      <td>619.0</td>\n",
       "      <td>1858.0</td>\n",
       "      <td>61.9</td>\n",
       "      <td>185.8</td>\n",
       "      <td>592.507440</td>\n",
       "    </tr>\n",
       "    <tr>\n",
       "      <th>16553</th>\n",
       "      <td>0.0</td>\n",
       "      <td>0.0</td>\n",
       "      <td>0.0</td>\n",
       "      <td>0.0</td>\n",
       "      <td>60.0</td>\n",
       "      <td>609.0</td>\n",
       "      <td>1594.0</td>\n",
       "      <td>60.9</td>\n",
       "      <td>159.4</td>\n",
       "      <td>401.131512</td>\n",
       "    </tr>\n",
       "    <tr>\n",
       "      <th>16554</th>\n",
       "      <td>75.0</td>\n",
       "      <td>215.0</td>\n",
       "      <td>35.0</td>\n",
       "      <td>105.0</td>\n",
       "      <td>120.0</td>\n",
       "      <td>473.0</td>\n",
       "      <td>1578.0</td>\n",
       "      <td>47.3</td>\n",
       "      <td>157.8</td>\n",
       "      <td>442.718091</td>\n",
       "    </tr>\n",
       "    <tr>\n",
       "      <th>16555</th>\n",
       "      <td>50.0</td>\n",
       "      <td>485.0</td>\n",
       "      <td>110.0</td>\n",
       "      <td>325.0</td>\n",
       "      <td>360.0</td>\n",
       "      <td>626.0</td>\n",
       "      <td>1639.0</td>\n",
       "      <td>62.6</td>\n",
       "      <td>163.9</td>\n",
       "      <td>592.507440</td>\n",
       "    </tr>\n",
       "  </tbody>\n",
       "</table>\n",
       "<p>16556 rows × 10 columns</p>\n",
       "</div>"
      ],
      "text/plain": [
       "       TEMPODESLOC  TEMPOTOTAL  TEMPOEDFIS  TEMPOEXTRA  TEMPOEST  VB17001  \\\n",
       "0              0.0        15.0         0.0        15.0      60.0    371.0   \n",
       "1            120.0       510.0       260.0       130.0     300.0    502.0   \n",
       "2              0.0       585.0       130.0       455.0     420.0    482.0   \n",
       "3              0.0         0.0         0.0         0.0       0.0    694.0   \n",
       "4             30.0       165.0        90.0        45.0      60.0    789.0   \n",
       "...            ...         ...         ...         ...       ...      ...   \n",
       "16551         30.0       400.0       110.0       260.0     240.0    567.0   \n",
       "16552         20.0       800.0       325.0       455.0     240.0    619.0   \n",
       "16553          0.0         0.0         0.0         0.0      60.0    609.0   \n",
       "16554         75.0       215.0        35.0       105.0     120.0    473.0   \n",
       "16555         50.0       485.0       110.0       325.0     360.0    626.0   \n",
       "\n",
       "       VB17002  VB17003  VB17004        PESO  \n",
       "0       1570.0     37.1    157.0  299.735235  \n",
       "1       1520.0     50.2    152.0  355.170081  \n",
       "2       1614.0     48.2    161.4  299.735235  \n",
       "3       1725.0     69.4    172.5  355.170081  \n",
       "4       1675.0     78.9    167.5  299.735235  \n",
       "...        ...      ...      ...         ...  \n",
       "16551   1679.0     56.7    167.9  447.815539  \n",
       "16552   1858.0     61.9    185.8  592.507440  \n",
       "16553   1594.0     60.9    159.4  401.131512  \n",
       "16554   1578.0     47.3    157.8  442.718091  \n",
       "16555   1639.0     62.6    163.9  592.507440  \n",
       "\n",
       "[16556 rows x 10 columns]"
      ]
     },
     "execution_count": 6,
     "metadata": {},
     "output_type": "execute_result"
    }
   ],
   "source": [
    "dados.select_dtypes(include= \"float64\")"
   ]
  },
  {
   "cell_type": "markdown",
   "metadata": {},
   "source": [
    "## Aula III"
   ]
  },
  {
   "cell_type": "markdown",
   "metadata": {},
   "source": [
    "### Resumo:\n",
    "\n",
    "Verificação de frequência da variável: VB01001.<br>\n",
    "A mesma remete ao nivel de satisfação do entrevistado referente ao seu corpo.<br>\n",
    "Renomeação de Index e como enviar Series para DF;"
   ]
  },
  {
   "cell_type": "code",
   "execution_count": 7,
   "metadata": {},
   "outputs": [
    {
     "data": {
      "text/plain": [
       "1    8287\n",
       "2    8269\n",
       "Name: VB01001, dtype: int64"
      ]
     },
     "execution_count": 7,
     "metadata": {},
     "output_type": "execute_result"
    }
   ],
   "source": [
    "dados['VB01001'].value_counts()"
   ]
  },
  {
   "cell_type": "code",
   "execution_count": 8,
   "metadata": {},
   "outputs": [
    {
     "data": {
      "text/plain": [
       "1    50.054361\n",
       "2    49.945639\n",
       "Name: VB01001, dtype: float64"
      ]
     },
     "execution_count": 8,
     "metadata": {},
     "output_type": "execute_result"
    }
   ],
   "source": [
    "dados['VB01001'].value_counts(normalize = True) * 100"
   ]
  },
  {
   "cell_type": "code",
   "execution_count": 9,
   "metadata": {},
   "outputs": [
    {
     "data": {
      "text/plain": [
       "2     6920\n",
       "1     4608\n",
       "4     2326\n",
       "3     1807\n",
       "5      714\n",
       "99     181\n",
       "Name: VB11007, dtype: int64"
      ]
     },
     "execution_count": 9,
     "metadata": {},
     "output_type": "execute_result"
    }
   ],
   "source": [
    "frequencia = dados['VB11007'].value_counts()\n",
    "frequencia"
   ]
  },
  {
   "cell_type": "code",
   "execution_count": 10,
   "metadata": {},
   "outputs": [
    {
     "data": {
      "text/plain": [
       "2     41.797536\n",
       "1     27.832810\n",
       "4     14.049287\n",
       "3     10.914472\n",
       "5      4.312636\n",
       "99     1.093259\n",
       "Name: VB11007, dtype: float64"
      ]
     },
     "execution_count": 10,
     "metadata": {},
     "output_type": "execute_result"
    }
   ],
   "source": [
    "percentual = dados['VB11007'].value_counts(normalize = True) * 100\n",
    "percentual"
   ]
  },
  {
   "cell_type": "code",
   "execution_count": 11,
   "metadata": {},
   "outputs": [],
   "source": [
    "respostas = {1:'Muito Satisfeito',\n",
    "            2: 'Satisfeito',\n",
    "            3: 'Indiferente',\n",
    "            4: 'Insatisfeito',\n",
    "            5: 'Muito Insatisfeito',\n",
    "            99: 'Não Informado'}\n",
    "dist_freq = pd.DataFrame({'Frequencia': frequencia, 'Percentual': percentual})\n",
    "dist_freq.rename(index = respostas, inplace=  True)\n",
    "dist_freq.rename_axis('Sentimento em relação ao corpo', axis = 1, inplace = True)"
   ]
  },
  {
   "cell_type": "code",
   "execution_count": 12,
   "metadata": {},
   "outputs": [
    {
     "data": {
      "text/html": [
       "<div>\n",
       "<style scoped>\n",
       "    .dataframe tbody tr th:only-of-type {\n",
       "        vertical-align: middle;\n",
       "    }\n",
       "\n",
       "    .dataframe tbody tr th {\n",
       "        vertical-align: top;\n",
       "    }\n",
       "\n",
       "    .dataframe thead th {\n",
       "        text-align: right;\n",
       "    }\n",
       "</style>\n",
       "<table border=\"1\" class=\"dataframe\">\n",
       "  <thead>\n",
       "    <tr style=\"text-align: right;\">\n",
       "      <th>Sentimento em relação ao corpo</th>\n",
       "      <th>Frequencia</th>\n",
       "      <th>Percentual</th>\n",
       "    </tr>\n",
       "  </thead>\n",
       "  <tbody>\n",
       "    <tr>\n",
       "      <th>Satisfeito</th>\n",
       "      <td>6920</td>\n",
       "      <td>41.797536</td>\n",
       "    </tr>\n",
       "    <tr>\n",
       "      <th>Muito Satisfeito</th>\n",
       "      <td>4608</td>\n",
       "      <td>27.832810</td>\n",
       "    </tr>\n",
       "    <tr>\n",
       "      <th>Insatisfeito</th>\n",
       "      <td>2326</td>\n",
       "      <td>14.049287</td>\n",
       "    </tr>\n",
       "    <tr>\n",
       "      <th>Indiferente</th>\n",
       "      <td>1807</td>\n",
       "      <td>10.914472</td>\n",
       "    </tr>\n",
       "    <tr>\n",
       "      <th>Muito Insatisfeito</th>\n",
       "      <td>714</td>\n",
       "      <td>4.312636</td>\n",
       "    </tr>\n",
       "    <tr>\n",
       "      <th>Não Informado</th>\n",
       "      <td>181</td>\n",
       "      <td>1.093259</td>\n",
       "    </tr>\n",
       "  </tbody>\n",
       "</table>\n",
       "</div>"
      ],
      "text/plain": [
       "Sentimento em relação ao corpo  Frequencia  Percentual\n",
       "Satisfeito                            6920   41.797536\n",
       "Muito Satisfeito                      4608   27.832810\n",
       "Insatisfeito                          2326   14.049287\n",
       "Indiferente                           1807   10.914472\n",
       "Muito Insatisfeito                     714    4.312636\n",
       "Não Informado                          181    1.093259"
      ]
     },
     "execution_count": 12,
     "metadata": {},
     "output_type": "execute_result"
    }
   ],
   "source": [
    "dist_freq"
   ]
  },
  {
   "cell_type": "markdown",
   "metadata": {},
   "source": [
    "## Aula IV"
   ]
  },
  {
   "cell_type": "markdown",
   "metadata": {},
   "source": [
    "### Resumo:\n",
    "\n",
    "Manipulação e classificação de dados contínuos: VB17003 <br>\n",
    "Esta variável remete ao peso do aluno entrevistado, com base nisso, calculamos seu IMC e adicionamos as devidas colunas com nomeclarutas.<br>\n",
    "A variável Peso por si só é: Quantitativa contínua, e a transformamos em: Qualitativa ordinal "
   ]
  },
  {
   "cell_type": "code",
   "execution_count": 13,
   "metadata": {},
   "outputs": [
    {
     "data": {
      "text/plain": [
       "0        157.0\n",
       "1        152.0\n",
       "2        161.4\n",
       "3        172.5\n",
       "4        167.5\n",
       "         ...  \n",
       "16551    167.9\n",
       "16552    185.8\n",
       "16553    159.4\n",
       "16554    157.8\n",
       "16555    163.9\n",
       "Name: VB17004, Length: 16556, dtype: float64"
      ]
     },
     "execution_count": 13,
     "metadata": {},
     "output_type": "execute_result"
    }
   ],
   "source": [
    "dados['VB17004']"
   ]
  },
  {
   "cell_type": "code",
   "execution_count": 14,
   "metadata": {},
   "outputs": [
    {
     "data": {
      "text/html": [
       "<div>\n",
       "<style scoped>\n",
       "    .dataframe tbody tr th:only-of-type {\n",
       "        vertical-align: middle;\n",
       "    }\n",
       "\n",
       "    .dataframe tbody tr th {\n",
       "        vertical-align: top;\n",
       "    }\n",
       "\n",
       "    .dataframe thead th {\n",
       "        text-align: right;\n",
       "    }\n",
       "</style>\n",
       "<table border=\"1\" class=\"dataframe\">\n",
       "  <thead>\n",
       "    <tr style=\"text-align: right;\">\n",
       "      <th></th>\n",
       "      <th>ANOPESQ</th>\n",
       "      <th>PAIS</th>\n",
       "      <th>REGEOGR</th>\n",
       "      <th>VB00004</th>\n",
       "      <th>VB01001</th>\n",
       "      <th>VB01002</th>\n",
       "      <th>VB01003</th>\n",
       "      <th>VB01004</th>\n",
       "      <th>VB01005</th>\n",
       "      <th>VB01006</th>\n",
       "      <th>...</th>\n",
       "      <th>ESTRATOGEOREG</th>\n",
       "      <th>PESO</th>\n",
       "      <th>V0006</th>\n",
       "      <th>V0007</th>\n",
       "      <th>V0008</th>\n",
       "      <th>V0041</th>\n",
       "      <th>aluno</th>\n",
       "      <th>escola</th>\n",
       "      <th>turma</th>\n",
       "      <th>IMC</th>\n",
       "    </tr>\n",
       "  </thead>\n",
       "  <tbody>\n",
       "    <tr>\n",
       "      <th>0</th>\n",
       "      <td>2015</td>\n",
       "      <td>76</td>\n",
       "      <td>1</td>\n",
       "      <td>1</td>\n",
       "      <td>2</td>\n",
       "      <td>1</td>\n",
       "      <td>13</td>\n",
       "      <td>7</td>\n",
       "      <td>7</td>\n",
       "      <td>1</td>\n",
       "      <td>...</td>\n",
       "      <td>1</td>\n",
       "      <td>299.735235</td>\n",
       "      <td>1</td>\n",
       "      <td>2</td>\n",
       "      <td>4</td>\n",
       "      <td>1</td>\n",
       "      <td>1</td>\n",
       "      <td>1</td>\n",
       "      <td>296</td>\n",
       "      <td>15.051321</td>\n",
       "    </tr>\n",
       "    <tr>\n",
       "      <th>1</th>\n",
       "      <td>2015</td>\n",
       "      <td>76</td>\n",
       "      <td>1</td>\n",
       "      <td>1</td>\n",
       "      <td>2</td>\n",
       "      <td>1</td>\n",
       "      <td>14</td>\n",
       "      <td>4</td>\n",
       "      <td>7</td>\n",
       "      <td>1</td>\n",
       "      <td>...</td>\n",
       "      <td>1</td>\n",
       "      <td>355.170081</td>\n",
       "      <td>1</td>\n",
       "      <td>2</td>\n",
       "      <td>4</td>\n",
       "      <td>1</td>\n",
       "      <td>2</td>\n",
       "      <td>1</td>\n",
       "      <td>296</td>\n",
       "      <td>21.727839</td>\n",
       "    </tr>\n",
       "    <tr>\n",
       "      <th>2</th>\n",
       "      <td>2015</td>\n",
       "      <td>76</td>\n",
       "      <td>1</td>\n",
       "      <td>1</td>\n",
       "      <td>1</td>\n",
       "      <td>4</td>\n",
       "      <td>13</td>\n",
       "      <td>6</td>\n",
       "      <td>7</td>\n",
       "      <td>1</td>\n",
       "      <td>...</td>\n",
       "      <td>1</td>\n",
       "      <td>299.735235</td>\n",
       "      <td>1</td>\n",
       "      <td>2</td>\n",
       "      <td>4</td>\n",
       "      <td>1</td>\n",
       "      <td>3</td>\n",
       "      <td>1</td>\n",
       "      <td>296</td>\n",
       "      <td>18.502907</td>\n",
       "    </tr>\n",
       "    <tr>\n",
       "      <th>3</th>\n",
       "      <td>2015</td>\n",
       "      <td>76</td>\n",
       "      <td>1</td>\n",
       "      <td>1</td>\n",
       "      <td>1</td>\n",
       "      <td>1</td>\n",
       "      <td>14</td>\n",
       "      <td>6</td>\n",
       "      <td>7</td>\n",
       "      <td>1</td>\n",
       "      <td>...</td>\n",
       "      <td>1</td>\n",
       "      <td>355.170081</td>\n",
       "      <td>1</td>\n",
       "      <td>2</td>\n",
       "      <td>4</td>\n",
       "      <td>1</td>\n",
       "      <td>4</td>\n",
       "      <td>1</td>\n",
       "      <td>296</td>\n",
       "      <td>23.322831</td>\n",
       "    </tr>\n",
       "    <tr>\n",
       "      <th>4</th>\n",
       "      <td>2015</td>\n",
       "      <td>76</td>\n",
       "      <td>1</td>\n",
       "      <td>1</td>\n",
       "      <td>1</td>\n",
       "      <td>1</td>\n",
       "      <td>13</td>\n",
       "      <td>9</td>\n",
       "      <td>7</td>\n",
       "      <td>1</td>\n",
       "      <td>...</td>\n",
       "      <td>1</td>\n",
       "      <td>299.735235</td>\n",
       "      <td>1</td>\n",
       "      <td>2</td>\n",
       "      <td>4</td>\n",
       "      <td>1</td>\n",
       "      <td>5</td>\n",
       "      <td>1</td>\n",
       "      <td>296</td>\n",
       "      <td>28.122076</td>\n",
       "    </tr>\n",
       "    <tr>\n",
       "      <th>...</th>\n",
       "      <td>...</td>\n",
       "      <td>...</td>\n",
       "      <td>...</td>\n",
       "      <td>...</td>\n",
       "      <td>...</td>\n",
       "      <td>...</td>\n",
       "      <td>...</td>\n",
       "      <td>...</td>\n",
       "      <td>...</td>\n",
       "      <td>...</td>\n",
       "      <td>...</td>\n",
       "      <td>...</td>\n",
       "      <td>...</td>\n",
       "      <td>...</td>\n",
       "      <td>...</td>\n",
       "      <td>...</td>\n",
       "      <td>...</td>\n",
       "      <td>...</td>\n",
       "      <td>...</td>\n",
       "      <td>...</td>\n",
       "      <td>...</td>\n",
       "    </tr>\n",
       "    <tr>\n",
       "      <th>16551</th>\n",
       "      <td>2015</td>\n",
       "      <td>76</td>\n",
       "      <td>5</td>\n",
       "      <td>1</td>\n",
       "      <td>2</td>\n",
       "      <td>4</td>\n",
       "      <td>12</td>\n",
       "      <td>8</td>\n",
       "      <td>8</td>\n",
       "      <td>1</td>\n",
       "      <td>...</td>\n",
       "      <td>5</td>\n",
       "      <td>447.815539</td>\n",
       "      <td>1</td>\n",
       "      <td>2</td>\n",
       "      <td>4</td>\n",
       "      <td>1</td>\n",
       "      <td>16552</td>\n",
       "      <td>371</td>\n",
       "      <td>117</td>\n",
       "      <td>20.113223</td>\n",
       "    </tr>\n",
       "    <tr>\n",
       "      <th>16552</th>\n",
       "      <td>2015</td>\n",
       "      <td>76</td>\n",
       "      <td>5</td>\n",
       "      <td>1</td>\n",
       "      <td>1</td>\n",
       "      <td>1</td>\n",
       "      <td>15</td>\n",
       "      <td>7</td>\n",
       "      <td>5</td>\n",
       "      <td>1</td>\n",
       "      <td>...</td>\n",
       "      <td>5</td>\n",
       "      <td>592.507440</td>\n",
       "      <td>1</td>\n",
       "      <td>2</td>\n",
       "      <td>4</td>\n",
       "      <td>1</td>\n",
       "      <td>16553</td>\n",
       "      <td>371</td>\n",
       "      <td>117</td>\n",
       "      <td>17.930782</td>\n",
       "    </tr>\n",
       "    <tr>\n",
       "      <th>16553</th>\n",
       "      <td>2015</td>\n",
       "      <td>76</td>\n",
       "      <td>5</td>\n",
       "      <td>1</td>\n",
       "      <td>1</td>\n",
       "      <td>4</td>\n",
       "      <td>13</td>\n",
       "      <td>11</td>\n",
       "      <td>7</td>\n",
       "      <td>1</td>\n",
       "      <td>...</td>\n",
       "      <td>5</td>\n",
       "      <td>401.131512</td>\n",
       "      <td>1</td>\n",
       "      <td>2</td>\n",
       "      <td>4</td>\n",
       "      <td>1</td>\n",
       "      <td>16554</td>\n",
       "      <td>371</td>\n",
       "      <td>117</td>\n",
       "      <td>23.968489</td>\n",
       "    </tr>\n",
       "    <tr>\n",
       "      <th>16554</th>\n",
       "      <td>2015</td>\n",
       "      <td>76</td>\n",
       "      <td>5</td>\n",
       "      <td>1</td>\n",
       "      <td>1</td>\n",
       "      <td>4</td>\n",
       "      <td>14</td>\n",
       "      <td>8</td>\n",
       "      <td>6</td>\n",
       "      <td>1</td>\n",
       "      <td>...</td>\n",
       "      <td>5</td>\n",
       "      <td>442.718091</td>\n",
       "      <td>1</td>\n",
       "      <td>2</td>\n",
       "      <td>4</td>\n",
       "      <td>1</td>\n",
       "      <td>16555</td>\n",
       "      <td>371</td>\n",
       "      <td>117</td>\n",
       "      <td>18.995343</td>\n",
       "    </tr>\n",
       "    <tr>\n",
       "      <th>16555</th>\n",
       "      <td>2015</td>\n",
       "      <td>76</td>\n",
       "      <td>5</td>\n",
       "      <td>1</td>\n",
       "      <td>1</td>\n",
       "      <td>2</td>\n",
       "      <td>15</td>\n",
       "      <td>4</td>\n",
       "      <td>6</td>\n",
       "      <td>1</td>\n",
       "      <td>...</td>\n",
       "      <td>5</td>\n",
       "      <td>592.507440</td>\n",
       "      <td>1</td>\n",
       "      <td>2</td>\n",
       "      <td>4</td>\n",
       "      <td>1</td>\n",
       "      <td>16556</td>\n",
       "      <td>371</td>\n",
       "      <td>117</td>\n",
       "      <td>23.303246</td>\n",
       "    </tr>\n",
       "  </tbody>\n",
       "</table>\n",
       "<p>16556 rows × 182 columns</p>\n",
       "</div>"
      ],
      "text/plain": [
       "       ANOPESQ  PAIS  REGEOGR  VB00004  VB01001  VB01002  VB01003  VB01004  \\\n",
       "0         2015    76        1        1        2        1       13        7   \n",
       "1         2015    76        1        1        2        1       14        4   \n",
       "2         2015    76        1        1        1        4       13        6   \n",
       "3         2015    76        1        1        1        1       14        6   \n",
       "4         2015    76        1        1        1        1       13        9   \n",
       "...        ...   ...      ...      ...      ...      ...      ...      ...   \n",
       "16551     2015    76        5        1        2        4       12        8   \n",
       "16552     2015    76        5        1        1        1       15        7   \n",
       "16553     2015    76        5        1        1        4       13       11   \n",
       "16554     2015    76        5        1        1        4       14        8   \n",
       "16555     2015    76        5        1        1        2       15        4   \n",
       "\n",
       "       VB01005  VB01006  ...  ESTRATOGEOREG        PESO  V0006  V0007  V0008  \\\n",
       "0            7        1  ...              1  299.735235      1      2      4   \n",
       "1            7        1  ...              1  355.170081      1      2      4   \n",
       "2            7        1  ...              1  299.735235      1      2      4   \n",
       "3            7        1  ...              1  355.170081      1      2      4   \n",
       "4            7        1  ...              1  299.735235      1      2      4   \n",
       "...        ...      ...  ...            ...         ...    ...    ...    ...   \n",
       "16551        8        1  ...              5  447.815539      1      2      4   \n",
       "16552        5        1  ...              5  592.507440      1      2      4   \n",
       "16553        7        1  ...              5  401.131512      1      2      4   \n",
       "16554        6        1  ...              5  442.718091      1      2      4   \n",
       "16555        6        1  ...              5  592.507440      1      2      4   \n",
       "\n",
       "       V0041  aluno  escola  turma        IMC  \n",
       "0          1      1       1    296  15.051321  \n",
       "1          1      2       1    296  21.727839  \n",
       "2          1      3       1    296  18.502907  \n",
       "3          1      4       1    296  23.322831  \n",
       "4          1      5       1    296  28.122076  \n",
       "...      ...    ...     ...    ...        ...  \n",
       "16551      1  16552     371    117  20.113223  \n",
       "16552      1  16553     371    117  17.930782  \n",
       "16553      1  16554     371    117  23.968489  \n",
       "16554      1  16555     371    117  18.995343  \n",
       "16555      1  16556     371    117  23.303246  \n",
       "\n",
       "[16556 rows x 182 columns]"
      ]
     },
     "execution_count": 14,
     "metadata": {},
     "output_type": "execute_result"
    }
   ],
   "source": [
    "dados['IMC'] = dados['VB17003'] / ((dados['VB17004'] / 100)**2)\n",
    "dados"
   ]
  },
  {
   "cell_type": "code",
   "execution_count": 15,
   "metadata": {},
   "outputs": [],
   "source": [
    "classes = [0, 18.5, 25, 30, 60]\n",
    "labels = ['Abaixo', 'Ideal', 'Sobrepeso', 'Obeso(a)']"
   ]
  },
  {
   "cell_type": "code",
   "execution_count": 16,
   "metadata": {},
   "outputs": [
    {
     "data": {
      "text/html": [
       "<div>\n",
       "<style scoped>\n",
       "    .dataframe tbody tr th:only-of-type {\n",
       "        vertical-align: middle;\n",
       "    }\n",
       "\n",
       "    .dataframe tbody tr th {\n",
       "        vertical-align: top;\n",
       "    }\n",
       "\n",
       "    .dataframe thead th {\n",
       "        text-align: right;\n",
       "    }\n",
       "</style>\n",
       "<table border=\"1\" class=\"dataframe\">\n",
       "  <thead>\n",
       "    <tr style=\"text-align: right;\">\n",
       "      <th></th>\n",
       "      <th>IMC</th>\n",
       "      <th>CLASSE_IMC</th>\n",
       "    </tr>\n",
       "  </thead>\n",
       "  <tbody>\n",
       "    <tr>\n",
       "      <th>0</th>\n",
       "      <td>15.051321</td>\n",
       "      <td>Abaixo</td>\n",
       "    </tr>\n",
       "    <tr>\n",
       "      <th>1</th>\n",
       "      <td>21.727839</td>\n",
       "      <td>Ideal</td>\n",
       "    </tr>\n",
       "    <tr>\n",
       "      <th>2</th>\n",
       "      <td>18.502907</td>\n",
       "      <td>Ideal</td>\n",
       "    </tr>\n",
       "    <tr>\n",
       "      <th>3</th>\n",
       "      <td>23.322831</td>\n",
       "      <td>Ideal</td>\n",
       "    </tr>\n",
       "    <tr>\n",
       "      <th>4</th>\n",
       "      <td>28.122076</td>\n",
       "      <td>Sobrepeso</td>\n",
       "    </tr>\n",
       "    <tr>\n",
       "      <th>...</th>\n",
       "      <td>...</td>\n",
       "      <td>...</td>\n",
       "    </tr>\n",
       "    <tr>\n",
       "      <th>16551</th>\n",
       "      <td>20.113223</td>\n",
       "      <td>Ideal</td>\n",
       "    </tr>\n",
       "    <tr>\n",
       "      <th>16552</th>\n",
       "      <td>17.930782</td>\n",
       "      <td>Abaixo</td>\n",
       "    </tr>\n",
       "    <tr>\n",
       "      <th>16553</th>\n",
       "      <td>23.968489</td>\n",
       "      <td>Ideal</td>\n",
       "    </tr>\n",
       "    <tr>\n",
       "      <th>16554</th>\n",
       "      <td>18.995343</td>\n",
       "      <td>Ideal</td>\n",
       "    </tr>\n",
       "    <tr>\n",
       "      <th>16555</th>\n",
       "      <td>23.303246</td>\n",
       "      <td>Ideal</td>\n",
       "    </tr>\n",
       "  </tbody>\n",
       "</table>\n",
       "<p>16556 rows × 2 columns</p>\n",
       "</div>"
      ],
      "text/plain": [
       "             IMC CLASSE_IMC\n",
       "0      15.051321     Abaixo\n",
       "1      21.727839      Ideal\n",
       "2      18.502907      Ideal\n",
       "3      23.322831      Ideal\n",
       "4      28.122076  Sobrepeso\n",
       "...          ...        ...\n",
       "16551  20.113223      Ideal\n",
       "16552  17.930782     Abaixo\n",
       "16553  23.968489      Ideal\n",
       "16554  18.995343      Ideal\n",
       "16555  23.303246      Ideal\n",
       "\n",
       "[16556 rows x 2 columns]"
      ]
     },
     "execution_count": 16,
     "metadata": {},
     "output_type": "execute_result"
    }
   ],
   "source": [
    "dados['CLASSE_IMC'] = pd.cut(x = dados['IMC'], bins = classes, labels = labels, include_lowest = True)\n",
    "dados[['IMC', 'CLASSE_IMC']]"
   ]
  },
  {
   "cell_type": "code",
   "execution_count": 17,
   "metadata": {},
   "outputs": [
    {
     "data": {
      "text/html": [
       "<div>\n",
       "<style scoped>\n",
       "    .dataframe tbody tr th:only-of-type {\n",
       "        vertical-align: middle;\n",
       "    }\n",
       "\n",
       "    .dataframe tbody tr th {\n",
       "        vertical-align: top;\n",
       "    }\n",
       "\n",
       "    .dataframe thead th {\n",
       "        text-align: right;\n",
       "    }\n",
       "</style>\n",
       "<table border=\"1\" class=\"dataframe\">\n",
       "  <thead>\n",
       "    <tr style=\"text-align: right;\">\n",
       "      <th></th>\n",
       "      <th>Frequencia</th>\n",
       "      <th>Percentual</th>\n",
       "    </tr>\n",
       "  </thead>\n",
       "  <tbody>\n",
       "    <tr>\n",
       "      <th>Ideal</th>\n",
       "      <td>9188</td>\n",
       "      <td>55.496497</td>\n",
       "    </tr>\n",
       "    <tr>\n",
       "      <th>Abaixo</th>\n",
       "      <td>4975</td>\n",
       "      <td>30.049529</td>\n",
       "    </tr>\n",
       "    <tr>\n",
       "      <th>Sobrepeso</th>\n",
       "      <td>1760</td>\n",
       "      <td>10.630587</td>\n",
       "    </tr>\n",
       "    <tr>\n",
       "      <th>Obeso(a)</th>\n",
       "      <td>633</td>\n",
       "      <td>3.823387</td>\n",
       "    </tr>\n",
       "  </tbody>\n",
       "</table>\n",
       "</div>"
      ],
      "text/plain": [
       "           Frequencia  Percentual\n",
       "Ideal            9188   55.496497\n",
       "Abaixo           4975   30.049529\n",
       "Sobrepeso        1760   10.630587\n",
       "Obeso(a)          633    3.823387"
      ]
     },
     "execution_count": 17,
     "metadata": {},
     "output_type": "execute_result"
    }
   ],
   "source": [
    "frequencia = dados['CLASSE_IMC'].value_counts()\n",
    "percentual = dados['CLASSE_IMC'].value_counts(normalize = True) * 100\n",
    "\n",
    "dist_freq = pd.DataFrame({'Frequencia': frequencia, 'Percentual': percentual})\n",
    "dist_freq"
   ]
  },
  {
   "cell_type": "markdown",
   "metadata": {},
   "source": [
    "## Aula IV.II"
   ]
  },
  {
   "cell_type": "markdown",
   "metadata": {},
   "source": [
    "### Resumo:\n",
    "\n",
    "Aplicação da regra de Sturges para descobrir quantas classes podemos adicionar a dados quantitativos<br>\n",
    "Esta variável é referente a altura do aluno entrevistado. <br>\n",
    "\n",
    "Também foi visto como normalizar dados por total, coluna e linha"
   ]
  },
  {
   "cell_type": "code",
   "execution_count": 18,
   "metadata": {},
   "outputs": [
    {
     "data": {
      "text/plain": [
       "0        157.0\n",
       "1        152.0\n",
       "2        161.4\n",
       "3        172.5\n",
       "4        167.5\n",
       "         ...  \n",
       "16551    167.9\n",
       "16552    185.8\n",
       "16553    159.4\n",
       "16554    157.8\n",
       "16555    163.9\n",
       "Name: VB17004, Length: 16556, dtype: float64"
      ]
     },
     "execution_count": 18,
     "metadata": {},
     "output_type": "execute_result"
    }
   ],
   "source": [
    "dados['VB17004']"
   ]
  },
  {
   "cell_type": "code",
   "execution_count": 19,
   "metadata": {},
   "outputs": [
    {
     "data": {
      "text/plain": [
       "15"
      ]
     },
     "execution_count": 19,
     "metadata": {},
     "output_type": "execute_result"
    }
   ],
   "source": [
    "import numpy as np\n",
    "# Aplicação regra sturges\n",
    "# Passo 1: Saber o tamanho da amostra\n",
    "\n",
    "tamanho_amostra = len(dados)\n",
    "k = int((1 + ((10 / 3) * np.log10(tamanho_amostra))))\n",
    "k"
   ]
  },
  {
   "cell_type": "code",
   "execution_count": 20,
   "metadata": {},
   "outputs": [],
   "source": [
    "dados['CLASSE_ALTURA'] = pd.cut(x = dados['VB17004'], \n",
    "                             bins = k, \n",
    "                             include_lowest = True)"
   ]
  },
  {
   "cell_type": "code",
   "execution_count": 21,
   "metadata": {},
   "outputs": [
    {
     "data": {
      "text/html": [
       "<div>\n",
       "<style scoped>\n",
       "    .dataframe tbody tr th:only-of-type {\n",
       "        vertical-align: middle;\n",
       "    }\n",
       "\n",
       "    .dataframe tbody tr th {\n",
       "        vertical-align: top;\n",
       "    }\n",
       "\n",
       "    .dataframe thead th {\n",
       "        text-align: right;\n",
       "    }\n",
       "</style>\n",
       "<table border=\"1\" class=\"dataframe\">\n",
       "  <thead>\n",
       "    <tr style=\"text-align: right;\">\n",
       "      <th></th>\n",
       "      <th>Frequencia</th>\n",
       "      <th>Percentual</th>\n",
       "    </tr>\n",
       "  </thead>\n",
       "  <tbody>\n",
       "    <tr>\n",
       "      <th>(157.327, 162.073]</th>\n",
       "      <td>3110</td>\n",
       "      <td>18.784731</td>\n",
       "    </tr>\n",
       "    <tr>\n",
       "      <th>(152.58, 157.327]</th>\n",
       "      <td>2734</td>\n",
       "      <td>16.513651</td>\n",
       "    </tr>\n",
       "    <tr>\n",
       "      <th>(162.073, 166.82]</th>\n",
       "      <td>2550</td>\n",
       "      <td>15.402271</td>\n",
       "    </tr>\n",
       "    <tr>\n",
       "      <th>(166.82, 171.567]</th>\n",
       "      <td>2063</td>\n",
       "      <td>12.460739</td>\n",
       "    </tr>\n",
       "    <tr>\n",
       "      <th>(147.833, 152.58]</th>\n",
       "      <td>1782</td>\n",
       "      <td>10.763469</td>\n",
       "    </tr>\n",
       "    <tr>\n",
       "      <th>(171.567, 176.313]</th>\n",
       "      <td>1416</td>\n",
       "      <td>8.552791</td>\n",
       "    </tr>\n",
       "    <tr>\n",
       "      <th>(143.087, 147.833]</th>\n",
       "      <td>1012</td>\n",
       "      <td>6.112588</td>\n",
       "    </tr>\n",
       "    <tr>\n",
       "      <th>(176.313, 181.06]</th>\n",
       "      <td>749</td>\n",
       "      <td>4.524040</td>\n",
       "    </tr>\n",
       "    <tr>\n",
       "      <th>(138.34, 143.087]</th>\n",
       "      <td>484</td>\n",
       "      <td>2.923411</td>\n",
       "    </tr>\n",
       "    <tr>\n",
       "      <th>(181.06, 185.807]</th>\n",
       "      <td>300</td>\n",
       "      <td>1.812032</td>\n",
       "    </tr>\n",
       "    <tr>\n",
       "      <th>(133.593, 138.34]</th>\n",
       "      <td>199</td>\n",
       "      <td>1.201981</td>\n",
       "    </tr>\n",
       "    <tr>\n",
       "      <th>(185.807, 190.553]</th>\n",
       "      <td>94</td>\n",
       "      <td>0.567770</td>\n",
       "    </tr>\n",
       "    <tr>\n",
       "      <th>(128.847, 133.593]</th>\n",
       "      <td>47</td>\n",
       "      <td>0.283885</td>\n",
       "    </tr>\n",
       "    <tr>\n",
       "      <th>(190.553, 195.3]</th>\n",
       "      <td>13</td>\n",
       "      <td>0.078521</td>\n",
       "    </tr>\n",
       "    <tr>\n",
       "      <th>(124.02799999999999, 128.847]</th>\n",
       "      <td>3</td>\n",
       "      <td>0.018120</td>\n",
       "    </tr>\n",
       "  </tbody>\n",
       "</table>\n",
       "</div>"
      ],
      "text/plain": [
       "                               Frequencia  Percentual\n",
       "(157.327, 162.073]                   3110   18.784731\n",
       "(152.58, 157.327]                    2734   16.513651\n",
       "(162.073, 166.82]                    2550   15.402271\n",
       "(166.82, 171.567]                    2063   12.460739\n",
       "(147.833, 152.58]                    1782   10.763469\n",
       "(171.567, 176.313]                   1416    8.552791\n",
       "(143.087, 147.833]                   1012    6.112588\n",
       "(176.313, 181.06]                     749    4.524040\n",
       "(138.34, 143.087]                     484    2.923411\n",
       "(181.06, 185.807]                     300    1.812032\n",
       "(133.593, 138.34]                     199    1.201981\n",
       "(185.807, 190.553]                     94    0.567770\n",
       "(128.847, 133.593]                     47    0.283885\n",
       "(190.553, 195.3]                       13    0.078521\n",
       "(124.02799999999999, 128.847]           3    0.018120"
      ]
     },
     "execution_count": 21,
     "metadata": {},
     "output_type": "execute_result"
    }
   ],
   "source": [
    "frequencia = dados['CLASSE_ALTURA'].value_counts()\n",
    "percentual = dados['CLASSE_ALTURA'].value_counts(normalize = True) * 100\n",
    "\n",
    "dist_freq = pd.DataFrame({'Frequencia': frequencia, 'Percentual': percentual})\n",
    "dist_freq"
   ]
  },
  {
   "cell_type": "code",
   "execution_count": 22,
   "metadata": {},
   "outputs": [
    {
     "data": {
      "text/html": [
       "<div>\n",
       "<style scoped>\n",
       "    .dataframe tbody tr th:only-of-type {\n",
       "        vertical-align: middle;\n",
       "    }\n",
       "\n",
       "    .dataframe tbody tr th {\n",
       "        vertical-align: top;\n",
       "    }\n",
       "\n",
       "    .dataframe thead th {\n",
       "        text-align: right;\n",
       "    }\n",
       "</style>\n",
       "<table border=\"1\" class=\"dataframe\">\n",
       "  <thead>\n",
       "    <tr style=\"text-align: right;\">\n",
       "      <th>VB01001</th>\n",
       "      <th>Masculino</th>\n",
       "      <th>Feminino</th>\n",
       "    </tr>\n",
       "    <tr>\n",
       "      <th>VB11007</th>\n",
       "      <th></th>\n",
       "      <th></th>\n",
       "    </tr>\n",
       "  </thead>\n",
       "  <tbody>\n",
       "    <tr>\n",
       "      <th>Muito Satisfeito</th>\n",
       "      <td>0.161996</td>\n",
       "      <td>0.116332</td>\n",
       "    </tr>\n",
       "    <tr>\n",
       "      <th>Satisfeito</th>\n",
       "      <td>0.210800</td>\n",
       "      <td>0.207176</td>\n",
       "    </tr>\n",
       "    <tr>\n",
       "      <th>Indiferente</th>\n",
       "      <td>0.057381</td>\n",
       "      <td>0.051764</td>\n",
       "    </tr>\n",
       "    <tr>\n",
       "      <th>Insatisfeito</th>\n",
       "      <td>0.047475</td>\n",
       "      <td>0.093018</td>\n",
       "    </tr>\n",
       "    <tr>\n",
       "      <th>Muito Insatisfeito</th>\n",
       "      <td>0.015704</td>\n",
       "      <td>0.027422</td>\n",
       "    </tr>\n",
       "    <tr>\n",
       "      <th>Não Informado</th>\n",
       "      <td>0.007188</td>\n",
       "      <td>0.003745</td>\n",
       "    </tr>\n",
       "  </tbody>\n",
       "</table>\n",
       "</div>"
      ],
      "text/plain": [
       "VB01001             Masculino  Feminino\n",
       "VB11007                                \n",
       "Muito Satisfeito     0.161996  0.116332\n",
       "Satisfeito           0.210800  0.207176\n",
       "Indiferente          0.057381  0.051764\n",
       "Insatisfeito         0.047475  0.093018\n",
       "Muito Insatisfeito   0.015704  0.027422\n",
       "Não Informado        0.007188  0.003745"
      ]
     },
     "execution_count": 22,
     "metadata": {},
     "output_type": "execute_result"
    }
   ],
   "source": [
    "# Cruzar dados de satisfação com o sexo do aluno intrevistado\n",
    "# Adição do normalize do total\n",
    "\n",
    "tabela_cruzada = pd.crosstab(dados['VB11007'], dados['VB01001'], normalize = True)\n",
    "tabela_cruzada.rename(index = respostas, inplace = True)\n",
    "tabela_cruzada.rename(columns = {1 : 'Masculino', 2: 'Feminino'}, inplace = True)\n",
    "tabela_cruzada"
   ]
  },
  {
   "cell_type": "code",
   "execution_count": 23,
   "metadata": {},
   "outputs": [
    {
     "data": {
      "text/html": [
       "<div>\n",
       "<style scoped>\n",
       "    .dataframe tbody tr th:only-of-type {\n",
       "        vertical-align: middle;\n",
       "    }\n",
       "\n",
       "    .dataframe tbody tr th {\n",
       "        vertical-align: top;\n",
       "    }\n",
       "\n",
       "    .dataframe thead th {\n",
       "        text-align: right;\n",
       "    }\n",
       "</style>\n",
       "<table border=\"1\" class=\"dataframe\">\n",
       "  <thead>\n",
       "    <tr style=\"text-align: right;\">\n",
       "      <th>VB01001</th>\n",
       "      <th>Masculino</th>\n",
       "      <th>Feminino</th>\n",
       "    </tr>\n",
       "    <tr>\n",
       "      <th>VB11007</th>\n",
       "      <th></th>\n",
       "      <th></th>\n",
       "    </tr>\n",
       "  </thead>\n",
       "  <tbody>\n",
       "    <tr>\n",
       "      <th>Muito Satisfeito</th>\n",
       "      <td>32.363944</td>\n",
       "      <td>23.291813</td>\n",
       "    </tr>\n",
       "    <tr>\n",
       "      <th>Satisfeito</th>\n",
       "      <td>42.114155</td>\n",
       "      <td>41.480227</td>\n",
       "    </tr>\n",
       "    <tr>\n",
       "      <th>Indiferente</th>\n",
       "      <td>11.463738</td>\n",
       "      <td>10.364010</td>\n",
       "    </tr>\n",
       "    <tr>\n",
       "      <th>Insatisfeito</th>\n",
       "      <td>9.484735</td>\n",
       "      <td>18.623776</td>\n",
       "    </tr>\n",
       "    <tr>\n",
       "      <th>Muito Insatisfeito</th>\n",
       "      <td>3.137444</td>\n",
       "      <td>5.490386</td>\n",
       "    </tr>\n",
       "    <tr>\n",
       "      <th>Não Informado</th>\n",
       "      <td>1.435984</td>\n",
       "      <td>0.749788</td>\n",
       "    </tr>\n",
       "  </tbody>\n",
       "</table>\n",
       "</div>"
      ],
      "text/plain": [
       "VB01001             Masculino   Feminino\n",
       "VB11007                                 \n",
       "Muito Satisfeito    32.363944  23.291813\n",
       "Satisfeito          42.114155  41.480227\n",
       "Indiferente         11.463738  10.364010\n",
       "Insatisfeito         9.484735  18.623776\n",
       "Muito Insatisfeito   3.137444   5.490386\n",
       "Não Informado        1.435984   0.749788"
      ]
     },
     "execution_count": 23,
     "metadata": {},
     "output_type": "execute_result"
    }
   ],
   "source": [
    "# Normalização das colunas ao invés do total\n",
    "\n",
    "tabela_cruzada = pd.crosstab(dados['VB11007'], dados['VB01001'], normalize = 'columns') * 100\n",
    "tabela_cruzada.rename(index = respostas, inplace = True)\n",
    "tabela_cruzada.rename(columns = {1 : 'Masculino', 2: 'Feminino'}, inplace = True)\n",
    "tabela_cruzada"
   ]
  },
  {
   "cell_type": "code",
   "execution_count": 24,
   "metadata": {},
   "outputs": [
    {
     "data": {
      "text/html": [
       "<div>\n",
       "<style scoped>\n",
       "    .dataframe tbody tr th:only-of-type {\n",
       "        vertical-align: middle;\n",
       "    }\n",
       "\n",
       "    .dataframe tbody tr th {\n",
       "        vertical-align: top;\n",
       "    }\n",
       "\n",
       "    .dataframe thead th {\n",
       "        text-align: right;\n",
       "    }\n",
       "</style>\n",
       "<table border=\"1\" class=\"dataframe\">\n",
       "  <thead>\n",
       "    <tr style=\"text-align: right;\">\n",
       "      <th>VB01001</th>\n",
       "      <th>Masculino</th>\n",
       "      <th>Feminino</th>\n",
       "    </tr>\n",
       "    <tr>\n",
       "      <th>VB11007</th>\n",
       "      <th></th>\n",
       "      <th></th>\n",
       "    </tr>\n",
       "  </thead>\n",
       "  <tbody>\n",
       "    <tr>\n",
       "      <th>Muito Satisfeito</th>\n",
       "      <td>58.203125</td>\n",
       "      <td>41.796875</td>\n",
       "    </tr>\n",
       "    <tr>\n",
       "      <th>Satisfeito</th>\n",
       "      <td>50.433526</td>\n",
       "      <td>49.566474</td>\n",
       "    </tr>\n",
       "    <tr>\n",
       "      <th>Indiferente</th>\n",
       "      <td>52.573326</td>\n",
       "      <td>47.426674</td>\n",
       "    </tr>\n",
       "    <tr>\n",
       "      <th>Insatisfeito</th>\n",
       "      <td>33.791917</td>\n",
       "      <td>66.208083</td>\n",
       "    </tr>\n",
       "    <tr>\n",
       "      <th>Muito Insatisfeito</th>\n",
       "      <td>36.414566</td>\n",
       "      <td>63.585434</td>\n",
       "    </tr>\n",
       "    <tr>\n",
       "      <th>Não Informado</th>\n",
       "      <td>65.745856</td>\n",
       "      <td>34.254144</td>\n",
       "    </tr>\n",
       "  </tbody>\n",
       "</table>\n",
       "</div>"
      ],
      "text/plain": [
       "VB01001             Masculino   Feminino\n",
       "VB11007                                 \n",
       "Muito Satisfeito    58.203125  41.796875\n",
       "Satisfeito          50.433526  49.566474\n",
       "Indiferente         52.573326  47.426674\n",
       "Insatisfeito        33.791917  66.208083\n",
       "Muito Insatisfeito  36.414566  63.585434\n",
       "Não Informado       65.745856  34.254144"
      ]
     },
     "execution_count": 24,
     "metadata": {},
     "output_type": "execute_result"
    }
   ],
   "source": [
    "# Normalização por linhas\n",
    "\n",
    "tabela_cruzada = pd.crosstab(dados['VB11007'], dados['VB01001'], normalize = 'index') * 100\n",
    "tabela_cruzada.rename(index = respostas, inplace = True)\n",
    "tabela_cruzada.rename(columns = {1 : 'Masculino', 2: 'Feminino'}, inplace = True)\n",
    "tabela_cruzada"
   ]
  },
  {
   "cell_type": "markdown",
   "metadata": {},
   "source": [
    "## Aula V"
   ]
  },
  {
   "cell_type": "markdown",
   "metadata": {},
   "source": [
    "### Resumo:\n",
    "Utilização de histograma para visualização de gráficos com poucas classes, <br>\n",
    "Utilização do comando KDE para verificação da linha tomada pelos dados, <br>\n",
    "Comando bins que pode ser utilizado para definir a quantia de classes que iremos visualizar, podendo até mesmo passar como parametro o nome da regra que queremos aplicar;"
   ]
  },
  {
   "cell_type": "code",
   "execution_count": 25,
   "metadata": {},
   "outputs": [],
   "source": [
    "# Tive de realizar um update do seaborn, comando utilizado !pip install seaborn --upgrade\n",
    "import matplotlib.pyplot as plt\n",
    "import seaborn as sns\n",
    "\n",
    "sns.set_style('darkgrid')\n",
    "sns.set_palette('Accent')"
   ]
  },
  {
   "cell_type": "code",
   "execution_count": 26,
   "metadata": {},
   "outputs": [
    {
     "data": {
      "text/plain": [
       "Text(0.5, 0, 'Altura')"
      ]
     },
     "execution_count": 26,
     "metadata": {},
     "output_type": "execute_result"
    },
    {
     "data": {
      "image/png": "[encoded data removed]",
      "text/plain": [
       "<Figure size 1152x648 with 1 Axes>"
      ]
     },
     "metadata": {},
     "output_type": "display_data"
    }
   ],
   "source": [
    "ax = plt.figure(figsize = (16,9))\n",
    "ax = sns.histplot(data = dados, x = 'VB17004', kde = True)\n",
    "# Outra forma de aumentar o tamanho seria: ax.figure.set_size_inches(16, 9)\n",
    "ax.set_title('Distribuição de frequência: \\n Altura dos alunos')\n",
    "ax.set_xlabel('Altura')"
   ]
  },
  {
   "cell_type": "markdown",
   "metadata": {},
   "source": [
    "https://numpy.org/doc/stable/reference/generated/numpy.histogram_bin_edges.html\n",
    "\n",
    "Documentação para utilizar certas regras para saber quantos \"bins\" utilizar em nosso gráfico, ou seja, quantas classes separar nossos gráficos;"
   ]
  },
  {
   "cell_type": "code",
   "execution_count": 27,
   "metadata": {},
   "outputs": [
    {
     "data": {
      "text/plain": [
       "Text(0.5, 0, 'Altura')"
      ]
     },
     "execution_count": 27,
     "metadata": {},
     "output_type": "execute_result"
    },
    {
     "data": {
      "image/png": "[encoded data removed]",
      "text/plain": [
       "<Figure size 1152x648 with 1 Axes>"
      ]
     },
     "metadata": {},
     "output_type": "display_data"
    }
   ],
   "source": [
    "ax = plt.figure(figsize = (16,9))\n",
    "ax = sns.histplot(data = dados, x = 'VB17004', kde = True, bins = 'sturges')\n",
    "ax.set_title('Distribuição de frequência: \\n Altura dos alunos')\n",
    "ax.set_xlabel('Altura')"
   ]
  },
  {
   "cell_type": "code",
   "execution_count": 28,
   "metadata": {},
   "outputs": [
    {
     "data": {
      "text/plain": [
       "Text(0.5, 0, 'Altura')"
      ]
     },
     "execution_count": 28,
     "metadata": {},
     "output_type": "execute_result"
    },
    {
     "data": {
      "image/png": "[encoded data removed]",
      "text/plain": [
       "<Figure size 1152x648 with 1 Axes>"
      ]
     },
     "metadata": {},
     "output_type": "display_data"
    }
   ],
   "source": [
    "ax = plt.figure(figsize = (16,9))\n",
    "ax = sns.histplot(data = dados, x = 'VB17004', kde = True, hue = 'VB01001')\n",
    "ax.set_title('Distribuição de frequência: \\n Altura dos alunos')\n",
    "ax.set_xlabel('Altura')"
   ]
  },
  {
   "cell_type": "code",
   "execution_count": 29,
   "metadata": {},
   "outputs": [
    {
     "data": {
      "text/plain": [
       "Text(0.5, 0, 'Altura')"
      ]
     },
     "execution_count": 29,
     "metadata": {},
     "output_type": "execute_result"
    },
    {
     "data": {
      "image/png": "[encoded data removed]",
      "text/plain": [
       "<Figure size 1152x648 with 1 Axes>"
      ]
     },
     "metadata": {},
     "output_type": "display_data"
    }
   ],
   "source": [
    "# Quando possuimos muitas classes, é melhor utilizar um boxplot\n",
    "ax = plt.figure(figsize = (16,9))\n",
    "ax = sns.histplot(data = dados, x = 'VB17004', kde = True, hue = 'VB01003')\n",
    "ax.set_title('Distribuição de frequência: \\n Altura dos alunos')\n",
    "ax.set_xlabel('Altura')"
   ]
  },
  {
   "cell_type": "markdown",
   "metadata": {},
   "source": [
    "## Aula V.II"
   ]
  },
  {
   "cell_type": "markdown",
   "metadata": {},
   "source": [
    "### Resumo:\n",
    "\n",
    "Utilização de boxplot para verificar a distribuição de frequência de dados com muitas classes (E do total também); <br>\n",
    "Parametro adicionados para verificar classes específicas (Boxplot por idade por exemplo) <br>\n",
    "Histograma cumulativo como outra alternativa para verificar os quartis dos dados (Ainda prefiro o boxplot..);"
   ]
  },
  {
   "cell_type": "code",
   "execution_count": 30,
   "metadata": {},
   "outputs": [
    {
     "data": {
      "image/png": "[encoded data removed]",
      "text/plain": [
       "<Figure size 1152x648 with 1 Axes>"
      ]
     },
     "metadata": {},
     "output_type": "display_data"
    }
   ],
   "source": [
    "ax = plt.figure(figsize=(16, 9))\n",
    "ax = sns.boxplot(data = dados, x = 'VB17004', hue = 'VB01003')\n",
    "ax.set_title('Distribuição de frequência: \\n Altura dos alunos')\n",
    "ax.set_xlabel('Altura');"
   ]
  },
  {
   "cell_type": "code",
   "execution_count": 31,
   "metadata": {},
   "outputs": [
    {
     "data": {
      "text/plain": [
       "153.8"
      ]
     },
     "execution_count": 31,
     "metadata": {},
     "output_type": "execute_result"
    }
   ],
   "source": [
    "# Para verificação do numero exato dos quartis, podemos usar o seguinte:\n",
    "\n",
    "dados['VB17004'].quantile(.25)"
   ]
  },
  {
   "cell_type": "code",
   "execution_count": 32,
   "metadata": {},
   "outputs": [
    {
     "data": {
      "text/plain": [
       "167.9"
      ]
     },
     "execution_count": 32,
     "metadata": {},
     "output_type": "execute_result"
    }
   ],
   "source": [
    "dados['VB17004'].quantile(.75)"
   ]
  },
  {
   "cell_type": "code",
   "execution_count": 33,
   "metadata": {},
   "outputs": [
    {
     "data": {
      "image/png": "[encoded data removed]",
      "text/plain": [
       "<Figure size 1152x648 with 1 Axes>"
      ]
     },
     "metadata": {},
     "output_type": "display_data"
    }
   ],
   "source": [
    "ax = plt.figure(figsize=(16, 9))\n",
    "ax = sns.boxplot(data = dados, x = 'VB01003', y = 'VB17004')\n",
    "ax.set_title('Distribuição de frequência: \\n Altura dos alunos')\n",
    "ax.set_xlabel('Idade')\n",
    "ax.set_ylabel('Altura');"
   ]
  },
  {
   "cell_type": "code",
   "execution_count": 34,
   "metadata": {},
   "outputs": [
    {
     "data": {
      "image/png": "[encoded data removed]",
      "text/plain": [
       "<Figure size 1152x648 with 1 Axes>"
      ]
     },
     "metadata": {},
     "output_type": "display_data"
    }
   ],
   "source": [
    "ax = plt.figure(figsize=(16, 9))\n",
    "ax = sns.boxplot(data = dados, x = 'VB01003', y = 'VB17004', hue = 'VB01001')\n",
    "ax.set_title('Distribuição de frequência: \\n Altura dos alunos')\n",
    "ax.set_xlabel('Idade')\n",
    "ax.set_ylabel('Altura');"
   ]
  },
  {
   "cell_type": "code",
   "execution_count": 35,
   "metadata": {},
   "outputs": [
    {
     "data": {
      "image/png": "[encoded data removed]",
      "text/plain": [
       "<Figure size 1152x648 with 1 Axes>"
      ]
     },
     "metadata": {},
     "output_type": "display_data"
    }
   ],
   "source": [
    "# Com o gráfico de histograma acumulado, podemos verificar as informações de forma parecida a do boxplot\n",
    "# No eixo Y podemos verificar a porcentagem do total de dados na nossa base\n",
    "# No eixo X é a distribuição da frequencia das alturas.\n",
    "\n",
    "ax = plt.figure(figsize = (16,9))\n",
    "ax = sns.histplot(data = dados, x = 'VB17004', kde = True, cumulative = True, stat = 'density')\n",
    "ax.set_title('Histograma acumulado')\n",
    "ax.set_xlabel('Altura');"
   ]
  },
  {
   "cell_type": "code",
   "execution_count": 36,
   "metadata": {},
   "outputs": [
    {
     "data": {
      "image/png": "[encoded data removed]",
      "text/plain": [
       "<Figure size 1152x648 with 1 Axes>"
      ]
     },
     "metadata": {},
     "output_type": "display_data"
    }
   ],
   "source": [
    "ax = plt.figure(figsize = (16,9))\n",
    "ax = sns.histplot(data = dados, x = 'VB17004', kde = True, cumulative = True, stat = 'density', bins = 'sturges')\n",
    "ax.set_title('Histograma acumulado')\n",
    "ax.set_xlabel('Altura');"
   ]
  },
  {
   "cell_type": "markdown",
   "metadata": {},
   "source": [
    "## Aula VI"
   ]
  },
  {
   "cell_type": "markdown",
   "metadata": {},
   "source": [
    "### Resumo:\n",
    "Realizar agrupamento de variáveis para que se comportem da mesma maneira que um crosstab, porém, com groupby,<br>\n",
    "Verificação de medida de tendencia centrais, moda, mediana e média"
   ]
  },
  {
   "cell_type": "code",
   "execution_count": 37,
   "metadata": {},
   "outputs": [
    {
     "data": {
      "text/plain": [
       "160.71311307078818"
      ]
     },
     "execution_count": 37,
     "metadata": {},
     "output_type": "execute_result"
    }
   ],
   "source": [
    "dados['VB17004'].mean()"
   ]
  },
  {
   "cell_type": "code",
   "execution_count": 38,
   "metadata": {},
   "outputs": [
    {
     "data": {
      "text/plain": [
       "VB01001\n",
       "1    163.860758\n",
       "2    157.558617\n",
       "Name: VB17004, dtype: float64"
      ]
     },
     "execution_count": 38,
     "metadata": {},
     "output_type": "execute_result"
    }
   ],
   "source": [
    "dados.groupby(['VB01001'])['VB17004'].mean()"
   ]
  },
  {
   "cell_type": "code",
   "execution_count": 39,
   "metadata": {},
   "outputs": [
    {
     "data": {
      "text/plain": [
       "0    160.0\n",
       "dtype: float64"
      ]
     },
     "execution_count": 39,
     "metadata": {},
     "output_type": "execute_result"
    }
   ],
   "source": [
    "dados['VB17004'].mode()"
   ]
  },
  {
   "cell_type": "code",
   "execution_count": 40,
   "metadata": {},
   "outputs": [
    {
     "data": {
      "text/plain": [
       "VB01001  VB01003\n",
       "1        11         147.617753\n",
       "         12         153.696764\n",
       "         13         160.719801\n",
       "         14         166.406922\n",
       "         15         170.336297\n",
       "         16         172.424933\n",
       "         17         173.814341\n",
       "         18         173.024561\n",
       "         19         172.143158\n",
       "2        11         149.522512\n",
       "         12         154.965021\n",
       "         13         157.673105\n",
       "         14         159.340320\n",
       "         15         160.759848\n",
       "         16         160.386527\n",
       "         17         160.907937\n",
       "         18         159.438462\n",
       "         19         158.977193\n",
       "Name: VB17004, dtype: float64"
      ]
     },
     "execution_count": 40,
     "metadata": {},
     "output_type": "execute_result"
    }
   ],
   "source": [
    "dados.groupby(['VB01001', 'VB01003'])['VB17004'].mean()"
   ]
  },
  {
   "cell_type": "markdown",
   "metadata": {},
   "source": [
    "## Aula VI.II"
   ]
  },
  {
   "cell_type": "markdown",
   "metadata": {},
   "source": [
    "### Resumo:\n",
    "Utilizando medidas de dispersão para verificação de valor médio; <br>\n",
    "Realizado calculo para verificação da variancia; <br>\n",
    "Calculo para verificação do STD (desvio padrão) e como transmitir esta informação corretamente"
   ]
  },
  {
   "cell_type": "code",
   "execution_count": 41,
   "metadata": {},
   "outputs": [
    {
     "data": {
      "text/html": [
       "<div>\n",
       "<style scoped>\n",
       "    .dataframe tbody tr th:only-of-type {\n",
       "        vertical-align: middle;\n",
       "    }\n",
       "\n",
       "    .dataframe tbody tr th {\n",
       "        vertical-align: top;\n",
       "    }\n",
       "\n",
       "    .dataframe thead th {\n",
       "        text-align: right;\n",
       "    }\n",
       "</style>\n",
       "<table border=\"1\" class=\"dataframe\">\n",
       "  <thead>\n",
       "    <tr style=\"text-align: right;\">\n",
       "      <th></th>\n",
       "      <th>VB17004</th>\n",
       "      <th>MEDIA_ALTURA</th>\n",
       "    </tr>\n",
       "  </thead>\n",
       "  <tbody>\n",
       "    <tr>\n",
       "      <th>0</th>\n",
       "      <td>157.0</td>\n",
       "      <td>160.713113</td>\n",
       "    </tr>\n",
       "    <tr>\n",
       "      <th>1</th>\n",
       "      <td>152.0</td>\n",
       "      <td>160.713113</td>\n",
       "    </tr>\n",
       "    <tr>\n",
       "      <th>2</th>\n",
       "      <td>161.4</td>\n",
       "      <td>160.713113</td>\n",
       "    </tr>\n",
       "    <tr>\n",
       "      <th>3</th>\n",
       "      <td>172.5</td>\n",
       "      <td>160.713113</td>\n",
       "    </tr>\n",
       "    <tr>\n",
       "      <th>4</th>\n",
       "      <td>167.5</td>\n",
       "      <td>160.713113</td>\n",
       "    </tr>\n",
       "    <tr>\n",
       "      <th>...</th>\n",
       "      <td>...</td>\n",
       "      <td>...</td>\n",
       "    </tr>\n",
       "    <tr>\n",
       "      <th>16551</th>\n",
       "      <td>167.9</td>\n",
       "      <td>160.713113</td>\n",
       "    </tr>\n",
       "    <tr>\n",
       "      <th>16552</th>\n",
       "      <td>185.8</td>\n",
       "      <td>160.713113</td>\n",
       "    </tr>\n",
       "    <tr>\n",
       "      <th>16553</th>\n",
       "      <td>159.4</td>\n",
       "      <td>160.713113</td>\n",
       "    </tr>\n",
       "    <tr>\n",
       "      <th>16554</th>\n",
       "      <td>157.8</td>\n",
       "      <td>160.713113</td>\n",
       "    </tr>\n",
       "    <tr>\n",
       "      <th>16555</th>\n",
       "      <td>163.9</td>\n",
       "      <td>160.713113</td>\n",
       "    </tr>\n",
       "  </tbody>\n",
       "</table>\n",
       "<p>16556 rows × 2 columns</p>\n",
       "</div>"
      ],
      "text/plain": [
       "       VB17004  MEDIA_ALTURA\n",
       "0        157.0    160.713113\n",
       "1        152.0    160.713113\n",
       "2        161.4    160.713113\n",
       "3        172.5    160.713113\n",
       "4        167.5    160.713113\n",
       "...        ...           ...\n",
       "16551    167.9    160.713113\n",
       "16552    185.8    160.713113\n",
       "16553    159.4    160.713113\n",
       "16554    157.8    160.713113\n",
       "16555    163.9    160.713113\n",
       "\n",
       "[16556 rows x 2 columns]"
      ]
     },
     "execution_count": 41,
     "metadata": {},
     "output_type": "execute_result"
    }
   ],
   "source": [
    "media_altura = dados['VB17004'].mean()\n",
    "dados['MEDIA_ALTURA'] = media_altura\n",
    "dados[['VB17004', 'MEDIA_ALTURA']]"
   ]
  },
  {
   "cell_type": "code",
   "execution_count": 42,
   "metadata": {},
   "outputs": [
    {
     "data": {
      "text/html": [
       "<div>\n",
       "<style scoped>\n",
       "    .dataframe tbody tr th:only-of-type {\n",
       "        vertical-align: middle;\n",
       "    }\n",
       "\n",
       "    .dataframe tbody tr th {\n",
       "        vertical-align: top;\n",
       "    }\n",
       "\n",
       "    .dataframe thead th {\n",
       "        text-align: right;\n",
       "    }\n",
       "</style>\n",
       "<table border=\"1\" class=\"dataframe\">\n",
       "  <thead>\n",
       "    <tr style=\"text-align: right;\">\n",
       "      <th></th>\n",
       "      <th>VB17004</th>\n",
       "      <th>MEDIA_ALTURA</th>\n",
       "      <th>DIFERENCA_MEDIA</th>\n",
       "    </tr>\n",
       "  </thead>\n",
       "  <tbody>\n",
       "    <tr>\n",
       "      <th>0</th>\n",
       "      <td>157.0</td>\n",
       "      <td>160.713113</td>\n",
       "      <td>-3.713113</td>\n",
       "    </tr>\n",
       "    <tr>\n",
       "      <th>1</th>\n",
       "      <td>152.0</td>\n",
       "      <td>160.713113</td>\n",
       "      <td>-8.713113</td>\n",
       "    </tr>\n",
       "    <tr>\n",
       "      <th>2</th>\n",
       "      <td>161.4</td>\n",
       "      <td>160.713113</td>\n",
       "      <td>0.686887</td>\n",
       "    </tr>\n",
       "    <tr>\n",
       "      <th>3</th>\n",
       "      <td>172.5</td>\n",
       "      <td>160.713113</td>\n",
       "      <td>11.786887</td>\n",
       "    </tr>\n",
       "    <tr>\n",
       "      <th>4</th>\n",
       "      <td>167.5</td>\n",
       "      <td>160.713113</td>\n",
       "      <td>6.786887</td>\n",
       "    </tr>\n",
       "    <tr>\n",
       "      <th>...</th>\n",
       "      <td>...</td>\n",
       "      <td>...</td>\n",
       "      <td>...</td>\n",
       "    </tr>\n",
       "    <tr>\n",
       "      <th>16551</th>\n",
       "      <td>167.9</td>\n",
       "      <td>160.713113</td>\n",
       "      <td>7.186887</td>\n",
       "    </tr>\n",
       "    <tr>\n",
       "      <th>16552</th>\n",
       "      <td>185.8</td>\n",
       "      <td>160.713113</td>\n",
       "      <td>25.086887</td>\n",
       "    </tr>\n",
       "    <tr>\n",
       "      <th>16553</th>\n",
       "      <td>159.4</td>\n",
       "      <td>160.713113</td>\n",
       "      <td>-1.313113</td>\n",
       "    </tr>\n",
       "    <tr>\n",
       "      <th>16554</th>\n",
       "      <td>157.8</td>\n",
       "      <td>160.713113</td>\n",
       "      <td>-2.913113</td>\n",
       "    </tr>\n",
       "    <tr>\n",
       "      <th>16555</th>\n",
       "      <td>163.9</td>\n",
       "      <td>160.713113</td>\n",
       "      <td>3.186887</td>\n",
       "    </tr>\n",
       "  </tbody>\n",
       "</table>\n",
       "<p>16556 rows × 3 columns</p>\n",
       "</div>"
      ],
      "text/plain": [
       "       VB17004  MEDIA_ALTURA  DIFERENCA_MEDIA\n",
       "0        157.0    160.713113        -3.713113\n",
       "1        152.0    160.713113        -8.713113\n",
       "2        161.4    160.713113         0.686887\n",
       "3        172.5    160.713113        11.786887\n",
       "4        167.5    160.713113         6.786887\n",
       "...        ...           ...              ...\n",
       "16551    167.9    160.713113         7.186887\n",
       "16552    185.8    160.713113        25.086887\n",
       "16553    159.4    160.713113        -1.313113\n",
       "16554    157.8    160.713113        -2.913113\n",
       "16555    163.9    160.713113         3.186887\n",
       "\n",
       "[16556 rows x 3 columns]"
      ]
     },
     "execution_count": 42,
     "metadata": {},
     "output_type": "execute_result"
    }
   ],
   "source": [
    "# Calculando a diferença\n",
    "\n",
    "diferenca_da_media = dados['VB17004'] - media_altura\n",
    "dados['DIFERENCA_MEDIA'] = diferenca_da_media\n",
    "dados[['VB17004', 'MEDIA_ALTURA', 'DIFERENCA_MEDIA']]"
   ]
  },
  {
   "cell_type": "code",
   "execution_count": 43,
   "metadata": {},
   "outputs": [
    {
     "data": {
      "text/html": [
       "<div>\n",
       "<style scoped>\n",
       "    .dataframe tbody tr th:only-of-type {\n",
       "        vertical-align: middle;\n",
       "    }\n",
       "\n",
       "    .dataframe tbody tr th {\n",
       "        vertical-align: top;\n",
       "    }\n",
       "\n",
       "    .dataframe thead th {\n",
       "        text-align: right;\n",
       "    }\n",
       "</style>\n",
       "<table border=\"1\" class=\"dataframe\">\n",
       "  <thead>\n",
       "    <tr style=\"text-align: right;\">\n",
       "      <th></th>\n",
       "      <th>VB17004</th>\n",
       "      <th>MEDIA_ALTURA</th>\n",
       "      <th>DIFERENCA_MEDIA</th>\n",
       "      <th>DIFERENCA_QUADRADA</th>\n",
       "    </tr>\n",
       "  </thead>\n",
       "  <tbody>\n",
       "    <tr>\n",
       "      <th>0</th>\n",
       "      <td>157.0</td>\n",
       "      <td>160.713113</td>\n",
       "      <td>-3.713113</td>\n",
       "      <td>13.787209</td>\n",
       "    </tr>\n",
       "    <tr>\n",
       "      <th>1</th>\n",
       "      <td>152.0</td>\n",
       "      <td>160.713113</td>\n",
       "      <td>-8.713113</td>\n",
       "      <td>75.918339</td>\n",
       "    </tr>\n",
       "    <tr>\n",
       "      <th>2</th>\n",
       "      <td>161.4</td>\n",
       "      <td>160.713113</td>\n",
       "      <td>0.686887</td>\n",
       "      <td>0.471814</td>\n",
       "    </tr>\n",
       "    <tr>\n",
       "      <th>3</th>\n",
       "      <td>172.5</td>\n",
       "      <td>160.713113</td>\n",
       "      <td>11.786887</td>\n",
       "      <td>138.930703</td>\n",
       "    </tr>\n",
       "    <tr>\n",
       "      <th>4</th>\n",
       "      <td>167.5</td>\n",
       "      <td>160.713113</td>\n",
       "      <td>6.786887</td>\n",
       "      <td>46.061834</td>\n",
       "    </tr>\n",
       "    <tr>\n",
       "      <th>...</th>\n",
       "      <td>...</td>\n",
       "      <td>...</td>\n",
       "      <td>...</td>\n",
       "      <td>...</td>\n",
       "    </tr>\n",
       "    <tr>\n",
       "      <th>16551</th>\n",
       "      <td>167.9</td>\n",
       "      <td>160.713113</td>\n",
       "      <td>7.186887</td>\n",
       "      <td>51.651344</td>\n",
       "    </tr>\n",
       "    <tr>\n",
       "      <th>16552</th>\n",
       "      <td>185.8</td>\n",
       "      <td>160.713113</td>\n",
       "      <td>25.086887</td>\n",
       "      <td>629.351896</td>\n",
       "    </tr>\n",
       "    <tr>\n",
       "      <th>16553</th>\n",
       "      <td>159.4</td>\n",
       "      <td>160.713113</td>\n",
       "      <td>-1.313113</td>\n",
       "      <td>1.724266</td>\n",
       "    </tr>\n",
       "    <tr>\n",
       "      <th>16554</th>\n",
       "      <td>157.8</td>\n",
       "      <td>160.713113</td>\n",
       "      <td>-2.913113</td>\n",
       "      <td>8.486228</td>\n",
       "    </tr>\n",
       "    <tr>\n",
       "      <th>16555</th>\n",
       "      <td>163.9</td>\n",
       "      <td>160.713113</td>\n",
       "      <td>3.186887</td>\n",
       "      <td>10.156248</td>\n",
       "    </tr>\n",
       "  </tbody>\n",
       "</table>\n",
       "<p>16556 rows × 4 columns</p>\n",
       "</div>"
      ],
      "text/plain": [
       "       VB17004  MEDIA_ALTURA  DIFERENCA_MEDIA  DIFERENCA_QUADRADA\n",
       "0        157.0    160.713113        -3.713113           13.787209\n",
       "1        152.0    160.713113        -8.713113           75.918339\n",
       "2        161.4    160.713113         0.686887            0.471814\n",
       "3        172.5    160.713113        11.786887          138.930703\n",
       "4        167.5    160.713113         6.786887           46.061834\n",
       "...        ...           ...              ...                 ...\n",
       "16551    167.9    160.713113         7.186887           51.651344\n",
       "16552    185.8    160.713113        25.086887          629.351896\n",
       "16553    159.4    160.713113        -1.313113            1.724266\n",
       "16554    157.8    160.713113        -2.913113            8.486228\n",
       "16555    163.9    160.713113         3.186887           10.156248\n",
       "\n",
       "[16556 rows x 4 columns]"
      ]
     },
     "execution_count": 43,
     "metadata": {},
     "output_type": "execute_result"
    }
   ],
   "source": [
    "diferenca_quadrada = diferenca_da_media ** 2\n",
    "dados['DIFERENCA_QUADRADA'] = diferenca_quadrada\n",
    "dados[['VB17004', 'MEDIA_ALTURA', 'DIFERENCA_MEDIA', 'DIFERENCA_QUADRADA']]"
   ]
  },
  {
   "cell_type": "code",
   "execution_count": 45,
   "metadata": {},
   "outputs": [
    {
     "data": {
      "text/plain": [
       "106.9105945368652"
      ]
     },
     "execution_count": 45,
     "metadata": {},
     "output_type": "execute_result"
    }
   ],
   "source": [
    "# Verificando a variancia\n",
    "dados['DIFERENCA_QUADRADA'].mean()"
   ]
  },
  {
   "cell_type": "code",
   "execution_count": 49,
   "metadata": {},
   "outputs": [
    {
     "data": {
      "text/plain": [
       "106.91705244049119"
      ]
     },
     "execution_count": 49,
     "metadata": {},
     "output_type": "execute_result"
    }
   ],
   "source": [
    "variancia_amostral = (1 / (len(dados) -1)) * dados['DIFERENCA_QUADRADA'].sum()\n",
    "variancia_amostral"
   ]
  },
  {
   "cell_type": "code",
   "execution_count": 52,
   "metadata": {},
   "outputs": [
    {
     "data": {
      "text/plain": [
       "160.71311307078818"
      ]
     },
     "execution_count": 52,
     "metadata": {},
     "output_type": "execute_result"
    }
   ],
   "source": [
    "# Com variancia amostral de: 106.9\n",
    "# Tomar cuidado ao passar a informação sobre a variancia amostral, pois a mesma se encontra em Cm² neste caso\n",
    "dados['VB17004'].mean()"
   ]
  },
  {
   "cell_type": "code",
   "execution_count": 55,
   "metadata": {},
   "outputs": [
    {
     "data": {
      "text/plain": [
       "10.340070233827776"
      ]
     },
     "execution_count": 55,
     "metadata": {},
     "output_type": "execute_result"
    }
   ],
   "source": [
    "desvio_padrao = np.sqrt(variancia_amostral)\n",
    "desvio_padrao"
   ]
  },
  {
   "cell_type": "code",
   "execution_count": 56,
   "metadata": {},
   "outputs": [
    {
     "data": {
      "text/plain": [
       "160.71311307078818"
      ]
     },
     "execution_count": 56,
     "metadata": {},
     "output_type": "execute_result"
    }
   ],
   "source": [
    "# Podemos ler que a nossa média é de: 160.7 com desvio padrão de 10.3\n",
    "dados['VB17004'].mean()"
   ]
  },
  {
   "cell_type": "markdown",
   "metadata": {},
   "source": [
    "## Aula VII"
   ]
  },
  {
   "cell_type": "markdown",
   "metadata": {},
   "source": [
    "### Resumo:\n",
    "Adição do intervalo de confiança; <br>\n",
    "Importação e utilização de zconfint para calculo do intervalo de confiança (de forma direta) <br>\n",
    "Realizado o mesmo processo porém com DescrStatsW;"
   ]
  },
  {
   "cell_type": "code",
   "execution_count": 62,
   "metadata": {},
   "outputs": [],
   "source": [
    "# https://www.statsmodels.org/stable/generated/statsmodels.stats.weightstats.zconfint.html\n",
    "from statsmodels.stats.weightstats import zconfint"
   ]
  },
  {
   "cell_type": "code",
   "execution_count": 63,
   "metadata": {},
   "outputs": [
    {
     "data": {
      "text/plain": [
       "(160.5556082427712, 160.87061789880892)"
      ]
     },
     "execution_count": 63,
     "metadata": {},
     "output_type": "execute_result"
    }
   ],
   "source": [
    "# Leitura, existe 95% de chances de conter o valor real da media dos alunos\n",
    "zconfint(dados['VB17004'].tolist())"
   ]
  },
  {
   "cell_type": "code",
   "execution_count": 65,
   "metadata": {},
   "outputs": [],
   "source": [
    "# Alpha = nivel de significancia, no caso o padrao do zconfint é de 95% (0.05)\n",
    "# Iremos realizar o mesmo teste com o ttest\n",
    "# https://www.statsmodels.org/stable/stats.html < para localizar os possiveis testes\n",
    "# https://www.statsmodels.org/stable/generated/statsmodels.stats.weightstats.DescrStatsW.html#statsmodels.stats.weightstats.DescrStatsW"
   ]
  },
  {
   "cell_type": "code",
   "execution_count": 66,
   "metadata": {},
   "outputs": [],
   "source": [
    "from statsmodels.stats.weightstats import DescrStatsW"
   ]
  },
  {
   "cell_type": "code",
   "execution_count": 67,
   "metadata": {},
   "outputs": [
    {
     "data": {
      "text/plain": [
       "<statsmodels.stats.weightstats.DescrStatsW at 0x1a8672f33c8>"
      ]
     },
     "execution_count": 67,
     "metadata": {},
     "output_type": "execute_result"
    }
   ],
   "source": [
    "descricao_estatistica = DescrStatsW(dados['VB17004'])\n",
    "descricao_estatistica"
   ]
  },
  {
   "cell_type": "code",
   "execution_count": 69,
   "metadata": {},
   "outputs": [
    {
     "data": {
      "text/plain": [
       "(160.55559672649298, 160.8706294150872)"
      ]
     },
     "execution_count": 69,
     "metadata": {},
     "output_type": "execute_result"
    }
   ],
   "source": [
    "descricao_estatistica.tconfint_mean()"
   ]
  },
  {
   "cell_type": "markdown",
   "metadata": {},
   "source": [
    "## Aula VII.II"
   ]
  },
  {
   "cell_type": "markdown",
   "metadata": {},
   "source": [
    "### Resumo:\n"
   ]
  },
  {
   "cell_type": "code",
   "execution_count": 70,
   "metadata": {},
   "outputs": [
    {
     "data": {
      "text/plain": [
       "<matplotlib.axes._subplots.AxesSubplot at 0x1a867309048>"
      ]
     },
     "execution_count": 70,
     "metadata": {},
     "output_type": "execute_result"
    },
    {
     "data": {
      "image/png": "[encoded data removed]",
      "text/plain": [
       "<Figure size 432x288 with 1 Axes>"
      ]
     },
     "metadata": {},
     "output_type": "display_data"
    }
   ],
   "source": [
    "sns.boxplot(x = 'VB01001', y = 'VB17004', data = dados)"
   ]
  },
  {
   "cell_type": "code",
   "execution_count": 71,
   "metadata": {},
   "outputs": [],
   "source": [
    "from statsmodels.stats.weightstats import ztest"
   ]
  },
  {
   "cell_type": "code",
   "execution_count": 74,
   "metadata": {},
   "outputs": [
    {
     "data": {
      "text/plain": [
       "0.0"
      ]
     },
     "execution_count": 74,
     "metadata": {},
     "output_type": "execute_result"
    }
   ],
   "source": [
    "distribuicao_altura_m = dados.query('VB01001 == 1')['VB17004']\n",
    "distribuicao_altura_f = dados.query('VB01001 == 2')['VB17004']\n",
    "\n",
    "_, p_value = ztest(distribuicao_altura_m, distribuicao_altura_f)\n",
    "# p_value utilizado para aceitar ou negar a hipotese nula\n",
    "# Caso o valor seja < que 0.05, a hipotese deve ser descartada\n",
    "p_value"
   ]
  },
  {
   "cell_type": "code",
   "execution_count": null,
   "metadata": {},
   "outputs": [],
   "source": []
  }
 ],
 "metadata": {
  "kernelspec": {
   "display_name": "Python 3",
   "language": "python",
   "name": "python3"
  },
  "language_info": {
   "codemirror_mode": {
    "name": "ipython",
    "version": 3
   },
   "file_extension": ".py",
   "mimetype": "text/x-python",
   "name": "python",
   "nbconvert_exporter": "python",
   "pygments_lexer": "ipython3",
   "version": "3.7.6"
  }
 },
 "nbformat": 4,
 "nbformat_minor": 4
}
