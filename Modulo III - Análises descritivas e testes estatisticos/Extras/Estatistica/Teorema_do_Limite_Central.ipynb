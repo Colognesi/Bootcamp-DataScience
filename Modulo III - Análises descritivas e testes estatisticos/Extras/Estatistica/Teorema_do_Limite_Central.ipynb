{
 "cells": [
  {
   "cell_type": "markdown",
   "metadata": {
    "id": "oKbvzd_MS-DM"
   },
   "source": [
    "O **Teorema do Limite Central** afirma que, com o aumento do tamanho da amostra, a distribuição das médias amostrais se aproxima de uma distribuição normal com média igual à média da população e desvio padrão igual ao desvio padrão da variável original dividido pela raiz quadrada do tamanho da amostra. Este fato é assegurado para $n$ maior ou igual a 30.\n",
    "\n",
    "\n",
    ".\n",
    "# $$\\sigma_\\bar{x} = \\frac{\\sigma}{\\sqrt{n}}$$\n",
    "​\n",
    "O desvio padrão das médias amostrais é conhecido como **erro padrão da média**\n"
   ]
  },
  {
   "cell_type": "code",
   "execution_count": 4,
   "metadata": {
    "colab": {
     "base_uri": "https://localhost:8080/",
     "height": 244
    },
    "id": "I8NC-hoTnzu8",
    "outputId": "d28b9f77-bee9-46bf-d4d7-d7b213ca3bfb"
   },
   "outputs": [
    {
     "data": {
      "text/html": [
       "<div>\n",
       "<style scoped>\n",
       "    .dataframe tbody tr th:only-of-type {\n",
       "        vertical-align: middle;\n",
       "    }\n",
       "\n",
       "    .dataframe tbody tr th {\n",
       "        vertical-align: top;\n",
       "    }\n",
       "\n",
       "    .dataframe thead th {\n",
       "        text-align: right;\n",
       "    }\n",
       "</style>\n",
       "<table border=\"1\" class=\"dataframe\">\n",
       "  <thead>\n",
       "    <tr style=\"text-align: right;\">\n",
       "      <th></th>\n",
       "      <th>ANOPESQ</th>\n",
       "      <th>PAIS</th>\n",
       "      <th>REGEOGR</th>\n",
       "      <th>VB00004</th>\n",
       "      <th>VB01001</th>\n",
       "      <th>VB01002</th>\n",
       "      <th>VB01003</th>\n",
       "      <th>VB01004</th>\n",
       "      <th>VB01005</th>\n",
       "      <th>VB01006</th>\n",
       "      <th>...</th>\n",
       "      <th>ESTRATO_EXP</th>\n",
       "      <th>ESTRATOGEOREG</th>\n",
       "      <th>PESO</th>\n",
       "      <th>V0006</th>\n",
       "      <th>V0007</th>\n",
       "      <th>V0008</th>\n",
       "      <th>V0041</th>\n",
       "      <th>aluno</th>\n",
       "      <th>escola</th>\n",
       "      <th>turma</th>\n",
       "    </tr>\n",
       "  </thead>\n",
       "  <tbody>\n",
       "    <tr>\n",
       "      <th>0</th>\n",
       "      <td>2015</td>\n",
       "      <td>76</td>\n",
       "      <td>1</td>\n",
       "      <td>1</td>\n",
       "      <td>2</td>\n",
       "      <td>1</td>\n",
       "      <td>13</td>\n",
       "      <td>7</td>\n",
       "      <td>7</td>\n",
       "      <td>1</td>\n",
       "      <td>...</td>\n",
       "      <td>1223</td>\n",
       "      <td>1</td>\n",
       "      <td>299.735235</td>\n",
       "      <td>1</td>\n",
       "      <td>2</td>\n",
       "      <td>4</td>\n",
       "      <td>1</td>\n",
       "      <td>1</td>\n",
       "      <td>1</td>\n",
       "      <td>296</td>\n",
       "    </tr>\n",
       "    <tr>\n",
       "      <th>1</th>\n",
       "      <td>2015</td>\n",
       "      <td>76</td>\n",
       "      <td>1</td>\n",
       "      <td>1</td>\n",
       "      <td>2</td>\n",
       "      <td>1</td>\n",
       "      <td>14</td>\n",
       "      <td>4</td>\n",
       "      <td>7</td>\n",
       "      <td>1</td>\n",
       "      <td>...</td>\n",
       "      <td>1223</td>\n",
       "      <td>1</td>\n",
       "      <td>355.170081</td>\n",
       "      <td>1</td>\n",
       "      <td>2</td>\n",
       "      <td>4</td>\n",
       "      <td>1</td>\n",
       "      <td>2</td>\n",
       "      <td>1</td>\n",
       "      <td>296</td>\n",
       "    </tr>\n",
       "    <tr>\n",
       "      <th>2</th>\n",
       "      <td>2015</td>\n",
       "      <td>76</td>\n",
       "      <td>1</td>\n",
       "      <td>1</td>\n",
       "      <td>1</td>\n",
       "      <td>4</td>\n",
       "      <td>13</td>\n",
       "      <td>6</td>\n",
       "      <td>7</td>\n",
       "      <td>1</td>\n",
       "      <td>...</td>\n",
       "      <td>1223</td>\n",
       "      <td>1</td>\n",
       "      <td>299.735235</td>\n",
       "      <td>1</td>\n",
       "      <td>2</td>\n",
       "      <td>4</td>\n",
       "      <td>1</td>\n",
       "      <td>3</td>\n",
       "      <td>1</td>\n",
       "      <td>296</td>\n",
       "    </tr>\n",
       "    <tr>\n",
       "      <th>3</th>\n",
       "      <td>2015</td>\n",
       "      <td>76</td>\n",
       "      <td>1</td>\n",
       "      <td>1</td>\n",
       "      <td>1</td>\n",
       "      <td>1</td>\n",
       "      <td>14</td>\n",
       "      <td>6</td>\n",
       "      <td>7</td>\n",
       "      <td>1</td>\n",
       "      <td>...</td>\n",
       "      <td>1223</td>\n",
       "      <td>1</td>\n",
       "      <td>355.170081</td>\n",
       "      <td>1</td>\n",
       "      <td>2</td>\n",
       "      <td>4</td>\n",
       "      <td>1</td>\n",
       "      <td>4</td>\n",
       "      <td>1</td>\n",
       "      <td>296</td>\n",
       "    </tr>\n",
       "    <tr>\n",
       "      <th>4</th>\n",
       "      <td>2015</td>\n",
       "      <td>76</td>\n",
       "      <td>1</td>\n",
       "      <td>1</td>\n",
       "      <td>1</td>\n",
       "      <td>1</td>\n",
       "      <td>13</td>\n",
       "      <td>9</td>\n",
       "      <td>7</td>\n",
       "      <td>1</td>\n",
       "      <td>...</td>\n",
       "      <td>1223</td>\n",
       "      <td>1</td>\n",
       "      <td>299.735235</td>\n",
       "      <td>1</td>\n",
       "      <td>2</td>\n",
       "      <td>4</td>\n",
       "      <td>1</td>\n",
       "      <td>5</td>\n",
       "      <td>1</td>\n",
       "      <td>296</td>\n",
       "    </tr>\n",
       "  </tbody>\n",
       "</table>\n",
       "<p>5 rows × 181 columns</p>\n",
       "</div>"
      ],
      "text/plain": [
       "   ANOPESQ  PAIS  REGEOGR  VB00004  VB01001  VB01002  VB01003  VB01004  \\\n",
       "0     2015    76        1        1        2        1       13        7   \n",
       "1     2015    76        1        1        2        1       14        4   \n",
       "2     2015    76        1        1        1        4       13        6   \n",
       "3     2015    76        1        1        1        1       14        6   \n",
       "4     2015    76        1        1        1        1       13        9   \n",
       "\n",
       "   VB01005  VB01006  ...  ESTRATO_EXP  ESTRATOGEOREG        PESO  V0006  \\\n",
       "0        7        1  ...         1223              1  299.735235      1   \n",
       "1        7        1  ...         1223              1  355.170081      1   \n",
       "2        7        1  ...         1223              1  299.735235      1   \n",
       "3        7        1  ...         1223              1  355.170081      1   \n",
       "4        7        1  ...         1223              1  299.735235      1   \n",
       "\n",
       "   V0007  V0008  V0041  aluno  escola  turma  \n",
       "0      2      4      1      1       1    296  \n",
       "1      2      4      1      2       1    296  \n",
       "2      2      4      1      3       1    296  \n",
       "3      2      4      1      4       1    296  \n",
       "4      2      4      1      5       1    296  \n",
       "\n",
       "[5 rows x 181 columns]"
      ]
     },
     "execution_count": 4,
     "metadata": {},
     "output_type": "execute_result"
    }
   ],
   "source": [
    "import pandas as pd\n",
    "from zipfile import ZipFile\n",
    "\n",
    "\n",
    "\n",
    "caminho = \"../Dados/PeNSE_2015_AMOSTRA2.zip\"\n",
    "zip = ZipFile(caminho)\n",
    "caminho_pasta_zipada = zip.namelist()[1]\n",
    "\n",
    "dados = pd.read_csv(zip.open(caminho_pasta_zipada), sep = \";\", thousands = \".\", decimal = \",\")\n",
    "dados.head()"
   ]
  },
  {
   "cell_type": "code",
   "execution_count": 5,
   "metadata": {
    "colab": {
     "base_uri": "https://localhost:8080/"
    },
    "id": "9X8hL0Yh8Lfu",
    "outputId": "96d7fad8-3cea-4b1d-cb76-e44a4b3a8353"
   },
   "outputs": [
    {
     "data": {
      "text/plain": [
       "0        15.051321\n",
       "1        21.727839\n",
       "2        18.502907\n",
       "3        23.322831\n",
       "4        28.122076\n",
       "           ...    \n",
       "16551    20.113223\n",
       "16552    17.930782\n",
       "16553    23.968489\n",
       "16554    18.995343\n",
       "16555    23.303246\n",
       "Name: IMC, Length: 16556, dtype: float64"
      ]
     },
     "execution_count": 5,
     "metadata": {},
     "output_type": "execute_result"
    }
   ],
   "source": [
    "dados[\"IMC\"] = dados[\"VB17003\"]/ ((dados[\"VB17004\"]/100)**2)\n",
    "dados[\"IMC\"]"
   ]
  },
  {
   "cell_type": "code",
   "execution_count": 6,
   "metadata": {
    "colab": {
     "base_uri": "https://localhost:8080/",
     "height": 422
    },
    "id": "SsFlL0XFSEPO",
    "outputId": "8959f019-0012-402f-a738-30711f4934cf"
   },
   "outputs": [
    {
     "data": {
      "text/html": [
       "<div>\n",
       "<style scoped>\n",
       "    .dataframe tbody tr th:only-of-type {\n",
       "        vertical-align: middle;\n",
       "    }\n",
       "\n",
       "    .dataframe tbody tr th {\n",
       "        vertical-align: top;\n",
       "    }\n",
       "\n",
       "    .dataframe thead th {\n",
       "        text-align: right;\n",
       "    }\n",
       "</style>\n",
       "<table border=\"1\" class=\"dataframe\">\n",
       "  <thead>\n",
       "    <tr style=\"text-align: right;\">\n",
       "      <th></th>\n",
       "      <th>Amostra_0</th>\n",
       "      <th>Amostra_1</th>\n",
       "      <th>Amostra_2</th>\n",
       "      <th>Amostra_3</th>\n",
       "      <th>Amostra_4</th>\n",
       "      <th>Amostra_5</th>\n",
       "      <th>Amostra_6</th>\n",
       "      <th>Amostra_7</th>\n",
       "      <th>Amostra_8</th>\n",
       "      <th>Amostra_9</th>\n",
       "      <th>...</th>\n",
       "      <th>Amostra_1490</th>\n",
       "      <th>Amostra_1491</th>\n",
       "      <th>Amostra_1492</th>\n",
       "      <th>Amostra_1493</th>\n",
       "      <th>Amostra_1494</th>\n",
       "      <th>Amostra_1495</th>\n",
       "      <th>Amostra_1496</th>\n",
       "      <th>Amostra_1497</th>\n",
       "      <th>Amostra_1498</th>\n",
       "      <th>Amostra_1499</th>\n",
       "    </tr>\n",
       "  </thead>\n",
       "  <tbody>\n",
       "    <tr>\n",
       "      <th>0</th>\n",
       "      <td>22.597274</td>\n",
       "      <td>26.219836</td>\n",
       "      <td>17.372238</td>\n",
       "      <td>18.625105</td>\n",
       "      <td>18.562558</td>\n",
       "      <td>15.943221</td>\n",
       "      <td>16.232282</td>\n",
       "      <td>23.272130</td>\n",
       "      <td>20.385612</td>\n",
       "      <td>22.567720</td>\n",
       "      <td>...</td>\n",
       "      <td>16.984682</td>\n",
       "      <td>14.555642</td>\n",
       "      <td>18.747057</td>\n",
       "      <td>22.857938</td>\n",
       "      <td>28.139901</td>\n",
       "      <td>19.021565</td>\n",
       "      <td>25.292441</td>\n",
       "      <td>19.974002</td>\n",
       "      <td>19.985170</td>\n",
       "      <td>18.178670</td>\n",
       "    </tr>\n",
       "    <tr>\n",
       "      <th>1</th>\n",
       "      <td>19.493177</td>\n",
       "      <td>19.783297</td>\n",
       "      <td>14.928192</td>\n",
       "      <td>15.670596</td>\n",
       "      <td>27.963241</td>\n",
       "      <td>17.205820</td>\n",
       "      <td>30.029944</td>\n",
       "      <td>20.443205</td>\n",
       "      <td>18.225048</td>\n",
       "      <td>18.885287</td>\n",
       "      <td>...</td>\n",
       "      <td>20.150661</td>\n",
       "      <td>30.524917</td>\n",
       "      <td>31.861629</td>\n",
       "      <td>26.953125</td>\n",
       "      <td>17.097496</td>\n",
       "      <td>24.982116</td>\n",
       "      <td>19.169978</td>\n",
       "      <td>14.679885</td>\n",
       "      <td>14.369463</td>\n",
       "      <td>19.909972</td>\n",
       "    </tr>\n",
       "    <tr>\n",
       "      <th>2</th>\n",
       "      <td>21.057944</td>\n",
       "      <td>21.802027</td>\n",
       "      <td>22.027664</td>\n",
       "      <td>26.713671</td>\n",
       "      <td>17.385034</td>\n",
       "      <td>14.068212</td>\n",
       "      <td>20.598597</td>\n",
       "      <td>30.792556</td>\n",
       "      <td>19.808092</td>\n",
       "      <td>16.434367</td>\n",
       "      <td>...</td>\n",
       "      <td>17.627332</td>\n",
       "      <td>37.279851</td>\n",
       "      <td>19.601274</td>\n",
       "      <td>20.272356</td>\n",
       "      <td>23.069128</td>\n",
       "      <td>24.163141</td>\n",
       "      <td>24.322548</td>\n",
       "      <td>20.545820</td>\n",
       "      <td>16.958859</td>\n",
       "      <td>21.228878</td>\n",
       "    </tr>\n",
       "    <tr>\n",
       "      <th>3</th>\n",
       "      <td>18.305561</td>\n",
       "      <td>22.424470</td>\n",
       "      <td>19.392267</td>\n",
       "      <td>17.932181</td>\n",
       "      <td>20.344506</td>\n",
       "      <td>19.363258</td>\n",
       "      <td>23.104897</td>\n",
       "      <td>18.749465</td>\n",
       "      <td>21.020818</td>\n",
       "      <td>23.225806</td>\n",
       "      <td>...</td>\n",
       "      <td>19.511498</td>\n",
       "      <td>18.336966</td>\n",
       "      <td>29.231439</td>\n",
       "      <td>25.768215</td>\n",
       "      <td>20.627007</td>\n",
       "      <td>21.998172</td>\n",
       "      <td>17.665569</td>\n",
       "      <td>26.914133</td>\n",
       "      <td>25.690262</td>\n",
       "      <td>19.558042</td>\n",
       "    </tr>\n",
       "    <tr>\n",
       "      <th>4</th>\n",
       "      <td>16.957645</td>\n",
       "      <td>25.066120</td>\n",
       "      <td>18.604015</td>\n",
       "      <td>30.497577</td>\n",
       "      <td>18.083175</td>\n",
       "      <td>28.456105</td>\n",
       "      <td>15.955556</td>\n",
       "      <td>23.803094</td>\n",
       "      <td>22.050034</td>\n",
       "      <td>29.036738</td>\n",
       "      <td>...</td>\n",
       "      <td>32.697053</td>\n",
       "      <td>21.186675</td>\n",
       "      <td>18.232199</td>\n",
       "      <td>19.357896</td>\n",
       "      <td>25.290859</td>\n",
       "      <td>16.745257</td>\n",
       "      <td>17.001917</td>\n",
       "      <td>14.658725</td>\n",
       "      <td>22.797419</td>\n",
       "      <td>17.653163</td>\n",
       "    </tr>\n",
       "    <tr>\n",
       "      <th>...</th>\n",
       "      <td>...</td>\n",
       "      <td>...</td>\n",
       "      <td>...</td>\n",
       "      <td>...</td>\n",
       "      <td>...</td>\n",
       "      <td>...</td>\n",
       "      <td>...</td>\n",
       "      <td>...</td>\n",
       "      <td>...</td>\n",
       "      <td>...</td>\n",
       "      <td>...</td>\n",
       "      <td>...</td>\n",
       "      <td>...</td>\n",
       "      <td>...</td>\n",
       "      <td>...</td>\n",
       "      <td>...</td>\n",
       "      <td>...</td>\n",
       "      <td>...</td>\n",
       "      <td>...</td>\n",
       "      <td>...</td>\n",
       "      <td>...</td>\n",
       "    </tr>\n",
       "    <tr>\n",
       "      <th>1995</th>\n",
       "      <td>26.797921</td>\n",
       "      <td>18.576550</td>\n",
       "      <td>24.964946</td>\n",
       "      <td>17.298155</td>\n",
       "      <td>21.159721</td>\n",
       "      <td>21.185795</td>\n",
       "      <td>20.372652</td>\n",
       "      <td>19.173409</td>\n",
       "      <td>23.146952</td>\n",
       "      <td>17.099855</td>\n",
       "      <td>...</td>\n",
       "      <td>21.757812</td>\n",
       "      <td>19.320839</td>\n",
       "      <td>19.355893</td>\n",
       "      <td>18.337346</td>\n",
       "      <td>17.394939</td>\n",
       "      <td>18.558508</td>\n",
       "      <td>27.619083</td>\n",
       "      <td>19.817677</td>\n",
       "      <td>19.797508</td>\n",
       "      <td>16.774646</td>\n",
       "    </tr>\n",
       "    <tr>\n",
       "      <th>1996</th>\n",
       "      <td>19.384368</td>\n",
       "      <td>22.732372</td>\n",
       "      <td>22.259595</td>\n",
       "      <td>22.653713</td>\n",
       "      <td>18.099375</td>\n",
       "      <td>20.831186</td>\n",
       "      <td>18.333680</td>\n",
       "      <td>17.819599</td>\n",
       "      <td>21.700328</td>\n",
       "      <td>13.974738</td>\n",
       "      <td>...</td>\n",
       "      <td>23.794267</td>\n",
       "      <td>18.253110</td>\n",
       "      <td>24.035361</td>\n",
       "      <td>24.218750</td>\n",
       "      <td>19.346076</td>\n",
       "      <td>19.673923</td>\n",
       "      <td>24.161736</td>\n",
       "      <td>20.102965</td>\n",
       "      <td>19.438106</td>\n",
       "      <td>25.024737</td>\n",
       "    </tr>\n",
       "    <tr>\n",
       "      <th>1997</th>\n",
       "      <td>26.373007</td>\n",
       "      <td>19.673021</td>\n",
       "      <td>20.495950</td>\n",
       "      <td>19.375318</td>\n",
       "      <td>16.095069</td>\n",
       "      <td>22.394806</td>\n",
       "      <td>28.291147</td>\n",
       "      <td>22.717707</td>\n",
       "      <td>17.360441</td>\n",
       "      <td>23.915661</td>\n",
       "      <td>...</td>\n",
       "      <td>17.826709</td>\n",
       "      <td>17.742028</td>\n",
       "      <td>16.426731</td>\n",
       "      <td>21.174305</td>\n",
       "      <td>16.597299</td>\n",
       "      <td>19.233763</td>\n",
       "      <td>22.008111</td>\n",
       "      <td>17.460975</td>\n",
       "      <td>16.074736</td>\n",
       "      <td>22.508656</td>\n",
       "    </tr>\n",
       "    <tr>\n",
       "      <th>1998</th>\n",
       "      <td>18.819336</td>\n",
       "      <td>14.024731</td>\n",
       "      <td>21.900407</td>\n",
       "      <td>17.093394</td>\n",
       "      <td>24.596607</td>\n",
       "      <td>18.084882</td>\n",
       "      <td>27.067639</td>\n",
       "      <td>28.509703</td>\n",
       "      <td>20.932120</td>\n",
       "      <td>17.935583</td>\n",
       "      <td>...</td>\n",
       "      <td>19.510926</td>\n",
       "      <td>14.826785</td>\n",
       "      <td>19.091683</td>\n",
       "      <td>28.856786</td>\n",
       "      <td>24.250404</td>\n",
       "      <td>19.609750</td>\n",
       "      <td>18.414129</td>\n",
       "      <td>22.142075</td>\n",
       "      <td>17.571261</td>\n",
       "      <td>22.852200</td>\n",
       "    </tr>\n",
       "    <tr>\n",
       "      <th>1999</th>\n",
       "      <td>25.877454</td>\n",
       "      <td>16.965917</td>\n",
       "      <td>29.503391</td>\n",
       "      <td>16.592171</td>\n",
       "      <td>18.614398</td>\n",
       "      <td>29.648892</td>\n",
       "      <td>24.073302</td>\n",
       "      <td>24.464604</td>\n",
       "      <td>21.660403</td>\n",
       "      <td>23.943135</td>\n",
       "      <td>...</td>\n",
       "      <td>28.959000</td>\n",
       "      <td>16.335786</td>\n",
       "      <td>19.581221</td>\n",
       "      <td>15.795393</td>\n",
       "      <td>17.632423</td>\n",
       "      <td>23.081813</td>\n",
       "      <td>22.855667</td>\n",
       "      <td>19.896979</td>\n",
       "      <td>20.699489</td>\n",
       "      <td>17.818567</td>\n",
       "    </tr>\n",
       "  </tbody>\n",
       "</table>\n",
       "<p>2000 rows × 1500 columns</p>\n",
       "</div>"
      ],
      "text/plain": [
       "      Amostra_0  Amostra_1  Amostra_2  Amostra_3  Amostra_4  Amostra_5  \\\n",
       "0     22.597274  26.219836  17.372238  18.625105  18.562558  15.943221   \n",
       "1     19.493177  19.783297  14.928192  15.670596  27.963241  17.205820   \n",
       "2     21.057944  21.802027  22.027664  26.713671  17.385034  14.068212   \n",
       "3     18.305561  22.424470  19.392267  17.932181  20.344506  19.363258   \n",
       "4     16.957645  25.066120  18.604015  30.497577  18.083175  28.456105   \n",
       "...         ...        ...        ...        ...        ...        ...   \n",
       "1995  26.797921  18.576550  24.964946  17.298155  21.159721  21.185795   \n",
       "1996  19.384368  22.732372  22.259595  22.653713  18.099375  20.831186   \n",
       "1997  26.373007  19.673021  20.495950  19.375318  16.095069  22.394806   \n",
       "1998  18.819336  14.024731  21.900407  17.093394  24.596607  18.084882   \n",
       "1999  25.877454  16.965917  29.503391  16.592171  18.614398  29.648892   \n",
       "\n",
       "      Amostra_6  Amostra_7  Amostra_8  Amostra_9  ...  Amostra_1490  \\\n",
       "0     16.232282  23.272130  20.385612  22.567720  ...     16.984682   \n",
       "1     30.029944  20.443205  18.225048  18.885287  ...     20.150661   \n",
       "2     20.598597  30.792556  19.808092  16.434367  ...     17.627332   \n",
       "3     23.104897  18.749465  21.020818  23.225806  ...     19.511498   \n",
       "4     15.955556  23.803094  22.050034  29.036738  ...     32.697053   \n",
       "...         ...        ...        ...        ...  ...           ...   \n",
       "1995  20.372652  19.173409  23.146952  17.099855  ...     21.757812   \n",
       "1996  18.333680  17.819599  21.700328  13.974738  ...     23.794267   \n",
       "1997  28.291147  22.717707  17.360441  23.915661  ...     17.826709   \n",
       "1998  27.067639  28.509703  20.932120  17.935583  ...     19.510926   \n",
       "1999  24.073302  24.464604  21.660403  23.943135  ...     28.959000   \n",
       "\n",
       "      Amostra_1491  Amostra_1492  Amostra_1493  Amostra_1494  Amostra_1495  \\\n",
       "0        14.555642     18.747057     22.857938     28.139901     19.021565   \n",
       "1        30.524917     31.861629     26.953125     17.097496     24.982116   \n",
       "2        37.279851     19.601274     20.272356     23.069128     24.163141   \n",
       "3        18.336966     29.231439     25.768215     20.627007     21.998172   \n",
       "4        21.186675     18.232199     19.357896     25.290859     16.745257   \n",
       "...            ...           ...           ...           ...           ...   \n",
       "1995     19.320839     19.355893     18.337346     17.394939     18.558508   \n",
       "1996     18.253110     24.035361     24.218750     19.346076     19.673923   \n",
       "1997     17.742028     16.426731     21.174305     16.597299     19.233763   \n",
       "1998     14.826785     19.091683     28.856786     24.250404     19.609750   \n",
       "1999     16.335786     19.581221     15.795393     17.632423     23.081813   \n",
       "\n",
       "      Amostra_1496  Amostra_1497  Amostra_1498  Amostra_1499  \n",
       "0        25.292441     19.974002     19.985170     18.178670  \n",
       "1        19.169978     14.679885     14.369463     19.909972  \n",
       "2        24.322548     20.545820     16.958859     21.228878  \n",
       "3        17.665569     26.914133     25.690262     19.558042  \n",
       "4        17.001917     14.658725     22.797419     17.653163  \n",
       "...            ...           ...           ...           ...  \n",
       "1995     27.619083     19.817677     19.797508     16.774646  \n",
       "1996     24.161736     20.102965     19.438106     25.024737  \n",
       "1997     22.008111     17.460975     16.074736     22.508656  \n",
       "1998     18.414129     22.142075     17.571261     22.852200  \n",
       "1999     22.855667     19.896979     20.699489     17.818567  \n",
       "\n",
       "[2000 rows x 1500 columns]"
      ]
     },
     "execution_count": 6,
     "metadata": {},
     "output_type": "execute_result"
    }
   ],
   "source": [
    "n = 2000\n",
    "total_de_amostras = 1500\n",
    "amostras = pd.DataFrame()\n",
    "for i in range(total_de_amostras):\n",
    "  _ = dados.IMC.sample(n)\n",
    "  _.index = range(0, len(_))\n",
    "  amostras['Amostra_' + str(i)] = _\n",
    "\n",
    "amostras"
   ]
  },
  {
   "cell_type": "markdown",
   "metadata": {
    "id": "WCjENIyytPpp"
   },
   "source": [
    "O Teorema do Limite Central afirma que, **com o aumento do tamanho da amostra, a distribuição das médias amostrais se aproxima de uma distribuição normal** com média igual à média da população e desvio padrão igual ao desvio padrão da variável original dividido pela raiz quadrada do tamanho da amostra. Este fato é assegurado para n maior ou igual a 30."
   ]
  },
  {
   "cell_type": "code",
   "execution_count": 7,
   "metadata": {
    "colab": {
     "base_uri": "https://localhost:8080/",
     "height": 284
    },
    "id": "nrK0t9L9tO4e",
    "outputId": "62d2cffb-9d0b-40ee-9856-b0dca084d8d8"
   },
   "outputs": [
    {
     "data": {
      "text/plain": [
       "<matplotlib.axes._subplots.AxesSubplot at 0x2dfe57eda88>"
      ]
     },
     "execution_count": 7,
     "metadata": {},
     "output_type": "execute_result"
    },
    {
     "data": {
      "image/png": "[encoded data removed]",
      "text/plain": [
       "<Figure size 432x288 with 1 Axes>"
      ]
     },
     "metadata": {
      "needs_background": "light"
     },
     "output_type": "display_data"
    }
   ],
   "source": [
    "amostras.mean().hist(bins=30)"
   ]
  },
  {
   "cell_type": "markdown",
   "metadata": {
    "id": "y38K1eBhtflf"
   },
   "source": [
    "O Teorema do Limite Central afirma que, com o aumento do tamanho da amostra, a distribuição das médias amostrais se aproxima de uma distribuição normal **com média igual à média da população** e desvio padrão igual ao desvio padrão da variável original dividido pela raiz quadrada do tamanho da amostra. Este fato é assegurado para n maior ou igual a 30."
   ]
  },
  {
   "cell_type": "code",
   "execution_count": 8,
   "metadata": {
    "colab": {
     "base_uri": "https://localhost:8080/"
    },
    "id": "L_nG-Ke5tmip",
    "outputId": "98ad7085-106b-4f5b-93d5-94fac483e763"
   },
   "outputs": [
    {
     "data": {
      "text/plain": [
       "20.95825220663186"
      ]
     },
     "execution_count": 8,
     "metadata": {},
     "output_type": "execute_result"
    }
   ],
   "source": [
    "dados.IMC.mean()"
   ]
  },
  {
   "cell_type": "code",
   "execution_count": 9,
   "metadata": {
    "colab": {
     "base_uri": "https://localhost:8080/"
    },
    "id": "J-QPutXqjKvf",
    "outputId": "01477cf9-7803-446c-d7f6-ed03c0d8ae11"
   },
   "outputs": [
    {
     "data": {
      "text/plain": [
       "20.963551710512355"
      ]
     },
     "execution_count": 9,
     "metadata": {},
     "output_type": "execute_result"
    }
   ],
   "source": [
    "amostras.mean().mean()"
   ]
  },
  {
   "cell_type": "markdown",
   "metadata": {
    "id": "2igO7LrQtvz9"
   },
   "source": [
    "O Teorema do Limite Central afirma que, com o aumento do tamanho da amostra, a distribuição das médias amostrais se aproxima de uma distribuição normal com média igual à média da população e **desvio padrão igual ao desvio padrão da variável original dividido pela raiz quadrada do tamanho da amostra**. Este fato é assegurado para n maior ou igual a 30.\n",
    "\n",
    "# $$\\sigma_\\bar{x} = \\frac{\\sigma}{\\sqrt{n}}$$"
   ]
  },
  {
   "cell_type": "code",
   "execution_count": 10,
   "metadata": {
    "colab": {
     "base_uri": "https://localhost:8080/"
    },
    "id": "8Km2aGo3vgEj",
    "outputId": "b99b4c1b-7b28-4517-c503-2ab704bb047f"
   },
   "outputs": [
    {
     "name": "stdout",
     "output_type": "stream",
     "text": [
      "0.09490859583922757\n"
     ]
    }
   ],
   "source": [
    "import numpy as np\n",
    "\n",
    "desvio_padrao_amostra_aproximado = dados.IMC.std()/np.sqrt(n)\n",
    "print(desvio_padrao_amostra_aproximado)"
   ]
  },
  {
   "cell_type": "code",
   "execution_count": 11,
   "metadata": {
    "colab": {
     "base_uri": "https://localhost:8080/"
    },
    "id": "J8aC4uvKjhlF",
    "outputId": "1cb9df05-9b6a-4116-b359-d49a895430c7"
   },
   "outputs": [
    {
     "data": {
      "text/plain": [
       "0.09007939318582325"
      ]
     },
     "execution_count": 11,
     "metadata": {},
     "output_type": "execute_result"
    }
   ],
   "source": [
    "amostras.mean().std()"
   ]
  },
  {
   "cell_type": "code",
   "execution_count": null,
   "metadata": {
    "id": "9CcfEzCikS6O"
   },
   "outputs": [],
   "source": []
  }
 ],
 "metadata": {
  "colab": {
   "name": "Teorema do Limite Central.ipynb",
   "provenance": []
  },
  "kernelspec": {
   "display_name": "Python 3",
   "language": "python",
   "name": "python3"
  },
  "language_info": {
   "codemirror_mode": {
    "name": "ipython",
    "version": 3
   },
   "file_extension": ".py",
   "mimetype": "text/x-python",
   "name": "python",
   "nbconvert_exporter": "python",
   "pygments_lexer": "ipython3",
   "version": "3.7.6"
  }
 },
 "nbformat": 4,
 "nbformat_minor": 1
}
