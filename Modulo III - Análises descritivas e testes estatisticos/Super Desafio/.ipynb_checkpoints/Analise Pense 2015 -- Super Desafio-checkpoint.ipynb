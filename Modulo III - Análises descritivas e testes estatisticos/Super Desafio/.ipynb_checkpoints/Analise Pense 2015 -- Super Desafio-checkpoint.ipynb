{
 "cells": [
  {
   "cell_type": "markdown",
   "metadata": {},
   "source": [
    "# Aquisição dos dados"
   ]
  },
  {
   "cell_type": "markdown",
   "metadata": {},
   "source": [
    "Dados adquiridos do site do IBGE: <br>\n",
    "https://www.ibge.gov.br/estatisticas/downloads-estatisticas.html?caminho=pense/2015/microdados/\n"
   ]
  },
  {
   "cell_type": "markdown",
   "metadata": {},
   "source": [
    "## Resumo projeto:\n",
    "Identificar a média da idade na qual alunos tendem a usar drogas,<br>\n",
    "Validar se variaveis como: Amigos usarem drogas, sofrer bulling, fumar cigarro, consumir alcool, etc... impactam nos adolecentes usarem drogas ou não;"
   ]
  },
  {
   "cell_type": "code",
   "execution_count": 1,
   "metadata": {},
   "outputs": [],
   "source": [
    "import pandas as pd"
   ]
  },
  {
   "cell_type": "code",
   "execution_count": 2,
   "metadata": {},
   "outputs": [
    {
     "data": {
      "text/html": [
       "<div>\n",
       "<style scoped>\n",
       "    .dataframe tbody tr th:only-of-type {\n",
       "        vertical-align: middle;\n",
       "    }\n",
       "\n",
       "    .dataframe tbody tr th {\n",
       "        vertical-align: top;\n",
       "    }\n",
       "\n",
       "    .dataframe thead th {\n",
       "        text-align: right;\n",
       "    }\n",
       "</style>\n",
       "<table border=\"1\" class=\"dataframe\">\n",
       "  <thead>\n",
       "    <tr style=\"text-align: right;\">\n",
       "      <th></th>\n",
       "      <th>ANOPESQ</th>\n",
       "      <th>PAIS</th>\n",
       "      <th>REGEOGR</th>\n",
       "      <th>VB00004</th>\n",
       "      <th>VB01001</th>\n",
       "      <th>VB01002</th>\n",
       "      <th>VB01003</th>\n",
       "      <th>VB01004</th>\n",
       "      <th>VB01005</th>\n",
       "      <th>VB01006</th>\n",
       "      <th>...</th>\n",
       "      <th>VE01P28A</th>\n",
       "      <th>VE01P68</th>\n",
       "      <th>VE01P69</th>\n",
       "      <th>VE01P70</th>\n",
       "      <th>VE01P71</th>\n",
       "      <th>VE01P72</th>\n",
       "      <th>V0041</th>\n",
       "      <th>aluno</th>\n",
       "      <th>escola</th>\n",
       "      <th>turma</th>\n",
       "    </tr>\n",
       "  </thead>\n",
       "  <tbody>\n",
       "    <tr>\n",
       "      <th>0</th>\n",
       "      <td>2015</td>\n",
       "      <td>76</td>\n",
       "      <td>1</td>\n",
       "      <td>1</td>\n",
       "      <td>2</td>\n",
       "      <td>1</td>\n",
       "      <td>13</td>\n",
       "      <td>7</td>\n",
       "      <td>7</td>\n",
       "      <td>1</td>\n",
       "      <td>...</td>\n",
       "      <td>1</td>\n",
       "      <td>1</td>\n",
       "      <td>1</td>\n",
       "      <td>1</td>\n",
       "      <td>1</td>\n",
       "      <td>1</td>\n",
       "      <td>1</td>\n",
       "      <td>1</td>\n",
       "      <td>1</td>\n",
       "      <td>296</td>\n",
       "    </tr>\n",
       "    <tr>\n",
       "      <th>1</th>\n",
       "      <td>2015</td>\n",
       "      <td>76</td>\n",
       "      <td>1</td>\n",
       "      <td>1</td>\n",
       "      <td>2</td>\n",
       "      <td>1</td>\n",
       "      <td>14</td>\n",
       "      <td>4</td>\n",
       "      <td>7</td>\n",
       "      <td>1</td>\n",
       "      <td>...</td>\n",
       "      <td>1</td>\n",
       "      <td>1</td>\n",
       "      <td>1</td>\n",
       "      <td>1</td>\n",
       "      <td>1</td>\n",
       "      <td>1</td>\n",
       "      <td>1</td>\n",
       "      <td>2</td>\n",
       "      <td>1</td>\n",
       "      <td>296</td>\n",
       "    </tr>\n",
       "    <tr>\n",
       "      <th>2</th>\n",
       "      <td>2015</td>\n",
       "      <td>76</td>\n",
       "      <td>1</td>\n",
       "      <td>1</td>\n",
       "      <td>1</td>\n",
       "      <td>4</td>\n",
       "      <td>13</td>\n",
       "      <td>6</td>\n",
       "      <td>7</td>\n",
       "      <td>1</td>\n",
       "      <td>...</td>\n",
       "      <td>1</td>\n",
       "      <td>1</td>\n",
       "      <td>1</td>\n",
       "      <td>1</td>\n",
       "      <td>1</td>\n",
       "      <td>1</td>\n",
       "      <td>1</td>\n",
       "      <td>3</td>\n",
       "      <td>1</td>\n",
       "      <td>296</td>\n",
       "    </tr>\n",
       "    <tr>\n",
       "      <th>3</th>\n",
       "      <td>2015</td>\n",
       "      <td>76</td>\n",
       "      <td>1</td>\n",
       "      <td>1</td>\n",
       "      <td>1</td>\n",
       "      <td>1</td>\n",
       "      <td>14</td>\n",
       "      <td>6</td>\n",
       "      <td>7</td>\n",
       "      <td>1</td>\n",
       "      <td>...</td>\n",
       "      <td>1</td>\n",
       "      <td>1</td>\n",
       "      <td>1</td>\n",
       "      <td>1</td>\n",
       "      <td>1</td>\n",
       "      <td>1</td>\n",
       "      <td>1</td>\n",
       "      <td>4</td>\n",
       "      <td>1</td>\n",
       "      <td>296</td>\n",
       "    </tr>\n",
       "    <tr>\n",
       "      <th>4</th>\n",
       "      <td>2015</td>\n",
       "      <td>76</td>\n",
       "      <td>1</td>\n",
       "      <td>1</td>\n",
       "      <td>1</td>\n",
       "      <td>1</td>\n",
       "      <td>13</td>\n",
       "      <td>9</td>\n",
       "      <td>7</td>\n",
       "      <td>1</td>\n",
       "      <td>...</td>\n",
       "      <td>1</td>\n",
       "      <td>1</td>\n",
       "      <td>1</td>\n",
       "      <td>1</td>\n",
       "      <td>1</td>\n",
       "      <td>1</td>\n",
       "      <td>1</td>\n",
       "      <td>5</td>\n",
       "      <td>1</td>\n",
       "      <td>296</td>\n",
       "    </tr>\n",
       "  </tbody>\n",
       "</table>\n",
       "<p>5 rows × 296 columns</p>\n",
       "</div>"
      ],
      "text/plain": [
       "   ANOPESQ  PAIS  REGEOGR  VB00004  VB01001  VB01002  VB01003  VB01004  \\\n",
       "0     2015    76        1        1        2        1       13        7   \n",
       "1     2015    76        1        1        2        1       14        4   \n",
       "2     2015    76        1        1        1        4       13        6   \n",
       "3     2015    76        1        1        1        1       14        6   \n",
       "4     2015    76        1        1        1        1       13        9   \n",
       "\n",
       "   VB01005  VB01006  ...  VE01P28A  VE01P68  VE01P69  VE01P70  VE01P71  \\\n",
       "0        7        1  ...         1        1        1        1        1   \n",
       "1        7        1  ...         1        1        1        1        1   \n",
       "2        7        1  ...         1        1        1        1        1   \n",
       "3        7        1  ...         1        1        1        1        1   \n",
       "4        7        1  ...         1        1        1        1        1   \n",
       "\n",
       "   VE01P72  V0041  aluno  escola  turma  \n",
       "0        1      1      1       1    296  \n",
       "1        1      1      2       1    296  \n",
       "2        1      1      3       1    296  \n",
       "3        1      1      4       1    296  \n",
       "4        1      1      5       1    296  \n",
       "\n",
       "[5 rows x 296 columns]"
      ]
     },
     "execution_count": 2,
     "metadata": {},
     "output_type": "execute_result"
    }
   ],
   "source": [
    "dados = pd.read_csv('../Dados/arquivos csv/PENSE_AMOSTRA2_ALUNOESCOLA.CSV', sep = \";\", thousands = '.', decimal = ',')\n",
    "dados.head()"
   ]
  },
  {
   "cell_type": "code",
   "execution_count": 3,
   "metadata": {},
   "outputs": [],
   "source": [
    "# VB01001 = Sexo {1: Masculino, 2: Feminino}\n",
    "# VB01003 = Idade\n",
    "# VB06001 = Já usou drogas?\n",
    "# VB06002 = Idade com qual usou drogas\n",
    "# VB06006 = Quantos amigos usam drogas\n",
    "# VB07010 = Já Sofreu Bulling?\n",
    "# VB04001 = Ja fumou cigarro?\n",
    "# VB05002 = Ja tomou bebida alcoolica?\n",
    "# VB07002 = Seus pais sabiam o que estava fazendo?\n",
    "# VB07004 = Seus responsaveis entenderam seus problemas / preocupações?"
   ]
  },
  {
   "cell_type": "markdown",
   "metadata": {},
   "source": [
    "### Separação dos dados selecionados para análise"
   ]
  },
  {
   "cell_type": "code",
   "execution_count": 4,
   "metadata": {},
   "outputs": [
    {
     "data": {
      "text/html": [
       "<div>\n",
       "<style scoped>\n",
       "    .dataframe tbody tr th:only-of-type {\n",
       "        vertical-align: middle;\n",
       "    }\n",
       "\n",
       "    .dataframe tbody tr th {\n",
       "        vertical-align: top;\n",
       "    }\n",
       "\n",
       "    .dataframe thead th {\n",
       "        text-align: right;\n",
       "    }\n",
       "</style>\n",
       "<table border=\"1\" class=\"dataframe\">\n",
       "  <thead>\n",
       "    <tr style=\"text-align: right;\">\n",
       "      <th></th>\n",
       "      <th>VB01001</th>\n",
       "      <th>VB01003</th>\n",
       "      <th>VB06001</th>\n",
       "      <th>VB06002</th>\n",
       "      <th>VB06006</th>\n",
       "      <th>VB07010</th>\n",
       "      <th>VB04001</th>\n",
       "      <th>VB05002</th>\n",
       "      <th>VB07002</th>\n",
       "      <th>VB07004</th>\n",
       "    </tr>\n",
       "  </thead>\n",
       "  <tbody>\n",
       "    <tr>\n",
       "      <th>0</th>\n",
       "      <td>2</td>\n",
       "      <td>13</td>\n",
       "      <td>2</td>\n",
       "      <td>-1</td>\n",
       "      <td>1</td>\n",
       "      <td>2</td>\n",
       "      <td>2</td>\n",
       "      <td>2</td>\n",
       "      <td>5</td>\n",
       "      <td>5</td>\n",
       "    </tr>\n",
       "    <tr>\n",
       "      <th>1</th>\n",
       "      <td>2</td>\n",
       "      <td>14</td>\n",
       "      <td>2</td>\n",
       "      <td>-1</td>\n",
       "      <td>1</td>\n",
       "      <td>2</td>\n",
       "      <td>2</td>\n",
       "      <td>2</td>\n",
       "      <td>5</td>\n",
       "      <td>5</td>\n",
       "    </tr>\n",
       "    <tr>\n",
       "      <th>2</th>\n",
       "      <td>1</td>\n",
       "      <td>13</td>\n",
       "      <td>2</td>\n",
       "      <td>-1</td>\n",
       "      <td>1</td>\n",
       "      <td>1</td>\n",
       "      <td>2</td>\n",
       "      <td>1</td>\n",
       "      <td>5</td>\n",
       "      <td>2</td>\n",
       "    </tr>\n",
       "    <tr>\n",
       "      <th>3</th>\n",
       "      <td>1</td>\n",
       "      <td>14</td>\n",
       "      <td>2</td>\n",
       "      <td>-1</td>\n",
       "      <td>1</td>\n",
       "      <td>1</td>\n",
       "      <td>2</td>\n",
       "      <td>2</td>\n",
       "      <td>4</td>\n",
       "      <td>1</td>\n",
       "    </tr>\n",
       "    <tr>\n",
       "      <th>4</th>\n",
       "      <td>1</td>\n",
       "      <td>13</td>\n",
       "      <td>2</td>\n",
       "      <td>-1</td>\n",
       "      <td>2</td>\n",
       "      <td>1</td>\n",
       "      <td>2</td>\n",
       "      <td>1</td>\n",
       "      <td>4</td>\n",
       "      <td>4</td>\n",
       "    </tr>\n",
       "  </tbody>\n",
       "</table>\n",
       "</div>"
      ],
      "text/plain": [
       "   VB01001  VB01003  VB06001  VB06002  VB06006  VB07010  VB04001  VB05002  \\\n",
       "0        2       13        2       -1        1        2        2        2   \n",
       "1        2       14        2       -1        1        2        2        2   \n",
       "2        1       13        2       -1        1        1        2        1   \n",
       "3        1       14        2       -1        1        1        2        2   \n",
       "4        1       13        2       -1        2        1        2        1   \n",
       "\n",
       "   VB07002  VB07004  \n",
       "0        5        5  \n",
       "1        5        5  \n",
       "2        5        2  \n",
       "3        4        1  \n",
       "4        4        4  "
      ]
     },
     "execution_count": 4,
     "metadata": {},
     "output_type": "execute_result"
    }
   ],
   "source": [
    "dados_selecionados = dados[['VB01001', 'VB01003', 'VB06001', 'VB06002', 'VB06006', 'VB07010', 'VB04001', 'VB05002', 'VB07002', 'VB07004']].copy()\n",
    "dados_selecionados.head()"
   ]
  },
  {
   "cell_type": "markdown",
   "metadata": {},
   "source": [
    "### Renomear colunas para identifica-las mais facilmente"
   ]
  },
  {
   "cell_type": "code",
   "execution_count": 5,
   "metadata": {},
   "outputs": [],
   "source": [
    "nomes = {'VB01001':'Sexo', 'VB01003':'Idade', 'VB06001':'Usou_drogas', 'VB06002':'Idade_exp_drogas',\n",
    "        'VB06006':'Amigos_usam_drogas', 'VB07010':'Sofreu_bullying', 'VB04001':'Fumou_cigarro',\n",
    "        'VB05002':'Consumiu_alcool', 'VB07002':'Pais_presentes', 'VB07004':'Pais_lhe_entendem'}"
   ]
  },
  {
   "cell_type": "code",
   "execution_count": 6,
   "metadata": {},
   "outputs": [],
   "source": [
    "dados_selecionados.rename(columns = nomes, inplace = True)"
   ]
  },
  {
   "cell_type": "markdown",
   "metadata": {},
   "source": [
    "### Verificação de alunos que informaram a idade que experimentaram drogas\n",
    "Com base no dicionário que veio junto aos dados, -1 significa que os alunos entrevistados pularam esta pergunta e 99 significa que não foi informada a idade<br>\n",
    "Então iremos selecionar apenas os que responderam para tentarmos adquirir uma média da idade no qual o mesmo experimentou;"
   ]
  },
  {
   "cell_type": "code",
   "execution_count": 7,
   "metadata": {},
   "outputs": [
    {
     "data": {
      "text/plain": [
       "-1     15117\n",
       " 15      322\n",
       " 14      296\n",
       " 13      241\n",
       " 16      201\n",
       " 12      116\n",
       " 17       97\n",
       " 11       44\n",
       " 7        36\n",
       " 18       34\n",
       " 99       20\n",
       " 10       19\n",
       " 8         7\n",
       " 9         6\n",
       "Name: Idade_exp_drogas, dtype: int64"
      ]
     },
     "execution_count": 7,
     "metadata": {},
     "output_type": "execute_result"
    }
   ],
   "source": [
    "dados_selecionados['Idade_exp_drogas'].value_counts()"
   ]
  },
  {
   "cell_type": "markdown",
   "metadata": {},
   "source": [
    "### Selecao de apenas alunos nos quais informaram as idades em que consumiram drogas"
   ]
  },
  {
   "cell_type": "code",
   "execution_count": 8,
   "metadata": {},
   "outputs": [
    {
     "data": {
      "text/html": [
       "<div>\n",
       "<style scoped>\n",
       "    .dataframe tbody tr th:only-of-type {\n",
       "        vertical-align: middle;\n",
       "    }\n",
       "\n",
       "    .dataframe tbody tr th {\n",
       "        vertical-align: top;\n",
       "    }\n",
       "\n",
       "    .dataframe thead th {\n",
       "        text-align: right;\n",
       "    }\n",
       "</style>\n",
       "<table border=\"1\" class=\"dataframe\">\n",
       "  <thead>\n",
       "    <tr style=\"text-align: right;\">\n",
       "      <th></th>\n",
       "      <th>Sexo</th>\n",
       "      <th>Idade</th>\n",
       "      <th>Usou_drogas</th>\n",
       "      <th>Idade_exp_drogas</th>\n",
       "      <th>Amigos_usam_drogas</th>\n",
       "      <th>Sofreu_bullying</th>\n",
       "      <th>Fumou_cigarro</th>\n",
       "      <th>Consumiu_alcool</th>\n",
       "      <th>Pais_presentes</th>\n",
       "      <th>Pais_lhe_entendem</th>\n",
       "    </tr>\n",
       "  </thead>\n",
       "  <tbody>\n",
       "    <tr>\n",
       "      <th>18</th>\n",
       "      <td>1</td>\n",
       "      <td>14</td>\n",
       "      <td>1</td>\n",
       "      <td>14</td>\n",
       "      <td>2</td>\n",
       "      <td>1</td>\n",
       "      <td>2</td>\n",
       "      <td>1</td>\n",
       "      <td>3</td>\n",
       "      <td>1</td>\n",
       "    </tr>\n",
       "    <tr>\n",
       "      <th>29</th>\n",
       "      <td>2</td>\n",
       "      <td>14</td>\n",
       "      <td>1</td>\n",
       "      <td>13</td>\n",
       "      <td>2</td>\n",
       "      <td>1</td>\n",
       "      <td>1</td>\n",
       "      <td>1</td>\n",
       "      <td>4</td>\n",
       "      <td>3</td>\n",
       "    </tr>\n",
       "    <tr>\n",
       "      <th>40</th>\n",
       "      <td>2</td>\n",
       "      <td>16</td>\n",
       "      <td>1</td>\n",
       "      <td>15</td>\n",
       "      <td>3</td>\n",
       "      <td>2</td>\n",
       "      <td>1</td>\n",
       "      <td>1</td>\n",
       "      <td>5</td>\n",
       "      <td>3</td>\n",
       "    </tr>\n",
       "    <tr>\n",
       "      <th>42</th>\n",
       "      <td>1</td>\n",
       "      <td>15</td>\n",
       "      <td>1</td>\n",
       "      <td>13</td>\n",
       "      <td>3</td>\n",
       "      <td>1</td>\n",
       "      <td>1</td>\n",
       "      <td>1</td>\n",
       "      <td>5</td>\n",
       "      <td>3</td>\n",
       "    </tr>\n",
       "    <tr>\n",
       "      <th>43</th>\n",
       "      <td>2</td>\n",
       "      <td>16</td>\n",
       "      <td>1</td>\n",
       "      <td>15</td>\n",
       "      <td>3</td>\n",
       "      <td>2</td>\n",
       "      <td>1</td>\n",
       "      <td>1</td>\n",
       "      <td>4</td>\n",
       "      <td>5</td>\n",
       "    </tr>\n",
       "  </tbody>\n",
       "</table>\n",
       "</div>"
      ],
      "text/plain": [
       "    Sexo  Idade  Usou_drogas  Idade_exp_drogas  Amigos_usam_drogas  \\\n",
       "18     1     14            1                14                   2   \n",
       "29     2     14            1                13                   2   \n",
       "40     2     16            1                15                   3   \n",
       "42     1     15            1                13                   3   \n",
       "43     2     16            1                15                   3   \n",
       "\n",
       "    Sofreu_bullying  Fumou_cigarro  Consumiu_alcool  Pais_presentes  \\\n",
       "18                1              2                1               3   \n",
       "29                1              1                1               4   \n",
       "40                2              1                1               5   \n",
       "42                1              1                1               5   \n",
       "43                2              1                1               4   \n",
       "\n",
       "    Pais_lhe_entendem  \n",
       "18                  1  \n",
       "29                  3  \n",
       "40                  3  \n",
       "42                  3  \n",
       "43                  5  "
      ]
     },
     "execution_count": 8,
     "metadata": {},
     "output_type": "execute_result"
    }
   ],
   "source": [
    "selecao = dados_selecionados.query('Idade_exp_drogas != -1 & Idade_exp_drogas != 99').copy()\n",
    "selecao.head()"
   ]
  },
  {
   "cell_type": "code",
   "execution_count": 9,
   "metadata": {},
   "outputs": [],
   "source": [
    "# Alteração para nomeclatura de sexo, informando masculino e feminino ao invés de 1 ou 2\n",
    "selecao['Sexo'].replace({1:'Masculino', 2:'Feminino'}, inplace = True)"
   ]
  },
  {
   "cell_type": "markdown",
   "metadata": {},
   "source": [
    "### Verificação da distribuição de Idade na qual teve experiência com drogas"
   ]
  },
  {
   "cell_type": "code",
   "execution_count": 10,
   "metadata": {},
   "outputs": [],
   "source": [
    "import seaborn as sns\n",
    "sns.set_style('darkgrid')\n",
    "sns.set_palette('Accent')\n",
    "\n",
    "import matplotlib.pyplot as plt"
   ]
  },
  {
   "cell_type": "code",
   "execution_count": 11,
   "metadata": {},
   "outputs": [
    {
     "data": {
      "image/png": "[encoded data removed]",
      "text/plain": [
       "<Figure size 1872x1440 with 2 Axes>"
      ]
     },
     "metadata": {},
     "output_type": "display_data"
    }
   ],
   "source": [
    "ax = plt.figure(1, figsize=(26,20))\n",
    "ax = plt.subplot(221)\n",
    "ax = sns.histplot(data = selecao, x = 'Idade_exp_drogas', bins = 'sturges', kde = True)\n",
    "ax.set_xlabel('Idade na qual utilizou drogas pela primeira vez')\n",
    "ax.set_title('Gráfico de distribuição: \\n Idade em que usou drogas pela primeira vez (total)')\n",
    "ax.set_ylabel('Contagem de alunos')\n",
    "\n",
    "ax2 = plt.subplot(222)\n",
    "ax2 = sns.histplot(data = selecao, x = 'Idade_exp_drogas', bins = 'sturges', kde = True, hue = 'Sexo', palette = 'coolwarm')\n",
    "ax2.set_xlabel('Idade na qual utilizou drogas pela primeira vez')\n",
    "ax2.set_title('Gráfico de distribuição: \\n Idade em que usou drogas pela primeira vez \\n Separado por Sexo')\n",
    "ax2.set_ylabel('');"
   ]
  },
  {
   "cell_type": "markdown",
   "metadata": {},
   "source": [
    "Agora possuimos a distribuição das idades nas quais os estudantes provaram drogas pela primeira vez,<br>\n",
    "Não sei informar a causa de ter um alto numero de crianças abaixo de 8 anos que usaram drogas, talvez seja ruído, mas irei deixar assim para não alterar mais os dados <br>\n",
    "\n",
    "Abaixo irei verificar as médias destas idades, para depois verificarmos o intervalo de confiança <br>"
   ]
  },
  {
   "cell_type": "code",
   "execution_count": 12,
   "metadata": {},
   "outputs": [
    {
     "data": {
      "text/plain": [
       "14.102889358703312"
      ]
     },
     "execution_count": 12,
     "metadata": {},
     "output_type": "execute_result"
    }
   ],
   "source": [
    "selecao['Idade_exp_drogas'].mean()"
   ]
  },
  {
   "cell_type": "markdown",
   "metadata": {},
   "source": [
    "A média geral esta em torno de 14 anos, mas vamos verificar a distribuição dessas medias por sexo"
   ]
  },
  {
   "cell_type": "code",
   "execution_count": 13,
   "metadata": {},
   "outputs": [
    {
     "data": {
      "text/plain": [
       "Sexo       Idade\n",
       "Feminino   13       11.850746\n",
       "           14       12.990909\n",
       "           15       13.915254\n",
       "           16       14.607843\n",
       "           17       15.174242\n",
       "           18       15.387097\n",
       "           19       16.080000\n",
       "Masculino  13       11.350877\n",
       "           14       12.824074\n",
       "           15       13.175676\n",
       "           16       14.460317\n",
       "           17       15.140127\n",
       "           18       15.707317\n",
       "           19       15.476190\n",
       "Name: Idade_exp_drogas, dtype: float64"
      ]
     },
     "execution_count": 13,
     "metadata": {},
     "output_type": "execute_result"
    }
   ],
   "source": [
    "selecao.groupby(['Sexo','Idade'])['Idade_exp_drogas'].mean()"
   ]
  },
  {
   "cell_type": "markdown",
   "metadata": {},
   "source": [
    "### Importação de zconfint\n",
    "Utilizado para verificar a média das idades nas quais os estudantes usam drogas, com nível de confiança de 95%"
   ]
  },
  {
   "cell_type": "code",
   "execution_count": 14,
   "metadata": {},
   "outputs": [],
   "source": [
    "from statsmodels.stats.weightstats import zconfint"
   ]
  },
  {
   "cell_type": "code",
   "execution_count": 15,
   "metadata": {},
   "outputs": [
    {
     "data": {
      "text/plain": [
       "(13.994982930628714, 14.21079578677791)"
      ]
     },
     "execution_count": 15,
     "metadata": {},
     "output_type": "execute_result"
    }
   ],
   "source": [
    "zconfint(selecao['Idade_exp_drogas'].tolist())"
   ]
  },
  {
   "cell_type": "markdown",
   "metadata": {},
   "source": [
    "### Validação com ztest"
   ]
  },
  {
   "cell_type": "code",
   "execution_count": 16,
   "metadata": {},
   "outputs": [],
   "source": [
    "from statsmodels.stats.weightstats import ztest"
   ]
  },
  {
   "cell_type": "code",
   "execution_count": 17,
   "metadata": {},
   "outputs": [],
   "source": [
    "# Abaixo uma query para separarmos os sexos\n",
    "dist_drogas_m = selecao.query('Sexo == \"Masculino\"')['Idade_exp_drogas']\n",
    "dist_drogas_f = selecao.query('Sexo == \"Feminino\"')['Idade_exp_drogas']"
   ]
  },
  {
   "cell_type": "code",
   "execution_count": 18,
   "metadata": {},
   "outputs": [
    {
     "data": {
      "text/plain": [
       "0.7465131715013205"
      ]
     },
     "execution_count": 18,
     "metadata": {},
     "output_type": "execute_result"
    }
   ],
   "source": [
    "_, p_value = ztest(dist_drogas_m, dist_drogas_f)\n",
    "p_value"
   ]
  },
  {
   "cell_type": "markdown",
   "metadata": {},
   "source": [
    "Acima, ao realizar a validação com ztest, nossa hipotese pode ser considerada válida, pois o valor_p está acima de 0.05,<br>\n",
    "Abaixo irei realizar apenas mais algumas validações, para confirmar a veracidade deste resultado;"
   ]
  },
  {
   "cell_type": "markdown",
   "metadata": {},
   "source": [
    "### Validação da curvatura dos dados com normaltest"
   ]
  },
  {
   "cell_type": "code",
   "execution_count": 19,
   "metadata": {},
   "outputs": [],
   "source": [
    "from scipy.stats import normaltest"
   ]
  },
  {
   "cell_type": "code",
   "execution_count": 20,
   "metadata": {},
   "outputs": [
    {
     "data": {
      "text/plain": [
       "NormaltestResult(statistic=151.19811194639937, pvalue=1.4714555715423653e-33)"
      ]
     },
     "execution_count": 20,
     "metadata": {},
     "output_type": "execute_result"
    }
   ],
   "source": [
    "normaltest(dist_drogas_m)"
   ]
  },
  {
   "cell_type": "code",
   "execution_count": 21,
   "metadata": {},
   "outputs": [
    {
     "data": {
      "text/plain": [
       "NormaltestResult(statistic=93.37588674985633, pvalue=5.2927797367636635e-21)"
      ]
     },
     "execution_count": 21,
     "metadata": {},
     "output_type": "execute_result"
    }
   ],
   "source": [
    "normaltest(dist_drogas_f)"
   ]
  },
  {
   "cell_type": "markdown",
   "metadata": {},
   "source": [
    "### Validação com ranksums"
   ]
  },
  {
   "cell_type": "code",
   "execution_count": 22,
   "metadata": {},
   "outputs": [],
   "source": [
    "from scipy.stats import ranksums"
   ]
  },
  {
   "cell_type": "code",
   "execution_count": 23,
   "metadata": {},
   "outputs": [
    {
     "data": {
      "text/plain": [
       "RanksumsResult(statistic=1.0388204114645923, pvalue=0.29888826659327616)"
      ]
     },
     "execution_count": 23,
     "metadata": {},
     "output_type": "execute_result"
    }
   ],
   "source": [
    "ranksums(dist_drogas_m, dist_drogas_f)"
   ]
  },
  {
   "cell_type": "markdown",
   "metadata": {},
   "source": [
    "O teste ranksums deve ser utilizado quando a curvatura das amostras não seguem uma representação normal,<br>\n",
    "Com o p_valor sendo maior que 0.05 podemos considerar a hipótese válida (mas não tornando-a verdadeira),<br>\n",
    "Isso significa que nosso teste (utilizando nossas amostras inseridas) passou positivamente com o valor_p, e que nosso resultado do ztestinf pode ser considerado válido;"
   ]
  },
  {
   "cell_type": "markdown",
   "metadata": {},
   "source": [
    "Com os testes feitos acima, podemos dizer que, com 95% de sifnificancia: <br>\n",
    "\n",
    "A média de idade em que alunas do sexo feminino tendem experimentar drogas, é de 13 anos de idade,<br>\n",
    "Já a média de idade em que alunos do sexo masculino tendem a experimentar drogas, é de 14 anos de idade;"
   ]
  },
  {
   "cell_type": "markdown",
   "metadata": {},
   "source": [
    "### Verificação de alunos que já experimentaram drogas\n",
    "Se ja experimentaram outras coisas (cigarro e alcool) e se seus pais sabiam o que estavam fazendo"
   ]
  },
  {
   "cell_type": "code",
   "execution_count": 24,
   "metadata": {},
   "outputs": [],
   "source": [
    "dados_sel = dados_selecionados.query('Usou_drogas == 1').copy()\n",
    "dados_sel.drop('Idade', axis = 1, inplace = True)\n",
    "dados_sel.drop('Idade_exp_drogas', axis = 1, inplace = True)\n",
    "dados_sel.drop('Usou_drogas', axis = 1, inplace = True)"
   ]
  },
  {
   "cell_type": "code",
   "execution_count": 38,
   "metadata": {},
   "outputs": [
    {
     "data": {
      "text/plain": [
       "1439"
      ]
     },
     "execution_count": 38,
     "metadata": {},
     "output_type": "execute_result"
    }
   ],
   "source": [
    "# Apos esta seleção, verificar qual a quantia de alunos que confirmaram ter usado drogas\n",
    "len(dados_sel)"
   ]
  },
  {
   "cell_type": "code",
   "execution_count": 25,
   "metadata": {},
   "outputs": [],
   "source": [
    "# Inserido para adicionar a categoria das respostas inseridas pelos alunos\n",
    "sel = {1: 'Nunca', 2: 'Raramente', 3:'As vezes', 4: 'Na maior parte do tempo', 5: 'Sempre', 99: 'Não informado'}\n",
    "dados_sel['Pais_sabiam_o_que_fazia'] = dados_sel['Pais_presentes'].map(sel)"
   ]
  },
  {
   "cell_type": "code",
   "execution_count": 26,
   "metadata": {},
   "outputs": [],
   "source": [
    "# parte abaixo realizada para realizar um slice de um pedaço do codigo, apenas para demonstrar com gráfico de barras a distribuição entre os sexos\n",
    "a = dados_sel[['Sexo', 'Pais_presentes', 'Pais_sabiam_o_que_fazia']]\n",
    "a = a.groupby(['Sexo','Pais_sabiam_o_que_fazia']).count()\n",
    "a.reset_index(inplace = True)\n",
    "a.sort_values('Pais_presentes', ascending = False, inplace = True)"
   ]
  },
  {
   "cell_type": "code",
   "execution_count": 27,
   "metadata": {},
   "outputs": [
    {
     "data": {
      "image/png": "[encoded data removed]",
      "text/plain": [
       "<Figure size 1800x1440 with 2 Axes>"
      ]
     },
     "metadata": {},
     "output_type": "display_data"
    }
   ],
   "source": [
    "ax = plt.figure(1, figsize=(25,20))\n",
    "\n",
    "ax = plt.subplot(221)\n",
    "ax = sns.histplot(data = dados_sel, x = 'Pais_sabiam_o_que_fazia', bins = 'sturges')\n",
    "ax.set_ylabel('Contagem de alunos')\n",
    "ax.set_xlabel('Categorias aplicadas na entrevista')\n",
    "ax.set_title('Contagem do total de alunos entrevistados: \\n Seus pais sabiam o que estavam fazendo?')\n",
    "\n",
    "ax2 = plt.subplot(222)\n",
    "ax2 = sns.barplot(data = a, x = 'Pais_presentes', y = 'Pais_sabiam_o_que_fazia', hue = 'Sexo', palette = 'coolwarm')\n",
    "ax2.set_title('Contagem de alunos entrevistados (Separados por Sexo): \\n Seus pais sabiam o que estavam fazendo?')\n",
    "ax2.set_xlabel('')\n",
    "ax2.set_ylabel('')\n",
    "ax2.set_xlim(0, 250)\n",
    "\n",
    "handles, labels = ax2.get_legend_handles_labels()\n",
    "ax2.legend(handles = handles, labels = ['Masculino', 'Feminino'], loc = \"best\", bbox_to_anchor=(1,1.01));"
   ]
  },
  {
   "cell_type": "markdown",
   "metadata": {},
   "source": [
    "Com o gráfico acima verificamos, de modo geral (E separado por sexo), dos estudantes entrevistados, se seus pais sabiam o que estavam fazendo ou não. <br>\n",
    "\n",
    "Na questão dos meninos, na maior parte do tempo informam que seus pais sabiam o que estavam fazendo, o que deixa uma brecha para dizer que nos momentos que usaram drogas, podem ter mentido para os mesmos ou simplesmente omitido a informação.<br>\n",
    "\n",
    "Na questão das meninas, a maioria informa que seus pais sempre sabiam o que estavam fazendo, dando a entender que mesmo sabendo o que faziam, não interviram para que as mesmas não o fizessem;"
   ]
  },
  {
   "cell_type": "markdown",
   "metadata": {},
   "source": [
    "Como ja estamos lidando com o total de alunos que já experimentaram drogas, iremos verificar agora o uso de outras coisas, como por exemplo alcool e cigarro;"
   ]
  },
  {
   "cell_type": "code",
   "execution_count": 28,
   "metadata": {},
   "outputs": [],
   "source": [
    "b = dados_sel[['Sexo','Consumiu_alcool', 'Fumou_cigarro']].copy()\n",
    "sel = {1: 'Sim', 2: 'Não', -1: 'Pulou questionario', 99: 'Não informado'}\n",
    "b['Cigarro_desc'] = b['Fumou_cigarro'].map(sel)\n",
    "b['Alcool_desc'] = b['Consumiu_alcool'].map(sel)"
   ]
  },
  {
   "cell_type": "code",
   "execution_count": 29,
   "metadata": {},
   "outputs": [],
   "source": [
    "# Realizando um slice para tratar apenas a informação do cigarro, abaixo irei fazer o mesmo para alcool\n",
    "b_cig = b[['Sexo', 'Cigarro_desc', 'Fumou_cigarro']]\n",
    "b_cig = b_cig.groupby(['Sexo', 'Cigarro_desc']).count()\n",
    "b_cig.reset_index(inplace = True)\n",
    "b_cig.sort_values('Fumou_cigarro', ascending = False, inplace = True)"
   ]
  },
  {
   "cell_type": "code",
   "execution_count": 30,
   "metadata": {},
   "outputs": [],
   "source": [
    "b_alc = b[['Sexo', 'Alcool_desc', 'Consumiu_alcool']]\n",
    "b_alc = b_alc.groupby(['Sexo','Alcool_desc']).count()\n",
    "b_alc.reset_index(inplace = True)\n",
    "b_alc.sort_values('Consumiu_alcool', ascending = False, inplace = True)\n",
    "# Comando abaixo utilizado para remoção das categorias \"Não informado\"\n",
    "b_alc = b_alc[b_alc['Alcool_desc'] != 'Não informado']"
   ]
  },
  {
   "cell_type": "code",
   "execution_count": 31,
   "metadata": {},
   "outputs": [
    {
     "data": {
      "image/png": "[encoded data removed]",
      "text/plain": [
       "<Figure size 1800x1440 with 2 Axes>"
      ]
     },
     "metadata": {},
     "output_type": "display_data"
    }
   ],
   "source": [
    "ax = plt.figure(1, figsize=(25,20))\n",
    "\n",
    "ax = plt.subplot(221)\n",
    "ax = sns.barplot(data = b_cig, y = 'Cigarro_desc', x = 'Fumou_cigarro', hue = 'Sexo', palette = 'coolwarm')\n",
    "handles, labels = ax.get_legend_handles_labels()\n",
    "ax.legend(handles = handles, labels = ['Masculino', 'Feminino'], loc = \"best\", bbox_to_anchor=(1,1.007));\n",
    "ax.set_title('Alunos que já experimentaram drogas \\n Já fumaram cigarros?')\n",
    "ax.set_ylabel('Opções de respostas')\n",
    "ax.set_xlabel('Contagem de alunos que deram suas respostas')\n",
    "ax.set_xlim(0, 750)\n",
    "\n",
    "ax2 = plt.subplot(222)\n",
    "ax2 = sns.barplot(data = b_alc, y = 'Alcool_desc', x = 'Consumiu_alcool', hue = 'Sexo', palette = 'coolwarm')\n",
    "ax2.set_title('Alunos que já experimentaram drogas \\n Já consumiram alcool?')\n",
    "ax2.set_ylabel('')\n",
    "ax2.set_xlabel('Contagem de alunos que deram suas respostas')\n",
    "ax2.set_xlim(0, 850)\n",
    "ax2.legend([]);"
   ]
  },
  {
   "cell_type": "markdown",
   "metadata": {},
   "source": [
    "Os dados para verificar os alunos que consumiram alcool e fumaram cigarros, foi selecionado a partir de todos que já experimentaram drogas. <br>\n",
    "\n",
    "Com os gráficos acima podemos verificar em função de todos os alunos que já consumiram drogas, se já consumiram outras coisas como cigarros e alcool;"
   ]
  },
  {
   "cell_type": "markdown",
   "metadata": {},
   "source": [
    "### Uma das possiveis causas pode ser de o aluno ter sofrido bullying\n",
    "Irei fazer uma comparação para verificar esta hipotese"
   ]
  },
  {
   "cell_type": "code",
   "execution_count": 32,
   "metadata": {},
   "outputs": [],
   "source": [
    "# Adicionar os significados dos numeros em Sofreu_bullying e Usou_drogas\n",
    "df_bull = dados_selecionados[['Sexo', 'Usou_drogas', 'Sofreu_bullying']].copy()\n",
    "nomes = {1:'Sim', 2:'Não', 3:'Não sei o que é', 99:'Não informado'}\n",
    "df_bull['Nomeclaturas_bullying'] = df_bull['Sofreu_bullying'].map(nomes)"
   ]
  },
  {
   "cell_type": "code",
   "execution_count": 33,
   "metadata": {},
   "outputs": [],
   "source": [
    "nomes_drogas = {-1:'Pulou', 1:'Sim', 2:'Não', 99:'Não informado'}\n",
    "df_bull['Nomeclaturas_drogas'] = df_bull['Usou_drogas'].map(nomes_drogas)"
   ]
  },
  {
   "cell_type": "code",
   "execution_count": 34,
   "metadata": {},
   "outputs": [],
   "source": [
    "# Slice para a seleção de todos os que sofreram com bullying\n",
    "a_bull = df_bull[df_bull['Nomeclaturas_bullying'] == 'Sim']"
   ]
  },
  {
   "cell_type": "code",
   "execution_count": 35,
   "metadata": {},
   "outputs": [
    {
     "data": {
      "text/html": [
       "<div>\n",
       "<style scoped>\n",
       "    .dataframe tbody tr th:only-of-type {\n",
       "        vertical-align: middle;\n",
       "    }\n",
       "\n",
       "    .dataframe tbody tr th {\n",
       "        vertical-align: top;\n",
       "    }\n",
       "\n",
       "    .dataframe thead th {\n",
       "        text-align: right;\n",
       "    }\n",
       "</style>\n",
       "<table border=\"1\" class=\"dataframe\">\n",
       "  <thead>\n",
       "    <tr style=\"text-align: right;\">\n",
       "      <th></th>\n",
       "      <th>Sexo</th>\n",
       "      <th>Nomeclaturas_drogas</th>\n",
       "      <th>Usou_drogas</th>\n",
       "    </tr>\n",
       "  </thead>\n",
       "  <tbody>\n",
       "    <tr>\n",
       "      <th>0</th>\n",
       "      <td>1</td>\n",
       "      <td>Não</td>\n",
       "      <td>2292</td>\n",
       "    </tr>\n",
       "    <tr>\n",
       "      <th>1</th>\n",
       "      <td>1</td>\n",
       "      <td>Não informado</td>\n",
       "      <td>3</td>\n",
       "    </tr>\n",
       "    <tr>\n",
       "      <th>2</th>\n",
       "      <td>1</td>\n",
       "      <td>Pulou</td>\n",
       "      <td>960</td>\n",
       "    </tr>\n",
       "    <tr>\n",
       "      <th>3</th>\n",
       "      <td>1</td>\n",
       "      <td>Sim</td>\n",
       "      <td>395</td>\n",
       "    </tr>\n",
       "    <tr>\n",
       "      <th>4</th>\n",
       "      <td>2</td>\n",
       "      <td>Não</td>\n",
       "      <td>2422</td>\n",
       "    </tr>\n",
       "    <tr>\n",
       "      <th>5</th>\n",
       "      <td>2</td>\n",
       "      <td>Não informado</td>\n",
       "      <td>2</td>\n",
       "    </tr>\n",
       "    <tr>\n",
       "      <th>6</th>\n",
       "      <td>2</td>\n",
       "      <td>Pulou</td>\n",
       "      <td>1146</td>\n",
       "    </tr>\n",
       "    <tr>\n",
       "      <th>7</th>\n",
       "      <td>2</td>\n",
       "      <td>Sim</td>\n",
       "      <td>364</td>\n",
       "    </tr>\n",
       "  </tbody>\n",
       "</table>\n",
       "</div>"
      ],
      "text/plain": [
       "   Sexo Nomeclaturas_drogas  Usou_drogas\n",
       "0     1                 Não         2292\n",
       "1     1       Não informado            3\n",
       "2     1               Pulou          960\n",
       "3     1                 Sim          395\n",
       "4     2                 Não         2422\n",
       "5     2       Não informado            2\n",
       "6     2               Pulou         1146\n",
       "7     2                 Sim          364"
      ]
     },
     "execution_count": 35,
     "metadata": {},
     "output_type": "execute_result"
    }
   ],
   "source": [
    "a = a_bull.groupby(['Sexo', 'Nomeclaturas_drogas'])['Usou_drogas'].count()\n",
    "a = pd.DataFrame(a)\n",
    "a.reset_index(inplace = True)\n",
    "a"
   ]
  },
  {
   "cell_type": "code",
   "execution_count": 56,
   "metadata": {},
   "outputs": [
    {
     "data": {
      "image/png": "[encoded data removed]",
      "text/plain": [
       "<Figure size 1080x648 with 1 Axes>"
      ]
     },
     "metadata": {},
     "output_type": "display_data"
    }
   ],
   "source": [
    "ax = plt.figure(figsize=(15,9))\n",
    "ax = sns.barplot(data = a.query('Nomeclaturas_drogas != \"Não informado\"'), y = 'Nomeclaturas_drogas', x = 'Usou_drogas', hue = 'Sexo', palette = 'coolwarm')\n",
    "ax.set_title('Alunos que sofreram bullying \\n Já consumiram algum tipo de droga?')\n",
    "ax.set_ylabel('Opções fornecidas aos alunos')\n",
    "ax.set_xlabel('Numero de vezes que as opções foram selecionadas')\n",
    "\n",
    "handles, labels = ax.get_legend_handles_labels()\n",
    "ax.legend(handles = handles, labels = ['Masculino', 'Feminino'], loc = \"best\", bbox_to_anchor=(1,1.007));"
   ]
  },
  {
   "cell_type": "code",
   "execution_count": 55,
   "metadata": {},
   "outputs": [
    {
     "data": {
      "text/plain": [
       "52.74"
      ]
     },
     "execution_count": 55,
     "metadata": {},
     "output_type": "execute_result"
    }
   ],
   "source": [
    "# Verificar a porcentagem de alunos que consumiram drogas em função a população que confirmou ja ter experimentado\n",
    "round((395 + 364) / 1439 * 100, 2)"
   ]
  },
  {
   "cell_type": "markdown",
   "metadata": {},
   "source": [
    "Considerando que a nossa população que confirmou ter usado algum tipo de drogas é de 1439<br> \n",
    "O total de alunos (Meninos(395) + meninas(364)) que informam ter consumido drogas é de: 759 <br>\n",
    "Isso equivale a 52.74% da nossa população de alunos que já confirmaram ter experimentado drogas, e podemos considerar este um dos fatores dominantes para que alunos procurem usar X drogas"
   ]
  }
 ],
 "metadata": {
  "kernelspec": {
   "display_name": "Python 3",
   "language": "python",
   "name": "python3"
  },
  "language_info": {
   "codemirror_mode": {
    "name": "ipython",
    "version": 3
   },
   "file_extension": ".py",
   "mimetype": "text/x-python",
   "name": "python",
   "nbconvert_exporter": "python",
   "pygments_lexer": "ipython3",
   "version": "3.7.6"
  }
 },
 "nbformat": 4,
 "nbformat_minor": 4
}
