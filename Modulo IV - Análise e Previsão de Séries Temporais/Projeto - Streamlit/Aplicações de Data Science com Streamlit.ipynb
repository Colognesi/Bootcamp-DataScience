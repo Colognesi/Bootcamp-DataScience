{
 "cells": [
  {
   "cell_type": "markdown",
   "metadata": {},
   "source": [
    "# Modulo I: Iniciando um projeto de Data Science"
   ]
  },
  {
   "cell_type": "markdown",
   "metadata": {},
   "source": [
    "## Video I"
   ]
  },
  {
   "cell_type": "code",
   "execution_count": 1,
   "metadata": {},
   "outputs": [
    {
     "name": "stdout",
     "output_type": "stream",
     "text": [
      "Collecting Streamlit\n",
      "  Downloading streamlit-0.76.0-py2.py3-none-any.whl (7.5 MB)\n",
      "Requirement already satisfied: numpy in c:\\users\\kaiqu\\anaconda3\\lib\\site-packages (from Streamlit) (1.18.1)\n",
      "Requirement already satisfied: python-dateutil in c:\\users\\kaiqu\\anaconda3\\lib\\site-packages (from Streamlit) (2.8.1)\n",
      "Requirement already satisfied: click>=7.0 in c:\\users\\kaiqu\\anaconda3\\lib\\site-packages (from Streamlit) (7.0)\n",
      "Collecting pyarrow; python_version < \"3.9\"\n",
      "  Downloading pyarrow-3.0.0-cp37-cp37m-win_amd64.whl (12.6 MB)\n",
      "Requirement already satisfied: tornado>=5.0 in c:\\users\\kaiqu\\anaconda3\\lib\\site-packages (from Streamlit) (6.0.3)\n",
      "Requirement already satisfied: pandas>=0.21.0 in c:\\users\\kaiqu\\anaconda3\\lib\\site-packages (from Streamlit) (1.0.1)\n",
      "Collecting blinker\n",
      "  Downloading blinker-1.4.tar.gz (111 kB)\n",
      "Requirement already satisfied: pillow>=6.2.0 in c:\\users\\kaiqu\\anaconda3\\lib\\site-packages (from Streamlit) (7.0.0)\n",
      "Collecting tzlocal\n",
      "  Downloading tzlocal-2.1-py2.py3-none-any.whl (16 kB)\n",
      "Collecting altair>=3.2.0\n",
      "  Downloading altair-4.1.0-py3-none-any.whl (727 kB)\n",
      "Collecting protobuf!=3.11,>=3.6.0\n",
      "  Downloading protobuf-3.14.0-cp37-cp37m-win_amd64.whl (798 kB)\n",
      "Collecting cachetools>=4.0\n",
      "  Downloading cachetools-4.2.1-py3-none-any.whl (12 kB)\n",
      "Requirement already satisfied: packaging in c:\\users\\kaiqu\\anaconda3\\lib\\site-packages (from Streamlit) (20.1)\n",
      "Collecting astor\n",
      "  Downloading astor-0.8.1-py2.py3-none-any.whl (27 kB)\n",
      "Collecting pydeck>=0.1.dev5\n",
      "  Downloading pydeck-0.6.1-py2.py3-none-any.whl (4.6 MB)\n",
      "Collecting gitpython\n",
      "  Downloading GitPython-3.1.13-py3-none-any.whl (159 kB)\n",
      "Requirement already satisfied: requests in c:\\users\\kaiqu\\anaconda3\\lib\\site-packages (from Streamlit) (2.22.0)\n",
      "Requirement already satisfied: watchdog; platform_system != \"Darwin\" in c:\\users\\kaiqu\\anaconda3\\lib\\site-packages (from Streamlit) (0.10.2)\n",
      "Collecting base58\n",
      "  Downloading base58-2.1.0-py3-none-any.whl (5.6 kB)\n",
      "Collecting toml\n",
      "  Downloading toml-0.10.2-py2.py3-none-any.whl (16 kB)\n",
      "Collecting validators\n",
      "  Downloading validators-0.18.2-py3-none-any.whl (19 kB)\n",
      "Requirement already satisfied: six>=1.5 in c:\\users\\kaiqu\\anaconda3\\lib\\site-packages (from python-dateutil->Streamlit) (1.14.0)\n",
      "Requirement already satisfied: pytz>=2017.2 in c:\\users\\kaiqu\\anaconda3\\lib\\site-packages (from pandas>=0.21.0->Streamlit) (2019.3)\n",
      "Requirement already satisfied: jsonschema in c:\\users\\kaiqu\\anaconda3\\lib\\site-packages (from altair>=3.2.0->Streamlit) (3.2.0)\n",
      "Requirement already satisfied: entrypoints in c:\\users\\kaiqu\\anaconda3\\lib\\site-packages (from altair>=3.2.0->Streamlit) (0.3)\n",
      "Requirement already satisfied: jinja2 in c:\\users\\kaiqu\\anaconda3\\lib\\site-packages (from altair>=3.2.0->Streamlit) (2.11.1)\n",
      "Requirement already satisfied: toolz in c:\\users\\kaiqu\\anaconda3\\lib\\site-packages (from altair>=3.2.0->Streamlit) (0.10.0)\n",
      "Requirement already satisfied: pyparsing>=2.0.2 in c:\\users\\kaiqu\\anaconda3\\lib\\site-packages (from packaging->Streamlit) (2.4.6)\n",
      "Requirement already satisfied: traitlets>=4.3.2 in c:\\users\\kaiqu\\anaconda3\\lib\\site-packages (from pydeck>=0.1.dev5->Streamlit) (4.3.3)\n",
      "Requirement already satisfied: ipywidgets>=7.0.0 in c:\\users\\kaiqu\\anaconda3\\lib\\site-packages (from pydeck>=0.1.dev5->Streamlit) (7.5.1)\n",
      "Requirement already satisfied: ipykernel>=5.1.2; python_version >= \"3.4\" in c:\\users\\kaiqu\\anaconda3\\lib\\site-packages (from pydeck>=0.1.dev5->Streamlit) (5.1.4)\n",
      "Collecting gitdb<5,>=4.0.1\n",
      "  Downloading gitdb-4.0.5-py3-none-any.whl (63 kB)\n",
      "Requirement already satisfied: chardet<3.1.0,>=3.0.2 in c:\\users\\kaiqu\\anaconda3\\lib\\site-packages (from requests->Streamlit) (3.0.4)\n",
      "Requirement already satisfied: certifi>=2017.4.17 in c:\\users\\kaiqu\\anaconda3\\lib\\site-packages (from requests->Streamlit) (2019.11.28)\n",
      "Requirement already satisfied: idna<2.9,>=2.5 in c:\\users\\kaiqu\\anaconda3\\lib\\site-packages (from requests->Streamlit) (2.8)\n",
      "Requirement already satisfied: urllib3!=1.25.0,!=1.25.1,<1.26,>=1.21.1 in c:\\users\\kaiqu\\anaconda3\\lib\\site-packages (from requests->Streamlit) (1.25.8)\n",
      "Requirement already satisfied: pathtools>=0.1.1 in c:\\users\\kaiqu\\anaconda3\\lib\\site-packages (from watchdog; platform_system != \"Darwin\"->Streamlit) (0.1.2)\n",
      "Requirement already satisfied: decorator>=3.4.0 in c:\\users\\kaiqu\\anaconda3\\lib\\site-packages (from validators->Streamlit) (4.4.1)\n",
      "Requirement already satisfied: attrs>=17.4.0 in c:\\users\\kaiqu\\anaconda3\\lib\\site-packages (from jsonschema->altair>=3.2.0->Streamlit) (19.3.0)\n",
      "Requirement already satisfied: setuptools in c:\\users\\kaiqu\\anaconda3\\lib\\site-packages (from jsonschema->altair>=3.2.0->Streamlit) (45.2.0.post20200210)\n",
      "Requirement already satisfied: pyrsistent>=0.14.0 in c:\\users\\kaiqu\\anaconda3\\lib\\site-packages (from jsonschema->altair>=3.2.0->Streamlit) (0.15.7)\n",
      "Requirement already satisfied: importlib-metadata; python_version < \"3.8\" in c:\\users\\kaiqu\\anaconda3\\lib\\site-packages (from jsonschema->altair>=3.2.0->Streamlit) (1.5.0)\n",
      "Requirement already satisfied: MarkupSafe>=0.23 in c:\\users\\kaiqu\\anaconda3\\lib\\site-packages (from jinja2->altair>=3.2.0->Streamlit) (1.1.1)\n",
      "Requirement already satisfied: ipython-genutils in c:\\users\\kaiqu\\anaconda3\\lib\\site-packages (from traitlets>=4.3.2->pydeck>=0.1.dev5->Streamlit) (0.2.0)\n",
      "Requirement already satisfied: nbformat>=4.2.0 in c:\\users\\kaiqu\\anaconda3\\lib\\site-packages (from ipywidgets>=7.0.0->pydeck>=0.1.dev5->Streamlit) (5.0.4)\n",
      "Requirement already satisfied: widgetsnbextension~=3.5.0 in c:\\users\\kaiqu\\anaconda3\\lib\\site-packages (from ipywidgets>=7.0.0->pydeck>=0.1.dev5->Streamlit) (3.5.1)\n",
      "Requirement already satisfied: ipython>=4.0.0; python_version >= \"3.3\" in c:\\users\\kaiqu\\anaconda3\\lib\\site-packages (from ipywidgets>=7.0.0->pydeck>=0.1.dev5->Streamlit) (7.12.0)\n",
      "Requirement already satisfied: jupyter-client in c:\\users\\kaiqu\\anaconda3\\lib\\site-packages (from ipykernel>=5.1.2; python_version >= \"3.4\"->pydeck>=0.1.dev5->Streamlit) (5.3.4)\n",
      "Collecting smmap<4,>=3.0.1\n",
      "  Downloading smmap-3.0.5-py2.py3-none-any.whl (25 kB)\n",
      "Requirement already satisfied: zipp>=0.5 in c:\\users\\kaiqu\\anaconda3\\lib\\site-packages (from importlib-metadata; python_version < \"3.8\"->jsonschema->altair>=3.2.0->Streamlit) (2.2.0)\n",
      "Requirement already satisfied: jupyter-core in c:\\users\\kaiqu\\anaconda3\\lib\\site-packages (from nbformat>=4.2.0->ipywidgets>=7.0.0->pydeck>=0.1.dev5->Streamlit) (4.6.1)\n",
      "Requirement already satisfied: notebook>=4.4.1 in c:\\users\\kaiqu\\anaconda3\\lib\\site-packages (from widgetsnbextension~=3.5.0->ipywidgets>=7.0.0->pydeck>=0.1.dev5->Streamlit) (6.0.3)\n",
      "Requirement already satisfied: pickleshare in c:\\users\\kaiqu\\anaconda3\\lib\\site-packages (from ipython>=4.0.0; python_version >= \"3.3\"->ipywidgets>=7.0.0->pydeck>=0.1.dev5->Streamlit) (0.7.5)\n",
      "Requirement already satisfied: backcall in c:\\users\\kaiqu\\anaconda3\\lib\\site-packages (from ipython>=4.0.0; python_version >= \"3.3\"->ipywidgets>=7.0.0->pydeck>=0.1.dev5->Streamlit) (0.1.0)\n",
      "Requirement already satisfied: jedi>=0.10 in c:\\users\\kaiqu\\anaconda3\\lib\\site-packages (from ipython>=4.0.0; python_version >= \"3.3\"->ipywidgets>=7.0.0->pydeck>=0.1.dev5->Streamlit) (0.14.1)\n",
      "Requirement already satisfied: pygments in c:\\users\\kaiqu\\anaconda3\\lib\\site-packages (from ipython>=4.0.0; python_version >= \"3.3\"->ipywidgets>=7.0.0->pydeck>=0.1.dev5->Streamlit) (2.5.2)\n",
      "Requirement already satisfied: colorama; sys_platform == \"win32\" in c:\\users\\kaiqu\\anaconda3\\lib\\site-packages (from ipython>=4.0.0; python_version >= \"3.3\"->ipywidgets>=7.0.0->pydeck>=0.1.dev5->Streamlit) (0.4.3)\n",
      "Requirement already satisfied: prompt-toolkit!=3.0.0,!=3.0.1,<3.1.0,>=2.0.0 in c:\\users\\kaiqu\\anaconda3\\lib\\site-packages (from ipython>=4.0.0; python_version >= \"3.3\"->ipywidgets>=7.0.0->pydeck>=0.1.dev5->Streamlit) (3.0.3)\n",
      "Requirement already satisfied: pywin32>=1.0; sys_platform == \"win32\" in c:\\users\\kaiqu\\anaconda3\\lib\\site-packages (from jupyter-client->ipykernel>=5.1.2; python_version >= \"3.4\"->pydeck>=0.1.dev5->Streamlit) (227)\n",
      "Requirement already satisfied: pyzmq>=13 in c:\\users\\kaiqu\\anaconda3\\lib\\site-packages (from jupyter-client->ipykernel>=5.1.2; python_version >= \"3.4\"->pydeck>=0.1.dev5->Streamlit) (18.1.1)\n",
      "Requirement already satisfied: prometheus-client in c:\\users\\kaiqu\\anaconda3\\lib\\site-packages (from notebook>=4.4.1->widgetsnbextension~=3.5.0->ipywidgets>=7.0.0->pydeck>=0.1.dev5->Streamlit) (0.7.1)\n",
      "Requirement already satisfied: terminado>=0.8.1 in c:\\users\\kaiqu\\anaconda3\\lib\\site-packages (from notebook>=4.4.1->widgetsnbextension~=3.5.0->ipywidgets>=7.0.0->pydeck>=0.1.dev5->Streamlit) (0.8.3)\n",
      "Requirement already satisfied: Send2Trash in c:\\users\\kaiqu\\anaconda3\\lib\\site-packages (from notebook>=4.4.1->widgetsnbextension~=3.5.0->ipywidgets>=7.0.0->pydeck>=0.1.dev5->Streamlit) (1.5.0)\n",
      "Requirement already satisfied: nbconvert in c:\\users\\kaiqu\\anaconda3\\lib\\site-packages (from notebook>=4.4.1->widgetsnbextension~=3.5.0->ipywidgets>=7.0.0->pydeck>=0.1.dev5->Streamlit) (5.6.1)\n",
      "Requirement already satisfied: parso>=0.5.0 in c:\\users\\kaiqu\\anaconda3\\lib\\site-packages (from jedi>=0.10->ipython>=4.0.0; python_version >= \"3.3\"->ipywidgets>=7.0.0->pydeck>=0.1.dev5->Streamlit) (0.5.2)\n",
      "Requirement already satisfied: wcwidth in c:\\users\\kaiqu\\anaconda3\\lib\\site-packages (from prompt-toolkit!=3.0.0,!=3.0.1,<3.1.0,>=2.0.0->ipython>=4.0.0; python_version >= \"3.3\"->ipywidgets>=7.0.0->pydeck>=0.1.dev5->Streamlit) (0.1.8)\n",
      "Requirement already satisfied: testpath in c:\\users\\kaiqu\\anaconda3\\lib\\site-packages (from nbconvert->notebook>=4.4.1->widgetsnbextension~=3.5.0->ipywidgets>=7.0.0->pydeck>=0.1.dev5->Streamlit) (0.4.4)\n",
      "Requirement already satisfied: defusedxml in c:\\users\\kaiqu\\anaconda3\\lib\\site-packages (from nbconvert->notebook>=4.4.1->widgetsnbextension~=3.5.0->ipywidgets>=7.0.0->pydeck>=0.1.dev5->Streamlit) (0.6.0)\n",
      "Requirement already satisfied: pandocfilters>=1.4.1 in c:\\users\\kaiqu\\anaconda3\\lib\\site-packages (from nbconvert->notebook>=4.4.1->widgetsnbextension~=3.5.0->ipywidgets>=7.0.0->pydeck>=0.1.dev5->Streamlit) (1.4.2)\n",
      "Requirement already satisfied: mistune<2,>=0.8.1 in c:\\users\\kaiqu\\anaconda3\\lib\\site-packages (from nbconvert->notebook>=4.4.1->widgetsnbextension~=3.5.0->ipywidgets>=7.0.0->pydeck>=0.1.dev5->Streamlit) (0.8.4)\n",
      "Requirement already satisfied: bleach in c:\\users\\kaiqu\\anaconda3\\lib\\site-packages (from nbconvert->notebook>=4.4.1->widgetsnbextension~=3.5.0->ipywidgets>=7.0.0->pydeck>=0.1.dev5->Streamlit) (3.1.0)\n",
      "Requirement already satisfied: webencodings in c:\\users\\kaiqu\\anaconda3\\lib\\site-packages (from bleach->nbconvert->notebook>=4.4.1->widgetsnbextension~=3.5.0->ipywidgets>=7.0.0->pydeck>=0.1.dev5->Streamlit) (0.5.1)\n",
      "Building wheels for collected packages: blinker\n",
      "  Building wheel for blinker (setup.py): started\n",
      "  Building wheel for blinker (setup.py): finished with status 'done'\n",
      "  Created wheel for blinker: filename=blinker-1.4-py3-none-any.whl size=13455 sha256=69685c9414ffe53610b916181178396a3095c9737619298e8909d403e9d6f867\n",
      "  Stored in directory: c:\\users\\kaiqu\\appdata\\local\\pip\\cache\\wheels\\22\\f5\\18\\df711b66eb25b21325c132757d4314db9ac5e8dabeaf196eab\n",
      "Successfully built blinker\n",
      "Installing collected packages: pyarrow, blinker, tzlocal, altair, protobuf, cachetools, astor, pydeck, smmap, gitdb, gitpython, base58, toml, validators, Streamlit\n",
      "Successfully installed Streamlit-0.76.0 altair-4.1.0 astor-0.8.1 base58-2.1.0 blinker-1.4 cachetools-4.2.1 gitdb-4.0.5 gitpython-3.1.13 protobuf-3.14.0 pyarrow-3.0.0 pydeck-0.6.1 smmap-3.0.5 toml-0.10.2 tzlocal-2.1 validators-0.18.2\n"
     ]
    }
   ],
   "source": [
    "#!pip install Streamlit"
   ]
  },
  {
   "cell_type": "code",
   "execution_count": null,
   "metadata": {},
   "outputs": [],
   "source": []
  }
 ],
 "metadata": {
  "kernelspec": {
   "display_name": "Python 3",
   "language": "python",
   "name": "python3"
  },
  "language_info": {
   "codemirror_mode": {
    "name": "ipython",
    "version": 3
   },
   "file_extension": ".py",
   "mimetype": "text/x-python",
   "name": "python",
   "nbconvert_exporter": "python",
   "pygments_lexer": "ipython3",
   "version": "3.7.6"
  }
 },
 "nbformat": 4,
 "nbformat_minor": 4
}
