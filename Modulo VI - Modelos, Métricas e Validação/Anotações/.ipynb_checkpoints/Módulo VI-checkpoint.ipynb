{
 "cells": [
  {
   "cell_type": "markdown",
   "metadata": {},
   "source": [
    "# Módulo I:\n",
    "Workflow de machine learning<br>\n",
    "\n",
    "1 - Definicao do objetivo e impacto no negocio (Para o projeto deste modulo: Detectar dentre as pessoas com suspeita de COVID, quais irão necessitar de um leito ou não). Mensurar o impacto que isso irá causar.<br>\n",
    "2 - Aquisição e transformação dos dados.(Normalização dos dados, adquirir os dados corretos)<br>\n",
    "3 - Desenvolvimento do modelo.(Parte exploratória, métricas de validação etc...)<br>\n",
    "4 - Comunicação dos resultados.(Verificar se os dados utilizados são éticos ou não, os impactos serão positivos ou negativos, etc...)<br>\n",
    "5 - Deploy e monitoramento."
   ]
  },
  {
   "cell_type": "markdown",
   "metadata": {},
   "source": [
    "## Resumo:\n",
    "Recaptulando do Módulo 5, seguir com os mesmos dados utilizados e modelos criados<br>\n",
    "Verificação do workflow para a criação de um modelo de ML<br>\n",
    "Adição de dados faltantes nas aulas passadas"
   ]
  },
  {
   "cell_type": "code",
   "execution_count": 1,
   "metadata": {},
   "outputs": [],
   "source": [
    "import pandas as pd\n",
    "import numpy as np"
   ]
  },
  {
   "cell_type": "code",
   "execution_count": 2,
   "metadata": {},
   "outputs": [
    {
     "data": {
      "text/html": [
       "<div>\n",
       "<style scoped>\n",
       "    .dataframe tbody tr th:only-of-type {\n",
       "        vertical-align: middle;\n",
       "    }\n",
       "\n",
       "    .dataframe tbody tr th {\n",
       "        vertical-align: top;\n",
       "    }\n",
       "\n",
       "    .dataframe thead th {\n",
       "        text-align: right;\n",
       "    }\n",
       "</style>\n",
       "<table border=\"1\" class=\"dataframe\">\n",
       "  <thead>\n",
       "    <tr style=\"text-align: right;\">\n",
       "      <th></th>\n",
       "      <th>PATIENT_VISIT_IDENTIFIER</th>\n",
       "      <th>AGE_ABOVE65</th>\n",
       "      <th>AGE_PERCENTIL</th>\n",
       "      <th>GENDER</th>\n",
       "      <th>DISEASE GROUPING 1</th>\n",
       "      <th>DISEASE GROUPING 2</th>\n",
       "      <th>DISEASE GROUPING 3</th>\n",
       "      <th>DISEASE GROUPING 4</th>\n",
       "      <th>DISEASE GROUPING 5</th>\n",
       "      <th>DISEASE GROUPING 6</th>\n",
       "      <th>...</th>\n",
       "      <th>TEMPERATURE_DIFF</th>\n",
       "      <th>OXYGEN_SATURATION_DIFF</th>\n",
       "      <th>BLOODPRESSURE_DIASTOLIC_DIFF_REL</th>\n",
       "      <th>BLOODPRESSURE_SISTOLIC_DIFF_REL</th>\n",
       "      <th>HEART_RATE_DIFF_REL</th>\n",
       "      <th>RESPIRATORY_RATE_DIFF_REL</th>\n",
       "      <th>TEMPERATURE_DIFF_REL</th>\n",
       "      <th>OXYGEN_SATURATION_DIFF_REL</th>\n",
       "      <th>WINDOW</th>\n",
       "      <th>ICU</th>\n",
       "    </tr>\n",
       "  </thead>\n",
       "  <tbody>\n",
       "    <tr>\n",
       "      <th>0</th>\n",
       "      <td>0</td>\n",
       "      <td>1</td>\n",
       "      <td>60th</td>\n",
       "      <td>0</td>\n",
       "      <td>0.0</td>\n",
       "      <td>0.0</td>\n",
       "      <td>0.0</td>\n",
       "      <td>0.0</td>\n",
       "      <td>1.0</td>\n",
       "      <td>1.0</td>\n",
       "      <td>...</td>\n",
       "      <td>-1.000000</td>\n",
       "      <td>-1.000000</td>\n",
       "      <td>-1.000000</td>\n",
       "      <td>-1.000000</td>\n",
       "      <td>-1.000000</td>\n",
       "      <td>-1.000000</td>\n",
       "      <td>-1.000000</td>\n",
       "      <td>-1.000000</td>\n",
       "      <td>0-2</td>\n",
       "      <td>0</td>\n",
       "    </tr>\n",
       "    <tr>\n",
       "      <th>1</th>\n",
       "      <td>0</td>\n",
       "      <td>1</td>\n",
       "      <td>60th</td>\n",
       "      <td>0</td>\n",
       "      <td>0.0</td>\n",
       "      <td>0.0</td>\n",
       "      <td>0.0</td>\n",
       "      <td>0.0</td>\n",
       "      <td>1.0</td>\n",
       "      <td>1.0</td>\n",
       "      <td>...</td>\n",
       "      <td>-1.000000</td>\n",
       "      <td>-1.000000</td>\n",
       "      <td>-1.000000</td>\n",
       "      <td>-1.000000</td>\n",
       "      <td>-1.000000</td>\n",
       "      <td>-1.000000</td>\n",
       "      <td>-1.000000</td>\n",
       "      <td>-1.000000</td>\n",
       "      <td>2-4</td>\n",
       "      <td>0</td>\n",
       "    </tr>\n",
       "    <tr>\n",
       "      <th>2</th>\n",
       "      <td>0</td>\n",
       "      <td>1</td>\n",
       "      <td>60th</td>\n",
       "      <td>0</td>\n",
       "      <td>0.0</td>\n",
       "      <td>0.0</td>\n",
       "      <td>0.0</td>\n",
       "      <td>0.0</td>\n",
       "      <td>1.0</td>\n",
       "      <td>1.0</td>\n",
       "      <td>...</td>\n",
       "      <td>NaN</td>\n",
       "      <td>NaN</td>\n",
       "      <td>NaN</td>\n",
       "      <td>NaN</td>\n",
       "      <td>NaN</td>\n",
       "      <td>NaN</td>\n",
       "      <td>NaN</td>\n",
       "      <td>NaN</td>\n",
       "      <td>4-6</td>\n",
       "      <td>0</td>\n",
       "    </tr>\n",
       "    <tr>\n",
       "      <th>3</th>\n",
       "      <td>0</td>\n",
       "      <td>1</td>\n",
       "      <td>60th</td>\n",
       "      <td>0</td>\n",
       "      <td>0.0</td>\n",
       "      <td>0.0</td>\n",
       "      <td>0.0</td>\n",
       "      <td>0.0</td>\n",
       "      <td>1.0</td>\n",
       "      <td>1.0</td>\n",
       "      <td>...</td>\n",
       "      <td>-1.000000</td>\n",
       "      <td>-1.000000</td>\n",
       "      <td>NaN</td>\n",
       "      <td>NaN</td>\n",
       "      <td>NaN</td>\n",
       "      <td>NaN</td>\n",
       "      <td>-1.000000</td>\n",
       "      <td>-1.000000</td>\n",
       "      <td>6-12</td>\n",
       "      <td>0</td>\n",
       "    </tr>\n",
       "    <tr>\n",
       "      <th>4</th>\n",
       "      <td>0</td>\n",
       "      <td>1</td>\n",
       "      <td>60th</td>\n",
       "      <td>0</td>\n",
       "      <td>0.0</td>\n",
       "      <td>0.0</td>\n",
       "      <td>0.0</td>\n",
       "      <td>0.0</td>\n",
       "      <td>1.0</td>\n",
       "      <td>1.0</td>\n",
       "      <td>...</td>\n",
       "      <td>-0.238095</td>\n",
       "      <td>-0.818182</td>\n",
       "      <td>-0.389967</td>\n",
       "      <td>0.407558</td>\n",
       "      <td>-0.230462</td>\n",
       "      <td>0.096774</td>\n",
       "      <td>-0.242282</td>\n",
       "      <td>-0.814433</td>\n",
       "      <td>ABOVE_12</td>\n",
       "      <td>1</td>\n",
       "    </tr>\n",
       "  </tbody>\n",
       "</table>\n",
       "<p>5 rows × 231 columns</p>\n",
       "</div>"
      ],
      "text/plain": [
       "   PATIENT_VISIT_IDENTIFIER  AGE_ABOVE65 AGE_PERCENTIL  GENDER  \\\n",
       "0                         0            1          60th       0   \n",
       "1                         0            1          60th       0   \n",
       "2                         0            1          60th       0   \n",
       "3                         0            1          60th       0   \n",
       "4                         0            1          60th       0   \n",
       "\n",
       "   DISEASE GROUPING 1  DISEASE GROUPING 2  DISEASE GROUPING 3  \\\n",
       "0                 0.0                 0.0                 0.0   \n",
       "1                 0.0                 0.0                 0.0   \n",
       "2                 0.0                 0.0                 0.0   \n",
       "3                 0.0                 0.0                 0.0   \n",
       "4                 0.0                 0.0                 0.0   \n",
       "\n",
       "   DISEASE GROUPING 4  DISEASE GROUPING 5  DISEASE GROUPING 6  ...  \\\n",
       "0                 0.0                 1.0                 1.0  ...   \n",
       "1                 0.0                 1.0                 1.0  ...   \n",
       "2                 0.0                 1.0                 1.0  ...   \n",
       "3                 0.0                 1.0                 1.0  ...   \n",
       "4                 0.0                 1.0                 1.0  ...   \n",
       "\n",
       "   TEMPERATURE_DIFF  OXYGEN_SATURATION_DIFF  BLOODPRESSURE_DIASTOLIC_DIFF_REL  \\\n",
       "0         -1.000000               -1.000000                         -1.000000   \n",
       "1         -1.000000               -1.000000                         -1.000000   \n",
       "2               NaN                     NaN                               NaN   \n",
       "3         -1.000000               -1.000000                               NaN   \n",
       "4         -0.238095               -0.818182                         -0.389967   \n",
       "\n",
       "   BLOODPRESSURE_SISTOLIC_DIFF_REL  HEART_RATE_DIFF_REL  \\\n",
       "0                        -1.000000            -1.000000   \n",
       "1                        -1.000000            -1.000000   \n",
       "2                              NaN                  NaN   \n",
       "3                              NaN                  NaN   \n",
       "4                         0.407558            -0.230462   \n",
       "\n",
       "   RESPIRATORY_RATE_DIFF_REL  TEMPERATURE_DIFF_REL  \\\n",
       "0                  -1.000000             -1.000000   \n",
       "1                  -1.000000             -1.000000   \n",
       "2                        NaN                   NaN   \n",
       "3                        NaN             -1.000000   \n",
       "4                   0.096774             -0.242282   \n",
       "\n",
       "   OXYGEN_SATURATION_DIFF_REL    WINDOW  ICU  \n",
       "0                   -1.000000       0-2    0  \n",
       "1                   -1.000000       2-4    0  \n",
       "2                         NaN       4-6    0  \n",
       "3                   -1.000000      6-12    0  \n",
       "4                   -0.814433  ABOVE_12    1  \n",
       "\n",
       "[5 rows x 231 columns]"
      ]
     },
     "execution_count": 2,
     "metadata": {},
     "output_type": "execute_result"
    }
   ],
   "source": [
    "dados = pd.read_excel('..\\Dados\\Kaggle_Sirio_Libanes_ICU_Prediction.xlsx')\n",
    "dados.head()"
   ]
  },
  {
   "cell_type": "code",
   "execution_count": 3,
   "metadata": {},
   "outputs": [],
   "source": [
    "def preenche_tabela(dados):\n",
    "    features_continuas_colunas = dados.iloc[:, 13:-2].columns\n",
    "    features_continuas = dados.groupby('PATIENT_VISIT_IDENTIFIER', as_index = False)[features_continuas_colunas].fillna(method = 'bfill').fillna(method = 'ffill')\n",
    "    features_categoricas = dados.iloc[:, :13]\n",
    "    saida = dados.iloc[:, -2:]\n",
    "    dados_finais = pd.concat([features_categoricas, features_continuas, saida], ignore_index = True, axis = 1)\n",
    "    dados_finais.columns = dados.columns\n",
    "    return dados_finais"
   ]
  },
  {
   "cell_type": "code",
   "execution_count": 4,
   "metadata": {},
   "outputs": [],
   "source": [
    "dados_limpos = preenche_tabela(dados)\n",
    "a_remover = dados_limpos.query('WINDOW==\"0-2\" and ICU == 1')['PATIENT_VISIT_IDENTIFIER'].values"
   ]
  },
  {
   "cell_type": "code",
   "execution_count": 5,
   "metadata": {},
   "outputs": [
    {
     "data": {
      "text/html": [
       "<div>\n",
       "<style scoped>\n",
       "    .dataframe tbody tr th:only-of-type {\n",
       "        vertical-align: middle;\n",
       "    }\n",
       "\n",
       "    .dataframe tbody tr th {\n",
       "        vertical-align: top;\n",
       "    }\n",
       "\n",
       "    .dataframe thead th {\n",
       "        text-align: right;\n",
       "    }\n",
       "</style>\n",
       "<table border=\"1\" class=\"dataframe\">\n",
       "  <thead>\n",
       "    <tr style=\"text-align: right;\">\n",
       "      <th></th>\n",
       "      <th>PATIENT_VISIT_IDENTIFIER</th>\n",
       "      <th>AGE_ABOVE65</th>\n",
       "      <th>GENDER</th>\n",
       "      <th>DISEASE GROUPING 1</th>\n",
       "      <th>DISEASE GROUPING 2</th>\n",
       "      <th>DISEASE GROUPING 3</th>\n",
       "      <th>DISEASE GROUPING 4</th>\n",
       "      <th>DISEASE GROUPING 5</th>\n",
       "      <th>DISEASE GROUPING 6</th>\n",
       "      <th>HTN</th>\n",
       "      <th>...</th>\n",
       "      <th>RESPIRATORY_RATE_DIFF</th>\n",
       "      <th>TEMPERATURE_DIFF</th>\n",
       "      <th>OXYGEN_SATURATION_DIFF</th>\n",
       "      <th>BLOODPRESSURE_DIASTOLIC_DIFF_REL</th>\n",
       "      <th>BLOODPRESSURE_SISTOLIC_DIFF_REL</th>\n",
       "      <th>HEART_RATE_DIFF_REL</th>\n",
       "      <th>RESPIRATORY_RATE_DIFF_REL</th>\n",
       "      <th>TEMPERATURE_DIFF_REL</th>\n",
       "      <th>OXYGEN_SATURATION_DIFF_REL</th>\n",
       "      <th>ICU</th>\n",
       "    </tr>\n",
       "  </thead>\n",
       "  <tbody>\n",
       "    <tr>\n",
       "      <th>count</th>\n",
       "      <td>1760.000000</td>\n",
       "      <td>1760.000000</td>\n",
       "      <td>1760.000000</td>\n",
       "      <td>1760.00000</td>\n",
       "      <td>1760.000000</td>\n",
       "      <td>1760.000000</td>\n",
       "      <td>1760.000000</td>\n",
       "      <td>1760.000000</td>\n",
       "      <td>1760.000000</td>\n",
       "      <td>1760.000000</td>\n",
       "      <td>...</td>\n",
       "      <td>1760.000000</td>\n",
       "      <td>1760.000000</td>\n",
       "      <td>1760.000000</td>\n",
       "      <td>1760.000000</td>\n",
       "      <td>1760.000000</td>\n",
       "      <td>1760.000000</td>\n",
       "      <td>1760.000000</td>\n",
       "      <td>1760.000000</td>\n",
       "      <td>1760.000000</td>\n",
       "      <td>1760.000000</td>\n",
       "    </tr>\n",
       "    <tr>\n",
       "      <th>mean</th>\n",
       "      <td>192.818182</td>\n",
       "      <td>0.457386</td>\n",
       "      <td>0.380682</td>\n",
       "      <td>0.11250</td>\n",
       "      <td>0.026136</td>\n",
       "      <td>0.101705</td>\n",
       "      <td>0.021591</td>\n",
       "      <td>0.132955</td>\n",
       "      <td>0.049432</td>\n",
       "      <td>0.212500</td>\n",
       "      <td>...</td>\n",
       "      <td>-0.778209</td>\n",
       "      <td>-0.823458</td>\n",
       "      <td>-0.915593</td>\n",
       "      <td>-0.828593</td>\n",
       "      <td>-0.774857</td>\n",
       "      <td>-0.854690</td>\n",
       "      <td>-0.788155</td>\n",
       "      <td>-0.824412</td>\n",
       "      <td>-0.915552</td>\n",
       "      <td>0.201705</td>\n",
       "    </tr>\n",
       "    <tr>\n",
       "      <th>std</th>\n",
       "      <td>110.637724</td>\n",
       "      <td>0.498322</td>\n",
       "      <td>0.485692</td>\n",
       "      <td>0.31607</td>\n",
       "      <td>0.159586</td>\n",
       "      <td>0.302345</td>\n",
       "      <td>0.145385</td>\n",
       "      <td>0.339622</td>\n",
       "      <td>0.216829</td>\n",
       "      <td>0.409193</td>\n",
       "      <td>...</td>\n",
       "      <td>0.411909</td>\n",
       "      <td>0.276279</td>\n",
       "      <td>0.247695</td>\n",
       "      <td>0.287696</td>\n",
       "      <td>0.368311</td>\n",
       "      <td>0.240338</td>\n",
       "      <td>0.384405</td>\n",
       "      <td>0.274953</td>\n",
       "      <td>0.248093</td>\n",
       "      <td>0.401387</td>\n",
       "    </tr>\n",
       "    <tr>\n",
       "      <th>min</th>\n",
       "      <td>0.000000</td>\n",
       "      <td>0.000000</td>\n",
       "      <td>0.000000</td>\n",
       "      <td>0.00000</td>\n",
       "      <td>0.000000</td>\n",
       "      <td>0.000000</td>\n",
       "      <td>0.000000</td>\n",
       "      <td>0.000000</td>\n",
       "      <td>0.000000</td>\n",
       "      <td>0.000000</td>\n",
       "      <td>...</td>\n",
       "      <td>-1.000000</td>\n",
       "      <td>-1.000000</td>\n",
       "      <td>-1.000000</td>\n",
       "      <td>-1.000000</td>\n",
       "      <td>-1.000000</td>\n",
       "      <td>-1.000000</td>\n",
       "      <td>-1.000000</td>\n",
       "      <td>-1.000000</td>\n",
       "      <td>-1.000000</td>\n",
       "      <td>0.000000</td>\n",
       "    </tr>\n",
       "    <tr>\n",
       "      <th>25%</th>\n",
       "      <td>97.750000</td>\n",
       "      <td>0.000000</td>\n",
       "      <td>0.000000</td>\n",
       "      <td>0.00000</td>\n",
       "      <td>0.000000</td>\n",
       "      <td>0.000000</td>\n",
       "      <td>0.000000</td>\n",
       "      <td>0.000000</td>\n",
       "      <td>0.000000</td>\n",
       "      <td>0.000000</td>\n",
       "      <td>...</td>\n",
       "      <td>-1.000000</td>\n",
       "      <td>-1.000000</td>\n",
       "      <td>-1.000000</td>\n",
       "      <td>-1.000000</td>\n",
       "      <td>-1.000000</td>\n",
       "      <td>-1.000000</td>\n",
       "      <td>-1.000000</td>\n",
       "      <td>-1.000000</td>\n",
       "      <td>-1.000000</td>\n",
       "      <td>0.000000</td>\n",
       "    </tr>\n",
       "    <tr>\n",
       "      <th>50%</th>\n",
       "      <td>191.500000</td>\n",
       "      <td>0.000000</td>\n",
       "      <td>0.000000</td>\n",
       "      <td>0.00000</td>\n",
       "      <td>0.000000</td>\n",
       "      <td>0.000000</td>\n",
       "      <td>0.000000</td>\n",
       "      <td>0.000000</td>\n",
       "      <td>0.000000</td>\n",
       "      <td>0.000000</td>\n",
       "      <td>...</td>\n",
       "      <td>-1.000000</td>\n",
       "      <td>-1.000000</td>\n",
       "      <td>-1.000000</td>\n",
       "      <td>-1.000000</td>\n",
       "      <td>-1.000000</td>\n",
       "      <td>-1.000000</td>\n",
       "      <td>-1.000000</td>\n",
       "      <td>-1.000000</td>\n",
       "      <td>-1.000000</td>\n",
       "      <td>0.000000</td>\n",
       "    </tr>\n",
       "    <tr>\n",
       "      <th>75%</th>\n",
       "      <td>289.250000</td>\n",
       "      <td>1.000000</td>\n",
       "      <td>1.000000</td>\n",
       "      <td>0.00000</td>\n",
       "      <td>0.000000</td>\n",
       "      <td>0.000000</td>\n",
       "      <td>0.000000</td>\n",
       "      <td>0.000000</td>\n",
       "      <td>0.000000</td>\n",
       "      <td>0.000000</td>\n",
       "      <td>...</td>\n",
       "      <td>-0.764706</td>\n",
       "      <td>-0.738095</td>\n",
       "      <td>-0.919192</td>\n",
       "      <td>-0.726087</td>\n",
       "      <td>-0.651942</td>\n",
       "      <td>-0.771625</td>\n",
       "      <td>-0.756272</td>\n",
       "      <td>-0.736640</td>\n",
       "      <td>-0.920103</td>\n",
       "      <td>0.000000</td>\n",
       "    </tr>\n",
       "    <tr>\n",
       "      <th>max</th>\n",
       "      <td>384.000000</td>\n",
       "      <td>1.000000</td>\n",
       "      <td>1.000000</td>\n",
       "      <td>1.00000</td>\n",
       "      <td>1.000000</td>\n",
       "      <td>1.000000</td>\n",
       "      <td>1.000000</td>\n",
       "      <td>1.000000</td>\n",
       "      <td>1.000000</td>\n",
       "      <td>1.000000</td>\n",
       "      <td>...</td>\n",
       "      <td>1.000000</td>\n",
       "      <td>0.333333</td>\n",
       "      <td>1.000000</td>\n",
       "      <td>1.000000</td>\n",
       "      <td>1.000000</td>\n",
       "      <td>1.000000</td>\n",
       "      <td>1.000000</td>\n",
       "      <td>0.329660</td>\n",
       "      <td>1.000000</td>\n",
       "      <td>1.000000</td>\n",
       "    </tr>\n",
       "  </tbody>\n",
       "</table>\n",
       "<p>8 rows × 229 columns</p>\n",
       "</div>"
      ],
      "text/plain": [
       "       PATIENT_VISIT_IDENTIFIER  AGE_ABOVE65       GENDER  DISEASE GROUPING 1  \\\n",
       "count               1760.000000  1760.000000  1760.000000          1760.00000   \n",
       "mean                 192.818182     0.457386     0.380682             0.11250   \n",
       "std                  110.637724     0.498322     0.485692             0.31607   \n",
       "min                    0.000000     0.000000     0.000000             0.00000   \n",
       "25%                   97.750000     0.000000     0.000000             0.00000   \n",
       "50%                  191.500000     0.000000     0.000000             0.00000   \n",
       "75%                  289.250000     1.000000     1.000000             0.00000   \n",
       "max                  384.000000     1.000000     1.000000             1.00000   \n",
       "\n",
       "       DISEASE GROUPING 2  DISEASE GROUPING 3  DISEASE GROUPING 4  \\\n",
       "count         1760.000000         1760.000000         1760.000000   \n",
       "mean             0.026136            0.101705            0.021591   \n",
       "std              0.159586            0.302345            0.145385   \n",
       "min              0.000000            0.000000            0.000000   \n",
       "25%              0.000000            0.000000            0.000000   \n",
       "50%              0.000000            0.000000            0.000000   \n",
       "75%              0.000000            0.000000            0.000000   \n",
       "max              1.000000            1.000000            1.000000   \n",
       "\n",
       "       DISEASE GROUPING 5  DISEASE GROUPING 6          HTN  ...  \\\n",
       "count         1760.000000         1760.000000  1760.000000  ...   \n",
       "mean             0.132955            0.049432     0.212500  ...   \n",
       "std              0.339622            0.216829     0.409193  ...   \n",
       "min              0.000000            0.000000     0.000000  ...   \n",
       "25%              0.000000            0.000000     0.000000  ...   \n",
       "50%              0.000000            0.000000     0.000000  ...   \n",
       "75%              0.000000            0.000000     0.000000  ...   \n",
       "max              1.000000            1.000000     1.000000  ...   \n",
       "\n",
       "       RESPIRATORY_RATE_DIFF  TEMPERATURE_DIFF  OXYGEN_SATURATION_DIFF  \\\n",
       "count            1760.000000       1760.000000             1760.000000   \n",
       "mean               -0.778209         -0.823458               -0.915593   \n",
       "std                 0.411909          0.276279                0.247695   \n",
       "min                -1.000000         -1.000000               -1.000000   \n",
       "25%                -1.000000         -1.000000               -1.000000   \n",
       "50%                -1.000000         -1.000000               -1.000000   \n",
       "75%                -0.764706         -0.738095               -0.919192   \n",
       "max                 1.000000          0.333333                1.000000   \n",
       "\n",
       "       BLOODPRESSURE_DIASTOLIC_DIFF_REL  BLOODPRESSURE_SISTOLIC_DIFF_REL  \\\n",
       "count                       1760.000000                      1760.000000   \n",
       "mean                          -0.828593                        -0.774857   \n",
       "std                            0.287696                         0.368311   \n",
       "min                           -1.000000                        -1.000000   \n",
       "25%                           -1.000000                        -1.000000   \n",
       "50%                           -1.000000                        -1.000000   \n",
       "75%                           -0.726087                        -0.651942   \n",
       "max                            1.000000                         1.000000   \n",
       "\n",
       "       HEART_RATE_DIFF_REL  RESPIRATORY_RATE_DIFF_REL  TEMPERATURE_DIFF_REL  \\\n",
       "count          1760.000000                1760.000000           1760.000000   \n",
       "mean             -0.854690                  -0.788155             -0.824412   \n",
       "std               0.240338                   0.384405              0.274953   \n",
       "min              -1.000000                  -1.000000             -1.000000   \n",
       "25%              -1.000000                  -1.000000             -1.000000   \n",
       "50%              -1.000000                  -1.000000             -1.000000   \n",
       "75%              -0.771625                  -0.756272             -0.736640   \n",
       "max               1.000000                   1.000000              0.329660   \n",
       "\n",
       "       OXYGEN_SATURATION_DIFF_REL          ICU  \n",
       "count                 1760.000000  1760.000000  \n",
       "mean                    -0.915552     0.201705  \n",
       "std                      0.248093     0.401387  \n",
       "min                     -1.000000     0.000000  \n",
       "25%                     -1.000000     0.000000  \n",
       "50%                     -1.000000     0.000000  \n",
       "75%                     -0.920103     0.000000  \n",
       "max                      1.000000     1.000000  \n",
       "\n",
       "[8 rows x 229 columns]"
      ]
     },
     "execution_count": 5,
     "metadata": {},
     "output_type": "execute_result"
    }
   ],
   "source": [
    "dados_limpos = dados_limpos.query('PATIENT_VISIT_IDENTIFIER not in @a_remover')\n",
    "dados_limpos = dados_limpos.dropna()\n",
    "dados_limpos.describe()"
   ]
  },
  {
   "cell_type": "code",
   "execution_count": 6,
   "metadata": {},
   "outputs": [
    {
     "data": {
      "text/html": [
       "<div>\n",
       "<style scoped>\n",
       "    .dataframe tbody tr th:only-of-type {\n",
       "        vertical-align: middle;\n",
       "    }\n",
       "\n",
       "    .dataframe tbody tr th {\n",
       "        vertical-align: top;\n",
       "    }\n",
       "\n",
       "    .dataframe thead th {\n",
       "        text-align: right;\n",
       "    }\n",
       "</style>\n",
       "<table border=\"1\" class=\"dataframe\">\n",
       "  <thead>\n",
       "    <tr style=\"text-align: right;\">\n",
       "      <th></th>\n",
       "      <th></th>\n",
       "      <th>PATIENT_VISIT_IDENTIFIER</th>\n",
       "      <th>AGE_ABOVE65</th>\n",
       "      <th>AGE_PERCENTIL</th>\n",
       "      <th>GENDER</th>\n",
       "      <th>DISEASE GROUPING 1</th>\n",
       "      <th>DISEASE GROUPING 2</th>\n",
       "      <th>DISEASE GROUPING 3</th>\n",
       "      <th>DISEASE GROUPING 4</th>\n",
       "      <th>DISEASE GROUPING 5</th>\n",
       "      <th>DISEASE GROUPING 6</th>\n",
       "      <th>...</th>\n",
       "      <th>TEMPERATURE_DIFF</th>\n",
       "      <th>OXYGEN_SATURATION_DIFF</th>\n",
       "      <th>BLOODPRESSURE_DIASTOLIC_DIFF_REL</th>\n",
       "      <th>BLOODPRESSURE_SISTOLIC_DIFF_REL</th>\n",
       "      <th>HEART_RATE_DIFF_REL</th>\n",
       "      <th>RESPIRATORY_RATE_DIFF_REL</th>\n",
       "      <th>TEMPERATURE_DIFF_REL</th>\n",
       "      <th>OXYGEN_SATURATION_DIFF_REL</th>\n",
       "      <th>WINDOW</th>\n",
       "      <th>ICU</th>\n",
       "    </tr>\n",
       "    <tr>\n",
       "      <th>PATIENT_VISIT_IDENTIFIER</th>\n",
       "      <th></th>\n",
       "      <th></th>\n",
       "      <th></th>\n",
       "      <th></th>\n",
       "      <th></th>\n",
       "      <th></th>\n",
       "      <th></th>\n",
       "      <th></th>\n",
       "      <th></th>\n",
       "      <th></th>\n",
       "      <th></th>\n",
       "      <th></th>\n",
       "      <th></th>\n",
       "      <th></th>\n",
       "      <th></th>\n",
       "      <th></th>\n",
       "      <th></th>\n",
       "      <th></th>\n",
       "      <th></th>\n",
       "      <th></th>\n",
       "      <th></th>\n",
       "      <th></th>\n",
       "    </tr>\n",
       "  </thead>\n",
       "  <tbody>\n",
       "    <tr>\n",
       "      <th>0</th>\n",
       "      <th>0</th>\n",
       "      <td>0</td>\n",
       "      <td>1</td>\n",
       "      <td>60th</td>\n",
       "      <td>0</td>\n",
       "      <td>0.0</td>\n",
       "      <td>0.0</td>\n",
       "      <td>0.0</td>\n",
       "      <td>0.0</td>\n",
       "      <td>1.0</td>\n",
       "      <td>1.0</td>\n",
       "      <td>...</td>\n",
       "      <td>-1.000000</td>\n",
       "      <td>-1.000000</td>\n",
       "      <td>-1.000000</td>\n",
       "      <td>-1.000000</td>\n",
       "      <td>-1.000000</td>\n",
       "      <td>-1.000000</td>\n",
       "      <td>-1.000000</td>\n",
       "      <td>-1.000000</td>\n",
       "      <td>0-2</td>\n",
       "      <td>1</td>\n",
       "    </tr>\n",
       "    <tr>\n",
       "      <th>2</th>\n",
       "      <th>10</th>\n",
       "      <td>2</td>\n",
       "      <td>0</td>\n",
       "      <td>10th</td>\n",
       "      <td>0</td>\n",
       "      <td>0.0</td>\n",
       "      <td>0.0</td>\n",
       "      <td>0.0</td>\n",
       "      <td>0.0</td>\n",
       "      <td>0.0</td>\n",
       "      <td>0.0</td>\n",
       "      <td>...</td>\n",
       "      <td>-1.000000</td>\n",
       "      <td>-0.959596</td>\n",
       "      <td>-0.515528</td>\n",
       "      <td>-0.351328</td>\n",
       "      <td>-0.747001</td>\n",
       "      <td>-0.756272</td>\n",
       "      <td>-1.000000</td>\n",
       "      <td>-0.961262</td>\n",
       "      <td>0-2</td>\n",
       "      <td>1</td>\n",
       "    </tr>\n",
       "    <tr>\n",
       "      <th>3</th>\n",
       "      <th>15</th>\n",
       "      <td>3</td>\n",
       "      <td>0</td>\n",
       "      <td>40th</td>\n",
       "      <td>1</td>\n",
       "      <td>0.0</td>\n",
       "      <td>0.0</td>\n",
       "      <td>0.0</td>\n",
       "      <td>0.0</td>\n",
       "      <td>0.0</td>\n",
       "      <td>0.0</td>\n",
       "      <td>...</td>\n",
       "      <td>-1.000000</td>\n",
       "      <td>-1.000000</td>\n",
       "      <td>-1.000000</td>\n",
       "      <td>-1.000000</td>\n",
       "      <td>-1.000000</td>\n",
       "      <td>-1.000000</td>\n",
       "      <td>-1.000000</td>\n",
       "      <td>-1.000000</td>\n",
       "      <td>0-2</td>\n",
       "      <td>0</td>\n",
       "    </tr>\n",
       "    <tr>\n",
       "      <th>4</th>\n",
       "      <th>20</th>\n",
       "      <td>4</td>\n",
       "      <td>0</td>\n",
       "      <td>10th</td>\n",
       "      <td>0</td>\n",
       "      <td>0.0</td>\n",
       "      <td>0.0</td>\n",
       "      <td>0.0</td>\n",
       "      <td>0.0</td>\n",
       "      <td>0.0</td>\n",
       "      <td>0.0</td>\n",
       "      <td>...</td>\n",
       "      <td>-0.952381</td>\n",
       "      <td>-0.979798</td>\n",
       "      <td>-1.000000</td>\n",
       "      <td>-0.883669</td>\n",
       "      <td>-0.956805</td>\n",
       "      <td>-0.870968</td>\n",
       "      <td>-0.953536</td>\n",
       "      <td>-0.980333</td>\n",
       "      <td>0-2</td>\n",
       "      <td>0</td>\n",
       "    </tr>\n",
       "    <tr>\n",
       "      <th>5</th>\n",
       "      <th>25</th>\n",
       "      <td>5</td>\n",
       "      <td>0</td>\n",
       "      <td>10th</td>\n",
       "      <td>0</td>\n",
       "      <td>0.0</td>\n",
       "      <td>0.0</td>\n",
       "      <td>0.0</td>\n",
       "      <td>0.0</td>\n",
       "      <td>0.0</td>\n",
       "      <td>0.0</td>\n",
       "      <td>...</td>\n",
       "      <td>-0.976190</td>\n",
       "      <td>-0.979798</td>\n",
       "      <td>-0.860870</td>\n",
       "      <td>-0.714460</td>\n",
       "      <td>-0.986481</td>\n",
       "      <td>-1.000000</td>\n",
       "      <td>-0.975891</td>\n",
       "      <td>-0.980129</td>\n",
       "      <td>0-2</td>\n",
       "      <td>0</td>\n",
       "    </tr>\n",
       "  </tbody>\n",
       "</table>\n",
       "<p>5 rows × 231 columns</p>\n",
       "</div>"
      ],
      "text/plain": [
       "                             PATIENT_VISIT_IDENTIFIER  AGE_ABOVE65  \\\n",
       "PATIENT_VISIT_IDENTIFIER                                             \n",
       "0                        0                          0            1   \n",
       "2                        10                         2            0   \n",
       "3                        15                         3            0   \n",
       "4                        20                         4            0   \n",
       "5                        25                         5            0   \n",
       "\n",
       "                            AGE_PERCENTIL  GENDER  DISEASE GROUPING 1  \\\n",
       "PATIENT_VISIT_IDENTIFIER                                                \n",
       "0                        0           60th       0                 0.0   \n",
       "2                        10          10th       0                 0.0   \n",
       "3                        15          40th       1                 0.0   \n",
       "4                        20          10th       0                 0.0   \n",
       "5                        25          10th       0                 0.0   \n",
       "\n",
       "                             DISEASE GROUPING 2  DISEASE GROUPING 3  \\\n",
       "PATIENT_VISIT_IDENTIFIER                                              \n",
       "0                        0                  0.0                 0.0   \n",
       "2                        10                 0.0                 0.0   \n",
       "3                        15                 0.0                 0.0   \n",
       "4                        20                 0.0                 0.0   \n",
       "5                        25                 0.0                 0.0   \n",
       "\n",
       "                             DISEASE GROUPING 4  DISEASE GROUPING 5  \\\n",
       "PATIENT_VISIT_IDENTIFIER                                              \n",
       "0                        0                  0.0                 1.0   \n",
       "2                        10                 0.0                 0.0   \n",
       "3                        15                 0.0                 0.0   \n",
       "4                        20                 0.0                 0.0   \n",
       "5                        25                 0.0                 0.0   \n",
       "\n",
       "                             DISEASE GROUPING 6  ...  TEMPERATURE_DIFF  \\\n",
       "PATIENT_VISIT_IDENTIFIER                         ...                     \n",
       "0                        0                  1.0  ...         -1.000000   \n",
       "2                        10                 0.0  ...         -1.000000   \n",
       "3                        15                 0.0  ...         -1.000000   \n",
       "4                        20                 0.0  ...         -0.952381   \n",
       "5                        25                 0.0  ...         -0.976190   \n",
       "\n",
       "                             OXYGEN_SATURATION_DIFF  \\\n",
       "PATIENT_VISIT_IDENTIFIER                              \n",
       "0                        0                -1.000000   \n",
       "2                        10               -0.959596   \n",
       "3                        15               -1.000000   \n",
       "4                        20               -0.979798   \n",
       "5                        25               -0.979798   \n",
       "\n",
       "                             BLOODPRESSURE_DIASTOLIC_DIFF_REL  \\\n",
       "PATIENT_VISIT_IDENTIFIER                                        \n",
       "0                        0                          -1.000000   \n",
       "2                        10                         -0.515528   \n",
       "3                        15                         -1.000000   \n",
       "4                        20                         -1.000000   \n",
       "5                        25                         -0.860870   \n",
       "\n",
       "                             BLOODPRESSURE_SISTOLIC_DIFF_REL  \\\n",
       "PATIENT_VISIT_IDENTIFIER                                       \n",
       "0                        0                         -1.000000   \n",
       "2                        10                        -0.351328   \n",
       "3                        15                        -1.000000   \n",
       "4                        20                        -0.883669   \n",
       "5                        25                        -0.714460   \n",
       "\n",
       "                             HEART_RATE_DIFF_REL  RESPIRATORY_RATE_DIFF_REL  \\\n",
       "PATIENT_VISIT_IDENTIFIER                                                      \n",
       "0                        0             -1.000000                  -1.000000   \n",
       "2                        10            -0.747001                  -0.756272   \n",
       "3                        15            -1.000000                  -1.000000   \n",
       "4                        20            -0.956805                  -0.870968   \n",
       "5                        25            -0.986481                  -1.000000   \n",
       "\n",
       "                             TEMPERATURE_DIFF_REL  OXYGEN_SATURATION_DIFF_REL  \\\n",
       "PATIENT_VISIT_IDENTIFIER                                                        \n",
       "0                        0              -1.000000                   -1.000000   \n",
       "2                        10             -1.000000                   -0.961262   \n",
       "3                        15             -1.000000                   -1.000000   \n",
       "4                        20             -0.953536                   -0.980333   \n",
       "5                        25             -0.975891                   -0.980129   \n",
       "\n",
       "                             WINDOW  ICU  \n",
       "PATIENT_VISIT_IDENTIFIER                  \n",
       "0                        0      0-2    1  \n",
       "2                        10     0-2    1  \n",
       "3                        15     0-2    0  \n",
       "4                        20     0-2    0  \n",
       "5                        25     0-2    0  \n",
       "\n",
       "[5 rows x 231 columns]"
      ]
     },
     "execution_count": 6,
     "metadata": {},
     "output_type": "execute_result"
    }
   ],
   "source": [
    "def prepare_windows(rows):\n",
    "    if (np.any(rows['ICU'])):\n",
    "        rows.loc[rows['WINDOW'] == '0-2', 'ICU'] = 1\n",
    "    return rows.loc[rows['WINDOW'] == '0-2']\n",
    "\n",
    "dados_limpos = dados_limpos.groupby('PATIENT_VISIT_IDENTIFIER').apply(prepare_windows)\n",
    "dados_limpos.head()"
   ]
  },
  {
   "cell_type": "markdown",
   "metadata": {},
   "source": [
    "#### Recriação dos modelos utilizados"
   ]
  },
  {
   "cell_type": "code",
   "execution_count": 7,
   "metadata": {},
   "outputs": [],
   "source": [
    "from sklearn.model_selection import train_test_split\n",
    "from sklearn.linear_model import LogisticRegression\n",
    "from sklearn.dummy import DummyClassifier\n",
    "from sklearn.metrics import accuracy_score"
   ]
  },
  {
   "cell_type": "code",
   "execution_count": 8,
   "metadata": {},
   "outputs": [],
   "source": [
    "# Setar seed aleatória\n",
    "np.random.seed(73246)"
   ]
  },
  {
   "cell_type": "markdown",
   "metadata": {},
   "source": [
    "#### Correção linha 14"
   ]
  },
  {
   "cell_type": "code",
   "execution_count": 9,
   "metadata": {},
   "outputs": [],
   "source": [
    "# O nosso percentil esta causando problemas na interpretacao do modelo, teremos de transforma-lo de alguma forma\n",
    "# utilizado astype para converter o tipo para categórico e os parametros .cat.codes gera os codigos das gategorias para nós\n",
    "dados_limpos['AGE_PERCENTIL'] = dados_limpos['AGE_PERCENTIL'].astype('category').cat.codes"
   ]
  },
  {
   "cell_type": "markdown",
   "metadata": {},
   "source": [
    "#### Continuacao"
   ]
  },
  {
   "cell_type": "code",
   "execution_count": 10,
   "metadata": {},
   "outputs": [],
   "source": [
    "# aquisição da coluna x\n",
    "x_columns = dados.columns\n",
    "# aquisicao coluna y\n",
    "y = dados_limpos['ICU']\n",
    "x = dados_limpos[x_columns].drop(['ICU', 'WINDOW', 'PATIENT_VISIT_IDENTIFIER'], axis = 1)"
   ]
  },
  {
   "cell_type": "code",
   "execution_count": 11,
   "metadata": {},
   "outputs": [
    {
     "name": "stderr",
     "output_type": "stream",
     "text": [
      "C:\\Users\\Kaiqu\\anaconda3\\lib\\site-packages\\sklearn\\dummy.py:132: FutureWarning: The default value of strategy will change from stratified to prior in 0.24.\n",
      "  \"stratified to prior in 0.24.\", FutureWarning)\n"
     ]
    },
    {
     "data": {
      "text/plain": [
       "DummyClassifier(constant=None, random_state=None, strategy='warn')"
      ]
     },
     "execution_count": 11,
     "metadata": {},
     "output_type": "execute_result"
    }
   ],
   "source": [
    "# adição do train_test_split para separação de dados\n",
    "X_train, X_test, y_train, y_test = train_test_split(x, y, stratify = y)\n",
    "modelo_dummy = DummyClassifier()\n",
    "modelo_dummy.fit(X_train, y_train)"
   ]
  },
  {
   "cell_type": "code",
   "execution_count": 12,
   "metadata": {},
   "outputs": [
    {
     "data": {
      "text/plain": [
       "0.48863636363636365"
      ]
     },
     "execution_count": 12,
     "metadata": {},
     "output_type": "execute_result"
    }
   ],
   "source": [
    "# validando o score do modelo\n",
    "y_predict = modelo_dummy.predict(X_test)\n",
    "accuracy_score(y_test, y_predict)"
   ]
  },
  {
   "cell_type": "code",
   "execution_count": 13,
   "metadata": {},
   "outputs": [
    {
     "data": {
      "text/plain": [
       "0.6818181818181818"
      ]
     },
     "execution_count": 13,
     "metadata": {},
     "output_type": "execute_result"
    }
   ],
   "source": [
    "# criacao de modelo de regressao logistica\n",
    "# resolver problema de converge aumentando o numero de iteracoes\n",
    "modelo = LogisticRegression(max_iter=10000)\n",
    "modelo.fit(X_train, y_train)\n",
    "y_prediction = modelo.predict(X_test)\n",
    "accuracy_score(y_test, y_prediction)"
   ]
  },
  {
   "cell_type": "markdown",
   "metadata": {},
   "source": [
    "#### verificacao das colunas presentes na nossa selecao"
   ]
  },
  {
   "cell_type": "code",
   "execution_count": 14,
   "metadata": {},
   "outputs": [],
   "source": [
    "# falta duas colunas nos nossos dados de treino\n",
    "# A coluna Windows pode ser desconsiderada, pois iremos tratar todos os pacientes como 1\n",
    "# A coluna age_percentil é para ser adicionada\n",
    "for coluna in dados.columns:\n",
    "    if coluna not in x_columns:\n",
    "        print(coluna)\n",
    "# como a correção foi inserida mais acima, nada aparece aqui"
   ]
  },
  {
   "cell_type": "markdown",
   "metadata": {},
   "source": [
    "# Modulo II:\n",
    "Métricas de validação"
   ]
  },
  {
   "cell_type": "markdown",
   "metadata": {},
   "source": [
    "## Resumo:\n",
    "Verificando como olhar as metricas corretamente"
   ]
  },
  {
   "cell_type": "code",
   "execution_count": 15,
   "metadata": {},
   "outputs": [
    {
     "data": {
      "text/plain": [
       "0.6590909090909091"
      ]
     },
     "execution_count": 15,
     "metadata": {},
     "output_type": "execute_result"
    }
   ],
   "source": [
    "# adicao de modelo de arvore de decisao para analise\n",
    "from sklearn.tree import DecisionTreeClassifier\n",
    "\n",
    "modelo_arvore = DecisionTreeClassifier()\n",
    "modelo_arvore.fit(X_train, y_train)\n",
    "predicao_arvore = modelo_arvore.predict(X_test)\n",
    "accuracy_score(y_test, predicao_arvore)"
   ]
  },
  {
   "cell_type": "code",
   "execution_count": 16,
   "metadata": {},
   "outputs": [],
   "source": [
    "# iremos plotar os valores reais X valores predictos utilizando matriz de confusao\n",
    "from sklearn.metrics import plot_confusion_matrix\n",
    "import matplotlib.pyplot as plt"
   ]
  },
  {
   "cell_type": "code",
   "execution_count": 17,
   "metadata": {},
   "outputs": [
    {
     "data": {
      "text/plain": [
       "<sklearn.metrics._plot.confusion_matrix.ConfusionMatrixDisplay at 0x2538ba0ed88>"
      ]
     },
     "execution_count": 17,
     "metadata": {},
     "output_type": "execute_result"
    },
    {
     "data": {
      "image/png": "[encoded data removed]",
      "text/plain": [
       "<Figure size 432x288 with 2 Axes>"
      ]
     },
     "metadata": {
      "needs_background": "light"
     },
     "output_type": "display_data"
    }
   ],
   "source": [
    "# o gráfico de confusao plota a nossa acuracia geral, dos valores reais no eixo Y e valores predictos no eixo X\n",
    "plot_confusion_matrix(modelo_arvore, X_test, y_test)"
   ]
  },
  {
   "cell_type": "markdown",
   "metadata": {},
   "source": [
    "Na matriz de confusao temos 4 siglas importantes para seu entendimento:\n",
    "\n",
    "VP = verdadeiro positivo = 24, Quando nosso eixo y é igual a 1 e nosso valor retorna 1 no eixo x.<br>\n",
    "VN = Verdadeiro negativo = 34, Quando nosso eixo y é igual a 0 e nosso valor retorna 0 no eixo x.<br>\n",
    "FP = Falso positivo = 13, Quando nosso eixo y é igual 0 e nosso valor retorna 1 no eixo x.<br>\n",
    "FN = Falso Negativo = 17, Quando nosso eixo y é igual 1 e nosso valor retorna 0 no eixo x."
   ]
  },
  {
   "cell_type": "code",
   "execution_count": 18,
   "metadata": {},
   "outputs": [],
   "source": [
    "from sklearn.metrics import classification_report"
   ]
  },
  {
   "cell_type": "code",
   "execution_count": 19,
   "metadata": {},
   "outputs": [
    {
     "name": "stdout",
     "output_type": "stream",
     "text": [
      "              precision    recall  f1-score   support\n",
      "\n",
      "           0       0.67      0.70      0.69        47\n",
      "           1       0.64      0.61      0.62        41\n",
      "\n",
      "    accuracy                           0.66        88\n",
      "   macro avg       0.66      0.66      0.66        88\n",
      "weighted avg       0.66      0.66      0.66        88\n",
      "\n"
     ]
    }
   ],
   "source": [
    "print(classification_report(y_test, predicao_arvore))"
   ]
  },
  {
   "cell_type": "markdown",
   "metadata": {},
   "source": [
    "Precision = De todas as minhas classificacoes positivas, quantas sao realmente positivas.<br>\n",
    "Recall = De todas as classes positivas(iguais a 1), quantas eu realmente classifiquei corretamente(o Recall retorna de todas as classes positivas, quantas estão corretas).<br>\n",
    "f1-score = Media Armonica entre a precisao e o recall, demonstra que alguma das metricas (precision ou recall) estao muito baixas ou nao. Irá sempre se aproximar da menor<br>"
   ]
  },
  {
   "cell_type": "markdown",
   "metadata": {},
   "source": [
    "#### link com descrição melhor dos scores:\n",
    "https://blog.exsilio.com/all/accuracy-precision-recall-f1-score-interpretation-of-performance-measures/#:~:text=80%25%20accurate.&text=Precision%20%2D%20Precision%20is%20the%20ratio,the%20total%20predicted%20positive%20observations.&text=F1%20score%20%2D%20F1%20Score%20is,and%20false%20negatives%20into%20account."
   ]
  },
  {
   "cell_type": "markdown",
   "metadata": {},
   "source": [
    "#### Acurácia: \n",
    "A acurácia é a medida de desempenho mais intuitiva e é simplesmente uma relação entre a observação prevista corretamente e o total de observações. Pode-se pensar que, se tivermos alta precisão, nosso modelo é o melhor. Sim, a precisão é uma ótima medida, mas apenas quando você tem conjuntos de dados simétricos onde os valores de falso positivo e falso negativo são quase os mesmos. Portanto, você deve olhar para outros parâmetros para avaliar o desempenho do seu modelo. Para nosso modelo, temos 0,803, o que significa que nosso modelo tem aprox. 80% preciso.<br>\n",
    "\n",
    "Acurácia = TP+TN/TP+FP+FN+TN <br>\n",
    "\n",
    "#### Precisão: \n",
    "A precisão é a proporção de observações positivas preditas corretamente em relação ao total de observações positivas preditas. A questão de que essa resposta métrica diz respeito a todos os passageiros que sobreviveram, quantos realmente sobreviveram? A alta precisão está relacionada à baixa taxa de falsos positivos. Temos uma precisão de 0,788, o que é muito bom.<br>\n",
    "\n",
    "Precisão = TP / TP + FP<br>\n",
    "\n",
    "#### Recall (Sensibilidade):\n",
    "Recall é a proporção de observações positivas preditas corretamente para todas as observações na classe - sim(Ou na classe True). A pergunta que o recall responde é: De todos os passageiros que realmente sobreviveram, quantos rotulamos? Temos o recall de 0,631, que é bom para este modelo, pois está acima de 0,5.<br>\n",
    "\n",
    "Recall = TP / TP + FN<br>\n",
    "\n",
    "#### F1 Score:\n",
    "Pontuação F1 é a média ponderada de Precisão e Recuperação. Portanto, essa pontuação leva em consideração os falsos positivos e os falsos negativos. Intuitivamente, não é tão fácil de entender quanto a precisão, mas F1 geralmente é mais útil do que a precisão, especialmente se você tiver uma distribuição de classes desigual. A precisão funciona melhor se falsos positivos e falsos negativos tiverem custos semelhantes. Se o custo de falsos positivos e falsos negativos são muito diferentes, é melhor olhar para Precisão e Recall. Em nosso caso, a pontuação de F1 é 0,701. <br>\n",
    "\n",
    "F1 Score = 2*(Recall * Precision) / (Recall + Precision)<br>"
   ]
  },
  {
   "cell_type": "markdown",
   "metadata": {},
   "source": [
    "### Video II:\n",
    "Resumo: Verificacao de outra métrica para classificação.<br>\n",
    "Utilizacao AUC (Area sob a curva): Consegue separar melhor as classes para validação. (Interpretação mais simples, quanto mais proximo de 1, melhor)"
   ]
  },
  {
   "cell_type": "code",
   "execution_count": 20,
   "metadata": {},
   "outputs": [],
   "source": [
    "# Para nosso problema atual, este é a melhor metrica para validacao\n",
    "from sklearn.metrics import roc_auc_score"
   ]
  },
  {
   "cell_type": "code",
   "execution_count": 21,
   "metadata": {},
   "outputs": [
    {
     "data": {
      "text/plain": [
       "0.6559418785677219"
      ]
     },
     "execution_count": 21,
     "metadata": {},
     "output_type": "execute_result"
    }
   ],
   "source": [
    "# para instanciar esta metrica, necessitamos da probabilidade e não dos numeros brutos \n",
    "prob_arvore = modelo_arvore.predict_proba(X_test)\n",
    "# o roc_auc necessita da probabilidade do item ser 1, como visto nas classes abaixo, precisamos do elemento 1, ou seja, da coluna que apenas tenha 1.\n",
    "# por isso, ao inserir prob_arvore, foi feito o comando[:, 1]. os dois pontos(:) significam para selecionar todas as linhas, 1 significa a coluna que desejamos\n",
    "# Inserido por indexação\n",
    "roc_auc_score(y_test, prob_arvore[:, 1])"
   ]
  },
  {
   "cell_type": "code",
   "execution_count": 22,
   "metadata": {},
   "outputs": [
    {
     "data": {
      "text/plain": [
       "array([0, 1], dtype=int64)"
      ]
     },
     "execution_count": 22,
     "metadata": {},
     "output_type": "execute_result"
    }
   ],
   "source": [
    "modelo_arvore.classes_"
   ]
  },
  {
   "cell_type": "code",
   "execution_count": 23,
   "metadata": {},
   "outputs": [],
   "source": [
    "# criacao de uma funcao para testar os modelos\n",
    "def roda_modelo(modelo, dados):\n",
    "    x_columns = dados.columns\n",
    "    y = dados['ICU']\n",
    "    x = dados[x_columns].drop(['ICU', 'WINDOW'], axis = 1)\n",
    "    \n",
    "    X_train, X_test, y_train, y_test = train_test_split(x, y, stratify = y, random_state = 42)\n",
    "    \n",
    "    modelo.fit(X_train, y_train)\n",
    "    predicao = modelo.predict(X_test)\n",
    "    prob_predict = modelo.predict_proba(X_test)\n",
    "    \n",
    "    auc = roc_auc_score(y_test, prob_predict[:, 1])\n",
    "    \n",
    "    print('AUC {}'.format(auc))\n",
    "    print('\\nClassification Report')\n",
    "    print(classification_report(y_test, predicao))"
   ]
  },
  {
   "cell_type": "code",
   "execution_count": 24,
   "metadata": {},
   "outputs": [
    {
     "name": "stdout",
     "output_type": "stream",
     "text": [
      "AUC 0.5599377270368447\n",
      "\n",
      "Classification Report\n",
      "              precision    recall  f1-score   support\n",
      "\n",
      "           0       0.58      0.68      0.63        47\n",
      "           1       0.55      0.44      0.49        41\n",
      "\n",
      "    accuracy                           0.57        88\n",
      "   macro avg       0.56      0.56      0.56        88\n",
      "weighted avg       0.56      0.57      0.56        88\n",
      "\n"
     ]
    }
   ],
   "source": [
    "roda_modelo(modelo_arvore, dados_limpos)"
   ]
  },
  {
   "cell_type": "code",
   "execution_count": 25,
   "metadata": {},
   "outputs": [
    {
     "name": "stdout",
     "output_type": "stream",
     "text": [
      "AUC 0.8432797093928386\n",
      "\n",
      "Classification Report\n",
      "              precision    recall  f1-score   support\n",
      "\n",
      "           0       0.76      0.83      0.80        47\n",
      "           1       0.78      0.71      0.74        41\n",
      "\n",
      "    accuracy                           0.77        88\n",
      "   macro avg       0.77      0.77      0.77        88\n",
      "weighted avg       0.77      0.77      0.77        88\n",
      "\n"
     ]
    }
   ],
   "source": [
    "roda_modelo(modelo, dados_limpos)"
   ]
  },
  {
   "cell_type": "markdown",
   "metadata": {},
   "source": [
    "## Modulo III: Aleatoriedade de modelos\n",
    "Resumo: Atualização da funcao que realiza a leitura dos modelos para verificar as metricas, conseguindo uma range média dos resultados dos testes"
   ]
  },
  {
   "cell_type": "code",
   "execution_count": 26,
   "metadata": {},
   "outputs": [],
   "source": [
    "def roda_n_modelos(modelo, dados, n):\n",
    "    x_columns = dados.columns\n",
    "    y = dados['ICU']\n",
    "    x = dados[x_columns].drop(['ICU', 'WINDOW'], axis = 1)\n",
    "    \n",
    "    auc_lista = []\n",
    "    # A intencao desse for é treinar o modelo diversas vezes, para nos retornar a média de suas métricas, ajudando a diminuir um pouco a aleatoriedade dos dados.\n",
    "    for _ in range(n):\n",
    "        X_train, X_test, y_train, y_test = train_test_split(x, y, stratify = y)\n",
    "        \n",
    "        modelo.fit(X_train, y_train)\n",
    "        prob_predict = modelo.predict_proba(X_test)\n",
    "        auc = roc_auc_score(y_test, prob_predict[:, 1])\n",
    "        auc_lista.append(auc)\n",
    "    \n",
    "    # Definicao das variavies utilizadas para o intervalo \n",
    "    auc_medio = np.mean(auc_lista)\n",
    "    auc_std = np.std(auc_lista)\n",
    "    \n",
    "    # Adicionados devidos intervalos, para conseguir uma representacao do nosso modelo. Ou seja, o \"percentual\" do resultado apresentado, \n",
    "    # estar presente dentro dos intervalos.\n",
    "    intervalo_neg = (auc_medio - 2 * auc_std)\n",
    "    intervalo_pos = (auc_medio + 2 * auc_std)\n",
    "    print('AUC: {}, Intervalo: {} - {}'.format(auc_medio, intervalo_neg, intervalo_pos))"
   ]
  },
  {
   "cell_type": "code",
   "execution_count": 27,
   "metadata": {},
   "outputs": [
    {
     "name": "stdout",
     "output_type": "stream",
     "text": [
      "AUC: 0.6301920083030619, Intervalo: 0.5392866603707742 - 0.7210973562353495\n"
     ]
    }
   ],
   "source": [
    "roda_n_modelos(modelo_arvore, dados_limpos, 50)"
   ]
  },
  {
   "cell_type": "code",
   "execution_count": 28,
   "metadata": {},
   "outputs": [
    {
     "name": "stdout",
     "output_type": "stream",
     "text": [
      "AUC: 0.7554436948624804, Intervalo: 0.6729389225226888 - 0.837948467202272\n"
     ]
    }
   ],
   "source": [
    "roda_n_modelos(modelo, dados_limpos, 50)"
   ]
  },
  {
   "cell_type": "code",
   "execution_count": 29,
   "metadata": {},
   "outputs": [
    {
     "name": "stdout",
     "output_type": "stream",
     "text": [
      "AUC: 0.7568655941878568, Intervalo: 0.6684462119888221 - 0.8452849763868915\n"
     ]
    }
   ],
   "source": [
    "roda_n_modelos(modelo, dados_limpos, 50)"
   ]
  },
  {
   "cell_type": "markdown",
   "metadata": {},
   "source": [
    "## Modulo IV: Validação Cruzada\n",
    "Resumo: \n",
    "Utilização do cross validation <br>\n"
   ]
  },
  {
   "cell_type": "code",
   "execution_count": 30,
   "metadata": {},
   "outputs": [],
   "source": [
    "from sklearn.model_selection import cross_validate"
   ]
  },
  {
   "cell_type": "code",
   "execution_count": 31,
   "metadata": {},
   "outputs": [
    {
     "data": {
      "text/plain": [
       "{'fit_time': array([0.09300327, 0.07799435, 0.09700203, 0.10605645, 0.08100367]),\n",
       " 'score_time': array([0.00300694, 0.00199962, 0.00199938, 0.00194716, 0.00200081]),\n",
       " 'test_score': array([0.70422535, 0.76056338, 0.77142857, 0.72857143, 0.71428571])}"
      ]
     },
     "execution_count": 31,
     "metadata": {},
     "output_type": "execute_result"
    }
   ],
   "source": [
    "# Para utilizar esta metrica de validação, precisamos especificar o estimador(modelo), x e y\n",
    "# CV = quantas partes queremos separar os dados para teste\n",
    "# valor comumente utilizado está entre 5 e 10\n",
    "cross_validate(modelo, x, y, cv = 5)"
   ]
  },
  {
   "cell_type": "raw",
   "metadata": {},
   "source": [
    "Iremos utilizar uma funcao que faz o servico de separar os dados."
   ]
  },
  {
   "cell_type": "code",
   "execution_count": 32,
   "metadata": {},
   "outputs": [],
   "source": [
    "from sklearn.model_selection import StratifiedKFold"
   ]
  },
  {
   "cell_type": "code",
   "execution_count": 33,
   "metadata": {},
   "outputs": [
    {
     "data": {
      "text/plain": [
       "{'fit_time': array([0.07199931, 0.08800364, 0.07200146, 0.08100295, 0.08300209]),\n",
       " 'score_time': array([0.00200105, 0.00199938, 0.00199962, 0.00200105, 0.00200033]),\n",
       " 'test_score': array([0.67605634, 0.70422535, 0.72857143, 0.7       , 0.74285714])}"
      ]
     },
     "execution_count": 33,
     "metadata": {},
     "output_type": "execute_result"
    }
   ],
   "source": [
    "# Shuffle faz o embaralhamento dos dados\n",
    "cv = StratifiedKFold(shuffle = True)\n",
    "cross_validate(modelo, x, y, cv = cv)"
   ]
  },
  {
   "cell_type": "markdown",
   "metadata": {},
   "source": [
    "Para utilizar outros tipos de stratificação nos dados (selecionar outro model por exemplo)\n",
    "\n",
    "Link: https://scikit-learn.org/stable/modules/classes.html#module-sklearn.model_selection"
   ]
  },
  {
   "cell_type": "markdown",
   "metadata": {},
   "source": [
    "#### Utilizacao do Repeated Stratified Kfold\n",
    "Realiza o mesmo teste que estavamos fazendo antes, realizando o teste por N vezes e nos retornando suas metricas"
   ]
  },
  {
   "cell_type": "code",
   "execution_count": 34,
   "metadata": {},
   "outputs": [],
   "source": [
    "from sklearn.model_selection import RepeatedStratifiedKFold"
   ]
  },
  {
   "cell_type": "code",
   "execution_count": 35,
   "metadata": {},
   "outputs": [
    {
     "data": {
      "text/plain": [
       "{'fit_time': array([0.09200239, 0.10199785, 0.09405589, 0.07100224, 0.06199956,\n",
       "        0.07805586, 0.08500195, 0.08300185, 0.10501194, 0.08500147,\n",
       "        0.09600353, 0.08300304, 0.07601404, 0.07605457, 0.07600188,\n",
       "        0.07400322, 0.07305408, 0.07094884, 0.05694795, 0.07005572,\n",
       "        0.0780015 , 0.07005286, 0.0690012 , 0.06300259, 0.07400155,\n",
       "        0.07700014, 0.07103395, 0.07805538, 0.07194996, 0.07401681,\n",
       "        0.06597519, 0.08294964, 0.07500243, 0.06494784, 0.07400155,\n",
       "        0.06994891, 0.07600188, 0.08694839, 0.05800033, 0.06700301,\n",
       "        0.07605481, 0.06601715, 0.07299399, 0.07200193, 0.05900288,\n",
       "        0.08600187, 0.07300186, 0.10800242, 0.08505416, 0.06800413]),\n",
       " 'score_time': array([0.00200319, 0.00300002, 0.00194764, 0.00099969, 0.00200129,\n",
       "        0.00100017, 0.00205302, 0.00199986, 0.00199151, 0.00199986,\n",
       "        0.00199914, 0.00200343, 0.00198293, 0.00094914, 0.00194716,\n",
       "        0.00199938, 0.00200105, 0.00205231, 0.00200033, 0.00199914,\n",
       "        0.00194907, 0.00200033, 0.00100088, 0.00200033, 0.00200033,\n",
       "        0.00105357, 0.00194693, 0.00200009, 0.0030005 , 0.00198293,\n",
       "        0.00205135, 0.00200033, 0.00200009, 0.00200129, 0.00200033,\n",
       "        0.00100088, 0.00200009, 0.00200129, 0.00200129, 0.00199938,\n",
       "        0.00194764, 0.00103736, 0.00194693, 0.00099993, 0.00099993,\n",
       "        0.00199938, 0.00100183, 0.00600028, 0.00194812, 0.00099683]),\n",
       " 'test_score': array([0.76056338, 0.74647887, 0.64285714, 0.78571429, 0.65714286,\n",
       "        0.67605634, 0.71830986, 0.72857143, 0.74285714, 0.65714286,\n",
       "        0.73239437, 0.64788732, 0.7       , 0.78571429, 0.64285714,\n",
       "        0.76056338, 0.76056338, 0.74285714, 0.78571429, 0.58571429,\n",
       "        0.67605634, 0.71830986, 0.77142857, 0.68571429, 0.7       ,\n",
       "        0.73239437, 0.70422535, 0.77142857, 0.68571429, 0.71428571,\n",
       "        0.70422535, 0.71830986, 0.74285714, 0.71428571, 0.71428571,\n",
       "        0.73239437, 0.70422535, 0.65714286, 0.68571429, 0.7       ,\n",
       "        0.71830986, 0.77464789, 0.81428571, 0.71428571, 0.62857143,\n",
       "        0.83098592, 0.70422535, 0.74285714, 0.7       , 0.61428571])}"
      ]
     },
     "execution_count": 35,
     "metadata": {},
     "output_type": "execute_result"
    }
   ],
   "source": [
    "cv = RepeatedStratifiedKFold(n_splits= 5, n_repeats= 10)\n",
    "cross_validate(modelo, x, y, cv = cv)"
   ]
  },
  {
   "cell_type": "markdown",
   "metadata": {},
   "source": [
    "#### Adicionando estratificar na funcao roda_modelo\n",
    "link para verificacao do cross_validate: https://scikit-learn.org/stable/modules/generated/sklearn.model_selection.cross_validate.html#sklearn.model_selection.cross_validate\n",
    "\n",
    "No link possuem mais informacoes sobre o scoring, que pode ser alterado para outra metrica de validacao"
   ]
  },
  {
   "cell_type": "code",
   "execution_count": 36,
   "metadata": {},
   "outputs": [],
   "source": [
    "def roda_modelo_cv(modelo, dados, n_splits, n_repeats):\n",
    "    np.random.seed(1231234)\n",
    "    # parametro frac usado para embaralhar os dados\n",
    "    dados = dados.sample(frac = 1).reset_index(drop=True)\n",
    "    x_columns = dados.columns\n",
    "    y = dados['ICU']\n",
    "    x = dados[x_columns].drop(['ICU', 'WINDOW'], axis = 1)\n",
    "    \n",
    "    cv = RepeatedStratifiedKFold(n_splits = n_splits, n_repeats = n_repeats)\n",
    "    # o parametro scoring é utilizado para retornar qual métrica voce quer como validador do modelo. acuracia, r2 score, etc...\n",
    "    results = cross_validate(modelo, x, y, cv = cv, scoring='roc_auc')\n",
    "    \n",
    "    auc_medio = np.mean(results['test_score'])\n",
    "    auc_std = np.std(results['test_score'])\n",
    "    \n",
    "    auc_neg = auc_medio - 2 * auc_std\n",
    "    auc_pos = auc_medio + 2 * auc_std\n",
    "    print('AUC Médio: {}, Intervalo: {} - {}'.format(auc_medio, auc_neg, auc_pos))"
   ]
  },
  {
   "cell_type": "code",
   "execution_count": 37,
   "metadata": {},
   "outputs": [
    {
     "name": "stdout",
     "output_type": "stream",
     "text": [
      "AUC Médio: 0.7576813790465106, Intervalo: 0.6362271424153457 - 0.8791356156776754\n"
     ]
    }
   ],
   "source": [
    "roda_modelo_cv(modelo, dados_limpos, 5, 10)"
   ]
  },
  {
   "cell_type": "code",
   "execution_count": 38,
   "metadata": {},
   "outputs": [
    {
     "name": "stdout",
     "output_type": "stream",
     "text": [
      "AUC Médio: 0.6279279683391525, Intervalo: 0.4988394445682657 - 0.7570164921100394\n"
     ]
    }
   ],
   "source": [
    "roda_modelo_cv(modelo_arvore, dados_limpos, 5, 10)"
   ]
  },
  {
   "cell_type": "markdown",
   "metadata": {},
   "source": [
    "## Modulo V:\n",
    "Desafios do Machine Learning<br>\n",
    "Link scikitlearn decision tree: https://scikit-learn.org/stable/modules/tree.html"
   ]
  },
  {
   "cell_type": "markdown",
   "metadata": {},
   "source": [
    "### Resumo:\n",
    "Overfit e random forest<br>\n",
    "Utilização de hiperparametros para ajudar com overfit (max_depth, n_estimators..)"
   ]
  },
  {
   "cell_type": "code",
   "execution_count": 39,
   "metadata": {},
   "outputs": [],
   "source": [
    "# https://scikit-learn.org/stable/modules/generated/sklearn.tree.DecisionTreeClassifier.html#sklearn.tree.DecisionTreeClassifier\n",
    "from sklearn.tree import DecisionTreeClassifier"
   ]
  },
  {
   "cell_type": "code",
   "execution_count": 40,
   "metadata": {},
   "outputs": [],
   "source": [
    "modelo_arvore = DecisionTreeClassifier(max_depth=6)"
   ]
  },
  {
   "cell_type": "code",
   "execution_count": 41,
   "metadata": {},
   "outputs": [
    {
     "name": "stdout",
     "output_type": "stream",
     "text": [
      "AUC Médio: 0.6239047951959137, Intervalo: 0.46637314891829074 - 0.7814364414735366\n"
     ]
    }
   ],
   "source": [
    "roda_modelo_cv(modelo_arvore, dados_limpos, 5, 10)"
   ]
  },
  {
   "cell_type": "code",
   "execution_count": 42,
   "metadata": {},
   "outputs": [],
   "source": [
    "# alteracao para verificar o valor de treino do nosso modelo\n",
    "def roda_modelo_cv_teste(modelo, dados, n_splits, n_repeats):\n",
    "    np.random.seed(1231234)\n",
    "    dados = dados.sample(frac = 1).reset_index(drop=True)\n",
    "    x_columns = dados.columns\n",
    "    y = dados['ICU']\n",
    "    x = dados[x_columns].drop(['ICU', 'WINDOW'], axis = 1)\n",
    "    \n",
    "    cv = RepeatedStratifiedKFold(n_splits = n_splits, n_repeats = n_repeats)\n",
    "    # adicionado parametro retur_train_score para nos devoler o valor de treino\n",
    "    results = cross_validate(modelo, x, y, cv = cv, scoring='roc_auc', return_train_score=True)\n",
    "    \n",
    "    auc_medio = np.mean(results['test_score'])\n",
    "    auc_medio_treino = np.mean(results['train_score'])\n",
    "    auc_std = np.std(results['test_score'])\n",
    "    \n",
    "    auc_neg = auc_medio - 2 * auc_std\n",
    "    auc_pos = auc_medio + 2 * auc_std\n",
    "    print('AUC Medio: {}, AUC Medio de Treino: {}'.format(auc_medio, auc_medio_treino))\n",
    "    return auc_medio, auc_medio_treino\n",
    "    #print('AUC Médio: {}, Intervalo: {} - {}'.format(auc_medio, auc_neg, auc_pos))"
   ]
  },
  {
   "cell_type": "code",
   "execution_count": 43,
   "metadata": {},
   "outputs": [
    {
     "name": "stdout",
     "output_type": "stream",
     "text": [
      "AUC Medio: 0.6239047951959137, AUC Medio de Treino: 0.9567921210944048\n"
     ]
    },
    {
     "data": {
      "text/plain": [
       "(0.6239047951959137, 0.9567921210944048)"
      ]
     },
     "execution_count": 43,
     "metadata": {},
     "output_type": "execute_result"
    }
   ],
   "source": [
    "roda_modelo_cv_teste(modelo_arvore, dados_limpos, 5, 10)"
   ]
  },
  {
   "cell_type": "code",
   "execution_count": 44,
   "metadata": {},
   "outputs": [
    {
     "name": "stdout",
     "output_type": "stream",
     "text": [
      "AUC Medio: 0.5755830262080263, AUC Medio de Treino: 0.6445982993536308\n",
      "AUC Medio: 0.6544700741411268, AUC Medio de Treino: 0.75415524801741\n",
      "AUC Medio: 0.6643847795163584, AUC Medio de Treino: 0.8243714304989842\n",
      "AUC Medio: 0.6554932930837536, AUC Medio de Treino: 0.8832038893699776\n",
      "AUC Medio: 0.6475058192163456, AUC Medio de Treino: 0.9275331115338461\n",
      "AUC Medio: 0.6239047951959137, AUC Medio de Treino: 0.9567921210944048\n",
      "AUC Medio: 0.6117738776455882, AUC Medio de Treino: 0.9745102329260463\n",
      "AUC Medio: 0.5987671815056683, AUC Medio de Treino: 0.9855938255169409\n",
      "AUC Medio: 0.5877544694814432, AUC Medio de Treino: 0.991376822665679\n",
      "AUC Medio: 0.5917582923832925, AUC Medio de Treino: 0.9946888385564852\n",
      "AUC Medio: 0.6009579413444545, AUC Medio de Treino: 0.9970452758822465\n",
      "AUC Medio: 0.6147261533363507, AUC Medio de Treino: 0.9986297665919551\n",
      "AUC Medio: 0.6212348996723998, AUC Medio de Treino: 0.9994661199548005\n",
      "AUC Medio: 0.6256292095025647, AUC Medio de Treino: 0.9998695491440995\n"
     ]
    }
   ],
   "source": [
    "# teste com diversas iteracoes\n",
    "teste_lista = []\n",
    "treino_lista = []\n",
    "for i in range(1, 15):\n",
    "    modelo_arvore = DecisionTreeClassifier(max_depth=i)\n",
    "    treino, teste = roda_modelo_cv_teste(modelo_arvore, dados_limpos, 5, 10)\n",
    "    teste_lista.append(teste)\n",
    "    treino_lista.append(treino)"
   ]
  },
  {
   "cell_type": "code",
   "execution_count": 45,
   "metadata": {},
   "outputs": [],
   "source": [
    "import matplotlib.pyplot as plt"
   ]
  },
  {
   "cell_type": "code",
   "execution_count": 46,
   "metadata": {},
   "outputs": [
    {
     "data": {
      "text/plain": [
       "[<matplotlib.lines.Line2D at 0x2538c1ee088>]"
      ]
     },
     "execution_count": 46,
     "metadata": {},
     "output_type": "execute_result"
    },
    {
     "data": {
      "image/png": "[encoded data removed]",
      "text/plain": [
       "<Figure size 432x288 with 1 Axes>"
      ]
     },
     "metadata": {
      "needs_background": "light"
     },
     "output_type": "display_data"
    }
   ],
   "source": [
    "# Com base na curva, quando os dados de treino começam a subir muito e os dados de teste começam a decair, pode ser chamado de overfit\n",
    "# Overfit pode ser dito quando: Nosso modelo ficou muito bom em usar os dados de treino, mas nao consegue generalizar os dados de teste para conseguir resultados\n",
    "x_2 = range(1, 15)\n",
    "plt.plot(x_2, teste_lista)\n",
    "plt.plot(x_2, treino_lista)"
   ]
  },
  {
   "cell_type": "code",
   "execution_count": 47,
   "metadata": {},
   "outputs": [],
   "source": [
    "# para conseguir remover o overfit, uma das maneiras é alterar os hiperparametros do modelo\n",
    "# estudar outros modelos, que são menos sucetiveis a problemas de overfit\n",
    "# Arvore de decisao, é simples e poderoso na classificacao, reclassificacao e regressao, porem é muito sensivel a overfit\n",
    "# um dos modelos que podemos usar que ja ajuda em nosso caso, é o random forest\n",
    "# link para documentacao random forest: https://scikit-learn.org/stable/modules/generated/sklearn.ensemble.RandomForestClassifier.html\n",
    "# random forest usa varios classificadores, ele é um ensemble(Algoritmos de aprendizagem de conjunto)\n",
    "from sklearn.ensemble import RandomForestClassifier"
   ]
  },
  {
   "cell_type": "code",
   "execution_count": 48,
   "metadata": {},
   "outputs": [
    {
     "name": "stdout",
     "output_type": "stream",
     "text": [
      "AUC Medio: 0.7754785968683994, AUC Medio de Treino: 0.8549995635150238\n",
      "AUC Medio: 0.7868632672744513, AUC Medio de Treino: 0.8976687127896622\n",
      "AUC Medio: 0.7931550390103022, AUC Medio de Treino: 0.9403124842531797\n",
      "AUC Medio: 0.7983565832578993, AUC Medio de Treino: 0.9709123570096604\n",
      "AUC Medio: 0.7990938591103065, AUC Medio de Treino: 0.98788117359786\n",
      "AUC Medio: 0.8004527808310704, AUC Medio de Treino: 0.9959760554693325\n",
      "AUC Medio: 0.7994808369972844, AUC Medio de Treino: 0.9990287365273224\n",
      "AUC Medio: 0.7977776116427432, AUC Medio de Treino: 0.9998630161707951\n",
      "AUC Medio: 0.7963008103797579, AUC Medio de Treino: 0.9999847540078024\n",
      "AUC Medio: 0.7927381904931247, AUC Medio de Treino: 1.0\n",
      "AUC Medio: 0.7928442699577567, AUC Medio de Treino: 1.0\n",
      "AUC Medio: 0.7923345025647657, AUC Medio de Treino: 1.0\n",
      "AUC Medio: 0.7939161507500323, AUC Medio de Treino: 1.0\n",
      "AUC Medio: 0.7939437314108367, AUC Medio de Treino: 1.0\n"
     ]
    }
   ],
   "source": [
    "teste_lista = []\n",
    "treino_lista = []\n",
    "for i in range(1, 15):\n",
    "    # ao invés do max_depth, poderiamos alterar o n_estimators, que serve para selecionar a quantia de \"arvores\" em nossa floresta\n",
    "    # quanto mais arvores, menores as chances de overfit e seu estimador irá melhorar. o padrao é 100\n",
    "    modelo_arvore = RandomForestClassifier(max_depth=i)\n",
    "    treino, teste = roda_modelo_cv_teste(modelo_arvore, dados_limpos, 5, 10)\n",
    "    teste_lista.append(teste)\n",
    "    treino_lista.append(treino)"
   ]
  },
  {
   "cell_type": "code",
   "execution_count": 49,
   "metadata": {},
   "outputs": [
    {
     "data": {
      "text/plain": [
       "[<matplotlib.lines.Line2D at 0x2538c323988>]"
      ]
     },
     "execution_count": 49,
     "metadata": {},
     "output_type": "execute_result"
    },
    {
     "data": {
      "image/png": "[encoded data removed]",
      "text/plain": [
       "<Figure size 432x288 with 1 Axes>"
      ]
     },
     "metadata": {
      "needs_background": "light"
     },
     "output_type": "display_data"
    }
   ],
   "source": [
    "x_2 = range(1, 15)\n",
    "plt.plot(x_2, teste_lista)\n",
    "plt.plot(x_2, treino_lista)"
   ]
  },
  {
   "cell_type": "code",
   "execution_count": 50,
   "metadata": {},
   "outputs": [
    {
     "name": "stdout",
     "output_type": "stream",
     "text": [
      "AUC Medio: 0.7428159147484805, AUC Medio de Treino: 0.999444041300827\n"
     ]
    }
   ],
   "source": [
    "modelo_arvore = RandomForestClassifier(n_estimators=10)\n",
    "treino, teste = roda_modelo_cv_teste(modelo_arvore, dados_limpos, 5, 10)"
   ]
  },
  {
   "cell_type": "code",
   "execution_count": 51,
   "metadata": {},
   "outputs": [
    {
     "name": "stdout",
     "output_type": "stream",
     "text": [
      "AUC Medio: 0.7939557739557739, AUC Medio de Treino: 1.0\n"
     ]
    }
   ],
   "source": [
    "modelo_arvore = RandomForestClassifier(n_estimators=100)\n",
    "treino, teste = roda_modelo_cv_teste(modelo_arvore, dados_limpos, 5, 10)"
   ]
  },
  {
   "cell_type": "code",
   "execution_count": 52,
   "metadata": {},
   "outputs": [
    {
     "name": "stdout",
     "output_type": "stream",
     "text": [
      "AUC Medio: 0.7950421219664641, AUC Medio de Treino: 1.0\n"
     ]
    }
   ],
   "source": [
    "# quanto mais estimadores, mais demorado será para executar.\n",
    "modelo_arvore = RandomForestClassifier(n_estimators=200)\n",
    "treino, teste = roda_modelo_cv_teste(modelo_arvore, dados_limpos, 5, 10)"
   ]
  },
  {
   "cell_type": "markdown",
   "metadata": {},
   "source": [
    "## Modulo VI:\n",
    "Finalizando a validação"
   ]
  },
  {
   "cell_type": "markdown",
   "metadata": {},
   "source": [
    "### Resumo:\n",
    "Dropar coluna de identificacao do paciente.<br>\n",
    "criacao de funcao para remover colunas com alto nivel de correlacao, assim diminuindo as chances de causar um overfit"
   ]
  },
  {
   "cell_type": "code",
   "execution_count": 53,
   "metadata": {},
   "outputs": [],
   "source": [
    "# ultima alteração realizada, dropar o valor do identificador do paciente\n",
    "def roda_modelo_cv(modelo, dados, n_splits, n_repeats):\n",
    "    np.random.seed(1231234)\n",
    "    dados = dados.sample(frac = 1).reset_index(drop=True)\n",
    "    x_columns = dados.columns\n",
    "    y = dados['ICU']\n",
    "    x = dados[x_columns].drop(['ICU', 'WINDOW','PATIENT_VISIT_IDENTIFIER'], axis = 1)\n",
    "    \n",
    "    cv = RepeatedStratifiedKFold(n_splits = n_splits, n_repeats = n_repeats)\n",
    "    results = cross_validate(modelo, x, y, cv = cv, scoring='roc_auc')\n",
    "    \n",
    "    auc_medio = np.mean(results['test_score'])\n",
    "    auc_std = np.std(results['test_score'])\n",
    "    \n",
    "    auc_neg = auc_medio - 2 * auc_std\n",
    "    auc_pos = auc_medio + 2 * auc_std\n",
    "    print('AUC Médio: {}, Intervalo: {} - {}'.format(auc_medio, auc_neg, auc_pos))"
   ]
  },
  {
   "cell_type": "code",
   "execution_count": 54,
   "metadata": {},
   "outputs": [
    {
     "name": "stdout",
     "output_type": "stream",
     "text": [
      "<class 'pandas.core.frame.DataFrame'>\n",
      "MultiIndex: 352 entries, (0, 0) to (384, 1920)\n",
      "Columns: 231 entries, PATIENT_VISIT_IDENTIFIER to ICU\n",
      "dtypes: float64(225), int64(4), int8(1), object(1)\n",
      "memory usage: 649.8+ KB\n"
     ]
    }
   ],
   "source": [
    "# quanto mais labels[colunas] tivermos em nossos dados, pode deixar nosso modelo mais suscetível a um overfit\n",
    "# entao iremos buscar a correlacao entre as colunas para remover as desnecessarias\n",
    "dados_limpos.info()"
   ]
  },
  {
   "cell_type": "code",
   "execution_count": 55,
   "metadata": {},
   "outputs": [
    {
     "data": {
      "text/html": [
       "<div>\n",
       "<style scoped>\n",
       "    .dataframe tbody tr th:only-of-type {\n",
       "        vertical-align: middle;\n",
       "    }\n",
       "\n",
       "    .dataframe tbody tr th {\n",
       "        vertical-align: top;\n",
       "    }\n",
       "\n",
       "    .dataframe thead th {\n",
       "        text-align: right;\n",
       "    }\n",
       "</style>\n",
       "<table border=\"1\" class=\"dataframe\">\n",
       "  <thead>\n",
       "    <tr style=\"text-align: right;\">\n",
       "      <th></th>\n",
       "      <th></th>\n",
       "      <th>PATIENT_VISIT_IDENTIFIER</th>\n",
       "      <th>AGE_ABOVE65</th>\n",
       "      <th>AGE_PERCENTIL</th>\n",
       "      <th>GENDER</th>\n",
       "      <th>WINDOW</th>\n",
       "      <th>ICU</th>\n",
       "    </tr>\n",
       "    <tr>\n",
       "      <th>PATIENT_VISIT_IDENTIFIER</th>\n",
       "      <th></th>\n",
       "      <th></th>\n",
       "      <th></th>\n",
       "      <th></th>\n",
       "      <th></th>\n",
       "      <th></th>\n",
       "      <th></th>\n",
       "    </tr>\n",
       "  </thead>\n",
       "  <tbody>\n",
       "    <tr>\n",
       "      <th>0</th>\n",
       "      <th>0</th>\n",
       "      <td>0</td>\n",
       "      <td>1</td>\n",
       "      <td>5</td>\n",
       "      <td>0</td>\n",
       "      <td>0-2</td>\n",
       "      <td>1</td>\n",
       "    </tr>\n",
       "    <tr>\n",
       "      <th>2</th>\n",
       "      <th>10</th>\n",
       "      <td>2</td>\n",
       "      <td>0</td>\n",
       "      <td>0</td>\n",
       "      <td>0</td>\n",
       "      <td>0-2</td>\n",
       "      <td>1</td>\n",
       "    </tr>\n",
       "    <tr>\n",
       "      <th>3</th>\n",
       "      <th>15</th>\n",
       "      <td>3</td>\n",
       "      <td>0</td>\n",
       "      <td>3</td>\n",
       "      <td>1</td>\n",
       "      <td>0-2</td>\n",
       "      <td>0</td>\n",
       "    </tr>\n",
       "    <tr>\n",
       "      <th>4</th>\n",
       "      <th>20</th>\n",
       "      <td>4</td>\n",
       "      <td>0</td>\n",
       "      <td>0</td>\n",
       "      <td>0</td>\n",
       "      <td>0-2</td>\n",
       "      <td>0</td>\n",
       "    </tr>\n",
       "    <tr>\n",
       "      <th>5</th>\n",
       "      <th>25</th>\n",
       "      <td>5</td>\n",
       "      <td>0</td>\n",
       "      <td>0</td>\n",
       "      <td>0</td>\n",
       "      <td>0-2</td>\n",
       "      <td>0</td>\n",
       "    </tr>\n",
       "    <tr>\n",
       "      <th>...</th>\n",
       "      <th>...</th>\n",
       "      <td>...</td>\n",
       "      <td>...</td>\n",
       "      <td>...</td>\n",
       "      <td>...</td>\n",
       "      <td>...</td>\n",
       "      <td>...</td>\n",
       "    </tr>\n",
       "    <tr>\n",
       "      <th>380</th>\n",
       "      <th>1900</th>\n",
       "      <td>380</td>\n",
       "      <td>0</td>\n",
       "      <td>3</td>\n",
       "      <td>1</td>\n",
       "      <td>0-2</td>\n",
       "      <td>1</td>\n",
       "    </tr>\n",
       "    <tr>\n",
       "      <th>381</th>\n",
       "      <th>1905</th>\n",
       "      <td>381</td>\n",
       "      <td>1</td>\n",
       "      <td>9</td>\n",
       "      <td>0</td>\n",
       "      <td>0-2</td>\n",
       "      <td>0</td>\n",
       "    </tr>\n",
       "    <tr>\n",
       "      <th>382</th>\n",
       "      <th>1910</th>\n",
       "      <td>382</td>\n",
       "      <td>0</td>\n",
       "      <td>4</td>\n",
       "      <td>0</td>\n",
       "      <td>0-2</td>\n",
       "      <td>1</td>\n",
       "    </tr>\n",
       "    <tr>\n",
       "      <th>383</th>\n",
       "      <th>1915</th>\n",
       "      <td>383</td>\n",
       "      <td>0</td>\n",
       "      <td>3</td>\n",
       "      <td>1</td>\n",
       "      <td>0-2</td>\n",
       "      <td>0</td>\n",
       "    </tr>\n",
       "    <tr>\n",
       "      <th>384</th>\n",
       "      <th>1920</th>\n",
       "      <td>384</td>\n",
       "      <td>0</td>\n",
       "      <td>4</td>\n",
       "      <td>1</td>\n",
       "      <td>0-2</td>\n",
       "      <td>0</td>\n",
       "    </tr>\n",
       "  </tbody>\n",
       "</table>\n",
       "<p>352 rows × 6 columns</p>\n",
       "</div>"
      ],
      "text/plain": [
       "                               PATIENT_VISIT_IDENTIFIER  AGE_ABOVE65  \\\n",
       "PATIENT_VISIT_IDENTIFIER                                               \n",
       "0                        0                            0            1   \n",
       "2                        10                           2            0   \n",
       "3                        15                           3            0   \n",
       "4                        20                           4            0   \n",
       "5                        25                           5            0   \n",
       "...                                                 ...          ...   \n",
       "380                      1900                       380            0   \n",
       "381                      1905                       381            1   \n",
       "382                      1910                       382            0   \n",
       "383                      1915                       383            0   \n",
       "384                      1920                       384            0   \n",
       "\n",
       "                               AGE_PERCENTIL  GENDER WINDOW  ICU  \n",
       "PATIENT_VISIT_IDENTIFIER                                          \n",
       "0                        0                 5       0    0-2    1  \n",
       "2                        10                0       0    0-2    1  \n",
       "3                        15                3       1    0-2    0  \n",
       "4                        20                0       0    0-2    0  \n",
       "5                        25                0       0    0-2    0  \n",
       "...                                      ...     ...    ...  ...  \n",
       "380                      1900              3       1    0-2    1  \n",
       "381                      1905              9       0    0-2    0  \n",
       "382                      1910              4       0    0-2    1  \n",
       "383                      1915              3       1    0-2    0  \n",
       "384                      1920              4       1    0-2    0  \n",
       "\n",
       "[352 rows x 6 columns]"
      ]
     },
     "execution_count": 55,
     "metadata": {},
     "output_type": "execute_result"
    }
   ],
   "source": [
    "dados_limpos.select_dtypes(exclude='float64')"
   ]
  },
  {
   "cell_type": "code",
   "execution_count": 56,
   "metadata": {},
   "outputs": [],
   "source": [
    "# abs utilizado para remover a negatividade dos dados, iremos remover as colunas com alta correlacao\n",
    "alta_corr = 0.95\n",
    "matriz_corr = dados_limpos.iloc[:, 4:-2].corr().abs()"
   ]
  },
  {
   "cell_type": "code",
   "execution_count": 57,
   "metadata": {},
   "outputs": [
    {
     "data": {
      "text/plain": [
       "['DISEASE GROUPING 1',\n",
       " 'DISEASE GROUPING 2',\n",
       " 'DISEASE GROUPING 3',\n",
       " 'DISEASE GROUPING 4',\n",
       " 'DISEASE GROUPING 5',\n",
       " 'DISEASE GROUPING 6',\n",
       " 'HTN',\n",
       " 'IMMUNOCOMPROMISED',\n",
       " 'OTHER',\n",
       " 'ALBUMIN_MEDIAN',\n",
       " 'ALBUMIN_MEAN',\n",
       " 'ALBUMIN_MIN',\n",
       " 'ALBUMIN_MAX',\n",
       " 'BE_ARTERIAL_MEDIAN',\n",
       " 'BE_ARTERIAL_MEAN',\n",
       " 'BE_ARTERIAL_MIN',\n",
       " 'BE_ARTERIAL_MAX',\n",
       " 'BE_VENOUS_MEDIAN',\n",
       " 'BE_VENOUS_MEAN',\n",
       " 'BE_VENOUS_MIN',\n",
       " 'BE_VENOUS_MAX',\n",
       " 'BIC_ARTERIAL_MEDIAN',\n",
       " 'BIC_ARTERIAL_MEAN',\n",
       " 'BIC_ARTERIAL_MIN',\n",
       " 'BIC_ARTERIAL_MAX',\n",
       " 'BIC_VENOUS_MEDIAN',\n",
       " 'BIC_VENOUS_MEAN',\n",
       " 'BIC_VENOUS_MIN',\n",
       " 'BIC_VENOUS_MAX',\n",
       " 'BILLIRUBIN_MEDIAN',\n",
       " 'BILLIRUBIN_MEAN',\n",
       " 'BILLIRUBIN_MIN',\n",
       " 'BILLIRUBIN_MAX',\n",
       " 'BLAST_MEDIAN',\n",
       " 'BLAST_MEAN',\n",
       " 'BLAST_MIN',\n",
       " 'BLAST_MAX',\n",
       " 'CALCIUM_MEDIAN',\n",
       " 'CALCIUM_MEAN',\n",
       " 'CALCIUM_MIN',\n",
       " 'CALCIUM_MAX',\n",
       " 'CREATININ_MEDIAN',\n",
       " 'CREATININ_MEAN',\n",
       " 'CREATININ_MIN',\n",
       " 'CREATININ_MAX',\n",
       " 'FFA_MEDIAN',\n",
       " 'FFA_MEAN',\n",
       " 'FFA_MIN',\n",
       " 'FFA_MAX',\n",
       " 'GGT_MEDIAN',\n",
       " 'GGT_MEAN',\n",
       " 'GGT_MIN',\n",
       " 'GGT_MAX',\n",
       " 'GLUCOSE_MEDIAN',\n",
       " 'GLUCOSE_MEAN',\n",
       " 'GLUCOSE_MIN',\n",
       " 'GLUCOSE_MAX',\n",
       " 'HEMATOCRITE_MEDIAN',\n",
       " 'HEMATOCRITE_MEAN',\n",
       " 'HEMATOCRITE_MIN',\n",
       " 'HEMATOCRITE_MAX',\n",
       " 'HEMOGLOBIN_MEDIAN',\n",
       " 'HEMOGLOBIN_MEAN',\n",
       " 'HEMOGLOBIN_MIN',\n",
       " 'HEMOGLOBIN_MAX',\n",
       " 'INR_MEDIAN',\n",
       " 'INR_MEAN',\n",
       " 'INR_MIN',\n",
       " 'INR_MAX',\n",
       " 'LACTATE_MEDIAN',\n",
       " 'LACTATE_MEAN',\n",
       " 'LACTATE_MIN',\n",
       " 'LACTATE_MAX',\n",
       " 'LEUKOCYTES_MEDIAN',\n",
       " 'LEUKOCYTES_MEAN',\n",
       " 'LEUKOCYTES_MIN',\n",
       " 'LEUKOCYTES_MAX',\n",
       " 'LINFOCITOS_MEDIAN',\n",
       " 'LINFOCITOS_MEAN',\n",
       " 'LINFOCITOS_MIN',\n",
       " 'LINFOCITOS_MAX',\n",
       " 'NEUTROPHILES_MEDIAN',\n",
       " 'NEUTROPHILES_MEAN',\n",
       " 'NEUTROPHILES_MIN',\n",
       " 'NEUTROPHILES_MAX',\n",
       " 'P02_ARTERIAL_MEDIAN',\n",
       " 'P02_ARTERIAL_MEAN',\n",
       " 'P02_ARTERIAL_MIN',\n",
       " 'P02_ARTERIAL_MAX',\n",
       " 'P02_VENOUS_MEDIAN',\n",
       " 'P02_VENOUS_MEAN',\n",
       " 'P02_VENOUS_MIN',\n",
       " 'P02_VENOUS_MAX',\n",
       " 'PC02_ARTERIAL_MEDIAN',\n",
       " 'PC02_ARTERIAL_MEAN',\n",
       " 'PC02_ARTERIAL_MIN',\n",
       " 'PC02_ARTERIAL_MAX',\n",
       " 'PC02_VENOUS_MEDIAN',\n",
       " 'PC02_VENOUS_MEAN',\n",
       " 'PC02_VENOUS_MIN',\n",
       " 'PC02_VENOUS_MAX',\n",
       " 'PCR_MEDIAN',\n",
       " 'PCR_MEAN',\n",
       " 'PCR_MIN',\n",
       " 'PCR_MAX',\n",
       " 'PH_ARTERIAL_MEDIAN',\n",
       " 'PH_ARTERIAL_MEAN',\n",
       " 'PH_ARTERIAL_MIN',\n",
       " 'PH_ARTERIAL_MAX',\n",
       " 'PH_VENOUS_MEDIAN',\n",
       " 'PH_VENOUS_MEAN',\n",
       " 'PH_VENOUS_MIN',\n",
       " 'PH_VENOUS_MAX',\n",
       " 'PLATELETS_MEDIAN',\n",
       " 'PLATELETS_MEAN',\n",
       " 'PLATELETS_MIN',\n",
       " 'PLATELETS_MAX',\n",
       " 'POTASSIUM_MEDIAN',\n",
       " 'POTASSIUM_MEAN',\n",
       " 'POTASSIUM_MIN',\n",
       " 'POTASSIUM_MAX',\n",
       " 'SAT02_ARTERIAL_MEDIAN',\n",
       " 'SAT02_ARTERIAL_MEAN',\n",
       " 'SAT02_ARTERIAL_MIN',\n",
       " 'SAT02_ARTERIAL_MAX',\n",
       " 'SAT02_VENOUS_MEDIAN',\n",
       " 'SAT02_VENOUS_MEAN',\n",
       " 'SAT02_VENOUS_MIN',\n",
       " 'SAT02_VENOUS_MAX',\n",
       " 'SODIUM_MEDIAN',\n",
       " 'SODIUM_MEAN',\n",
       " 'SODIUM_MIN',\n",
       " 'SODIUM_MAX',\n",
       " 'TGO_MEDIAN',\n",
       " 'TGO_MEAN',\n",
       " 'TGO_MIN',\n",
       " 'TGO_MAX',\n",
       " 'TGP_MEDIAN',\n",
       " 'TGP_MEAN',\n",
       " 'TGP_MIN',\n",
       " 'TGP_MAX',\n",
       " 'TTPA_MEDIAN',\n",
       " 'TTPA_MEAN',\n",
       " 'TTPA_MIN',\n",
       " 'TTPA_MAX',\n",
       " 'UREA_MEDIAN',\n",
       " 'UREA_MEAN',\n",
       " 'UREA_MIN',\n",
       " 'UREA_MAX',\n",
       " 'DIMER_MEDIAN',\n",
       " 'DIMER_MEAN',\n",
       " 'DIMER_MIN',\n",
       " 'DIMER_MAX',\n",
       " 'BLOODPRESSURE_DIASTOLIC_MEAN',\n",
       " 'BLOODPRESSURE_SISTOLIC_MEAN',\n",
       " 'HEART_RATE_MEAN',\n",
       " 'RESPIRATORY_RATE_MEAN',\n",
       " 'TEMPERATURE_MEAN',\n",
       " 'OXYGEN_SATURATION_MEAN',\n",
       " 'BLOODPRESSURE_DIASTOLIC_MEDIAN',\n",
       " 'BLOODPRESSURE_SISTOLIC_MEDIAN',\n",
       " 'HEART_RATE_MEDIAN',\n",
       " 'RESPIRATORY_RATE_MEDIAN',\n",
       " 'TEMPERATURE_MEDIAN',\n",
       " 'OXYGEN_SATURATION_MEDIAN',\n",
       " 'BLOODPRESSURE_DIASTOLIC_MIN',\n",
       " 'BLOODPRESSURE_SISTOLIC_MIN',\n",
       " 'HEART_RATE_MIN',\n",
       " 'RESPIRATORY_RATE_MIN',\n",
       " 'TEMPERATURE_MIN',\n",
       " 'OXYGEN_SATURATION_MIN',\n",
       " 'BLOODPRESSURE_DIASTOLIC_MAX',\n",
       " 'BLOODPRESSURE_SISTOLIC_MAX',\n",
       " 'HEART_RATE_MAX',\n",
       " 'RESPIRATORY_RATE_MAX',\n",
       " 'TEMPERATURE_MAX',\n",
       " 'OXYGEN_SATURATION_MAX',\n",
       " 'BLOODPRESSURE_DIASTOLIC_DIFF',\n",
       " 'BLOODPRESSURE_SISTOLIC_DIFF',\n",
       " 'HEART_RATE_DIFF',\n",
       " 'RESPIRATORY_RATE_DIFF',\n",
       " 'TEMPERATURE_DIFF',\n",
       " 'OXYGEN_SATURATION_DIFF',\n",
       " 'BLOODPRESSURE_DIASTOLIC_DIFF_REL',\n",
       " 'BLOODPRESSURE_SISTOLIC_DIFF_REL',\n",
       " 'HEART_RATE_DIFF_REL',\n",
       " 'RESPIRATORY_RATE_DIFF_REL',\n",
       " 'TEMPERATURE_DIFF_REL',\n",
       " 'OXYGEN_SATURATION_DIFF_REL']"
      ]
     },
     "execution_count": 57,
     "metadata": {},
     "output_type": "execute_result"
    }
   ],
   "source": [
    "# este metodo nao funcionaria pos acabaria destruindo o df inteiro, pois toda coluna teria um valor > que 0.95\n",
    "excluir = [coluna for coluna in matriz_corr.columns if any(matriz_corr[coluna] > alta_corr)]\n",
    "excluir"
   ]
  },
  {
   "cell_type": "code",
   "execution_count": 58,
   "metadata": {},
   "outputs": [
    {
     "data": {
      "text/plain": [
       "(225, 225)"
      ]
     },
     "execution_count": 58,
     "metadata": {},
     "output_type": "execute_result"
    }
   ],
   "source": [
    "# nosso objetivo é remover as altas correlacoes, porem manter uma delas\n",
    "# iremos usar o pandas where\n",
    "# queremos este formato 255 por 255\n",
    "matriz_corr.shape"
   ]
  },
  {
   "cell_type": "markdown",
   "metadata": {},
   "source": [
    "A solução proposta em aula é a seguinte:<br>\n",
    "Como valores se repetem diagonalmente, e são mantidos numa outra coluna, iremos remover apenas os que se repetem<br>\n",
    "Fazendo parecer um \"triangulo\", removendo a parte inferior.<br>"
   ]
  },
  {
   "cell_type": "code",
   "execution_count": 59,
   "metadata": {},
   "outputs": [
    {
     "data": {
      "text/plain": [
       "array([[1., 1., 1., ..., 1., 1., 1.],\n",
       "       [1., 1., 1., ..., 1., 1., 1.],\n",
       "       [1., 1., 1., ..., 1., 1., 1.],\n",
       "       ...,\n",
       "       [1., 1., 1., ..., 1., 1., 1.],\n",
       "       [1., 1., 1., ..., 1., 1., 1.],\n",
       "       [1., 1., 1., ..., 1., 1., 1.]])"
      ]
     },
     "execution_count": 59,
     "metadata": {},
     "output_type": "execute_result"
    }
   ],
   "source": [
    "# com isso conseguimos a matriz\n",
    "np.ones(matriz_corr.shape)"
   ]
  },
  {
   "cell_type": "code",
   "execution_count": 60,
   "metadata": {},
   "outputs": [
    {
     "data": {
      "text/plain": [
       "array([[ True,  True,  True, ...,  True,  True,  True],\n",
       "       [ True,  True,  True, ...,  True,  True,  True],\n",
       "       [ True,  True,  True, ...,  True,  True,  True],\n",
       "       ...,\n",
       "       [ True,  True,  True, ...,  True,  True,  True],\n",
       "       [ True,  True,  True, ...,  True,  True,  True],\n",
       "       [ True,  True,  True, ...,  True,  True,  True]])"
      ]
     },
     "execution_count": 60,
     "metadata": {},
     "output_type": "execute_result"
    }
   ],
   "source": [
    "# transformando para booleano\n",
    "np.ones(matriz_corr.shape).astype(np.bool)"
   ]
  },
  {
   "cell_type": "code",
   "execution_count": 61,
   "metadata": {},
   "outputs": [
    {
     "data": {
      "text/plain": [
       "array([[False,  True,  True, ...,  True,  True,  True],\n",
       "       [False, False,  True, ...,  True,  True,  True],\n",
       "       [False, False, False, ...,  True,  True,  True],\n",
       "       ...,\n",
       "       [False, False, False, ..., False,  True,  True],\n",
       "       [False, False, False, ..., False, False,  True],\n",
       "       [False, False, False, ..., False, False, False]])"
      ]
     },
     "execution_count": 61,
     "metadata": {},
     "output_type": "execute_result"
    }
   ],
   "source": [
    "# triu, parametro usado para a remoção do triangulo diagonal principal inferior\n",
    "# parametro k = 1 serve para remover tambem, a diagonal principal\n",
    "np.triu(np.ones(matriz_corr.shape), k=1).astype(np.bool)"
   ]
  },
  {
   "cell_type": "code",
   "execution_count": 62,
   "metadata": {},
   "outputs": [
    {
     "data": {
      "text/plain": [
       "['ALBUMIN_MEAN',\n",
       " 'ALBUMIN_MIN',\n",
       " 'ALBUMIN_MAX',\n",
       " 'BE_ARTERIAL_MEAN',\n",
       " 'BE_ARTERIAL_MIN',\n",
       " 'BE_ARTERIAL_MAX',\n",
       " 'BE_VENOUS_MEAN',\n",
       " 'BE_VENOUS_MIN',\n",
       " 'BE_VENOUS_MAX',\n",
       " 'BIC_ARTERIAL_MEAN',\n",
       " 'BIC_ARTERIAL_MIN',\n",
       " 'BIC_ARTERIAL_MAX',\n",
       " 'BIC_VENOUS_MEAN',\n",
       " 'BIC_VENOUS_MIN',\n",
       " 'BIC_VENOUS_MAX',\n",
       " 'BILLIRUBIN_MEAN',\n",
       " 'BILLIRUBIN_MIN',\n",
       " 'BILLIRUBIN_MAX',\n",
       " 'BLAST_MEAN',\n",
       " 'BLAST_MIN',\n",
       " 'BLAST_MAX',\n",
       " 'CALCIUM_MEAN',\n",
       " 'CALCIUM_MIN',\n",
       " 'CALCIUM_MAX',\n",
       " 'CREATININ_MEAN',\n",
       " 'CREATININ_MIN',\n",
       " 'CREATININ_MAX',\n",
       " 'FFA_MEAN',\n",
       " 'FFA_MIN',\n",
       " 'FFA_MAX',\n",
       " 'GGT_MEAN',\n",
       " 'GGT_MIN',\n",
       " 'GGT_MAX',\n",
       " 'GLUCOSE_MEAN',\n",
       " 'GLUCOSE_MIN',\n",
       " 'GLUCOSE_MAX',\n",
       " 'HEMATOCRITE_MEAN',\n",
       " 'HEMATOCRITE_MIN',\n",
       " 'HEMATOCRITE_MAX',\n",
       " 'HEMOGLOBIN_MEDIAN',\n",
       " 'HEMOGLOBIN_MEAN',\n",
       " 'HEMOGLOBIN_MIN',\n",
       " 'HEMOGLOBIN_MAX',\n",
       " 'INR_MEAN',\n",
       " 'INR_MIN',\n",
       " 'INR_MAX',\n",
       " 'LACTATE_MEAN',\n",
       " 'LACTATE_MIN',\n",
       " 'LACTATE_MAX',\n",
       " 'LEUKOCYTES_MEAN',\n",
       " 'LEUKOCYTES_MIN',\n",
       " 'LEUKOCYTES_MAX',\n",
       " 'LINFOCITOS_MEAN',\n",
       " 'LINFOCITOS_MIN',\n",
       " 'LINFOCITOS_MAX',\n",
       " 'NEUTROPHILES_MEDIAN',\n",
       " 'NEUTROPHILES_MEAN',\n",
       " 'NEUTROPHILES_MIN',\n",
       " 'NEUTROPHILES_MAX',\n",
       " 'P02_ARTERIAL_MEAN',\n",
       " 'P02_ARTERIAL_MIN',\n",
       " 'P02_ARTERIAL_MAX',\n",
       " 'P02_VENOUS_MEAN',\n",
       " 'P02_VENOUS_MIN',\n",
       " 'P02_VENOUS_MAX',\n",
       " 'PC02_ARTERIAL_MEAN',\n",
       " 'PC02_ARTERIAL_MIN',\n",
       " 'PC02_ARTERIAL_MAX',\n",
       " 'PC02_VENOUS_MEAN',\n",
       " 'PC02_VENOUS_MIN',\n",
       " 'PC02_VENOUS_MAX',\n",
       " 'PCR_MEAN',\n",
       " 'PCR_MIN',\n",
       " 'PCR_MAX',\n",
       " 'PH_ARTERIAL_MEAN',\n",
       " 'PH_ARTERIAL_MIN',\n",
       " 'PH_ARTERIAL_MAX',\n",
       " 'PH_VENOUS_MEAN',\n",
       " 'PH_VENOUS_MIN',\n",
       " 'PH_VENOUS_MAX',\n",
       " 'PLATELETS_MEAN',\n",
       " 'PLATELETS_MIN',\n",
       " 'PLATELETS_MAX',\n",
       " 'POTASSIUM_MEAN',\n",
       " 'POTASSIUM_MIN',\n",
       " 'POTASSIUM_MAX',\n",
       " 'SAT02_ARTERIAL_MEAN',\n",
       " 'SAT02_ARTERIAL_MIN',\n",
       " 'SAT02_ARTERIAL_MAX',\n",
       " 'SAT02_VENOUS_MEAN',\n",
       " 'SAT02_VENOUS_MIN',\n",
       " 'SAT02_VENOUS_MAX',\n",
       " 'SODIUM_MEAN',\n",
       " 'SODIUM_MIN',\n",
       " 'SODIUM_MAX',\n",
       " 'TGO_MEAN',\n",
       " 'TGO_MIN',\n",
       " 'TGO_MAX',\n",
       " 'TGP_MEAN',\n",
       " 'TGP_MIN',\n",
       " 'TGP_MAX',\n",
       " 'TTPA_MEAN',\n",
       " 'TTPA_MIN',\n",
       " 'TTPA_MAX',\n",
       " 'UREA_MEAN',\n",
       " 'UREA_MIN',\n",
       " 'UREA_MAX',\n",
       " 'DIMER_MEAN',\n",
       " 'DIMER_MIN',\n",
       " 'DIMER_MAX',\n",
       " 'BLOODPRESSURE_DIASTOLIC_MEDIAN',\n",
       " 'BLOODPRESSURE_SISTOLIC_MEDIAN',\n",
       " 'HEART_RATE_MEDIAN',\n",
       " 'RESPIRATORY_RATE_MEDIAN',\n",
       " 'TEMPERATURE_MEDIAN',\n",
       " 'OXYGEN_SATURATION_MEDIAN',\n",
       " 'BLOODPRESSURE_DIASTOLIC_MIN',\n",
       " 'BLOODPRESSURE_SISTOLIC_MIN',\n",
       " 'HEART_RATE_MIN',\n",
       " 'TEMPERATURE_MIN',\n",
       " 'OXYGEN_SATURATION_MIN',\n",
       " 'BLOODPRESSURE_SISTOLIC_MAX',\n",
       " 'HEART_RATE_MAX',\n",
       " 'RESPIRATORY_RATE_MAX',\n",
       " 'TEMPERATURE_MAX',\n",
       " 'OXYGEN_SATURATION_MAX',\n",
       " 'BLOODPRESSURE_DIASTOLIC_DIFF_REL',\n",
       " 'BLOODPRESSURE_SISTOLIC_DIFF_REL',\n",
       " 'RESPIRATORY_RATE_DIFF_REL',\n",
       " 'TEMPERATURE_DIFF_REL',\n",
       " 'OXYGEN_SATURATION_DIFF_REL']"
      ]
     },
     "execution_count": 62,
     "metadata": {},
     "output_type": "execute_result"
    }
   ],
   "source": [
    "matriz_superior = matriz_corr.where(np.triu(np.ones(matriz_corr.shape), k=1).astype(np.bool))\n",
    "excluir = [coluna for coluna in matriz_superior.columns if any(matriz_superior[coluna] > alta_corr)]\n",
    "excluir"
   ]
  },
  {
   "cell_type": "code",
   "execution_count": 63,
   "metadata": {},
   "outputs": [],
   "source": [
    "# Funcao usada para dropar as colunas que conseguimos acima\n",
    "def remove_corr_var (dados, valor_corte):\n",
    "    # para nossos dados atuais, a matriz_corr é utilizada para: selecionar as colunas que queremos, plotar a matriz de correlacao, pegar seu valor absoluto\n",
    "    matriz_corr = dados.iloc[:, 4:-2].corr().abs()\n",
    "    # Matriz superior recebe a matriz_corr e faz uma selecao\n",
    "    # where usado para selecionar como faremos a selecao (expressao booleana)\n",
    "    # np.triu usado para triangular nossa matriz, removendo a parte inferior e principal (para remover a principal usamos o k=1)\n",
    "    # astype para definir o tipo como booleano.\n",
    "    matriz_superior = matriz_corr.where(np.triu(np.ones(matriz_corr.shape), k=1).astype(np.bool))\n",
    "    excluir = [coluna for coluna in matriz_superior.columns if any(matriz_superior[coluna] > valor_corte)]\n",
    "    \n",
    "    return dados.drop(excluir, axis = 1)"
   ]
  },
  {
   "cell_type": "code",
   "execution_count": 64,
   "metadata": {},
   "outputs": [],
   "source": [
    "dados_limpos_sem_corr = remove_corr_var(dados_limpos, 0.95)"
   ]
  },
  {
   "cell_type": "code",
   "execution_count": 65,
   "metadata": {},
   "outputs": [
    {
     "name": "stdout",
     "output_type": "stream",
     "text": [
      "AUC Médio: 0.8050053073408334, Intervalo: 0.7089830223773051 - 0.9010275923043617\n"
     ]
    }
   ],
   "source": [
    "# teste com os novos parametros\n",
    "roda_modelo_cv(modelo_arvore, dados_limpos_sem_corr, 5, 10)"
   ]
  },
  {
   "cell_type": "code",
   "execution_count": 66,
   "metadata": {},
   "outputs": [
    {
     "name": "stdout",
     "output_type": "stream",
     "text": [
      "AUC Médio: 0.7917914834691153, Intervalo: 0.6924326320224297 - 0.891150334915801\n"
     ]
    }
   ],
   "source": [
    "roda_modelo_cv(modelo_arvore, dados_limpos, 5, 10)"
   ]
  },
  {
   "cell_type": "code",
   "execution_count": 67,
   "metadata": {},
   "outputs": [
    {
     "name": "stdout",
     "output_type": "stream",
     "text": [
      "AUC Médio: 0.7617590467261519, Intervalo: 0.6406479002058062 - 0.8828701932464976\n"
     ]
    }
   ],
   "source": [
    "roda_modelo_cv(modelo, dados_limpos, 5, 10)"
   ]
  },
  {
   "cell_type": "code",
   "execution_count": 68,
   "metadata": {},
   "outputs": [
    {
     "name": "stdout",
     "output_type": "stream",
     "text": [
      "AUC Médio: 0.768107448058106, Intervalo: 0.6520282956987289 - 0.8841866004174832\n"
     ]
    }
   ],
   "source": [
    "roda_modelo_cv(modelo, dados_limpos_sem_corr, 5, 10)"
   ]
  },
  {
   "cell_type": "code",
   "execution_count": 69,
   "metadata": {},
   "outputs": [
    {
     "data": {
      "text/plain": [
       "0.7045454545454546"
      ]
     },
     "execution_count": 69,
     "metadata": {},
     "output_type": "execute_result"
    }
   ],
   "source": [
    "# apenas instanciando para verificar a acurácia geral\n",
    "modelo_arvore.fit(X_train, y_train)\n",
    "y_predict = modelo_arvore.predict(X_test)\n",
    "accuracy_score(y_test, y_predict)"
   ]
  },
  {
   "cell_type": "markdown",
   "metadata": {},
   "source": [
    "# Mega Resumão de tudo que foi visto"
   ]
  },
  {
   "cell_type": "markdown",
   "metadata": {},
   "source": [
    "Damos inicio a este curso, já puxando do curso anterior no qual falamos dos modelos logisticos para previsao.<br>\n",
    "Iniciamos Recriando os modelos utilizados nas aulas passadas para seguir diretamente com os conceitos deste curso, abaixo os codigos (finalizados) usados para selecao e tratamento dos nossos dados"
   ]
  },
  {
   "cell_type": "markdown",
   "metadata": {},
   "source": [
    "## Passo I: Tratativa dos dados"
   ]
  },
  {
   "cell_type": "code",
   "execution_count": 70,
   "metadata": {},
   "outputs": [],
   "source": [
    "def preenche_tabela(dados):\n",
    "    # Na base de dados atual, o desafio foi proposto pelo hospital sirio libanês\n",
    "    # os mesmos informaram as colunas que seriam mais utilizadas para a criacao de nossos modelos, entao por isso o slice foi feito da forma abaixo\n",
    "    features_continuas_colunas = dados.iloc[:, 13:-2].columns\n",
    "    # Aqui foi feito um agrupamento pelo identificador do paciente\n",
    "    # fazendo a selecao das features_continuas_colunas, e preenchendo os NaN's com os metodos bfill(preencher para tras) e ffill(preencher para frente)\n",
    "    features_continuas = dados.groupby('PATIENT_VISIT_IDENTIFIER', as_index = False)[features_continuas_colunas].fillna(method = 'bfill').fillna(method = 'ffill')\n",
    "    # Abaixo foram selecionadas apenas as features categorias, que consideramos o inverso das features continuas acima\n",
    "    # Como as continuas se iniciam a partir da coluna 13, consideramos até a coluna 13 as categoricas\n",
    "    features_categoricas = dados.iloc[:, :13]\n",
    "    # Esta variavel foi feita para selecionar a janela do paciente. A janela representa as horas que foram contabilizadas até a entrada do paciente no hospital\n",
    "    # E ICU = UTI, se o paciente foi para uti e em qual janela foi.\n",
    "    saida = dados.iloc[:, -2:]\n",
    "    # Dados finais é o DF que queremos utilizar, entao fizemos um pd.concat selecionando(em ordem) o que seria adicionado ao nosso df\n",
    "    # ignore_index usado para cancelar o uso do index e acabar nos devolvendo algo bizarro, e axis 1 para informar que serão colunas e nao linhas a serem inseridas\n",
    "    dados_finais = pd.concat([features_categoricas, features_continuas, saida], ignore_index = True, axis = 1)\n",
    "    # usado para nomear as colunas do nosso df com base no df original.\n",
    "    dados_finais.columns = dados.columns\n",
    "    return dados_finais"
   ]
  },
  {
   "cell_type": "markdown",
   "metadata": {},
   "source": [
    "Com a funcao acima, iremos criar a variavel dados_limpos, que contem as colunas que queremos utilizar.<br>\n",
    "Apos isso, realizamos uma selecao dos dados que queremos remover.<br>\n",
    "A selecao consiste no seguinte: Agrupamento pelo identificador do paciente, se a janela do paciente for entre 0-2 e o valor da UTI for igual a 1, queremos remove-lo, a query fica assim:<br>\n",
    "\n",
    "a_remover = dados_limpos.query('WINDOW==\"0-2\" and ICU == 1')['PATIENT_VISIT_IDENTIFIER'].values <br>\n",
    "\n",
    "Isso nos retorna qual paciente que esteja com a janela especificada e ICU igual a 1 (o valor de identificacao do paciente).<br>\n",
    "Em seguida, seguindo esta tratativa iremos atualizar nossos dados_limpos da seguinte forma:<br>\n",
    "\n",
    "dados_limpos = dados_limpos.query('PATIENT_VISIT_IDENTIFIER not in @a_remover')<br>\n",
    "\n",
    "Seguido disso, criamos uma função, para \"preparar\" nossa janela(WINDOW)"
   ]
  },
  {
   "cell_type": "code",
   "execution_count": 71,
   "metadata": {},
   "outputs": [],
   "source": [
    "# Classificada para prever se o paciente poderá entrar na UTI na primeira janela ou nao\n",
    "# definicao da funcao para selecionar a janela\n",
    "def prepare_windows(rows):\n",
    "    # Se qualquer uma das linhas, tiver o valor dentro delas ICU\n",
    "    if (np.any(rows['ICU'])):\n",
    "        # Localize a linha na qual a janela seja igual 0-2, na coluna ICU coloque o valor com 1\n",
    "        rows.loc[rows['WINDOW'] == '0-2', 'ICU'] = 1\n",
    "    return rows.loc[rows['WINDOW'] == '0-2']"
   ]
  },
  {
   "cell_type": "markdown",
   "metadata": {},
   "source": [
    "Também tivemos problemas com nossa variável AGE_PERCENTIL, que é uma categoria se o paciente esta em seu enésimo ano. Por exemplo se o paciente esta em sua sexta decada de vida.<br>\n",
    "\n",
    "utilizado astype para converter o tipo para categórico e os parametros .cat.codes gera os codigos das gategorias para nós\n",
    "\n",
    "dados_limpos['AGE_PERCENTIL'] = dados_limpos['AGE_PERCENTIL'].astype('category').cat.codes"
   ]
  },
  {
   "cell_type": "markdown",
   "metadata": {},
   "source": [
    "Quase no final do curso, realizamos a tratativa com base na correlação das variáveis, para selecionar e remover o excesso de colunas, que poderiam estar acelerando o overfit do modelo<br>\n",
    "Para fazer essa verificação, primeiramente vimos as informações gerais do DF, com dados_limpos.info(), em seguida selecionamos todos os tipos de dados exceto float64, da seguinte forma: dados_limpos.select_dtypes(exclude = 'float64')"
   ]
  },
  {
   "cell_type": "code",
   "execution_count": 72,
   "metadata": {},
   "outputs": [
    {
     "name": "stdout",
     "output_type": "stream",
     "text": [
      "<class 'pandas.core.frame.DataFrame'>\n",
      "MultiIndex: 352 entries, (0, 0) to (384, 1920)\n",
      "Columns: 231 entries, PATIENT_VISIT_IDENTIFIER to ICU\n",
      "dtypes: float64(225), int64(4), int8(1), object(1)\n",
      "memory usage: 649.8+ KB\n"
     ]
    },
    {
     "data": {
      "text/html": [
       "<div>\n",
       "<style scoped>\n",
       "    .dataframe tbody tr th:only-of-type {\n",
       "        vertical-align: middle;\n",
       "    }\n",
       "\n",
       "    .dataframe tbody tr th {\n",
       "        vertical-align: top;\n",
       "    }\n",
       "\n",
       "    .dataframe thead th {\n",
       "        text-align: right;\n",
       "    }\n",
       "</style>\n",
       "<table border=\"1\" class=\"dataframe\">\n",
       "  <thead>\n",
       "    <tr style=\"text-align: right;\">\n",
       "      <th></th>\n",
       "      <th></th>\n",
       "      <th>PATIENT_VISIT_IDENTIFIER</th>\n",
       "      <th>AGE_ABOVE65</th>\n",
       "      <th>AGE_PERCENTIL</th>\n",
       "      <th>GENDER</th>\n",
       "      <th>WINDOW</th>\n",
       "      <th>ICU</th>\n",
       "    </tr>\n",
       "    <tr>\n",
       "      <th>PATIENT_VISIT_IDENTIFIER</th>\n",
       "      <th></th>\n",
       "      <th></th>\n",
       "      <th></th>\n",
       "      <th></th>\n",
       "      <th></th>\n",
       "      <th></th>\n",
       "      <th></th>\n",
       "    </tr>\n",
       "  </thead>\n",
       "  <tbody>\n",
       "    <tr>\n",
       "      <th>0</th>\n",
       "      <th>0</th>\n",
       "      <td>0</td>\n",
       "      <td>1</td>\n",
       "      <td>5</td>\n",
       "      <td>0</td>\n",
       "      <td>0-2</td>\n",
       "      <td>1</td>\n",
       "    </tr>\n",
       "    <tr>\n",
       "      <th>2</th>\n",
       "      <th>10</th>\n",
       "      <td>2</td>\n",
       "      <td>0</td>\n",
       "      <td>0</td>\n",
       "      <td>0</td>\n",
       "      <td>0-2</td>\n",
       "      <td>1</td>\n",
       "    </tr>\n",
       "    <tr>\n",
       "      <th>3</th>\n",
       "      <th>15</th>\n",
       "      <td>3</td>\n",
       "      <td>0</td>\n",
       "      <td>3</td>\n",
       "      <td>1</td>\n",
       "      <td>0-2</td>\n",
       "      <td>0</td>\n",
       "    </tr>\n",
       "    <tr>\n",
       "      <th>4</th>\n",
       "      <th>20</th>\n",
       "      <td>4</td>\n",
       "      <td>0</td>\n",
       "      <td>0</td>\n",
       "      <td>0</td>\n",
       "      <td>0-2</td>\n",
       "      <td>0</td>\n",
       "    </tr>\n",
       "    <tr>\n",
       "      <th>5</th>\n",
       "      <th>25</th>\n",
       "      <td>5</td>\n",
       "      <td>0</td>\n",
       "      <td>0</td>\n",
       "      <td>0</td>\n",
       "      <td>0-2</td>\n",
       "      <td>0</td>\n",
       "    </tr>\n",
       "    <tr>\n",
       "      <th>...</th>\n",
       "      <th>...</th>\n",
       "      <td>...</td>\n",
       "      <td>...</td>\n",
       "      <td>...</td>\n",
       "      <td>...</td>\n",
       "      <td>...</td>\n",
       "      <td>...</td>\n",
       "    </tr>\n",
       "    <tr>\n",
       "      <th>380</th>\n",
       "      <th>1900</th>\n",
       "      <td>380</td>\n",
       "      <td>0</td>\n",
       "      <td>3</td>\n",
       "      <td>1</td>\n",
       "      <td>0-2</td>\n",
       "      <td>1</td>\n",
       "    </tr>\n",
       "    <tr>\n",
       "      <th>381</th>\n",
       "      <th>1905</th>\n",
       "      <td>381</td>\n",
       "      <td>1</td>\n",
       "      <td>9</td>\n",
       "      <td>0</td>\n",
       "      <td>0-2</td>\n",
       "      <td>0</td>\n",
       "    </tr>\n",
       "    <tr>\n",
       "      <th>382</th>\n",
       "      <th>1910</th>\n",
       "      <td>382</td>\n",
       "      <td>0</td>\n",
       "      <td>4</td>\n",
       "      <td>0</td>\n",
       "      <td>0-2</td>\n",
       "      <td>1</td>\n",
       "    </tr>\n",
       "    <tr>\n",
       "      <th>383</th>\n",
       "      <th>1915</th>\n",
       "      <td>383</td>\n",
       "      <td>0</td>\n",
       "      <td>3</td>\n",
       "      <td>1</td>\n",
       "      <td>0-2</td>\n",
       "      <td>0</td>\n",
       "    </tr>\n",
       "    <tr>\n",
       "      <th>384</th>\n",
       "      <th>1920</th>\n",
       "      <td>384</td>\n",
       "      <td>0</td>\n",
       "      <td>4</td>\n",
       "      <td>1</td>\n",
       "      <td>0-2</td>\n",
       "      <td>0</td>\n",
       "    </tr>\n",
       "  </tbody>\n",
       "</table>\n",
       "<p>352 rows × 6 columns</p>\n",
       "</div>"
      ],
      "text/plain": [
       "                               PATIENT_VISIT_IDENTIFIER  AGE_ABOVE65  \\\n",
       "PATIENT_VISIT_IDENTIFIER                                               \n",
       "0                        0                            0            1   \n",
       "2                        10                           2            0   \n",
       "3                        15                           3            0   \n",
       "4                        20                           4            0   \n",
       "5                        25                           5            0   \n",
       "...                                                 ...          ...   \n",
       "380                      1900                       380            0   \n",
       "381                      1905                       381            1   \n",
       "382                      1910                       382            0   \n",
       "383                      1915                       383            0   \n",
       "384                      1920                       384            0   \n",
       "\n",
       "                               AGE_PERCENTIL  GENDER WINDOW  ICU  \n",
       "PATIENT_VISIT_IDENTIFIER                                          \n",
       "0                        0                 5       0    0-2    1  \n",
       "2                        10                0       0    0-2    1  \n",
       "3                        15                3       1    0-2    0  \n",
       "4                        20                0       0    0-2    0  \n",
       "5                        25                0       0    0-2    0  \n",
       "...                                      ...     ...    ...  ...  \n",
       "380                      1900              3       1    0-2    1  \n",
       "381                      1905              9       0    0-2    0  \n",
       "382                      1910              4       0    0-2    1  \n",
       "383                      1915              3       1    0-2    0  \n",
       "384                      1920              4       1    0-2    0  \n",
       "\n",
       "[352 rows x 6 columns]"
      ]
     },
     "execution_count": 72,
     "metadata": {},
     "output_type": "execute_result"
    }
   ],
   "source": [
    "dados_limpos.info()\n",
    "dados_limpos.select_dtypes(exclude='float64')"
   ]
  },
  {
   "cell_type": "markdown",
   "metadata": {},
   "source": [
    "A partir deste momento, vemos as tabelas que nao utilizam o valor numerico de float64<br>\n",
    "E iniciamos a tratativa para remover as tabelas com alta correlação."
   ]
  },
  {
   "cell_type": "code",
   "execution_count": 73,
   "metadata": {},
   "outputs": [],
   "source": [
    "# A alta correlação selecionada, foi de .95\n",
    "alta_corr = 0.95\n",
    "matriz_correlacao = dados_limpos.iloc[:, 4:-2].corr().abs()"
   ]
  },
  {
   "cell_type": "markdown",
   "metadata": {},
   "source": [
    "Como é visto em nossa matriz, ela possui um comportamento que as informacoes pertencentes do eixo Y se repetem no eixo X<br>\n",
    "Então a lógica utilizada, é de triangular a nossa matriz e remover a parte inferior da mesma.<br>"
   ]
  },
  {
   "cell_type": "code",
   "execution_count": 74,
   "metadata": {},
   "outputs": [
    {
     "data": {
      "text/html": [
       "<div>\n",
       "<style scoped>\n",
       "    .dataframe tbody tr th:only-of-type {\n",
       "        vertical-align: middle;\n",
       "    }\n",
       "\n",
       "    .dataframe tbody tr th {\n",
       "        vertical-align: top;\n",
       "    }\n",
       "\n",
       "    .dataframe thead th {\n",
       "        text-align: right;\n",
       "    }\n",
       "</style>\n",
       "<table border=\"1\" class=\"dataframe\">\n",
       "  <thead>\n",
       "    <tr style=\"text-align: right;\">\n",
       "      <th></th>\n",
       "      <th>DISEASE GROUPING 1</th>\n",
       "      <th>DISEASE GROUPING 2</th>\n",
       "      <th>DISEASE GROUPING 3</th>\n",
       "      <th>DISEASE GROUPING 4</th>\n",
       "      <th>DISEASE GROUPING 5</th>\n",
       "      <th>DISEASE GROUPING 6</th>\n",
       "      <th>HTN</th>\n",
       "      <th>IMMUNOCOMPROMISED</th>\n",
       "      <th>OTHER</th>\n",
       "      <th>ALBUMIN_MEDIAN</th>\n",
       "      <th>...</th>\n",
       "      <th>HEART_RATE_DIFF</th>\n",
       "      <th>RESPIRATORY_RATE_DIFF</th>\n",
       "      <th>TEMPERATURE_DIFF</th>\n",
       "      <th>OXYGEN_SATURATION_DIFF</th>\n",
       "      <th>BLOODPRESSURE_DIASTOLIC_DIFF_REL</th>\n",
       "      <th>BLOODPRESSURE_SISTOLIC_DIFF_REL</th>\n",
       "      <th>HEART_RATE_DIFF_REL</th>\n",
       "      <th>RESPIRATORY_RATE_DIFF_REL</th>\n",
       "      <th>TEMPERATURE_DIFF_REL</th>\n",
       "      <th>OXYGEN_SATURATION_DIFF_REL</th>\n",
       "    </tr>\n",
       "  </thead>\n",
       "  <tbody>\n",
       "    <tr>\n",
       "      <th>DISEASE GROUPING 1</th>\n",
       "      <td>1.000000</td>\n",
       "      <td>0.196347</td>\n",
       "      <td>0.278271</td>\n",
       "      <td>0.017529</td>\n",
       "      <td>0.340370</td>\n",
       "      <td>0.202849</td>\n",
       "      <td>0.489245</td>\n",
       "      <td>0.176224</td>\n",
       "      <td>0.153793</td>\n",
       "      <td>0.009174</td>\n",
       "      <td>...</td>\n",
       "      <td>0.129220</td>\n",
       "      <td>0.028964</td>\n",
       "      <td>0.041099</td>\n",
       "      <td>0.056287</td>\n",
       "      <td>0.050070</td>\n",
       "      <td>0.054745</td>\n",
       "      <td>0.093512</td>\n",
       "      <td>0.052568</td>\n",
       "      <td>0.039692</td>\n",
       "      <td>0.056984</td>\n",
       "    </tr>\n",
       "    <tr>\n",
       "      <th>DISEASE GROUPING 2</th>\n",
       "      <td>0.196347</td>\n",
       "      <td>1.000000</td>\n",
       "      <td>0.084392</td>\n",
       "      <td>0.114818</td>\n",
       "      <td>0.112878</td>\n",
       "      <td>0.032173</td>\n",
       "      <td>0.118516</td>\n",
       "      <td>0.139947</td>\n",
       "      <td>0.068432</td>\n",
       "      <td>0.032245</td>\n",
       "      <td>...</td>\n",
       "      <td>0.014222</td>\n",
       "      <td>0.001618</td>\n",
       "      <td>0.024705</td>\n",
       "      <td>0.085122</td>\n",
       "      <td>0.070419</td>\n",
       "      <td>0.016917</td>\n",
       "      <td>0.005102</td>\n",
       "      <td>0.003487</td>\n",
       "      <td>0.024682</td>\n",
       "      <td>0.099019</td>\n",
       "    </tr>\n",
       "    <tr>\n",
       "      <th>DISEASE GROUPING 3</th>\n",
       "      <td>0.278271</td>\n",
       "      <td>0.084392</td>\n",
       "      <td>1.000000</td>\n",
       "      <td>0.308875</td>\n",
       "      <td>0.293259</td>\n",
       "      <td>0.275760</td>\n",
       "      <td>0.471039</td>\n",
       "      <td>0.075599</td>\n",
       "      <td>0.141903</td>\n",
       "      <td>0.035719</td>\n",
       "      <td>...</td>\n",
       "      <td>0.015035</td>\n",
       "      <td>0.013900</td>\n",
       "      <td>0.000746</td>\n",
       "      <td>0.005011</td>\n",
       "      <td>0.004373</td>\n",
       "      <td>0.020683</td>\n",
       "      <td>0.011633</td>\n",
       "      <td>0.008895</td>\n",
       "      <td>0.003183</td>\n",
       "      <td>0.006110</td>\n",
       "    </tr>\n",
       "    <tr>\n",
       "      <th>DISEASE GROUPING 4</th>\n",
       "      <td>0.017529</td>\n",
       "      <td>0.114818</td>\n",
       "      <td>0.308875</td>\n",
       "      <td>1.000000</td>\n",
       "      <td>0.128287</td>\n",
       "      <td>0.171438</td>\n",
       "      <td>0.136472</td>\n",
       "      <td>0.103100</td>\n",
       "      <td>0.063919</td>\n",
       "      <td>0.049593</td>\n",
       "      <td>...</td>\n",
       "      <td>0.023554</td>\n",
       "      <td>0.016131</td>\n",
       "      <td>0.032550</td>\n",
       "      <td>0.026121</td>\n",
       "      <td>0.043714</td>\n",
       "      <td>0.029596</td>\n",
       "      <td>0.034997</td>\n",
       "      <td>0.023616</td>\n",
       "      <td>0.034426</td>\n",
       "      <td>0.025072</td>\n",
       "    </tr>\n",
       "    <tr>\n",
       "      <th>DISEASE GROUPING 5</th>\n",
       "      <td>0.340370</td>\n",
       "      <td>0.112878</td>\n",
       "      <td>0.293259</td>\n",
       "      <td>0.128287</td>\n",
       "      <td>1.000000</td>\n",
       "      <td>0.129836</td>\n",
       "      <td>0.459169</td>\n",
       "      <td>0.108849</td>\n",
       "      <td>0.149025</td>\n",
       "      <td>0.082353</td>\n",
       "      <td>...</td>\n",
       "      <td>0.011404</td>\n",
       "      <td>0.045482</td>\n",
       "      <td>0.081749</td>\n",
       "      <td>0.098081</td>\n",
       "      <td>0.017232</td>\n",
       "      <td>0.059434</td>\n",
       "      <td>0.045113</td>\n",
       "      <td>0.058564</td>\n",
       "      <td>0.080693</td>\n",
       "      <td>0.097014</td>\n",
       "    </tr>\n",
       "    <tr>\n",
       "      <th>...</th>\n",
       "      <td>...</td>\n",
       "      <td>...</td>\n",
       "      <td>...</td>\n",
       "      <td>...</td>\n",
       "      <td>...</td>\n",
       "      <td>...</td>\n",
       "      <td>...</td>\n",
       "      <td>...</td>\n",
       "      <td>...</td>\n",
       "      <td>...</td>\n",
       "      <td>...</td>\n",
       "      <td>...</td>\n",
       "      <td>...</td>\n",
       "      <td>...</td>\n",
       "      <td>...</td>\n",
       "      <td>...</td>\n",
       "      <td>...</td>\n",
       "      <td>...</td>\n",
       "      <td>...</td>\n",
       "      <td>...</td>\n",
       "      <td>...</td>\n",
       "    </tr>\n",
       "    <tr>\n",
       "      <th>BLOODPRESSURE_SISTOLIC_DIFF_REL</th>\n",
       "      <td>0.054745</td>\n",
       "      <td>0.016917</td>\n",
       "      <td>0.020683</td>\n",
       "      <td>0.029596</td>\n",
       "      <td>0.059434</td>\n",
       "      <td>0.003571</td>\n",
       "      <td>0.009490</td>\n",
       "      <td>0.028020</td>\n",
       "      <td>0.040651</td>\n",
       "      <td>0.056603</td>\n",
       "      <td>...</td>\n",
       "      <td>0.371623</td>\n",
       "      <td>0.366943</td>\n",
       "      <td>0.425505</td>\n",
       "      <td>0.483904</td>\n",
       "      <td>0.779557</td>\n",
       "      <td>1.000000</td>\n",
       "      <td>0.418624</td>\n",
       "      <td>0.421228</td>\n",
       "      <td>0.422108</td>\n",
       "      <td>0.479010</td>\n",
       "    </tr>\n",
       "    <tr>\n",
       "      <th>HEART_RATE_DIFF_REL</th>\n",
       "      <td>0.093512</td>\n",
       "      <td>0.005102</td>\n",
       "      <td>0.011633</td>\n",
       "      <td>0.034997</td>\n",
       "      <td>0.045113</td>\n",
       "      <td>0.018891</td>\n",
       "      <td>0.073639</td>\n",
       "      <td>0.015522</td>\n",
       "      <td>0.064229</td>\n",
       "      <td>0.046781</td>\n",
       "      <td>...</td>\n",
       "      <td>0.949914</td>\n",
       "      <td>0.320962</td>\n",
       "      <td>0.362021</td>\n",
       "      <td>0.360456</td>\n",
       "      <td>0.373031</td>\n",
       "      <td>0.418624</td>\n",
       "      <td>1.000000</td>\n",
       "      <td>0.343703</td>\n",
       "      <td>0.364743</td>\n",
       "      <td>0.350001</td>\n",
       "    </tr>\n",
       "    <tr>\n",
       "      <th>RESPIRATORY_RATE_DIFF_REL</th>\n",
       "      <td>0.052568</td>\n",
       "      <td>0.003487</td>\n",
       "      <td>0.008895</td>\n",
       "      <td>0.023616</td>\n",
       "      <td>0.058564</td>\n",
       "      <td>0.049022</td>\n",
       "      <td>0.045665</td>\n",
       "      <td>0.019384</td>\n",
       "      <td>0.071270</td>\n",
       "      <td>0.029099</td>\n",
       "      <td>...</td>\n",
       "      <td>0.293907</td>\n",
       "      <td>0.961739</td>\n",
       "      <td>0.316620</td>\n",
       "      <td>0.349747</td>\n",
       "      <td>0.349866</td>\n",
       "      <td>0.421228</td>\n",
       "      <td>0.343703</td>\n",
       "      <td>1.000000</td>\n",
       "      <td>0.313204</td>\n",
       "      <td>0.342852</td>\n",
       "    </tr>\n",
       "    <tr>\n",
       "      <th>TEMPERATURE_DIFF_REL</th>\n",
       "      <td>0.039692</td>\n",
       "      <td>0.024682</td>\n",
       "      <td>0.003183</td>\n",
       "      <td>0.034426</td>\n",
       "      <td>0.080693</td>\n",
       "      <td>0.005691</td>\n",
       "      <td>0.031264</td>\n",
       "      <td>0.008243</td>\n",
       "      <td>0.018162</td>\n",
       "      <td>0.061337</td>\n",
       "      <td>...</td>\n",
       "      <td>0.298203</td>\n",
       "      <td>0.282514</td>\n",
       "      <td>0.999444</td>\n",
       "      <td>0.503937</td>\n",
       "      <td>0.356403</td>\n",
       "      <td>0.422108</td>\n",
       "      <td>0.364743</td>\n",
       "      <td>0.313204</td>\n",
       "      <td>1.000000</td>\n",
       "      <td>0.493818</td>\n",
       "    </tr>\n",
       "    <tr>\n",
       "      <th>OXYGEN_SATURATION_DIFF_REL</th>\n",
       "      <td>0.056984</td>\n",
       "      <td>0.099019</td>\n",
       "      <td>0.006110</td>\n",
       "      <td>0.025072</td>\n",
       "      <td>0.097014</td>\n",
       "      <td>0.033472</td>\n",
       "      <td>0.017082</td>\n",
       "      <td>0.066648</td>\n",
       "      <td>0.021307</td>\n",
       "      <td>0.059000</td>\n",
       "      <td>...</td>\n",
       "      <td>0.295380</td>\n",
       "      <td>0.325973</td>\n",
       "      <td>0.497784</td>\n",
       "      <td>0.998889</td>\n",
       "      <td>0.521889</td>\n",
       "      <td>0.479010</td>\n",
       "      <td>0.350001</td>\n",
       "      <td>0.342852</td>\n",
       "      <td>0.493818</td>\n",
       "      <td>1.000000</td>\n",
       "    </tr>\n",
       "  </tbody>\n",
       "</table>\n",
       "<p>225 rows × 225 columns</p>\n",
       "</div>"
      ],
      "text/plain": [
       "                                 DISEASE GROUPING 1  DISEASE GROUPING 2  \\\n",
       "DISEASE GROUPING 1                         1.000000            0.196347   \n",
       "DISEASE GROUPING 2                         0.196347            1.000000   \n",
       "DISEASE GROUPING 3                         0.278271            0.084392   \n",
       "DISEASE GROUPING 4                         0.017529            0.114818   \n",
       "DISEASE GROUPING 5                         0.340370            0.112878   \n",
       "...                                             ...                 ...   \n",
       "BLOODPRESSURE_SISTOLIC_DIFF_REL            0.054745            0.016917   \n",
       "HEART_RATE_DIFF_REL                        0.093512            0.005102   \n",
       "RESPIRATORY_RATE_DIFF_REL                  0.052568            0.003487   \n",
       "TEMPERATURE_DIFF_REL                       0.039692            0.024682   \n",
       "OXYGEN_SATURATION_DIFF_REL                 0.056984            0.099019   \n",
       "\n",
       "                                 DISEASE GROUPING 3  DISEASE GROUPING 4  \\\n",
       "DISEASE GROUPING 1                         0.278271            0.017529   \n",
       "DISEASE GROUPING 2                         0.084392            0.114818   \n",
       "DISEASE GROUPING 3                         1.000000            0.308875   \n",
       "DISEASE GROUPING 4                         0.308875            1.000000   \n",
       "DISEASE GROUPING 5                         0.293259            0.128287   \n",
       "...                                             ...                 ...   \n",
       "BLOODPRESSURE_SISTOLIC_DIFF_REL            0.020683            0.029596   \n",
       "HEART_RATE_DIFF_REL                        0.011633            0.034997   \n",
       "RESPIRATORY_RATE_DIFF_REL                  0.008895            0.023616   \n",
       "TEMPERATURE_DIFF_REL                       0.003183            0.034426   \n",
       "OXYGEN_SATURATION_DIFF_REL                 0.006110            0.025072   \n",
       "\n",
       "                                 DISEASE GROUPING 5  DISEASE GROUPING 6  \\\n",
       "DISEASE GROUPING 1                         0.340370            0.202849   \n",
       "DISEASE GROUPING 2                         0.112878            0.032173   \n",
       "DISEASE GROUPING 3                         0.293259            0.275760   \n",
       "DISEASE GROUPING 4                         0.128287            0.171438   \n",
       "DISEASE GROUPING 5                         1.000000            0.129836   \n",
       "...                                             ...                 ...   \n",
       "BLOODPRESSURE_SISTOLIC_DIFF_REL            0.059434            0.003571   \n",
       "HEART_RATE_DIFF_REL                        0.045113            0.018891   \n",
       "RESPIRATORY_RATE_DIFF_REL                  0.058564            0.049022   \n",
       "TEMPERATURE_DIFF_REL                       0.080693            0.005691   \n",
       "OXYGEN_SATURATION_DIFF_REL                 0.097014            0.033472   \n",
       "\n",
       "                                      HTN  IMMUNOCOMPROMISED     OTHER  \\\n",
       "DISEASE GROUPING 1               0.489245           0.176224  0.153793   \n",
       "DISEASE GROUPING 2               0.118516           0.139947  0.068432   \n",
       "DISEASE GROUPING 3               0.471039           0.075599  0.141903   \n",
       "DISEASE GROUPING 4               0.136472           0.103100  0.063919   \n",
       "DISEASE GROUPING 5               0.459169           0.108849  0.149025   \n",
       "...                                   ...                ...       ...   \n",
       "BLOODPRESSURE_SISTOLIC_DIFF_REL  0.009490           0.028020  0.040651   \n",
       "HEART_RATE_DIFF_REL              0.073639           0.015522  0.064229   \n",
       "RESPIRATORY_RATE_DIFF_REL        0.045665           0.019384  0.071270   \n",
       "TEMPERATURE_DIFF_REL             0.031264           0.008243  0.018162   \n",
       "OXYGEN_SATURATION_DIFF_REL       0.017082           0.066648  0.021307   \n",
       "\n",
       "                                 ALBUMIN_MEDIAN  ...  HEART_RATE_DIFF  \\\n",
       "DISEASE GROUPING 1                     0.009174  ...         0.129220   \n",
       "DISEASE GROUPING 2                     0.032245  ...         0.014222   \n",
       "DISEASE GROUPING 3                     0.035719  ...         0.015035   \n",
       "DISEASE GROUPING 4                     0.049593  ...         0.023554   \n",
       "DISEASE GROUPING 5                     0.082353  ...         0.011404   \n",
       "...                                         ...  ...              ...   \n",
       "BLOODPRESSURE_SISTOLIC_DIFF_REL        0.056603  ...         0.371623   \n",
       "HEART_RATE_DIFF_REL                    0.046781  ...         0.949914   \n",
       "RESPIRATORY_RATE_DIFF_REL              0.029099  ...         0.293907   \n",
       "TEMPERATURE_DIFF_REL                   0.061337  ...         0.298203   \n",
       "OXYGEN_SATURATION_DIFF_REL             0.059000  ...         0.295380   \n",
       "\n",
       "                                 RESPIRATORY_RATE_DIFF  TEMPERATURE_DIFF  \\\n",
       "DISEASE GROUPING 1                            0.028964          0.041099   \n",
       "DISEASE GROUPING 2                            0.001618          0.024705   \n",
       "DISEASE GROUPING 3                            0.013900          0.000746   \n",
       "DISEASE GROUPING 4                            0.016131          0.032550   \n",
       "DISEASE GROUPING 5                            0.045482          0.081749   \n",
       "...                                                ...               ...   \n",
       "BLOODPRESSURE_SISTOLIC_DIFF_REL               0.366943          0.425505   \n",
       "HEART_RATE_DIFF_REL                           0.320962          0.362021   \n",
       "RESPIRATORY_RATE_DIFF_REL                     0.961739          0.316620   \n",
       "TEMPERATURE_DIFF_REL                          0.282514          0.999444   \n",
       "OXYGEN_SATURATION_DIFF_REL                    0.325973          0.497784   \n",
       "\n",
       "                                 OXYGEN_SATURATION_DIFF  \\\n",
       "DISEASE GROUPING 1                             0.056287   \n",
       "DISEASE GROUPING 2                             0.085122   \n",
       "DISEASE GROUPING 3                             0.005011   \n",
       "DISEASE GROUPING 4                             0.026121   \n",
       "DISEASE GROUPING 5                             0.098081   \n",
       "...                                                 ...   \n",
       "BLOODPRESSURE_SISTOLIC_DIFF_REL                0.483904   \n",
       "HEART_RATE_DIFF_REL                            0.360456   \n",
       "RESPIRATORY_RATE_DIFF_REL                      0.349747   \n",
       "TEMPERATURE_DIFF_REL                           0.503937   \n",
       "OXYGEN_SATURATION_DIFF_REL                     0.998889   \n",
       "\n",
       "                                 BLOODPRESSURE_DIASTOLIC_DIFF_REL  \\\n",
       "DISEASE GROUPING 1                                       0.050070   \n",
       "DISEASE GROUPING 2                                       0.070419   \n",
       "DISEASE GROUPING 3                                       0.004373   \n",
       "DISEASE GROUPING 4                                       0.043714   \n",
       "DISEASE GROUPING 5                                       0.017232   \n",
       "...                                                           ...   \n",
       "BLOODPRESSURE_SISTOLIC_DIFF_REL                          0.779557   \n",
       "HEART_RATE_DIFF_REL                                      0.373031   \n",
       "RESPIRATORY_RATE_DIFF_REL                                0.349866   \n",
       "TEMPERATURE_DIFF_REL                                     0.356403   \n",
       "OXYGEN_SATURATION_DIFF_REL                               0.521889   \n",
       "\n",
       "                                 BLOODPRESSURE_SISTOLIC_DIFF_REL  \\\n",
       "DISEASE GROUPING 1                                      0.054745   \n",
       "DISEASE GROUPING 2                                      0.016917   \n",
       "DISEASE GROUPING 3                                      0.020683   \n",
       "DISEASE GROUPING 4                                      0.029596   \n",
       "DISEASE GROUPING 5                                      0.059434   \n",
       "...                                                          ...   \n",
       "BLOODPRESSURE_SISTOLIC_DIFF_REL                         1.000000   \n",
       "HEART_RATE_DIFF_REL                                     0.418624   \n",
       "RESPIRATORY_RATE_DIFF_REL                               0.421228   \n",
       "TEMPERATURE_DIFF_REL                                    0.422108   \n",
       "OXYGEN_SATURATION_DIFF_REL                              0.479010   \n",
       "\n",
       "                                 HEART_RATE_DIFF_REL  \\\n",
       "DISEASE GROUPING 1                          0.093512   \n",
       "DISEASE GROUPING 2                          0.005102   \n",
       "DISEASE GROUPING 3                          0.011633   \n",
       "DISEASE GROUPING 4                          0.034997   \n",
       "DISEASE GROUPING 5                          0.045113   \n",
       "...                                              ...   \n",
       "BLOODPRESSURE_SISTOLIC_DIFF_REL             0.418624   \n",
       "HEART_RATE_DIFF_REL                         1.000000   \n",
       "RESPIRATORY_RATE_DIFF_REL                   0.343703   \n",
       "TEMPERATURE_DIFF_REL                        0.364743   \n",
       "OXYGEN_SATURATION_DIFF_REL                  0.350001   \n",
       "\n",
       "                                 RESPIRATORY_RATE_DIFF_REL  \\\n",
       "DISEASE GROUPING 1                                0.052568   \n",
       "DISEASE GROUPING 2                                0.003487   \n",
       "DISEASE GROUPING 3                                0.008895   \n",
       "DISEASE GROUPING 4                                0.023616   \n",
       "DISEASE GROUPING 5                                0.058564   \n",
       "...                                                    ...   \n",
       "BLOODPRESSURE_SISTOLIC_DIFF_REL                   0.421228   \n",
       "HEART_RATE_DIFF_REL                               0.343703   \n",
       "RESPIRATORY_RATE_DIFF_REL                         1.000000   \n",
       "TEMPERATURE_DIFF_REL                              0.313204   \n",
       "OXYGEN_SATURATION_DIFF_REL                        0.342852   \n",
       "\n",
       "                                 TEMPERATURE_DIFF_REL  \\\n",
       "DISEASE GROUPING 1                           0.039692   \n",
       "DISEASE GROUPING 2                           0.024682   \n",
       "DISEASE GROUPING 3                           0.003183   \n",
       "DISEASE GROUPING 4                           0.034426   \n",
       "DISEASE GROUPING 5                           0.080693   \n",
       "...                                               ...   \n",
       "BLOODPRESSURE_SISTOLIC_DIFF_REL              0.422108   \n",
       "HEART_RATE_DIFF_REL                          0.364743   \n",
       "RESPIRATORY_RATE_DIFF_REL                    0.313204   \n",
       "TEMPERATURE_DIFF_REL                         1.000000   \n",
       "OXYGEN_SATURATION_DIFF_REL                   0.493818   \n",
       "\n",
       "                                 OXYGEN_SATURATION_DIFF_REL  \n",
       "DISEASE GROUPING 1                                 0.056984  \n",
       "DISEASE GROUPING 2                                 0.099019  \n",
       "DISEASE GROUPING 3                                 0.006110  \n",
       "DISEASE GROUPING 4                                 0.025072  \n",
       "DISEASE GROUPING 5                                 0.097014  \n",
       "...                                                     ...  \n",
       "BLOODPRESSURE_SISTOLIC_DIFF_REL                    0.479010  \n",
       "HEART_RATE_DIFF_REL                                0.350001  \n",
       "RESPIRATORY_RATE_DIFF_REL                          0.342852  \n",
       "TEMPERATURE_DIFF_REL                               0.493818  \n",
       "OXYGEN_SATURATION_DIFF_REL                         1.000000  \n",
       "\n",
       "[225 rows x 225 columns]"
      ]
     },
     "execution_count": 74,
     "metadata": {},
     "output_type": "execute_result"
    }
   ],
   "source": [
    "matriz_correlacao"
   ]
  },
  {
   "cell_type": "markdown",
   "metadata": {},
   "source": [
    "np.ones é utilizado para a criação da nossa matriz, e para usarmos de base, utilizamos o shape da nossa matriz_correlacao"
   ]
  },
  {
   "cell_type": "code",
   "execution_count": 75,
   "metadata": {},
   "outputs": [
    {
     "data": {
      "text/plain": [
       "array([[1., 1., 1., ..., 1., 1., 1.],\n",
       "       [1., 1., 1., ..., 1., 1., 1.],\n",
       "       [1., 1., 1., ..., 1., 1., 1.],\n",
       "       ...,\n",
       "       [1., 1., 1., ..., 1., 1., 1.],\n",
       "       [1., 1., 1., ..., 1., 1., 1.],\n",
       "       [1., 1., 1., ..., 1., 1., 1.]])"
      ]
     },
     "execution_count": 75,
     "metadata": {},
     "output_type": "execute_result"
    }
   ],
   "source": [
    "np.ones(matriz_correlacao.shape)"
   ]
  },
  {
   "cell_type": "markdown",
   "metadata": {},
   "source": [
    "Seguido de conseguir a matriz, o que foi feito é triangular nossa matriz, pois queremos remover a metade inferior.<br>\n",
    "Isso foi selecionado a ser realizado, pois o primeiro resultado da primeira coluna, é 1.000 e se repete diagonalmente.<br>\n",
    "O parametro k = 1, é referente ao inicio de nossa variavel de correlação, que se repete diagonalmente, com ele, removemos a primeira parte da coluna."
   ]
  },
  {
   "cell_type": "code",
   "execution_count": 76,
   "metadata": {},
   "outputs": [
    {
     "data": {
      "text/plain": [
       "array([[1., 1., 1., ..., 1., 1., 1.],\n",
       "       [0., 1., 1., ..., 1., 1., 1.],\n",
       "       [0., 0., 1., ..., 1., 1., 1.],\n",
       "       ...,\n",
       "       [0., 0., 0., ..., 1., 1., 1.],\n",
       "       [0., 0., 0., ..., 0., 1., 1.],\n",
       "       [0., 0., 0., ..., 0., 0., 1.]])"
      ]
     },
     "execution_count": 76,
     "metadata": {},
     "output_type": "execute_result"
    }
   ],
   "source": [
    "np.triu(np.ones(matriz_correlacao.shape))"
   ]
  },
  {
   "cell_type": "code",
   "execution_count": 77,
   "metadata": {},
   "outputs": [
    {
     "data": {
      "text/plain": [
       "array([[0., 1., 1., ..., 1., 1., 1.],\n",
       "       [0., 0., 1., ..., 1., 1., 1.],\n",
       "       [0., 0., 0., ..., 1., 1., 1.],\n",
       "       ...,\n",
       "       [0., 0., 0., ..., 0., 1., 1.],\n",
       "       [0., 0., 0., ..., 0., 0., 1.],\n",
       "       [0., 0., 0., ..., 0., 0., 0.]])"
      ]
     },
     "execution_count": 77,
     "metadata": {},
     "output_type": "execute_result"
    }
   ],
   "source": [
    "np.triu(np.ones(matriz_correlacao.shape), k = 1)"
   ]
  },
  {
   "cell_type": "markdown",
   "metadata": {},
   "source": [
    "Após ja conseguir o formato que queremos, iremos transformar essa matriz em true e false."
   ]
  },
  {
   "cell_type": "code",
   "execution_count": 78,
   "metadata": {},
   "outputs": [
    {
     "data": {
      "text/plain": [
       "array([[False,  True,  True, ...,  True,  True,  True],\n",
       "       [False, False,  True, ...,  True,  True,  True],\n",
       "       [False, False, False, ...,  True,  True,  True],\n",
       "       ...,\n",
       "       [False, False, False, ..., False,  True,  True],\n",
       "       [False, False, False, ..., False, False,  True],\n",
       "       [False, False, False, ..., False, False, False]])"
      ]
     },
     "execution_count": 78,
     "metadata": {},
     "output_type": "execute_result"
    }
   ],
   "source": [
    "np.triu(np.ones(matriz_correlacao.shape), k = 1).astype(np.bool)"
   ]
  },
  {
   "cell_type": "markdown",
   "metadata": {},
   "source": [
    "Como agora conseguirmos o formato que de fato queremos, iremos montar as variáveis e preparar a exclusão<br>\n",
    "variavel excluir foi realizada uma list comprehension para selecionar as colunas que serão excluidas da alta correlação."
   ]
  },
  {
   "cell_type": "code",
   "execution_count": 79,
   "metadata": {},
   "outputs": [
    {
     "data": {
      "text/plain": [
       "['ALBUMIN_MEAN',\n",
       " 'ALBUMIN_MIN',\n",
       " 'ALBUMIN_MAX',\n",
       " 'BE_ARTERIAL_MEAN',\n",
       " 'BE_ARTERIAL_MIN',\n",
       " 'BE_ARTERIAL_MAX',\n",
       " 'BE_VENOUS_MEAN',\n",
       " 'BE_VENOUS_MIN',\n",
       " 'BE_VENOUS_MAX',\n",
       " 'BIC_ARTERIAL_MEAN',\n",
       " 'BIC_ARTERIAL_MIN',\n",
       " 'BIC_ARTERIAL_MAX',\n",
       " 'BIC_VENOUS_MEAN',\n",
       " 'BIC_VENOUS_MIN',\n",
       " 'BIC_VENOUS_MAX',\n",
       " 'BILLIRUBIN_MEAN',\n",
       " 'BILLIRUBIN_MIN',\n",
       " 'BILLIRUBIN_MAX',\n",
       " 'BLAST_MEAN',\n",
       " 'BLAST_MIN',\n",
       " 'BLAST_MAX',\n",
       " 'CALCIUM_MEAN',\n",
       " 'CALCIUM_MIN',\n",
       " 'CALCIUM_MAX',\n",
       " 'CREATININ_MEAN',\n",
       " 'CREATININ_MIN',\n",
       " 'CREATININ_MAX',\n",
       " 'FFA_MEAN',\n",
       " 'FFA_MIN',\n",
       " 'FFA_MAX',\n",
       " 'GGT_MEAN',\n",
       " 'GGT_MIN',\n",
       " 'GGT_MAX',\n",
       " 'GLUCOSE_MEAN',\n",
       " 'GLUCOSE_MIN',\n",
       " 'GLUCOSE_MAX',\n",
       " 'HEMATOCRITE_MEAN',\n",
       " 'HEMATOCRITE_MIN',\n",
       " 'HEMATOCRITE_MAX',\n",
       " 'HEMOGLOBIN_MEDIAN',\n",
       " 'HEMOGLOBIN_MEAN',\n",
       " 'HEMOGLOBIN_MIN',\n",
       " 'HEMOGLOBIN_MAX',\n",
       " 'INR_MEAN',\n",
       " 'INR_MIN',\n",
       " 'INR_MAX',\n",
       " 'LACTATE_MEAN',\n",
       " 'LACTATE_MIN',\n",
       " 'LACTATE_MAX',\n",
       " 'LEUKOCYTES_MEAN',\n",
       " 'LEUKOCYTES_MIN',\n",
       " 'LEUKOCYTES_MAX',\n",
       " 'LINFOCITOS_MEAN',\n",
       " 'LINFOCITOS_MIN',\n",
       " 'LINFOCITOS_MAX',\n",
       " 'NEUTROPHILES_MEDIAN',\n",
       " 'NEUTROPHILES_MEAN',\n",
       " 'NEUTROPHILES_MIN',\n",
       " 'NEUTROPHILES_MAX',\n",
       " 'P02_ARTERIAL_MEAN',\n",
       " 'P02_ARTERIAL_MIN',\n",
       " 'P02_ARTERIAL_MAX',\n",
       " 'P02_VENOUS_MEAN',\n",
       " 'P02_VENOUS_MIN',\n",
       " 'P02_VENOUS_MAX',\n",
       " 'PC02_ARTERIAL_MEAN',\n",
       " 'PC02_ARTERIAL_MIN',\n",
       " 'PC02_ARTERIAL_MAX',\n",
       " 'PC02_VENOUS_MEAN',\n",
       " 'PC02_VENOUS_MIN',\n",
       " 'PC02_VENOUS_MAX',\n",
       " 'PCR_MEAN',\n",
       " 'PCR_MIN',\n",
       " 'PCR_MAX',\n",
       " 'PH_ARTERIAL_MEAN',\n",
       " 'PH_ARTERIAL_MIN',\n",
       " 'PH_ARTERIAL_MAX',\n",
       " 'PH_VENOUS_MEAN',\n",
       " 'PH_VENOUS_MIN',\n",
       " 'PH_VENOUS_MAX',\n",
       " 'PLATELETS_MEAN',\n",
       " 'PLATELETS_MIN',\n",
       " 'PLATELETS_MAX',\n",
       " 'POTASSIUM_MEAN',\n",
       " 'POTASSIUM_MIN',\n",
       " 'POTASSIUM_MAX',\n",
       " 'SAT02_ARTERIAL_MEAN',\n",
       " 'SAT02_ARTERIAL_MIN',\n",
       " 'SAT02_ARTERIAL_MAX',\n",
       " 'SAT02_VENOUS_MEAN',\n",
       " 'SAT02_VENOUS_MIN',\n",
       " 'SAT02_VENOUS_MAX',\n",
       " 'SODIUM_MEAN',\n",
       " 'SODIUM_MIN',\n",
       " 'SODIUM_MAX',\n",
       " 'TGO_MEAN',\n",
       " 'TGO_MIN',\n",
       " 'TGO_MAX',\n",
       " 'TGP_MEAN',\n",
       " 'TGP_MIN',\n",
       " 'TGP_MAX',\n",
       " 'TTPA_MEAN',\n",
       " 'TTPA_MIN',\n",
       " 'TTPA_MAX',\n",
       " 'UREA_MEAN',\n",
       " 'UREA_MIN',\n",
       " 'UREA_MAX',\n",
       " 'DIMER_MEAN',\n",
       " 'DIMER_MIN',\n",
       " 'DIMER_MAX',\n",
       " 'BLOODPRESSURE_DIASTOLIC_MEDIAN',\n",
       " 'BLOODPRESSURE_SISTOLIC_MEDIAN',\n",
       " 'HEART_RATE_MEDIAN',\n",
       " 'RESPIRATORY_RATE_MEDIAN',\n",
       " 'TEMPERATURE_MEDIAN',\n",
       " 'OXYGEN_SATURATION_MEDIAN',\n",
       " 'BLOODPRESSURE_DIASTOLIC_MIN',\n",
       " 'BLOODPRESSURE_SISTOLIC_MIN',\n",
       " 'HEART_RATE_MIN',\n",
       " 'TEMPERATURE_MIN',\n",
       " 'OXYGEN_SATURATION_MIN',\n",
       " 'BLOODPRESSURE_SISTOLIC_MAX',\n",
       " 'HEART_RATE_MAX',\n",
       " 'RESPIRATORY_RATE_MAX',\n",
       " 'TEMPERATURE_MAX',\n",
       " 'OXYGEN_SATURATION_MAX',\n",
       " 'BLOODPRESSURE_DIASTOLIC_DIFF_REL',\n",
       " 'BLOODPRESSURE_SISTOLIC_DIFF_REL',\n",
       " 'RESPIRATORY_RATE_DIFF_REL',\n",
       " 'TEMPERATURE_DIFF_REL',\n",
       " 'OXYGEN_SATURATION_DIFF_REL']"
      ]
     },
     "execution_count": 79,
     "metadata": {},
     "output_type": "execute_result"
    }
   ],
   "source": [
    "# Variavel feita para armazenar a matriz que conseguirmos acima, onde a parte superior é mantida como TRUE\n",
    "# Parametro where usado para passar uma expressao booleana e realizar nossa query.\n",
    "matriz_superior = matriz_corr.where(np.triu(np.ones(matriz_corr.shape), k=1).astype(np.bool))\n",
    "excluir = [coluna for coluna in matriz_superior.columns if any(matriz_superior[coluna] > alta_corr)]\n",
    "excluir"
   ]
  },
  {
   "cell_type": "markdown",
   "metadata": {},
   "source": [
    "Acima, o resultado nos retorna as colunas que possuem uma alta correlacao (previamente definida como .95) e iremos excluir<br>\n",
    "Mas para isso, criamos uma função."
   ]
  },
  {
   "cell_type": "code",
   "execution_count": 80,
   "metadata": {},
   "outputs": [],
   "source": [
    "# Funcao usada para dropar as colunas que conseguimos acima\n",
    "def remove_corr_var (dados, valor_corte):\n",
    "    # para nossos dados atuais, a matriz_corr é utilizada para: selecionar as colunas que queremos, plotar a matriz de correlacao, pegar seu valor absoluto\n",
    "    matriz_corr = dados.iloc[:, 4:-2].corr().abs()\n",
    "    # Matriz superior recebe a matriz_corr e faz uma selecao\n",
    "    # where usado para selecionar como faremos a selecao (expressao booleana)\n",
    "    # np.triu usado para triangular nossa matriz, removendo a parte inferior e principal (para remover a principal usamos o k=1)\n",
    "    # astype para definir o tipo como booleano.\n",
    "    matriz_superior = matriz_corr.where(np.triu(np.ones(matriz_corr.shape), k=1).astype(np.bool))\n",
    "    excluir = [coluna for coluna in matriz_superior.columns if any(matriz_superior[coluna] > valor_corte)]\n",
    "    \n",
    "    return dados.drop(excluir, axis = 1)"
   ]
  },
  {
   "cell_type": "code",
   "execution_count": 81,
   "metadata": {},
   "outputs": [
    {
     "data": {
      "text/plain": [
       "(352, 231)"
      ]
     },
     "execution_count": 81,
     "metadata": {},
     "output_type": "execute_result"
    }
   ],
   "source": [
    "# Este é o shape atual de nossos dados limpos\n",
    "dados_limpos.shape"
   ]
  },
  {
   "cell_type": "code",
   "execution_count": 82,
   "metadata": {},
   "outputs": [],
   "source": [
    "dados_limpos_sem_correlacao = remove_corr_var(dados_limpos, .95)"
   ]
  },
  {
   "cell_type": "code",
   "execution_count": 83,
   "metadata": {},
   "outputs": [
    {
     "data": {
      "text/plain": [
       "(352, 100)"
      ]
     },
     "execution_count": 83,
     "metadata": {},
     "output_type": "execute_result"
    }
   ],
   "source": [
    "dados_limpos_sem_correlacao.shape"
   ]
  },
  {
   "cell_type": "markdown",
   "metadata": {},
   "source": [
    "Como visto acima, houve a remoção de 100 colunas de nosso DF, o que ja ajuda para nao causar overfit em nossos modelos."
   ]
  },
  {
   "cell_type": "markdown",
   "metadata": {},
   "source": [
    "## Passo II: Criação dos modelos ML"
   ]
  },
  {
   "cell_type": "markdown",
   "metadata": {},
   "source": [
    "Nesta parte, recriamos os modelos de ML usados nas aulas anteriores, usamos as seguintes bibliotecas: <br>\n",
    "\n",
    "#### from sklearn.model_selection import train_test_split: \n",
    "Usado para fazer a separação dos dados em X_train,X_test,y_train,y_test<br>\n",
    "#### from sklearn.linear_model import LogisticRegression: \n",
    "Usado para instanciar o modelo ML de regressao logistica<br>\n",
    "#### from sklearn.dummy import DummyClassifier: \n",
    "Modelo de classificacao Dummy para testes<br>\n",
    "#### from sklearn.tree import DecisionTreeClassifier: \n",
    "Modelo de árvore de decisão simples, utilizado para testes <br>\n",
    "Um dos parametros de suma importancia para este modelo, é o max_depth, no qual podemos setar a \"profundidade\" do nosso modelo.<br>\n",
    "\n",
    "Após a importação das bibliotecas, setamos uma seed aleatória: np.random.seed(73246) <br>\n",
    "\n",
    "Chegamos a instanciar separação dos dados com train_test_split, mas vimos que isso não é tão efetivo na utilização durante os testes, e utilizamos outro \"embaralhador\"<br>\n",
    "\n",
    "#### from sklearn.ensemble import RandomForestClassifier:\n",
    "Como o Decision Tree Classifier é mais suscetivel a overfit, começamos a utilizar o RandomForestClassifier<br>\n",
    "Parametros interessantes são o max_depth e o n_estimators, que é responsável pos selecionar a quantia de \"arvores\" em nossa floresta, que é ótimo para ajudar a reduzir as chances de overfit."
   ]
  },
  {
   "cell_type": "markdown",
   "metadata": {},
   "source": [
    "## Passo III: Métricas de Validação"
   ]
  },
  {
   "cell_type": "markdown",
   "metadata": {},
   "source": [
    "Nesta etapa, vimos diversos meios de validar a precisão de nossos modelos, com base em acuracia, recall, auc...<br>\n",
    "Iniciamos visualizando primeiramente a matriz de confusão <br>\n",
    "\n",
    "#### from sklearn.metrics import plot_confusion_matrix: \n",
    "Função responsável para o uso da matriz de confusão <br>\n",
    "#### import matplotlib.pyplot as plt:\n",
    "biblioteca matplotlib necessária para o funcionamento da matriz de confusao <br>\n",
    "\n",
    "A matriz de confusão necessita do seguinte: Modelo instanciado, X_test e y_test<br>\n",
    "Para utilizar a matriz de confusão foi usado o seguinte código: plot_confusion_matrix(modelo_utilizado, X_test, y_test)<br>"
   ]
  },
  {
   "cell_type": "code",
   "execution_count": 84,
   "metadata": {},
   "outputs": [
    {
     "data": {
      "text/plain": [
       "<sklearn.metrics._plot.confusion_matrix.ConfusionMatrixDisplay at 0x2538c47d6c8>"
      ]
     },
     "execution_count": 84,
     "metadata": {},
     "output_type": "execute_result"
    },
    {
     "data": {
      "image/png": "[encoded data removed]",
      "text/plain": [
       "<Figure size 432x288 with 2 Axes>"
      ]
     },
     "metadata": {
      "needs_background": "light"
     },
     "output_type": "display_data"
    }
   ],
   "source": [
    "plot_confusion_matrix(modelo_arvore, X_test, y_test)"
   ]
  },
  {
   "cell_type": "markdown",
   "metadata": {},
   "source": [
    "Na matriz de confusao temos 4 siglas importantes para seu entendimento:<br>\n",
    "True Positive = 27<br>\n",
    "True Negative = 40<br>\n",
    "False Positive = 7<br>\n",
    "False negative = 14<br>"
   ]
  },
  {
   "cell_type": "markdown",
   "metadata": {},
   "source": [
    "Para a leitura da matriz de confusão, a lógica que encontrei foi bater os valores nos dois eixos<br>\n",
    "Exemplo: Para encontrar o True positive, fiz o seguinte, no eixo y procurei o valor 1(True), no eixo x procurei o valor 1(positive) o que resultou em TP: 27<br>\n",
    "Para encontrar True Negative, eixo y valor 1, eixo x valor 0. (como nao pode ser o mesmo quadrado em que se encontra o 1, fui para o quadrado de cima) Isso resultou em: TN = 40.<br>\n",
    "\n",
    "Apos isso, utilizamos um metodo de validação chamado classification report, que nos retorna a acurácia, recall e f1-score<br>\n",
    "\n",
    "#### from sklearn.metrics import classification_report: \n",
    "Nesta metrica de validação, temos como retorno a precisão, recall e f1-score, para nosso modelo atual o principal seria focar no recall.<br>\n",
    "\n",
    "#### from sklearn.metrics import accuracy_score: Metrica de validação com base na acurácia\n",
    "Para instancia-la, basta fornecer o y de teste(y_test) e o y previsto (neste caso, y_predict)<br>\n",
    "o y previsto é adquirido ao instanciar um predict do modelo, exemplo: y_predict = modelo_arvore.predic(X_test)"
   ]
  },
  {
   "cell_type": "code",
   "execution_count": 85,
   "metadata": {},
   "outputs": [
    {
     "data": {
      "text/plain": [
       "0.7045454545454546"
      ]
     },
     "execution_count": 85,
     "metadata": {},
     "output_type": "execute_result"
    }
   ],
   "source": [
    "accuracy_score(y_test, y_predict)"
   ]
  },
  {
   "cell_type": "code",
   "execution_count": 86,
   "metadata": {},
   "outputs": [
    {
     "name": "stdout",
     "output_type": "stream",
     "text": [
      "              precision    recall  f1-score   support\n",
      "\n",
      "           0       0.71      0.77      0.73        47\n",
      "           1       0.70      0.63      0.67        41\n",
      "\n",
      "    accuracy                           0.70        88\n",
      "   macro avg       0.70      0.70      0.70        88\n",
      "weighted avg       0.70      0.70      0.70        88\n",
      "\n"
     ]
    }
   ],
   "source": [
    "print(classification_report(y_test, y_predict))"
   ]
  },
  {
   "cell_type": "markdown",
   "metadata": {},
   "source": [
    "#### Descrição dos scores\n",
    "#### Acurácia: \n",
    "A acurácia é a medida de desempenho mais intuitiva e é simplesmente uma relação entre a observação prevista corretamente e o total de observações. Pode-se pensar que, se tivermos alta precisão, nosso modelo é o melhor. Sim, a precisão é uma ótima medida, mas apenas quando você tem conjuntos de dados simétricos onde os valores de falso positivo e falso negativo são quase os mesmos. Portanto, você deve olhar para outros parâmetros para avaliar o desempenho do seu modelo.<br>\n",
    "\n",
    "Acurácia = TP+TN/TP+FP+FN+TN <br>\n",
    "\n",
    "#### Precisão: \n",
    "A precisão é a proporção de observações positivas preditas corretamente em relação ao total de observações positivas preditas. A questão de que essa resposta métrica diz respeito a todos os passageiros que sobreviveram, quantos realmente sobreviveram? A alta precisão está relacionada à baixa taxa de falsos positivos.<br>\n",
    "\n",
    "Precisão = TP / TP + FP<br>\n",
    "\n",
    "#### Recall (Sensibilidade):\n",
    "Recall é a proporção de observações positivas preditas corretamente para todas as observações na classe - sim(Ou na classe True). A pergunta que o recall responde é: De todos os passageiros que realmente sobreviveram, quantos rotulamos? Temos o recall de 0,631, que é bom para este modelo, pois está acima de 0,5.<br>\n",
    "\n",
    "Recall = TP / TP + FN<br>\n",
    "\n",
    "#### F1 Score:\n",
    "Pontuação F1 é a média ponderada de Precisão e Recuperação. Portanto, essa pontuação leva em consideração os falsos positivos e os falsos negativos. Intuitivamente, não é tão fácil de entender quanto a precisão, mas F1 geralmente é mais útil do que a precisão, especialmente se você tiver uma distribuição de classes desigual. A precisão funciona melhor se falsos positivos e falsos negativos tiverem custos semelhantes. Se o custo de falsos positivos e falsos negativos são muito diferentes, é melhor olhar para Precisão e Recall. Em nosso caso, a pontuação de F1 é 0,701. <br>\n",
    "\n",
    "F1 Score = 2*(Recall * Precision) / (Recall + Precision)<br>"
   ]
  },
  {
   "cell_type": "markdown",
   "metadata": {},
   "source": [
    "Utilizacao ROC AUC para validação, este método fica ótimo para validar nosso modelo, pois ele consegue separar melhor as classes para realizar a validação.<br>\n",
    "\n",
    "#### Explicação ROC: https://medium.com/bio-data-blog/entenda-o-que-%C3%A9-auc-e-roc-nos-modelos-de-machine-learning-8191fb4df772\n",
    "A curva ROC mostra o quão bom o modelo criado pode distinguir entre duas coisas (já que é utilizado para classificação). Essas duas coisas podem ser 0 ou 1, ou positivo e negativo. Os melhores modelos conseguem distinguir com precisão o binômio.<br>\n",
    "\n",
    "O ROC possui dois parâmetros:<br>\n",
    "Taxa de verdadeiro positivo (True Positive Rate), que é dado por true positives / (true positives + false negatives) <br>\n",
    "Taxa de falso positivo (False Positive Rate), que é dado por false positives / (false positives + true negatives) <br>\n",
    "Uma curva ROC traça “True Positive Rate vs. False Positive Rate” em diferentes limiares de classificação. <br>\n",
    "\n",
    "#### Explicação AUC:\n",
    "O valor do AUC varia de 0,0 até 1,0 e o limiar entre a classe é 0,5. Ou seja, acima desse limite, o algoritmo classifica em uma classe e abaixo na outra classe. AUC (“area under the ROC curve”) nada mais é que uma maneira de resumir a curva ROC em um único valor, agregando todos os limiares da ROC, calculando a “área sob a curva”.<br>\n",
    "Quanto maior o AUC, melhor."
   ]
  },
  {
   "cell_type": "markdown",
   "metadata": {},
   "source": [
    "#### from sklearn.metrics import roc_auc_score: \n",
    "Biblioteca utilizada para adquirir o score auc<br>\n",
    "Para instancia-lo necessitamos da probabilidade do valor inserido ser 1 ou 0. Uma utilização de exemplo abaixo.<br>"
   ]
  },
  {
   "cell_type": "code",
   "execution_count": 87,
   "metadata": {},
   "outputs": [],
   "source": [
    "# O resultado da probabilidade retorna uma matriz, então precisamos captar o resultado no qual o valor seria 1, que é a coluna no index 1\n",
    "prob_arvore_auc = modelo_arvore.predict_proba(X_test)"
   ]
  },
  {
   "cell_type": "code",
   "execution_count": 88,
   "metadata": {},
   "outputs": [
    {
     "data": {
      "text/plain": [
       "(88, 2)"
      ]
     },
     "execution_count": 88,
     "metadata": {},
     "output_type": "execute_result"
    }
   ],
   "source": [
    "# aqui validamos o shape, 88 valores em duas colunas\n",
    "prob_arvore_auc.shape"
   ]
  },
  {
   "cell_type": "code",
   "execution_count": 89,
   "metadata": {},
   "outputs": [
    {
     "data": {
      "text/plain": [
       "array([0.65 , 0.54 , 0.38 , 0.11 , 0.45 , 0.535, 0.205, 0.22 , 0.38 ,\n",
       "       0.44 , 0.22 , 0.12 , 0.185, 0.64 , 0.06 , 0.715, 0.495, 0.045,\n",
       "       0.535, 0.6  , 0.375, 0.165, 0.07 , 0.595, 0.225, 0.72 , 0.325,\n",
       "       0.605, 0.665, 0.83 , 0.74 , 0.44 , 0.075, 0.485, 0.78 , 0.36 ,\n",
       "       0.6  , 0.425, 0.27 , 0.555, 0.635, 0.39 , 0.71 , 0.66 , 0.27 ,\n",
       "       0.485, 0.65 , 0.265, 0.26 , 0.08 , 0.195, 0.35 , 0.545, 0.615,\n",
       "       0.615, 0.505, 0.58 , 0.45 , 0.645, 0.57 , 0.365, 0.495, 0.24 ,\n",
       "       0.265, 0.37 , 0.23 , 0.265, 0.25 , 0.265, 0.56 , 0.25 , 0.065,\n",
       "       0.41 , 0.67 , 0.35 , 0.31 , 0.565, 0.715, 0.535, 0.595, 0.635,\n",
       "       0.69 , 0.36 , 0.365, 0.31 , 0.265, 0.54 , 0.73 ])"
      ]
     },
     "execution_count": 89,
     "metadata": {},
     "output_type": "execute_result"
    }
   ],
   "source": [
    "# esta é a culuna que desejamos\n",
    "prob_arvore_auc[:, 1]"
   ]
  },
  {
   "cell_type": "code",
   "execution_count": 90,
   "metadata": {},
   "outputs": [
    {
     "data": {
      "text/plain": [
       "0.7618059159314997"
      ]
     },
     "execution_count": 90,
     "metadata": {},
     "output_type": "execute_result"
    }
   ],
   "source": [
    "# Assim verificamos nosso score AUC, quanto mais proximo de 1 melhor.\n",
    "roc_auc_score(y_test, prob_arvore_auc[:, 1])"
   ]
  },
  {
   "cell_type": "markdown",
   "metadata": {},
   "source": [
    "Nossos x e y foram definidos posteriormente da seguinte forma:\n",
    "#### aquisição da coluna x\n",
    "x_columns = dados.columns\n",
    "#### aquisicao coluna y\n",
    "y = dados_limpos['ICU']<br>\n",
    "x = dados_limpos[x_columns].drop(['ICU', 'WINDOW', 'PATIENT_VISIT_IDENTIFIER'], axis = 1)"
   ]
  },
  {
   "cell_type": "markdown",
   "metadata": {},
   "source": [
    "Utilização do cross_validate (Validação Cruzada) <br>\n",
    "#### from sklearn.model_selection import cross_validate:\n",
    "A validação cruzada é uma técnica para avaliar a capacidade de generalização de um modelo, a partir de um conjunto de dados."
   ]
  },
  {
   "cell_type": "code",
   "execution_count": 91,
   "metadata": {},
   "outputs": [
    {
     "data": {
      "text/plain": [
       "{'fit_time': array([0.62602019, 0.62301588, 0.59688783, 0.61999893, 0.55201387]),\n",
       " 'score_time': array([0.03199387, 0.0270009 , 0.02699447, 0.03000665, 0.02600026]),\n",
       " 'test_score': array([0.76056338, 0.71830986, 0.71428571, 0.7       , 0.81428571])}"
      ]
     },
     "execution_count": 91,
     "metadata": {},
     "output_type": "execute_result"
    }
   ],
   "source": [
    "# Por padrao, o valor mais utilizado está entre 5 e 10 \"misturas\"\n",
    "cross_validate(modelo_arvore, x, y, cv = 5)"
   ]
  },
  {
   "cell_type": "markdown",
   "metadata": {},
   "source": [
    "Também utilizamos uma função pra realizar o \"embaralhamento de nossos dados\", ao invés de usar apenas a versão numérica de 5<br>\n",
    "#### from sklearn.model_selection import StratifiedKFold:\n",
    "Fornece índices de treinamento / teste para dividir dados em conjuntos de treinamento / teste.<br>\n",
    "\n",
    "Este objeto de validação cruzada é uma variação de KFold que retorna dobras estratificadas. As dobras são feitas preservando o percentual de amostras de cada classe.<br>\n",
    "Para instancialo basta nomear sua variavel, o numero de vezes que deseja que seja \"embaralhado\"(Por padrão é 5)\n"
   ]
  },
  {
   "cell_type": "code",
   "execution_count": 92,
   "metadata": {},
   "outputs": [
    {
     "data": {
      "text/plain": [
       "{'fit_time': array([0.0920651 , 0.07294369, 0.07900071, 0.06800413, 0.05303931]),\n",
       " 'score_time': array([0.00193691, 0.00199962, 0.00199938, 0.00101471, 0.00099993]),\n",
       " 'test_score': array([0.69014085, 0.73239437, 0.82857143, 0.68571429, 0.68571429])}"
      ]
     },
     "execution_count": 92,
     "metadata": {},
     "output_type": "execute_result"
    }
   ],
   "source": [
    "cv = StratifiedKFold(shuffle = True)\n",
    "cross_validate(modelo, x, y, cv = cv)"
   ]
  },
  {
   "cell_type": "markdown",
   "metadata": {},
   "source": [
    "O que mais consideramos importante em nosso teste atual, foi o test_score, que representa a pontuação geral do teste nas vezes que foi feito.<br>\n",
    "\n",
    "Também utilizamos RepeatedStratifiedKFold<br>\n",
    "#### from sklearn.model_selection import RepeatedStratifiedKFold:\n",
    "Responsável por realizar o teste acima com StratifiedKFold n vezes.<br>\n",
    "Para utiliza-lo devemos especificar em quantas partes queremos embaralhar os dados e quantas vezes queremos realizar este processo"
   ]
  },
  {
   "cell_type": "code",
   "execution_count": 93,
   "metadata": {},
   "outputs": [
    {
     "data": {
      "text/plain": [
       "{'fit_time': array([0.07699656, 0.06299925, 0.07605505, 0.07800031, 0.08300066,\n",
       "        0.098001  , 0.08100224, 0.06501484, 0.05800438, 0.08400512,\n",
       "        0.07994986, 0.08400083, 0.07700729, 0.07500482, 0.06898952,\n",
       "        0.06700277, 0.07800508, 0.08000231, 0.07100153, 0.09201741,\n",
       "        0.08494854, 0.09805083, 0.07994866, 0.0600059 , 0.0730567 ,\n",
       "        0.0739491 , 0.07405281, 0.06800365, 0.07598853, 0.08394933,\n",
       "        0.10394835, 0.11900759, 0.06704807, 0.07805395, 0.07205486,\n",
       "        0.07401705, 0.06602621, 0.07797313, 0.07306004, 0.07705593,\n",
       "        0.06700087, 0.07998252, 0.08000731, 0.06800437, 0.07000089,\n",
       "        0.06800628, 0.06899858, 0.07100129, 0.06099916, 0.05301309]),\n",
       " 'score_time': array([0.00099993, 0.00200009, 0.00196457, 0.00198579, 0.00200272,\n",
       "        0.00200081, 0.00299931, 0.00204039, 0.00196314, 0.00197887,\n",
       "        0.00200057, 0.00199986, 0.00099516, 0.00199842, 0.00200009,\n",
       "        0.00199914, 0.00199628, 0.00200009, 0.00200033, 0.00101113,\n",
       "        0.00200653, 0.00198245, 0.00199938, 0.00100064, 0.00199366,\n",
       "        0.00099921, 0.00194669, 0.00206542, 0.00094724, 0.00206017,\n",
       "        0.00199962, 0.00200129, 0.00194788, 0.00194716, 0.00194693,\n",
       "        0.00198531, 0.00202847, 0.00197673, 0.00194049, 0.0010078 ,\n",
       "        0.00200152, 0.00199962, 0.00199318, 0.00099897, 0.00099969,\n",
       "        0.00200057, 0.00099945, 0.00099969, 0.00200152, 0.00198793]),\n",
       " 'test_score': array([0.71830986, 0.71830986, 0.68571429, 0.68571429, 0.67142857,\n",
       "        0.66197183, 0.77464789, 0.65714286, 0.71428571, 0.78571429,\n",
       "        0.69014085, 0.70422535, 0.77142857, 0.62857143, 0.71428571,\n",
       "        0.77464789, 0.64788732, 0.71428571, 0.72857143, 0.67142857,\n",
       "        0.69014085, 0.74647887, 0.72857143, 0.6       , 0.75714286,\n",
       "        0.71830986, 0.70422535, 0.74285714, 0.64285714, 0.74285714,\n",
       "        0.76056338, 0.61971831, 0.75714286, 0.65714286, 0.75714286,\n",
       "        0.8028169 , 0.71830986, 0.67142857, 0.72857143, 0.7       ,\n",
       "        0.69014085, 0.71830986, 0.62857143, 0.84285714, 0.67142857,\n",
       "        0.73239437, 0.71830986, 0.71428571, 0.72857143, 0.65714286])}"
      ]
     },
     "execution_count": 93,
     "metadata": {},
     "output_type": "execute_result"
    }
   ],
   "source": [
    "cv = RepeatedStratifiedKFold(n_splits= 5, n_repeats= 10)\n",
    "cross_validate(modelo, x, y, cv = cv)"
   ]
  },
  {
   "cell_type": "markdown",
   "metadata": {},
   "source": [
    "Como vemos acima, o teste foi repetido 10 vezes e nos retornou os resultados com as 5 separações."
   ]
  },
  {
   "cell_type": "markdown",
   "metadata": {},
   "source": [
    "# Funções criadas para testar os modelos: "
   ]
  },
  {
   "cell_type": "markdown",
   "metadata": {},
   "source": [
    "#### Funcao definida para testar o modelo e retornar auc_score"
   ]
  },
  {
   "cell_type": "code",
   "execution_count": 94,
   "metadata": {},
   "outputs": [],
   "source": [
    "def roda_modelo(modelo, dados):\n",
    "    # selecao das colunas\n",
    "    x_columns = dados.columns\n",
    "    # selecao do y de nosso modelo\n",
    "    y = dados['ICU']\n",
    "    # selecao do x de nosso modelo e drop em colunas que não usaremos.\n",
    "    x = dados[x_columns].drop(['ICU', 'WINDOW','PATIENT_VISIT_IDENTIFIER'], axis = 1)\n",
    "    \n",
    "    X_train, X_test, y_train, y_test = train_test_split(x, y, stratify = y)\n",
    "    \n",
    "    modelo.fit(X_train, y_train)\n",
    "    # Usado para o predict, assim usaremos posteriormente no classification_report\n",
    "    predicao = modelo.predict(X_test)\n",
    "    prob_predict = modelo.predict_proba(X_test)\n",
    "    \n",
    "    auc = roc_auc_score(y_test, prob_predict[:, 1])\n",
    "    \n",
    "    print('AUC {}'.format(auc))\n",
    "    print('\\nClassification Report')\n",
    "    print(classification_report(y_test, predicao))"
   ]
  },
  {
   "cell_type": "code",
   "execution_count": 95,
   "metadata": {},
   "outputs": [
    {
     "name": "stdout",
     "output_type": "stream",
     "text": [
      "AUC 0.7934613388687078\n",
      "\n",
      "Classification Report\n",
      "              precision    recall  f1-score   support\n",
      "\n",
      "           0       0.73      0.77      0.75        47\n",
      "           1       0.72      0.68      0.70        41\n",
      "\n",
      "    accuracy                           0.73        88\n",
      "   macro avg       0.73      0.72      0.72        88\n",
      "weighted avg       0.73      0.73      0.73        88\n",
      "\n"
     ]
    }
   ],
   "source": [
    "roda_modelo(modelo_arvore, dados_limpos)"
   ]
  },
  {
   "cell_type": "markdown",
   "metadata": {},
   "source": [
    "#### Modelo usado para treinar o modelo diversas vezes e retornar os intervalos."
   ]
  },
  {
   "cell_type": "code",
   "execution_count": 96,
   "metadata": {},
   "outputs": [],
   "source": [
    "def roda_n_modelos(modelo, dados, n):\n",
    "    x_columns = dados.columns\n",
    "    y = dados['ICU']\n",
    "    x = dados[x_columns].drop(['ICU', 'WINDOW', 'PATIENT_VISIT_IDENTIFIER'], axis = 1)\n",
    "    \n",
    "    auc_lista = []\n",
    "    # A intencao desse for é treinar o modelo diversas vezes, para nos retornar a média de suas métricas, ajudando a diminuir um pouco a aleatoriedade dos dados.\n",
    "    # o \"n\" é inserido ao instanciar a função.\n",
    "    for _ in range(n):\n",
    "        X_train, X_test, y_train, y_test = train_test_split(x, y, stratify = y)\n",
    "        \n",
    "        modelo.fit(X_train, y_train)\n",
    "        prob_predict = modelo.predict_proba(X_test)\n",
    "        auc = roc_auc_score(y_test, prob_predict[:, 1])\n",
    "        auc_lista.append(auc)\n",
    "    \n",
    "    # Definicao das variavies utilizadas para o intervalo, média e desvio padrão\n",
    "    auc_medio = np.mean(auc_lista)\n",
    "    auc_std = np.std(auc_lista)\n",
    "    \n",
    "    # Adicionados devidos intervalos, para conseguir uma representacao do nosso modelo.\n",
    "    # O intervalo representa as 'Chances' do nosso AUC estar dentro dos valores ali especificados\n",
    "    intervalo_neg = (auc_medio - 2 * auc_std)\n",
    "    intervalo_pos = (auc_medio + 2 * auc_std)\n",
    "    \n",
    "    # variavel abaixo criadas para retornar o Classification report também\n",
    "    predicao = modelo.predict(X_test)\n",
    "    \n",
    "    print('AUC: {}, Intervalo: {} - {}'.format(auc_medio, intervalo_neg, intervalo_pos))\n",
    "    print('\\nClassification Report')\n",
    "    print(classification_report(y_test, predicao))"
   ]
  },
  {
   "cell_type": "code",
   "execution_count": 97,
   "metadata": {},
   "outputs": [
    {
     "name": "stdout",
     "output_type": "stream",
     "text": [
      "AUC: 0.76476388168137, Intervalo: 0.6606380166124518 - 0.8688897467502882\n",
      "\n",
      "Classification Report\n",
      "              precision    recall  f1-score   support\n",
      "\n",
      "           0       0.71      0.72      0.72        47\n",
      "           1       0.68      0.66      0.67        41\n",
      "\n",
      "    accuracy                           0.69        88\n",
      "   macro avg       0.69      0.69      0.69        88\n",
      "weighted avg       0.69      0.69      0.69        88\n",
      "\n"
     ]
    }
   ],
   "source": [
    "roda_n_modelos(modelo_arvore, dados_limpos, 5)"
   ]
  },
  {
   "cell_type": "markdown",
   "metadata": {},
   "source": [
    "#### Função criada para validar os testes com: Cross Validade utilizando RepeatedStratifiedKFold"
   ]
  },
  {
   "cell_type": "code",
   "execution_count": 98,
   "metadata": {},
   "outputs": [],
   "source": [
    "def roda_modelo_cv(modelo, dados, n_splits, n_repeats):\n",
    "    # Parametro inseridos devem ser: Modelo utilizado para predição, DF contendo os dados \n",
    "    # numero de vezes que deseja separar os dados e numero de repeticoes que deseja que seja realizado o teste\n",
    "    \n",
    "    # Adicionada uma seed aleatória.\n",
    "    np.random.seed(1231234)\n",
    "    # Selecionamos uma amostra dos dados, setamos o parametro frac usado para embaralhar os dados.\n",
    "    dados = dados.sample(frac = 1).reset_index(drop=True)\n",
    "    x_columns = dados.columns\n",
    "    y = dados['ICU']\n",
    "    x = dados[x_columns].drop(['ICU', 'WINDOW', 'PATIENT_VISIT_IDENTIFIER'], axis = 1)\n",
    "    \n",
    "    cv = RepeatedStratifiedKFold(n_splits = n_splits, n_repeats = n_repeats)\n",
    "    # o parametro scoring é utilizado para retornar qual métrica voce quer como validador do modelo. acuracia, r2 score, etc...\n",
    "    results = cross_validate(modelo, x, y, cv = cv, scoring='roc_auc')\n",
    "    \n",
    "    auc_medio = np.mean(results['test_score'])\n",
    "    auc_std = np.std(results['test_score'])\n",
    "    \n",
    "    auc_neg = auc_medio - 2 * auc_std\n",
    "    auc_pos = auc_medio + 2 * auc_std\n",
    "    print('AUC Médio: {}, Intervalo: {} - {}'.format(auc_medio, auc_neg, auc_pos))"
   ]
  },
  {
   "cell_type": "code",
   "execution_count": 99,
   "metadata": {},
   "outputs": [
    {
     "name": "stdout",
     "output_type": "stream",
     "text": [
      "AUC Médio: 0.8050053073408334, Intervalo: 0.7089830223773051 - 0.9010275923043617\n"
     ]
    }
   ],
   "source": [
    "roda_modelo_cv(modelo_arvore, dados_limpos_sem_corr, 5, 10)"
   ]
  },
  {
   "cell_type": "markdown",
   "metadata": {},
   "source": [
    "#### Funcao criada para testar nosso modelo, retornando os valores de teste e treino para plotar um gráfico da curva AUC"
   ]
  },
  {
   "cell_type": "code",
   "execution_count": 100,
   "metadata": {},
   "outputs": [],
   "source": [
    "def roda_modelo_cv_teste(modelo, dados, n_splits, n_repeats):\n",
    "    np.random.seed(1231234)\n",
    "    dados = dados.sample(frac = 1).reset_index(drop=True)\n",
    "    x_columns = dados.columns\n",
    "    y = dados['ICU']\n",
    "    x = dados[x_columns].drop(['ICU', 'WINDOW', 'PATIENT_VISIT_IDENTIFIER'], axis = 1)\n",
    "    \n",
    "    cv = RepeatedStratifiedKFold(n_splits = n_splits, n_repeats = n_repeats)\n",
    "    # adicionado parametro return_train_score para nos devoler o valor de treino\n",
    "    results = cross_validate(modelo, x, y, cv = cv, scoring='roc_auc', return_train_score=True)\n",
    "    \n",
    "    auc_medio = np.mean(results['test_score'])\n",
    "    auc_medio_treino = np.mean(results['train_score'])\n",
    "    auc_std = np.std(results['test_score'])\n",
    "    \n",
    "    auc_neg = auc_medio - 2 * auc_std\n",
    "    auc_pos = auc_medio + 2 * auc_std\n",
    "    print('AUC Medio: {}, AUC Medio de Treino: {}'.format(auc_medio, auc_medio_treino))\n",
    "    return auc_medio, auc_medio_treino"
   ]
  },
  {
   "cell_type": "code",
   "execution_count": 101,
   "metadata": {},
   "outputs": [
    {
     "name": "stdout",
     "output_type": "stream",
     "text": [
      "AUC Medio: 0.778870566888659, AUC Medio de Treino: 0.8541612333697712\n",
      "AUC Medio: 0.7882617381137118, AUC Medio de Treino: 0.8970983223278708\n",
      "AUC Medio: 0.7919978905340749, AUC Medio de Treino: 0.939230523370584\n",
      "AUC Medio: 0.798515426311479, AUC Medio de Treino: 0.9709094588271941\n",
      "AUC Medio: 0.7985849066770119, AUC Medio de Treino: 0.9876904648921889\n",
      "AUC Medio: 0.7963251918186129, AUC Medio de Treino: 0.9959304134319379\n",
      "AUC Medio: 0.7943957713694556, AUC Medio de Treino: 0.9991518349612467\n",
      "AUC Medio: 0.7959431845122635, AUC Medio de Treino: 0.9998478331658788\n",
      "AUC Medio: 0.7946517225958015, AUC Medio de Treino: 0.9999807654955365\n",
      "AUC Medio: 0.7928203667183931, AUC Medio de Treino: 0.99999695793432\n",
      "AUC Medio: 0.7939856647915857, AUC Medio de Treino: 1.0\n",
      "AUC Medio: 0.7924292399456873, AUC Medio de Treino: 1.0\n",
      "AUC Medio: 0.7923367319173241, AUC Medio de Treino: 1.0\n",
      "AUC Medio: 0.7928877524354498, AUC Medio de Treino: 1.0\n"
     ]
    }
   ],
   "source": [
    "# Para a verificação realizamos um for, assim foi salvando diversas vezes suas variaveis para um plot posterior\n",
    "teste_lista = []\n",
    "treino_lista = []\n",
    "for i in range(1, 15):\n",
    "    # ao invés do max_depth, poderiamos alterar o n_estimators, que serve para selecionar a quantia de \"arvores\" em nossa floresta\n",
    "    # quanto mais arvores, menores as chances de overfit e seu estimador irá melhorar. o padrao é 100\n",
    "    modelo_arvore = RandomForestClassifier(max_depth=i)\n",
    "    teste, treino = roda_modelo_cv_teste(modelo_arvore, dados_limpos, 5, 10)\n",
    "    teste_lista.append(teste)\n",
    "    treino_lista.append(treino)"
   ]
  },
  {
   "cell_type": "code",
   "execution_count": 102,
   "metadata": {},
   "outputs": [
    {
     "name": "stdout",
     "output_type": "stream",
     "text": [
      "AUC Medio: 0.7864526757618863, AUC Medio de Treino: 0.8599525101736485\n",
      "AUC Medio: 0.7947073553816973, AUC Medio de Treino: 0.8976067664100031\n",
      "AUC Medio: 0.800376713435924, AUC Medio de Treino: 0.9344035282497193\n",
      "AUC Medio: 0.8035253674727358, AUC Medio de Treino: 0.9632628773429375\n",
      "AUC Medio: 0.8029565525453684, AUC Medio de Treino: 0.9821795594963229\n",
      "AUC Medio: 0.8052362305487306, AUC Medio de Treino: 0.991722851714124\n",
      "AUC Medio: 0.8043432233070391, AUC Medio de Treino: 0.9967623658718839\n",
      "AUC Medio: 0.8014652167119272, AUC Medio de Treino: 0.9990394162230268\n",
      "AUC Medio: 0.8017546957843011, AUC Medio de Treino: 0.9997839478934004\n",
      "AUC Medio: 0.802405882257856, AUC Medio de Treino: 0.999963459548043\n",
      "AUC Medio: 0.8025099950428899, AUC Medio de Treino: 0.9999979623025981\n",
      "AUC Medio: 0.8026649114724772, AUC Medio de Treino: 1.0\n",
      "AUC Medio: 0.8014382893659209, AUC Medio de Treino: 1.0\n",
      "AUC Medio: 0.8007869614530797, AUC Medio de Treino: 1.0\n"
     ]
    }
   ],
   "source": [
    "# este for foi criado para realizar o mesmo teste com os dados_limpos_sem_correlacao\n",
    "teste_lista = []\n",
    "treino_lista = []\n",
    "for i in range(1, 15):\n",
    "    # ao invés do max_depth, poderiamos alterar o n_estimators, que serve para selecionar a quantia de \"arvores\" em nossa floresta\n",
    "    # quanto mais arvores, menores as chances de overfit e seu estimador irá melhorar. o padrao é 100\n",
    "    modelo_arvore = RandomForestClassifier(max_depth=i)\n",
    "    teste, treino = roda_modelo_cv_teste(modelo_arvore, dados_limpos_sem_correlacao, 5, 10)\n",
    "    teste_lista.append(teste)\n",
    "    treino_lista.append(treino)"
   ]
  },
  {
   "cell_type": "code",
   "execution_count": 103,
   "metadata": {
    "scrolled": false
   },
   "outputs": [
    {
     "name": "stderr",
     "output_type": "stream",
     "text": [
      "C:\\Users\\Kaiqu\\anaconda3\\lib\\site-packages\\seaborn\\_decorators.py:43: FutureWarning: Pass the following variables as keyword args: x, y. From version 0.12, the only valid positional argument will be `data`, and passing other arguments without an explicit keyword will result in an error or misinterpretation.\n",
      "  FutureWarning\n",
      "C:\\Users\\Kaiqu\\anaconda3\\lib\\site-packages\\seaborn\\_decorators.py:43: FutureWarning: Pass the following variables as keyword args: x, y. From version 0.12, the only valid positional argument will be `data`, and passing other arguments without an explicit keyword will result in an error or misinterpretation.\n",
      "  FutureWarning\n"
     ]
    },
    {
     "data": {
      "image/png": "[encoded data removed]",
      "text/plain": [
       "<Figure size 432x288 with 1 Axes>"
      ]
     },
     "metadata": {
      "needs_background": "light"
     },
     "output_type": "display_data"
    }
   ],
   "source": [
    "# para realizar o plot da curva auc, podemos fazer da seguinte forma\n",
    "# A variavel x, irei chamar de x_2 para nao alterar a variavel x ja setada\n",
    "import seaborn as sns\n",
    "\n",
    "x_2 = range(1, 15)\n",
    "ax = sns.lineplot(x_2, teste_lista, label = 'Teste')\n",
    "ax2 = sns.lineplot(x_2, treino_lista, label = 'Treino')\n",
    "plt.show()"
   ]
  },
  {
   "cell_type": "markdown",
   "metadata": {},
   "source": [
    "#### Testar modelos com GridSearch"
   ]
  },
  {
   "cell_type": "code",
   "execution_count": 104,
   "metadata": {},
   "outputs": [],
   "source": [
    "from sklearn.model_selection import GridSearchCV\n",
    "\n",
    "def roda_modelo_GridSearchCV(modelo, dados, n_splits, n_repeats, espaco_de_parametros):\n",
    "\n",
    "    np.random.seed(1231234)\n",
    "    dados = dados.sample(frac=1).reset_index(drop=True)\n",
    "    x_columns = dados.columns\n",
    "    y = dados[\"ICU\"]\n",
    "    x = dados[x_columns].drop([\"ICU\",\"WINDOW\", \"PATIENT_VISIT_IDENTIFIER\"], axis=1)\n",
    "\n",
    "\n",
    "    cv = RepeatedStratifiedKFold(n_splits = n_splits, n_repeats=n_repeats)\n",
    "\n",
    "    busca = GridSearchCV(modelo, param_grid=espaco_de_parametros,\n",
    "                         cv = cv, scoring='roc_auc',\n",
    "                         return_train_score=True)\n",
    "    busca.fit(x, y)\n",
    "\n",
    "    resultados = pd.DataFrame(busca.cv_results_)\n",
    "\n",
    "    auc_medio = resultados.iloc[busca.best_index_]['mean_test_score']\n",
    "    auc_medio_treino = resultados.iloc[busca.best_index_]['mean_train_score']\n",
    "\n",
    "    auc_std = resultados.iloc[busca.best_index_]['std_test_score']\n",
    "    \n",
    "    intervalo_inf = auc_medio - 2 * auc_std\n",
    "    intervalo_sup = auc_medio + 2 * auc_std\n",
    "\n",
    "    print('AUC: {} Intervalo: {} - {}'.format(auc_medio, intervalo_inf, intervalo_sup))\n",
    "    return auc_medio, auc_medio_treino    "
   ]
  },
  {
   "cell_type": "markdown",
   "metadata": {},
   "source": [
    "#### Testando modelo com RandomizedSearchCV"
   ]
  },
  {
   "cell_type": "code",
   "execution_count": 187,
   "metadata": {},
   "outputs": [],
   "source": [
    "from sklearn.model_selection import RandomizedSearchCV\n",
    "\n",
    "def roda_modelo_RandomizedSearchCV(modelo, dados, n_splits, n_repeats, espaco_de_parametros, n_iter):\n",
    "\n",
    "    # Parte inicial contendo a seleção dos dados\n",
    "    np.random.seed(1231234)\n",
    "    dados = dados.sample(frac=1).reset_index(drop=True)\n",
    "    x_columns = dados.columns\n",
    "    y = dados[\"ICU\"]\n",
    "    x = dados[x_columns].drop([\"ICU\",\"WINDOW\", \"PATIENT_VISIT_IDENTIFIER\"], axis=1)\n",
    "\n",
    "    # Parte contendo a aleatoriedade dos nossos dados para testar sua capacidade de generalização\n",
    "    cv = RepeatedStratifiedKFold(n_splits = n_splits, n_repeats=n_repeats)\n",
    "    busca = RandomizedSearchCV(modelo, param_distributions=espaco_de_parametros,\n",
    "                                n_iter = n_iter, cv = cv, scoring='roc_auc',\n",
    "                                return_train_score=True)\n",
    "    busca.fit(x, y)\n",
    "    resultados = pd.DataFrame(busca.cv_results_)\n",
    "    \n",
    "    # Retorno dos melhores parametros\n",
    "    params = busca.best_params_\n",
    "    \n",
    "    auc_medio = resultados.iloc[busca.best_index_]['mean_test_score']\n",
    "    auc_medio_treino = resultados.iloc[busca.best_index_]['mean_train_score']\n",
    "\n",
    "    auc_std = resultados.iloc[busca.best_index_]['std_test_score']\n",
    "\n",
    "    intervalo_inf = auc_medio - 2 * auc_std\n",
    "    intervalo_sup = auc_medio + 2 * auc_std\n",
    "\n",
    "    print('AUC: {} Intervalo: {} - {}'.format(auc_medio, intervalo_inf, intervalo_sup))\n",
    "    return params"
   ]
  },
  {
   "cell_type": "code",
   "execution_count": 188,
   "metadata": {},
   "outputs": [
    {
     "name": "stdout",
     "output_type": "stream",
     "text": [
      "AUC: 0.7877864617009354 Intervalo: 0.7083039045212299 - 0.8672690188806408\n"
     ]
    },
    {
     "data": {
      "text/plain": [
       "{'bootstrap': False,\n",
       " 'criterion': 'entropy',\n",
       " 'max_depth': 5,\n",
       " 'min_samples_leaf': 35,\n",
       " 'min_samples_split': 47,\n",
       " 'n_estimators': 31}"
      ]
     },
     "execution_count": 188,
     "metadata": {},
     "output_type": "execute_result"
    }
   ],
   "source": [
    "roda_modelo_RandomizedSearchCV(modelo_arvore, dados_limpos_sem_correlacao, 5, 10, espaco_de_parametros_2, 10)"
   ]
  },
  {
   "cell_type": "markdown",
   "metadata": {},
   "source": [
    "# Testando modelo com parametros acima"
   ]
  },
  {
   "cell_type": "code",
   "execution_count": 252,
   "metadata": {},
   "outputs": [],
   "source": [
    "modelo_arvore2 = RandomForestClassifier(n_estimators = 31, min_samples_split=47, min_samples_leaf=35, max_depth=5, criterion='entropy', bootstrap=False)"
   ]
  },
  {
   "cell_type": "code",
   "execution_count": 253,
   "metadata": {},
   "outputs": [],
   "source": [
    "x_columns = dados_limpos_sem_correlacao.columns\n",
    "y = dados_limpos_sem_correlacao[\"ICU\"]\n",
    "x = dados_limpos_sem_correlacao[x_columns].drop([\"ICU\",\"WINDOW\", \"PATIENT_VISIT_IDENTIFIER\"], axis=1)"
   ]
  },
  {
   "cell_type": "code",
   "execution_count": 254,
   "metadata": {},
   "outputs": [],
   "source": [
    "X_train, X_test, y_train, y_test = train_test_split(x, y, stratify=y)"
   ]
  },
  {
   "cell_type": "code",
   "execution_count": 255,
   "metadata": {},
   "outputs": [
    {
     "data": {
      "text/plain": [
       "RandomForestClassifier(bootstrap=False, ccp_alpha=0.0, class_weight=None,\n",
       "                       criterion='entropy', max_depth=5, max_features='auto',\n",
       "                       max_leaf_nodes=None, max_samples=None,\n",
       "                       min_impurity_decrease=0.0, min_impurity_split=None,\n",
       "                       min_samples_leaf=35, min_samples_split=47,\n",
       "                       min_weight_fraction_leaf=0.0, n_estimators=31,\n",
       "                       n_jobs=None, oob_score=False, random_state=None,\n",
       "                       verbose=0, warm_start=False)"
      ]
     },
     "execution_count": 255,
     "metadata": {},
     "output_type": "execute_result"
    }
   ],
   "source": [
    "modelo_arvore2.fit(X_train, y_train)"
   ]
  },
  {
   "cell_type": "code",
   "execution_count": 256,
   "metadata": {},
   "outputs": [],
   "source": [
    "prob = modelo_arvore2.predict(X_test)"
   ]
  },
  {
   "cell_type": "code",
   "execution_count": 257,
   "metadata": {},
   "outputs": [
    {
     "data": {
      "text/plain": [
       "<sklearn.metrics._plot.confusion_matrix.ConfusionMatrixDisplay at 0x25392a593c8>"
      ]
     },
     "execution_count": 257,
     "metadata": {},
     "output_type": "execute_result"
    },
    {
     "data": {
      "image/png": "[encoded data removed]",
      "text/plain": [
       "<Figure size 432x288 with 2 Axes>"
      ]
     },
     "metadata": {
      "needs_background": "light"
     },
     "output_type": "display_data"
    }
   ],
   "source": [
    "plot_confusion_matrix(modelo_arvore2, X_test, y_test)"
   ]
  },
  {
   "cell_type": "code",
   "execution_count": 258,
   "metadata": {},
   "outputs": [
    {
     "name": "stdout",
     "output_type": "stream",
     "text": [
      "              precision    recall  f1-score   support\n",
      "\n",
      "           0       0.70      0.74      0.72        47\n",
      "           1       0.68      0.63      0.66        41\n",
      "\n",
      "    accuracy                           0.69        88\n",
      "   macro avg       0.69      0.69      0.69        88\n",
      "weighted avg       0.69      0.69      0.69        88\n",
      "\n"
     ]
    }
   ],
   "source": [
    "print(classification_report(y_test, prob))"
   ]
  },
  {
   "cell_type": "markdown",
   "metadata": {},
   "source": [
    "# Conteudo Extra"
   ]
  },
  {
   "cell_type": "markdown",
   "metadata": {},
   "source": [
    "## Otimizacao de parametros"
   ]
  },
  {
   "cell_type": "markdown",
   "metadata": {},
   "source": [
    "Como ja vimos anteriormente, os modelos que criamos possuem hiperparametros que podem ser alterados para melhorar seu desempenho.<br>\n",
    "Os hiperparâmetros são características do seu modelo que podem ser definidas através dos parâmetros, por exemplo o DecisionTreeClassifier conta com parâmetros max_depth e min_samples_split que dependendo do valor vão te entregar um modelo melhor adaptado aos seus dados.<br>\n",
    "\n",
    "Mas isso nos trás uma questão, basta olhar para a documentação de algum desses algoritmos e vamos notar a infinidade de parâmetros que temos e assim muitas possibilidades.<br> \n",
    "Para esse problema vamos ter duas soluções, definir os valores e hiperparâmetros que vamos explorar ou explorar aleatoriamente, essas duas estratégias estão implementadas no scikit-learn \n",
    "#### GridSearchCV: https://scikit-learn.org/stable/modules/generated/sklearn.model_selection.GridSearchCV.html \n",
    "#### RandomizedSearchCV: https://scikit-learn.org/stable/modules/generated/sklearn.model_selection.RandomizedSearchCV.html\n",
    "\n",
    "O GridSearchCV, nos permite definir um espaço que queremos explorar, por exemplo:"
   ]
  },
  {
   "cell_type": "code",
   "execution_count": 106,
   "metadata": {},
   "outputs": [],
   "source": [
    "espaco_de_parametros = {\n",
    "  \"max_depth\" : [3, 5],\n",
    "  \"min_samples_split\" : [32, 64, 128],\n",
    "  \"min_samples_leaf\" : [32, 64, 128],\n",
    "  \"criterion\" : [\"gini\", \"entropy\"]\n",
    "}"
   ]
  },
  {
   "cell_type": "markdown",
   "metadata": {},
   "source": [
    "Aqui definimos um dicionário onde a chave é o nome do parâmetro que queremos otimizar e o valor é uma lista com os valores que queremos que ele explore. Então nesse caso ele vai treinar a árvore usando uma profundidade máxima, max_depth, 3 e 5.\n",
    "\n",
    "Para usar o GridSearchCV vamos repetir alguns parâmetro que usamos no cross_validate.\n",
    "\n",
    "O código que usamos em aula será mostrado a baixo (Código inserido em nossas funções criadas para testar modelos)<br>"
   ]
  },
  {
   "cell_type": "markdown",
   "metadata": {},
   "source": [
    "#### Linha de codigo abaixo"
   ]
  },
  {
   "cell_type": "markdown",
   "metadata": {},
   "source": [
    "cv = RepeatedStratifiedKFold(n_splits = n_splits, n_repeats=n_repeats)<br>\n",
    "resultados=cross_validate(modelo, x, y, cv=cv, scoring='roc_auc', return_train_score=True)"
   ]
  },
  {
   "cell_type": "markdown",
   "metadata": {},
   "source": [
    "#### Encerramento do código"
   ]
  },
  {
   "cell_type": "markdown",
   "metadata": {},
   "source": [
    "A novidade vai ser que não vamos mandar o x e o y, e vamos usar o parâmetro param_grid que será o nosso dicionário."
   ]
  },
  {
   "cell_type": "markdown",
   "metadata": {},
   "source": [
    "#### Linha de código abaixo"
   ]
  },
  {
   "cell_type": "markdown",
   "metadata": {},
   "source": [
    "cv = RepeatedStratifiedKFold(n_splits = n_splits, n_repeats=n_repeats) \n",
    "\n",
    "##### Mecanismo de busca GridSearchCV inserido abaixo.\n",
    "##### Nele informamos o modelo que desejamos testar e os parametros que setamos anteriormente\n",
    "busca = GridSearchCV(modelo,\n",
    "                     param_grid=espaco_de_parametros,\n",
    "                     cv = cv, scoring='roc_auc',\n",
    "                     return_train_score=True)\n",
    "                     \n",
    "##### Nós passaremos o x e y aqui, utilizando um fit, como se fossemos gerar o modelo.\n",
    "busca.fit(x, y)<br>\n",
    "resultados = pd.DataFrame(busca.cv_results_).iloc[busca.best_index_]"
   ]
  },
  {
   "cell_type": "markdown",
   "metadata": {},
   "source": [
    "#### Encerramento do código"
   ]
  },
  {
   "cell_type": "markdown",
   "metadata": {},
   "source": [
    "Outra diferença que temos é que teremos mais de um modelo, então precisamos selecionar o que teve o melhor desempenho, temos acesso a ele por busca.best_index_ e então selecionamos eles dentro dos nossos resultados."
   ]
  },
  {
   "cell_type": "markdown",
   "metadata": {},
   "source": [
    "#### Linha de codigo abaixo"
   ]
  },
  {
   "cell_type": "markdown",
   "metadata": {},
   "source": [
    "resultados = pd.DataFrame(busca.cv_results_).iloc[busca.best_index_]<br>\n",
    "\n",
    "auc_medio = resultados['mean_test_score']<br>\n",
    "auc_medio_treino = resultados['mean_train_score']<br>\n",
    "auc_std = resultados['std_test_score']"
   ]
  },
  {
   "cell_type": "markdown",
   "metadata": {},
   "source": [
    "#### Encerramento do código"
   ]
  },
  {
   "cell_type": "markdown",
   "metadata": {},
   "source": [
    "Com isso, conseguimos descobrir o melhor modelo dentre o grupo de parâmetros que definimos, mas isso pode ser um problema, porque o espaço de possibilidade é bem maior, então a melhor combinação de parâmetros pode estar em outro lugar nesse espaço, pensando nisso temos a segunda solução, o RandomizedSearchCV nele vamos definir o espaço que queremos explorar e ele aleatoriamente vai testar as combinações de hiperparâmetros, e ele vai testar a quantidade que você determinar pelo parâmetro n_iter, número de interações.\n",
    "\n",
    "\n",
    "Primeiro vamos definir esse espaço, veja que agora podemos incluir um grande número de possibilidades, já que não serão todas testadas, por exemplo no min_samples_split vamos testar números aleatórios entre 32 e 129."
   ]
  },
  {
   "cell_type": "code",
   "execution_count": 107,
   "metadata": {},
   "outputs": [],
   "source": [
    "from scipy.stats import randint\n",
    "\n",
    "espaco_de_parametros_2 = {\n",
    "    \"n_estimators\" :randint(10, 101),\n",
    "    \"max_depth\" : randint(3, 6),\n",
    "    \"min_samples_split\" : randint(32, 129),\n",
    "    \"min_samples_leaf\" : randint(32, 129),\n",
    "    \"bootstrap\" : [True, False],\n",
    "    \"criterion\" : [\"gini\", \"entropy\"]\n",
    "}"
   ]
  },
  {
   "cell_type": "markdown",
   "metadata": {},
   "source": [
    "Com o espaço definido podemos seguir para utilização do RandomizedSearchCV, veja que vamos usar de maneira semelhante ao GridSearchCV porém com um parâmetro a mais o n_iter, que é a quantidade de combinações que ele vai tentar."
   ]
  },
  {
   "cell_type": "markdown",
   "metadata": {},
   "source": [
    "#### Linha de codigo abaixo"
   ]
  },
  {
   "cell_type": "markdown",
   "metadata": {},
   "source": [
    "cv = RepeatedStratifiedKFold(n_splits = n_splits, n_repeats=n_repeats)<br>\n",
    "\n",
    "##### para o randomized search, devemos passar o modelo que iremos testar, os parametros, n_iter que é o numero de iteracoes e o restante segue como anteriormente.\n",
    "busca = RandomizedSearchCV(modelo, param_distributions=espaco_de_parametros,\n",
    "                           n_iter = n_iter, cv = cv, scoring='roc_auc',\n",
    "                           return_train_score=True)<br>\n",
    "busca.fit(x, y)"
   ]
  },
  {
   "cell_type": "markdown",
   "metadata": {},
   "source": [
    "#### fim linha de codigo"
   ]
  },
  {
   "cell_type": "markdown",
   "metadata": {},
   "source": [
    "Para poder comparar os resultados, modifiquei a função apresentada na aula para utilizar esses otimizadores de hiperparâmetros:\n",
    "\n",
    "Primeiro o GridSearchCV:"
   ]
  },
  {
   "cell_type": "markdown",
   "metadata": {},
   "source": [
    "#### GridSearchCV"
   ]
  },
  {
   "cell_type": "code",
   "execution_count": 108,
   "metadata": {},
   "outputs": [],
   "source": [
    "from sklearn.model_selection import GridSearchCV\n",
    "\n",
    "def roda_modelo_GridSearchCV(modelo, dados, n_splits, n_repeats, espaco_de_parametros):\n",
    "\n",
    "    np.random.seed(1231234)\n",
    "    dados = dados.sample(frac=1).reset_index(drop=True)\n",
    "    x_columns = dados.columns\n",
    "    y = dados[\"ICU\"]\n",
    "    x = dados[x_columns].drop([\"ICU\",\"WINDOW\", \"PATIENT_VISIT_IDENTIFIER\"], axis=1)\n",
    "\n",
    "\n",
    "    cv = RepeatedStratifiedKFold(n_splits = n_splits, n_repeats=n_repeats)\n",
    "\n",
    "    busca = GridSearchCV(modelo, param_grid=espaco_de_parametros,\n",
    "                         cv = cv, scoring='roc_auc',\n",
    "                         return_train_score=True)\n",
    "    busca.fit(x, y)\n",
    "\n",
    "    resultados = pd.DataFrame(busca.cv_results_)\n",
    "\n",
    "    auc_medio = resultados.iloc[busca.best_index_]['mean_test_score']\n",
    "    auc_medio_treino = resultados.iloc[busca.best_index_]['mean_train_score']\n",
    "\n",
    "    auc_std = resultados.iloc[busca.best_index_]['std_test_score']\n",
    "    \n",
    "    intervalo_inf = auc_medio - 2 * auc_std\n",
    "    intervalo_sup = auc_medio + 2 * auc_std\n",
    "\n",
    "    print('AUC: {} Intervalo: {} - {}'.format(auc_medio, intervalo_inf, intervalo_sup))\n",
    "    return auc_medio, auc_medio_treino    "
   ]
  },
  {
   "cell_type": "code",
   "execution_count": 109,
   "metadata": {},
   "outputs": [
    {
     "name": "stdout",
     "output_type": "stream",
     "text": [
      "AUC: 0.7984071915815337 Intervalo: 0.6871915780560596 - 0.9096228051070079\n"
     ]
    },
    {
     "data": {
      "text/plain": [
       "(0.7984071915815337, 0.863777542787859)"
      ]
     },
     "execution_count": 109,
     "metadata": {},
     "output_type": "execute_result"
    }
   ],
   "source": [
    "roda_modelo_GridSearchCV(modelo_arvore, dados_limpos_sem_correlacao, 5, 10, espaco_de_parametros)"
   ]
  },
  {
   "cell_type": "markdown",
   "metadata": {},
   "source": [
    "#### RandomizedSearchCV"
   ]
  },
  {
   "cell_type": "code",
   "execution_count": 110,
   "metadata": {},
   "outputs": [],
   "source": [
    "from sklearn.model_selection import RandomizedSearchCV\n",
    "\n",
    "def roda_modelo_RandomizedSearchCV(modelo, dados, n_splits, n_repeats, espaco_de_parametros, n_iter):\n",
    "\n",
    "    np.random.seed(1231234)\n",
    "    dados = dados.sample(frac=1).reset_index(drop=True)\n",
    "    x_columns = dados.columns\n",
    "    y = dados[\"ICU\"]\n",
    "    x = dados[x_columns].drop([\"ICU\",\"WINDOW\", \"PATIENT_VISIT_IDENTIFIER\"], axis=1)\n",
    "\n",
    "\n",
    "    cv = RepeatedStratifiedKFold(n_splits = n_splits, n_repeats=n_repeats)\n",
    "\n",
    "    busca = RandomizedSearchCV(modelo, param_distributions=espaco_de_parametros,\n",
    "                                n_iter = n_iter, cv = cv, scoring='roc_auc',\n",
    "                                return_train_score=True)\n",
    "    busca.fit(x, y)\n",
    "\n",
    "    resultados = pd.DataFrame(busca.cv_results_)\n",
    "    params = pd.DataFrame()\n",
    "\n",
    "    auc_medio = resultados.iloc[busca.best_index_]['mean_test_score']\n",
    "    auc_medio_treino = resultados.iloc[busca.best_index_]['mean_train_score']\n",
    "\n",
    "    auc_std = resultados.iloc[busca.best_index_]['std_test_score']\n",
    "\n",
    "    intervalo_inf = auc_medio - 2 * auc_std\n",
    "    intervalo_sup = auc_medio + 2 * auc_std\n",
    "\n",
    "    print('AUC: {} Intervalo: {} - {}'.format(auc_medio, intervalo_inf, intervalo_sup))\n",
    "    return auc_medio, auc_medio_treino"
   ]
  },
  {
   "cell_type": "code",
   "execution_count": 111,
   "metadata": {},
   "outputs": [
    {
     "name": "stdout",
     "output_type": "stream",
     "text": [
      "AUC: 0.7877864617009354 Intervalo: 0.7083039045212299 - 0.8672690188806408\n"
     ]
    },
    {
     "data": {
      "text/plain": [
       "(0.7877864617009354, 0.880597305014197)"
      ]
     },
     "execution_count": 111,
     "metadata": {},
     "output_type": "execute_result"
    }
   ],
   "source": [
    "# por padrão, n_iter é utilizado como 10\n",
    "roda_modelo_RandomizedSearchCV(modelo_arvore, dados_limpos_sem_correlacao, 5, 10, espaco_de_parametros_2, 10)"
   ]
  },
  {
   "cell_type": "markdown",
   "metadata": {},
   "source": [
    "# Extração dos Parametros"
   ]
  },
  {
   "cell_type": "markdown",
   "metadata": {},
   "source": [
    "Como possuimos formas de validação, porém apenas dentro de testes. Decidi procurar uma forma de como extrair os parametros usados em nosso best_score_<br>\n",
    "Para isso, segui conforme foram feitas as devidas declaracoes anteriores.<br>\n",
    "\n",
    "1: Definir os parametros de aleatoriedade que desejamos testar.<br>\n",
    "2: Instanciar nosso modelo que desejamos<br>\n",
    "3: Criar as variaveis cv e busca<br>\n",
    "4: Aplicar o fit em nossa busca<br>\n",
    "5: Selecionar os resultados com: resultados = pd.DataFrame(busca.cv_results_)<br>\n",
    "6: Apos isso, selecionar o teste que teve melhor index e transforma-lo em um DataFrame: parametros = pd.DataFrame(resultados.iloc[busca.best_index_])<br>\n",
    "7: Feito isso, basta fazer uma query para conseguir os parametros desejados: parametros[a.index.str.contains('param')]<br>\n",
    "7: Opcional: para adquirir os parametros de uma forma direta, podemos usar o seguinte: busca.best_params_ "
   ]
  },
  {
   "cell_type": "code",
   "execution_count": 112,
   "metadata": {},
   "outputs": [],
   "source": [
    "espaco_de_parametros_2 = {\n",
    "    \"n_estimators\" :randint(10, 101),\n",
    "    \"max_depth\" : randint(3, 6),\n",
    "    \"min_samples_split\" : randint(32, 129),\n",
    "    \"min_samples_leaf\" : randint(32, 129),\n",
    "    \"bootstrap\" : [True, False],\n",
    "    \"criterion\" : [\"gini\", \"entropy\"]\n",
    "}"
   ]
  },
  {
   "cell_type": "code",
   "execution_count": 113,
   "metadata": {},
   "outputs": [],
   "source": [
    "teste = RandomForestClassifier()"
   ]
  },
  {
   "cell_type": "code",
   "execution_count": 114,
   "metadata": {},
   "outputs": [
    {
     "data": {
      "text/plain": [
       "RandomizedSearchCV(cv=RepeatedStratifiedKFold(n_repeats=10, n_splits=5, random_state=None),\n",
       "                   error_score=nan,\n",
       "                   estimator=RandomForestClassifier(bootstrap=True,\n",
       "                                                    ccp_alpha=0.0,\n",
       "                                                    class_weight=None,\n",
       "                                                    criterion='gini',\n",
       "                                                    max_depth=None,\n",
       "                                                    max_features='auto',\n",
       "                                                    max_leaf_nodes=None,\n",
       "                                                    max_samples=None,\n",
       "                                                    min_impurity_decrease=0.0,\n",
       "                                                    min_impurity_split=None,\n",
       "                                                    min_samples_leaf=1,\n",
       "                                                    min_sam...\n",
       "                                        'min_samples_leaf': <scipy.stats._distn_infrastructure.rv_frozen object at 0x000002538C143548>,\n",
       "                                        'min_samples_split': <scipy.stats._distn_infrastructure.rv_frozen object at 0x000002538C1CC648>,\n",
       "                                        'n_estimators': <scipy.stats._distn_infrastructure.rv_frozen object at 0x000002538C31BE48>},\n",
       "                   pre_dispatch='2*n_jobs', random_state=None, refit=True,\n",
       "                   return_train_score=True, scoring='roc_auc', verbose=0)"
      ]
     },
     "execution_count": 114,
     "metadata": {},
     "output_type": "execute_result"
    }
   ],
   "source": [
    "cv = RepeatedStratifiedKFold(n_splits = 5, n_repeats = 10)\n",
    "busca = RandomizedSearchCV(teste, param_distributions=espaco_de_parametros_2,\n",
    "                                n_iter = 30, cv = cv, scoring='roc_auc',\n",
    "                                return_train_score=True)\n",
    "busca.fit(x, y)"
   ]
  },
  {
   "cell_type": "code",
   "execution_count": 130,
   "metadata": {},
   "outputs": [
    {
     "data": {
      "text/plain": [
       "{'bootstrap': False,\n",
       " 'criterion': 'entropy',\n",
       " 'max_depth': 3,\n",
       " 'min_samples_leaf': 34,\n",
       " 'min_samples_split': 103,\n",
       " 'n_estimators': 81}"
      ]
     },
     "execution_count": 130,
     "metadata": {},
     "output_type": "execute_result"
    }
   ],
   "source": [
    "# Para visualizar os melhores parametros\n",
    "busca.best_params_"
   ]
  },
  {
   "cell_type": "code",
   "execution_count": 126,
   "metadata": {},
   "outputs": [
    {
     "data": {
      "text/html": [
       "<div>\n",
       "<style scoped>\n",
       "    .dataframe tbody tr th:only-of-type {\n",
       "        vertical-align: middle;\n",
       "    }\n",
       "\n",
       "    .dataframe tbody tr th {\n",
       "        vertical-align: top;\n",
       "    }\n",
       "\n",
       "    .dataframe thead th {\n",
       "        text-align: right;\n",
       "    }\n",
       "</style>\n",
       "<table border=\"1\" class=\"dataframe\">\n",
       "  <thead>\n",
       "    <tr style=\"text-align: right;\">\n",
       "      <th></th>\n",
       "      <th>mean_fit_time</th>\n",
       "      <th>std_fit_time</th>\n",
       "      <th>mean_score_time</th>\n",
       "      <th>std_score_time</th>\n",
       "      <th>param_bootstrap</th>\n",
       "      <th>param_criterion</th>\n",
       "      <th>param_max_depth</th>\n",
       "      <th>param_min_samples_leaf</th>\n",
       "      <th>param_min_samples_split</th>\n",
       "      <th>param_n_estimators</th>\n",
       "      <th>...</th>\n",
       "      <th>split42_train_score</th>\n",
       "      <th>split43_train_score</th>\n",
       "      <th>split44_train_score</th>\n",
       "      <th>split45_train_score</th>\n",
       "      <th>split46_train_score</th>\n",
       "      <th>split47_train_score</th>\n",
       "      <th>split48_train_score</th>\n",
       "      <th>split49_train_score</th>\n",
       "      <th>mean_train_score</th>\n",
       "      <th>std_train_score</th>\n",
       "    </tr>\n",
       "  </thead>\n",
       "  <tbody>\n",
       "    <tr>\n",
       "      <th>0</th>\n",
       "      <td>0.115226</td>\n",
       "      <td>0.005423</td>\n",
       "      <td>0.011580</td>\n",
       "      <td>0.000798</td>\n",
       "      <td>False</td>\n",
       "      <td>entropy</td>\n",
       "      <td>4</td>\n",
       "      <td>127</td>\n",
       "      <td>116</td>\n",
       "      <td>80</td>\n",
       "      <td>...</td>\n",
       "      <td>0.767788</td>\n",
       "      <td>0.796067</td>\n",
       "      <td>0.792528</td>\n",
       "      <td>0.774631</td>\n",
       "      <td>0.774529</td>\n",
       "      <td>0.757794</td>\n",
       "      <td>0.792680</td>\n",
       "      <td>0.788408</td>\n",
       "      <td>0.776965</td>\n",
       "      <td>0.013133</td>\n",
       "    </tr>\n",
       "    <tr>\n",
       "      <th>1</th>\n",
       "      <td>0.057676</td>\n",
       "      <td>0.002102</td>\n",
       "      <td>0.006642</td>\n",
       "      <td>0.000671</td>\n",
       "      <td>False</td>\n",
       "      <td>entropy</td>\n",
       "      <td>5</td>\n",
       "      <td>76</td>\n",
       "      <td>44</td>\n",
       "      <td>36</td>\n",
       "      <td>...</td>\n",
       "      <td>0.813715</td>\n",
       "      <td>0.821040</td>\n",
       "      <td>0.804080</td>\n",
       "      <td>0.821065</td>\n",
       "      <td>0.814952</td>\n",
       "      <td>0.813512</td>\n",
       "      <td>0.801148</td>\n",
       "      <td>0.844320</td>\n",
       "      <td>0.820057</td>\n",
       "      <td>0.010883</td>\n",
       "    </tr>\n",
       "    <tr>\n",
       "      <th>2</th>\n",
       "      <td>0.107184</td>\n",
       "      <td>0.005590</td>\n",
       "      <td>0.010957</td>\n",
       "      <td>0.001077</td>\n",
       "      <td>False</td>\n",
       "      <td>entropy</td>\n",
       "      <td>4</td>\n",
       "      <td>94</td>\n",
       "      <td>97</td>\n",
       "      <td>74</td>\n",
       "      <td>...</td>\n",
       "      <td>0.790815</td>\n",
       "      <td>0.806633</td>\n",
       "      <td>0.788560</td>\n",
       "      <td>0.804687</td>\n",
       "      <td>0.805986</td>\n",
       "      <td>0.798001</td>\n",
       "      <td>0.796674</td>\n",
       "      <td>0.830620</td>\n",
       "      <td>0.797205</td>\n",
       "      <td>0.014336</td>\n",
       "    </tr>\n",
       "    <tr>\n",
       "      <th>3</th>\n",
       "      <td>0.120360</td>\n",
       "      <td>0.003207</td>\n",
       "      <td>0.011471</td>\n",
       "      <td>0.001170</td>\n",
       "      <td>False</td>\n",
       "      <td>entropy</td>\n",
       "      <td>4</td>\n",
       "      <td>80</td>\n",
       "      <td>117</td>\n",
       "      <td>79</td>\n",
       "      <td>...</td>\n",
       "      <td>0.812298</td>\n",
       "      <td>0.820333</td>\n",
       "      <td>0.800263</td>\n",
       "      <td>0.809068</td>\n",
       "      <td>0.817728</td>\n",
       "      <td>0.826619</td>\n",
       "      <td>0.800516</td>\n",
       "      <td>0.831606</td>\n",
       "      <td>0.815390</td>\n",
       "      <td>0.012192</td>\n",
       "    </tr>\n",
       "    <tr>\n",
       "      <th>4</th>\n",
       "      <td>0.137823</td>\n",
       "      <td>0.002743</td>\n",
       "      <td>0.011076</td>\n",
       "      <td>0.000661</td>\n",
       "      <td>True</td>\n",
       "      <td>entropy</td>\n",
       "      <td>5</td>\n",
       "      <td>58</td>\n",
       "      <td>58</td>\n",
       "      <td>76</td>\n",
       "      <td>...</td>\n",
       "      <td>0.802480</td>\n",
       "      <td>0.820939</td>\n",
       "      <td>0.815985</td>\n",
       "      <td>0.816556</td>\n",
       "      <td>0.802394</td>\n",
       "      <td>0.817915</td>\n",
       "      <td>0.804813</td>\n",
       "      <td>0.825944</td>\n",
       "      <td>0.810339</td>\n",
       "      <td>0.010457</td>\n",
       "    </tr>\n",
       "    <tr>\n",
       "      <th>5</th>\n",
       "      <td>0.097302</td>\n",
       "      <td>0.003601</td>\n",
       "      <td>0.008784</td>\n",
       "      <td>0.001004</td>\n",
       "      <td>True</td>\n",
       "      <td>entropy</td>\n",
       "      <td>4</td>\n",
       "      <td>79</td>\n",
       "      <td>44</td>\n",
       "      <td>54</td>\n",
       "      <td>...</td>\n",
       "      <td>0.774519</td>\n",
       "      <td>0.797457</td>\n",
       "      <td>0.783631</td>\n",
       "      <td>0.775802</td>\n",
       "      <td>0.768365</td>\n",
       "      <td>0.759615</td>\n",
       "      <td>0.795056</td>\n",
       "      <td>0.812649</td>\n",
       "      <td>0.780402</td>\n",
       "      <td>0.015395</td>\n",
       "    </tr>\n",
       "    <tr>\n",
       "      <th>6</th>\n",
       "      <td>0.143902</td>\n",
       "      <td>0.010449</td>\n",
       "      <td>0.012225</td>\n",
       "      <td>0.001378</td>\n",
       "      <td>False</td>\n",
       "      <td>entropy</td>\n",
       "      <td>5</td>\n",
       "      <td>46</td>\n",
       "      <td>102</td>\n",
       "      <td>83</td>\n",
       "      <td>...</td>\n",
       "      <td>0.869787</td>\n",
       "      <td>0.888024</td>\n",
       "      <td>0.862646</td>\n",
       "      <td>0.860825</td>\n",
       "      <td>0.855578</td>\n",
       "      <td>0.889119</td>\n",
       "      <td>0.866690</td>\n",
       "      <td>0.874476</td>\n",
       "      <td>0.868193</td>\n",
       "      <td>0.011111</td>\n",
       "    </tr>\n",
       "    <tr>\n",
       "      <th>7</th>\n",
       "      <td>0.141224</td>\n",
       "      <td>0.002852</td>\n",
       "      <td>0.011962</td>\n",
       "      <td>0.000773</td>\n",
       "      <td>True</td>\n",
       "      <td>entropy</td>\n",
       "      <td>5</td>\n",
       "      <td>92</td>\n",
       "      <td>41</td>\n",
       "      <td>84</td>\n",
       "      <td>...</td>\n",
       "      <td>0.712905</td>\n",
       "      <td>0.714372</td>\n",
       "      <td>0.687124</td>\n",
       "      <td>0.698242</td>\n",
       "      <td>0.736551</td>\n",
       "      <td>0.679049</td>\n",
       "      <td>0.733760</td>\n",
       "      <td>0.731940</td>\n",
       "      <td>0.711151</td>\n",
       "      <td>0.026954</td>\n",
       "    </tr>\n",
       "    <tr>\n",
       "      <th>8</th>\n",
       "      <td>0.102164</td>\n",
       "      <td>0.008006</td>\n",
       "      <td>0.010981</td>\n",
       "      <td>0.002803</td>\n",
       "      <td>False</td>\n",
       "      <td>gini</td>\n",
       "      <td>3</td>\n",
       "      <td>116</td>\n",
       "      <td>58</td>\n",
       "      <td>71</td>\n",
       "      <td>...</td>\n",
       "      <td>0.760526</td>\n",
       "      <td>0.811309</td>\n",
       "      <td>0.771093</td>\n",
       "      <td>0.794244</td>\n",
       "      <td>0.776235</td>\n",
       "      <td>0.771204</td>\n",
       "      <td>0.792377</td>\n",
       "      <td>0.798367</td>\n",
       "      <td>0.784675</td>\n",
       "      <td>0.013771</td>\n",
       "    </tr>\n",
       "    <tr>\n",
       "      <th>9</th>\n",
       "      <td>0.070957</td>\n",
       "      <td>0.002021</td>\n",
       "      <td>0.007764</td>\n",
       "      <td>0.000766</td>\n",
       "      <td>False</td>\n",
       "      <td>entropy</td>\n",
       "      <td>4</td>\n",
       "      <td>69</td>\n",
       "      <td>37</td>\n",
       "      <td>45</td>\n",
       "      <td>...</td>\n",
       "      <td>0.845951</td>\n",
       "      <td>0.858956</td>\n",
       "      <td>0.815859</td>\n",
       "      <td>0.826439</td>\n",
       "      <td>0.819256</td>\n",
       "      <td>0.842966</td>\n",
       "      <td>0.832314</td>\n",
       "      <td>0.842880</td>\n",
       "      <td>0.830865</td>\n",
       "      <td>0.013701</td>\n",
       "    </tr>\n",
       "    <tr>\n",
       "      <th>10</th>\n",
       "      <td>0.084703</td>\n",
       "      <td>0.002156</td>\n",
       "      <td>0.008999</td>\n",
       "      <td>0.000566</td>\n",
       "      <td>False</td>\n",
       "      <td>gini</td>\n",
       "      <td>5</td>\n",
       "      <td>92</td>\n",
       "      <td>82</td>\n",
       "      <td>58</td>\n",
       "      <td>...</td>\n",
       "      <td>0.798381</td>\n",
       "      <td>0.797937</td>\n",
       "      <td>0.800136</td>\n",
       "      <td>0.807336</td>\n",
       "      <td>0.817881</td>\n",
       "      <td>0.790536</td>\n",
       "      <td>0.790835</td>\n",
       "      <td>0.826728</td>\n",
       "      <td>0.800227</td>\n",
       "      <td>0.011905</td>\n",
       "    </tr>\n",
       "    <tr>\n",
       "      <th>11</th>\n",
       "      <td>0.140343</td>\n",
       "      <td>0.005316</td>\n",
       "      <td>0.011957</td>\n",
       "      <td>0.001040</td>\n",
       "      <td>False</td>\n",
       "      <td>entropy</td>\n",
       "      <td>3</td>\n",
       "      <td>34</td>\n",
       "      <td>103</td>\n",
       "      <td>81</td>\n",
       "      <td>...</td>\n",
       "      <td>0.866700</td>\n",
       "      <td>0.885092</td>\n",
       "      <td>0.869572</td>\n",
       "      <td>0.873714</td>\n",
       "      <td>0.862914</td>\n",
       "      <td>0.890334</td>\n",
       "      <td>0.862343</td>\n",
       "      <td>0.896466</td>\n",
       "      <td>0.875058</td>\n",
       "      <td>0.009635</td>\n",
       "    </tr>\n",
       "    <tr>\n",
       "      <th>12</th>\n",
       "      <td>0.120701</td>\n",
       "      <td>0.005319</td>\n",
       "      <td>0.012340</td>\n",
       "      <td>0.001740</td>\n",
       "      <td>False</td>\n",
       "      <td>entropy</td>\n",
       "      <td>3</td>\n",
       "      <td>120</td>\n",
       "      <td>88</td>\n",
       "      <td>82</td>\n",
       "      <td>...</td>\n",
       "      <td>0.782009</td>\n",
       "      <td>0.787877</td>\n",
       "      <td>0.795359</td>\n",
       "      <td>0.781635</td>\n",
       "      <td>0.775318</td>\n",
       "      <td>0.785628</td>\n",
       "      <td>0.790203</td>\n",
       "      <td>0.802892</td>\n",
       "      <td>0.786239</td>\n",
       "      <td>0.011471</td>\n",
       "    </tr>\n",
       "    <tr>\n",
       "      <th>13</th>\n",
       "      <td>0.098822</td>\n",
       "      <td>0.004246</td>\n",
       "      <td>0.010641</td>\n",
       "      <td>0.000955</td>\n",
       "      <td>False</td>\n",
       "      <td>entropy</td>\n",
       "      <td>5</td>\n",
       "      <td>111</td>\n",
       "      <td>91</td>\n",
       "      <td>65</td>\n",
       "      <td>...</td>\n",
       "      <td>0.768067</td>\n",
       "      <td>0.808301</td>\n",
       "      <td>0.790759</td>\n",
       "      <td>0.792257</td>\n",
       "      <td>0.783724</td>\n",
       "      <td>0.788386</td>\n",
       "      <td>0.782645</td>\n",
       "      <td>0.807088</td>\n",
       "      <td>0.787723</td>\n",
       "      <td>0.012852</td>\n",
       "    </tr>\n",
       "    <tr>\n",
       "      <th>14</th>\n",
       "      <td>0.033800</td>\n",
       "      <td>0.002853</td>\n",
       "      <td>0.004663</td>\n",
       "      <td>0.000650</td>\n",
       "      <td>True</td>\n",
       "      <td>entropy</td>\n",
       "      <td>4</td>\n",
       "      <td>112</td>\n",
       "      <td>34</td>\n",
       "      <td>18</td>\n",
       "      <td>...</td>\n",
       "      <td>0.500000</td>\n",
       "      <td>0.500000</td>\n",
       "      <td>0.500000</td>\n",
       "      <td>0.500000</td>\n",
       "      <td>0.500000</td>\n",
       "      <td>0.500000</td>\n",
       "      <td>0.500000</td>\n",
       "      <td>0.500000</td>\n",
       "      <td>0.500000</td>\n",
       "      <td>0.000000</td>\n",
       "    </tr>\n",
       "    <tr>\n",
       "      <th>15</th>\n",
       "      <td>0.088675</td>\n",
       "      <td>0.005205</td>\n",
       "      <td>0.008743</td>\n",
       "      <td>0.000736</td>\n",
       "      <td>False</td>\n",
       "      <td>entropy</td>\n",
       "      <td>5</td>\n",
       "      <td>61</td>\n",
       "      <td>113</td>\n",
       "      <td>53</td>\n",
       "      <td>...</td>\n",
       "      <td>0.846103</td>\n",
       "      <td>0.869016</td>\n",
       "      <td>0.844548</td>\n",
       "      <td>0.834335</td>\n",
       "      <td>0.841365</td>\n",
       "      <td>0.845901</td>\n",
       "      <td>0.845963</td>\n",
       "      <td>0.860725</td>\n",
       "      <td>0.846889</td>\n",
       "      <td>0.010557</td>\n",
       "    </tr>\n",
       "    <tr>\n",
       "      <th>16</th>\n",
       "      <td>0.146219</td>\n",
       "      <td>0.005176</td>\n",
       "      <td>0.012458</td>\n",
       "      <td>0.001080</td>\n",
       "      <td>True</td>\n",
       "      <td>gini</td>\n",
       "      <td>3</td>\n",
       "      <td>111</td>\n",
       "      <td>52</td>\n",
       "      <td>87</td>\n",
       "      <td>...</td>\n",
       "      <td>0.500000</td>\n",
       "      <td>0.500000</td>\n",
       "      <td>0.500000</td>\n",
       "      <td>0.500000</td>\n",
       "      <td>0.500000</td>\n",
       "      <td>0.500000</td>\n",
       "      <td>0.500000</td>\n",
       "      <td>0.500000</td>\n",
       "      <td>0.500000</td>\n",
       "      <td>0.000000</td>\n",
       "    </tr>\n",
       "    <tr>\n",
       "      <th>17</th>\n",
       "      <td>0.030900</td>\n",
       "      <td>0.001237</td>\n",
       "      <td>0.004838</td>\n",
       "      <td>0.000505</td>\n",
       "      <td>False</td>\n",
       "      <td>gini</td>\n",
       "      <td>5</td>\n",
       "      <td>99</td>\n",
       "      <td>88</td>\n",
       "      <td>20</td>\n",
       "      <td>...</td>\n",
       "      <td>0.770800</td>\n",
       "      <td>0.779308</td>\n",
       "      <td>0.761387</td>\n",
       "      <td>0.794804</td>\n",
       "      <td>0.774605</td>\n",
       "      <td>0.766194</td>\n",
       "      <td>0.776427</td>\n",
       "      <td>0.810930</td>\n",
       "      <td>0.781198</td>\n",
       "      <td>0.013442</td>\n",
       "    </tr>\n",
       "    <tr>\n",
       "      <th>18</th>\n",
       "      <td>0.032385</td>\n",
       "      <td>0.001603</td>\n",
       "      <td>0.004880</td>\n",
       "      <td>0.000475</td>\n",
       "      <td>False</td>\n",
       "      <td>entropy</td>\n",
       "      <td>4</td>\n",
       "      <td>102</td>\n",
       "      <td>53</td>\n",
       "      <td>21</td>\n",
       "      <td>...</td>\n",
       "      <td>0.765967</td>\n",
       "      <td>0.801426</td>\n",
       "      <td>0.797002</td>\n",
       "      <td>0.782501</td>\n",
       "      <td>0.766021</td>\n",
       "      <td>0.787753</td>\n",
       "      <td>0.782847</td>\n",
       "      <td>0.769299</td>\n",
       "      <td>0.779239</td>\n",
       "      <td>0.017205</td>\n",
       "    </tr>\n",
       "    <tr>\n",
       "      <th>19</th>\n",
       "      <td>0.081689</td>\n",
       "      <td>0.004062</td>\n",
       "      <td>0.008714</td>\n",
       "      <td>0.000717</td>\n",
       "      <td>False</td>\n",
       "      <td>entropy</td>\n",
       "      <td>3</td>\n",
       "      <td>85</td>\n",
       "      <td>111</td>\n",
       "      <td>53</td>\n",
       "      <td>...</td>\n",
       "      <td>0.815486</td>\n",
       "      <td>0.837369</td>\n",
       "      <td>0.806506</td>\n",
       "      <td>0.810749</td>\n",
       "      <td>0.805706</td>\n",
       "      <td>0.815840</td>\n",
       "      <td>0.806582</td>\n",
       "      <td>0.834336</td>\n",
       "      <td>0.812810</td>\n",
       "      <td>0.012941</td>\n",
       "    </tr>\n",
       "    <tr>\n",
       "      <th>20</th>\n",
       "      <td>0.132021</td>\n",
       "      <td>0.003056</td>\n",
       "      <td>0.013004</td>\n",
       "      <td>0.001096</td>\n",
       "      <td>False</td>\n",
       "      <td>entropy</td>\n",
       "      <td>5</td>\n",
       "      <td>104</td>\n",
       "      <td>124</td>\n",
       "      <td>93</td>\n",
       "      <td>...</td>\n",
       "      <td>0.776341</td>\n",
       "      <td>0.815429</td>\n",
       "      <td>0.795334</td>\n",
       "      <td>0.792792</td>\n",
       "      <td>0.777407</td>\n",
       "      <td>0.796002</td>\n",
       "      <td>0.804004</td>\n",
       "      <td>0.798670</td>\n",
       "      <td>0.791408</td>\n",
       "      <td>0.013450</td>\n",
       "    </tr>\n",
       "    <tr>\n",
       "      <th>21</th>\n",
       "      <td>0.120621</td>\n",
       "      <td>0.002624</td>\n",
       "      <td>0.010124</td>\n",
       "      <td>0.000588</td>\n",
       "      <td>False</td>\n",
       "      <td>entropy</td>\n",
       "      <td>4</td>\n",
       "      <td>37</td>\n",
       "      <td>99</td>\n",
       "      <td>68</td>\n",
       "      <td>...</td>\n",
       "      <td>0.867409</td>\n",
       "      <td>0.893585</td>\n",
       "      <td>0.880542</td>\n",
       "      <td>0.870657</td>\n",
       "      <td>0.867295</td>\n",
       "      <td>0.892257</td>\n",
       "      <td>0.877408</td>\n",
       "      <td>0.892220</td>\n",
       "      <td>0.877068</td>\n",
       "      <td>0.009727</td>\n",
       "    </tr>\n",
       "    <tr>\n",
       "      <th>22</th>\n",
       "      <td>0.028137</td>\n",
       "      <td>0.001604</td>\n",
       "      <td>0.004582</td>\n",
       "      <td>0.000595</td>\n",
       "      <td>False</td>\n",
       "      <td>gini</td>\n",
       "      <td>3</td>\n",
       "      <td>83</td>\n",
       "      <td>128</td>\n",
       "      <td>17</td>\n",
       "      <td>...</td>\n",
       "      <td>0.801215</td>\n",
       "      <td>0.837622</td>\n",
       "      <td>0.806607</td>\n",
       "      <td>0.805833</td>\n",
       "      <td>0.810596</td>\n",
       "      <td>0.812955</td>\n",
       "      <td>0.807821</td>\n",
       "      <td>0.828800</td>\n",
       "      <td>0.801634</td>\n",
       "      <td>0.016901</td>\n",
       "    </tr>\n",
       "    <tr>\n",
       "      <th>23</th>\n",
       "      <td>0.063225</td>\n",
       "      <td>0.003698</td>\n",
       "      <td>0.006622</td>\n",
       "      <td>0.000956</td>\n",
       "      <td>True</td>\n",
       "      <td>gini</td>\n",
       "      <td>4</td>\n",
       "      <td>99</td>\n",
       "      <td>118</td>\n",
       "      <td>36</td>\n",
       "      <td>...</td>\n",
       "      <td>0.621306</td>\n",
       "      <td>0.500000</td>\n",
       "      <td>0.500000</td>\n",
       "      <td>0.500000</td>\n",
       "      <td>0.500000</td>\n",
       "      <td>0.500000</td>\n",
       "      <td>0.500000</td>\n",
       "      <td>0.500000</td>\n",
       "      <td>0.504692</td>\n",
       "      <td>0.023000</td>\n",
       "    </tr>\n",
       "    <tr>\n",
       "      <th>24</th>\n",
       "      <td>0.144326</td>\n",
       "      <td>0.009196</td>\n",
       "      <td>0.012620</td>\n",
       "      <td>0.000691</td>\n",
       "      <td>False</td>\n",
       "      <td>gini</td>\n",
       "      <td>3</td>\n",
       "      <td>58</td>\n",
       "      <td>109</td>\n",
       "      <td>91</td>\n",
       "      <td>...</td>\n",
       "      <td>0.847824</td>\n",
       "      <td>0.867701</td>\n",
       "      <td>0.839947</td>\n",
       "      <td>0.853591</td>\n",
       "      <td>0.846409</td>\n",
       "      <td>0.857945</td>\n",
       "      <td>0.847328</td>\n",
       "      <td>0.861129</td>\n",
       "      <td>0.850742</td>\n",
       "      <td>0.010815</td>\n",
       "    </tr>\n",
       "    <tr>\n",
       "      <th>25</th>\n",
       "      <td>0.064961</td>\n",
       "      <td>0.001413</td>\n",
       "      <td>0.006682</td>\n",
       "      <td>0.000881</td>\n",
       "      <td>True</td>\n",
       "      <td>entropy</td>\n",
       "      <td>5</td>\n",
       "      <td>86</td>\n",
       "      <td>113</td>\n",
       "      <td>36</td>\n",
       "      <td>...</td>\n",
       "      <td>0.763866</td>\n",
       "      <td>0.774809</td>\n",
       "      <td>0.738663</td>\n",
       "      <td>0.744549</td>\n",
       "      <td>0.733418</td>\n",
       "      <td>0.720825</td>\n",
       "      <td>0.752970</td>\n",
       "      <td>0.753425</td>\n",
       "      <td>0.749562</td>\n",
       "      <td>0.019051</td>\n",
       "    </tr>\n",
       "    <tr>\n",
       "      <th>26</th>\n",
       "      <td>0.116646</td>\n",
       "      <td>0.004347</td>\n",
       "      <td>0.009801</td>\n",
       "      <td>0.000824</td>\n",
       "      <td>True</td>\n",
       "      <td>entropy</td>\n",
       "      <td>4</td>\n",
       "      <td>83</td>\n",
       "      <td>38</td>\n",
       "      <td>65</td>\n",
       "      <td>...</td>\n",
       "      <td>0.766144</td>\n",
       "      <td>0.797129</td>\n",
       "      <td>0.762095</td>\n",
       "      <td>0.781253</td>\n",
       "      <td>0.779266</td>\n",
       "      <td>0.743573</td>\n",
       "      <td>0.798948</td>\n",
       "      <td>0.802993</td>\n",
       "      <td>0.772845</td>\n",
       "      <td>0.015343</td>\n",
       "    </tr>\n",
       "    <tr>\n",
       "      <th>27</th>\n",
       "      <td>0.109621</td>\n",
       "      <td>0.003544</td>\n",
       "      <td>0.011019</td>\n",
       "      <td>0.000650</td>\n",
       "      <td>False</td>\n",
       "      <td>entropy</td>\n",
       "      <td>3</td>\n",
       "      <td>121</td>\n",
       "      <td>38</td>\n",
       "      <td>77</td>\n",
       "      <td>...</td>\n",
       "      <td>0.770749</td>\n",
       "      <td>0.807998</td>\n",
       "      <td>0.796168</td>\n",
       "      <td>0.794294</td>\n",
       "      <td>0.771447</td>\n",
       "      <td>0.785299</td>\n",
       "      <td>0.789091</td>\n",
       "      <td>0.805344</td>\n",
       "      <td>0.784377</td>\n",
       "      <td>0.012274</td>\n",
       "    </tr>\n",
       "    <tr>\n",
       "      <th>28</th>\n",
       "      <td>0.140459</td>\n",
       "      <td>0.009756</td>\n",
       "      <td>0.012717</td>\n",
       "      <td>0.000802</td>\n",
       "      <td>False</td>\n",
       "      <td>entropy</td>\n",
       "      <td>4</td>\n",
       "      <td>67</td>\n",
       "      <td>33</td>\n",
       "      <td>88</td>\n",
       "      <td>...</td>\n",
       "      <td>0.841802</td>\n",
       "      <td>0.843233</td>\n",
       "      <td>0.826601</td>\n",
       "      <td>0.831839</td>\n",
       "      <td>0.830642</td>\n",
       "      <td>0.853239</td>\n",
       "      <td>0.835145</td>\n",
       "      <td>0.854861</td>\n",
       "      <td>0.836991</td>\n",
       "      <td>0.010912</td>\n",
       "    </tr>\n",
       "    <tr>\n",
       "      <th>29</th>\n",
       "      <td>0.079122</td>\n",
       "      <td>0.003950</td>\n",
       "      <td>0.008137</td>\n",
       "      <td>0.000633</td>\n",
       "      <td>False</td>\n",
       "      <td>entropy</td>\n",
       "      <td>3</td>\n",
       "      <td>69</td>\n",
       "      <td>92</td>\n",
       "      <td>49</td>\n",
       "      <td>...</td>\n",
       "      <td>0.844636</td>\n",
       "      <td>0.857287</td>\n",
       "      <td>0.830671</td>\n",
       "      <td>0.830285</td>\n",
       "      <td>0.829699</td>\n",
       "      <td>0.837500</td>\n",
       "      <td>0.831783</td>\n",
       "      <td>0.852131</td>\n",
       "      <td>0.832252</td>\n",
       "      <td>0.011874</td>\n",
       "    </tr>\n",
       "  </tbody>\n",
       "</table>\n",
       "<p>30 rows × 116 columns</p>\n",
       "</div>"
      ],
      "text/plain": [
       "    mean_fit_time  std_fit_time  mean_score_time  std_score_time  \\\n",
       "0        0.115226      0.005423         0.011580        0.000798   \n",
       "1        0.057676      0.002102         0.006642        0.000671   \n",
       "2        0.107184      0.005590         0.010957        0.001077   \n",
       "3        0.120360      0.003207         0.011471        0.001170   \n",
       "4        0.137823      0.002743         0.011076        0.000661   \n",
       "5        0.097302      0.003601         0.008784        0.001004   \n",
       "6        0.143902      0.010449         0.012225        0.001378   \n",
       "7        0.141224      0.002852         0.011962        0.000773   \n",
       "8        0.102164      0.008006         0.010981        0.002803   \n",
       "9        0.070957      0.002021         0.007764        0.000766   \n",
       "10       0.084703      0.002156         0.008999        0.000566   \n",
       "11       0.140343      0.005316         0.011957        0.001040   \n",
       "12       0.120701      0.005319         0.012340        0.001740   \n",
       "13       0.098822      0.004246         0.010641        0.000955   \n",
       "14       0.033800      0.002853         0.004663        0.000650   \n",
       "15       0.088675      0.005205         0.008743        0.000736   \n",
       "16       0.146219      0.005176         0.012458        0.001080   \n",
       "17       0.030900      0.001237         0.004838        0.000505   \n",
       "18       0.032385      0.001603         0.004880        0.000475   \n",
       "19       0.081689      0.004062         0.008714        0.000717   \n",
       "20       0.132021      0.003056         0.013004        0.001096   \n",
       "21       0.120621      0.002624         0.010124        0.000588   \n",
       "22       0.028137      0.001604         0.004582        0.000595   \n",
       "23       0.063225      0.003698         0.006622        0.000956   \n",
       "24       0.144326      0.009196         0.012620        0.000691   \n",
       "25       0.064961      0.001413         0.006682        0.000881   \n",
       "26       0.116646      0.004347         0.009801        0.000824   \n",
       "27       0.109621      0.003544         0.011019        0.000650   \n",
       "28       0.140459      0.009756         0.012717        0.000802   \n",
       "29       0.079122      0.003950         0.008137        0.000633   \n",
       "\n",
       "   param_bootstrap param_criterion param_max_depth param_min_samples_leaf  \\\n",
       "0            False         entropy               4                    127   \n",
       "1            False         entropy               5                     76   \n",
       "2            False         entropy               4                     94   \n",
       "3            False         entropy               4                     80   \n",
       "4             True         entropy               5                     58   \n",
       "5             True         entropy               4                     79   \n",
       "6            False         entropy               5                     46   \n",
       "7             True         entropy               5                     92   \n",
       "8            False            gini               3                    116   \n",
       "9            False         entropy               4                     69   \n",
       "10           False            gini               5                     92   \n",
       "11           False         entropy               3                     34   \n",
       "12           False         entropy               3                    120   \n",
       "13           False         entropy               5                    111   \n",
       "14            True         entropy               4                    112   \n",
       "15           False         entropy               5                     61   \n",
       "16            True            gini               3                    111   \n",
       "17           False            gini               5                     99   \n",
       "18           False         entropy               4                    102   \n",
       "19           False         entropy               3                     85   \n",
       "20           False         entropy               5                    104   \n",
       "21           False         entropy               4                     37   \n",
       "22           False            gini               3                     83   \n",
       "23            True            gini               4                     99   \n",
       "24           False            gini               3                     58   \n",
       "25            True         entropy               5                     86   \n",
       "26            True         entropy               4                     83   \n",
       "27           False         entropy               3                    121   \n",
       "28           False         entropy               4                     67   \n",
       "29           False         entropy               3                     69   \n",
       "\n",
       "   param_min_samples_split param_n_estimators  ... split42_train_score  \\\n",
       "0                      116                 80  ...            0.767788   \n",
       "1                       44                 36  ...            0.813715   \n",
       "2                       97                 74  ...            0.790815   \n",
       "3                      117                 79  ...            0.812298   \n",
       "4                       58                 76  ...            0.802480   \n",
       "5                       44                 54  ...            0.774519   \n",
       "6                      102                 83  ...            0.869787   \n",
       "7                       41                 84  ...            0.712905   \n",
       "8                       58                 71  ...            0.760526   \n",
       "9                       37                 45  ...            0.845951   \n",
       "10                      82                 58  ...            0.798381   \n",
       "11                     103                 81  ...            0.866700   \n",
       "12                      88                 82  ...            0.782009   \n",
       "13                      91                 65  ...            0.768067   \n",
       "14                      34                 18  ...            0.500000   \n",
       "15                     113                 53  ...            0.846103   \n",
       "16                      52                 87  ...            0.500000   \n",
       "17                      88                 20  ...            0.770800   \n",
       "18                      53                 21  ...            0.765967   \n",
       "19                     111                 53  ...            0.815486   \n",
       "20                     124                 93  ...            0.776341   \n",
       "21                      99                 68  ...            0.867409   \n",
       "22                     128                 17  ...            0.801215   \n",
       "23                     118                 36  ...            0.621306   \n",
       "24                     109                 91  ...            0.847824   \n",
       "25                     113                 36  ...            0.763866   \n",
       "26                      38                 65  ...            0.766144   \n",
       "27                      38                 77  ...            0.770749   \n",
       "28                      33                 88  ...            0.841802   \n",
       "29                      92                 49  ...            0.844636   \n",
       "\n",
       "    split43_train_score  split44_train_score  split45_train_score  \\\n",
       "0              0.796067             0.792528             0.774631   \n",
       "1              0.821040             0.804080             0.821065   \n",
       "2              0.806633             0.788560             0.804687   \n",
       "3              0.820333             0.800263             0.809068   \n",
       "4              0.820939             0.815985             0.816556   \n",
       "5              0.797457             0.783631             0.775802   \n",
       "6              0.888024             0.862646             0.860825   \n",
       "7              0.714372             0.687124             0.698242   \n",
       "8              0.811309             0.771093             0.794244   \n",
       "9              0.858956             0.815859             0.826439   \n",
       "10             0.797937             0.800136             0.807336   \n",
       "11             0.885092             0.869572             0.873714   \n",
       "12             0.787877             0.795359             0.781635   \n",
       "13             0.808301             0.790759             0.792257   \n",
       "14             0.500000             0.500000             0.500000   \n",
       "15             0.869016             0.844548             0.834335   \n",
       "16             0.500000             0.500000             0.500000   \n",
       "17             0.779308             0.761387             0.794804   \n",
       "18             0.801426             0.797002             0.782501   \n",
       "19             0.837369             0.806506             0.810749   \n",
       "20             0.815429             0.795334             0.792792   \n",
       "21             0.893585             0.880542             0.870657   \n",
       "22             0.837622             0.806607             0.805833   \n",
       "23             0.500000             0.500000             0.500000   \n",
       "24             0.867701             0.839947             0.853591   \n",
       "25             0.774809             0.738663             0.744549   \n",
       "26             0.797129             0.762095             0.781253   \n",
       "27             0.807998             0.796168             0.794294   \n",
       "28             0.843233             0.826601             0.831839   \n",
       "29             0.857287             0.830671             0.830285   \n",
       "\n",
       "    split46_train_score  split47_train_score  split48_train_score  \\\n",
       "0              0.774529             0.757794             0.792680   \n",
       "1              0.814952             0.813512             0.801148   \n",
       "2              0.805986             0.798001             0.796674   \n",
       "3              0.817728             0.826619             0.800516   \n",
       "4              0.802394             0.817915             0.804813   \n",
       "5              0.768365             0.759615             0.795056   \n",
       "6              0.855578             0.889119             0.866690   \n",
       "7              0.736551             0.679049             0.733760   \n",
       "8              0.776235             0.771204             0.792377   \n",
       "9              0.819256             0.842966             0.832314   \n",
       "10             0.817881             0.790536             0.790835   \n",
       "11             0.862914             0.890334             0.862343   \n",
       "12             0.775318             0.785628             0.790203   \n",
       "13             0.783724             0.788386             0.782645   \n",
       "14             0.500000             0.500000             0.500000   \n",
       "15             0.841365             0.845901             0.845963   \n",
       "16             0.500000             0.500000             0.500000   \n",
       "17             0.774605             0.766194             0.776427   \n",
       "18             0.766021             0.787753             0.782847   \n",
       "19             0.805706             0.815840             0.806582   \n",
       "20             0.777407             0.796002             0.804004   \n",
       "21             0.867295             0.892257             0.877408   \n",
       "22             0.810596             0.812955             0.807821   \n",
       "23             0.500000             0.500000             0.500000   \n",
       "24             0.846409             0.857945             0.847328   \n",
       "25             0.733418             0.720825             0.752970   \n",
       "26             0.779266             0.743573             0.798948   \n",
       "27             0.771447             0.785299             0.789091   \n",
       "28             0.830642             0.853239             0.835145   \n",
       "29             0.829699             0.837500             0.831783   \n",
       "\n",
       "    split49_train_score  mean_train_score  std_train_score  \n",
       "0              0.788408          0.776965         0.013133  \n",
       "1              0.844320          0.820057         0.010883  \n",
       "2              0.830620          0.797205         0.014336  \n",
       "3              0.831606          0.815390         0.012192  \n",
       "4              0.825944          0.810339         0.010457  \n",
       "5              0.812649          0.780402         0.015395  \n",
       "6              0.874476          0.868193         0.011111  \n",
       "7              0.731940          0.711151         0.026954  \n",
       "8              0.798367          0.784675         0.013771  \n",
       "9              0.842880          0.830865         0.013701  \n",
       "10             0.826728          0.800227         0.011905  \n",
       "11             0.896466          0.875058         0.009635  \n",
       "12             0.802892          0.786239         0.011471  \n",
       "13             0.807088          0.787723         0.012852  \n",
       "14             0.500000          0.500000         0.000000  \n",
       "15             0.860725          0.846889         0.010557  \n",
       "16             0.500000          0.500000         0.000000  \n",
       "17             0.810930          0.781198         0.013442  \n",
       "18             0.769299          0.779239         0.017205  \n",
       "19             0.834336          0.812810         0.012941  \n",
       "20             0.798670          0.791408         0.013450  \n",
       "21             0.892220          0.877068         0.009727  \n",
       "22             0.828800          0.801634         0.016901  \n",
       "23             0.500000          0.504692         0.023000  \n",
       "24             0.861129          0.850742         0.010815  \n",
       "25             0.753425          0.749562         0.019051  \n",
       "26             0.802993          0.772845         0.015343  \n",
       "27             0.805344          0.784377         0.012274  \n",
       "28             0.854861          0.836991         0.010912  \n",
       "29             0.852131          0.832252         0.011874  \n",
       "\n",
       "[30 rows x 116 columns]"
      ]
     },
     "execution_count": 126,
     "metadata": {},
     "output_type": "execute_result"
    }
   ],
   "source": [
    "resultados = pd.DataFrame(busca.cv_results_)\n",
    "resultados"
   ]
  },
  {
   "cell_type": "code",
   "execution_count": 127,
   "metadata": {},
   "outputs": [
    {
     "data": {
      "text/html": [
       "<div>\n",
       "<style scoped>\n",
       "    .dataframe tbody tr th:only-of-type {\n",
       "        vertical-align: middle;\n",
       "    }\n",
       "\n",
       "    .dataframe tbody tr th {\n",
       "        vertical-align: top;\n",
       "    }\n",
       "\n",
       "    .dataframe thead th {\n",
       "        text-align: right;\n",
       "    }\n",
       "</style>\n",
       "<table border=\"1\" class=\"dataframe\">\n",
       "  <thead>\n",
       "    <tr style=\"text-align: right;\">\n",
       "      <th></th>\n",
       "      <th>11</th>\n",
       "    </tr>\n",
       "  </thead>\n",
       "  <tbody>\n",
       "    <tr>\n",
       "      <th>mean_fit_time</th>\n",
       "      <td>0.140343</td>\n",
       "    </tr>\n",
       "    <tr>\n",
       "      <th>std_fit_time</th>\n",
       "      <td>0.00531601</td>\n",
       "    </tr>\n",
       "    <tr>\n",
       "      <th>mean_score_time</th>\n",
       "      <td>0.011957</td>\n",
       "    </tr>\n",
       "    <tr>\n",
       "      <th>std_score_time</th>\n",
       "      <td>0.00104013</td>\n",
       "    </tr>\n",
       "    <tr>\n",
       "      <th>param_bootstrap</th>\n",
       "      <td>False</td>\n",
       "    </tr>\n",
       "    <tr>\n",
       "      <th>...</th>\n",
       "      <td>...</td>\n",
       "    </tr>\n",
       "    <tr>\n",
       "      <th>split47_train_score</th>\n",
       "      <td>0.890334</td>\n",
       "    </tr>\n",
       "    <tr>\n",
       "      <th>split48_train_score</th>\n",
       "      <td>0.862343</td>\n",
       "    </tr>\n",
       "    <tr>\n",
       "      <th>split49_train_score</th>\n",
       "      <td>0.896466</td>\n",
       "    </tr>\n",
       "    <tr>\n",
       "      <th>mean_train_score</th>\n",
       "      <td>0.875058</td>\n",
       "    </tr>\n",
       "    <tr>\n",
       "      <th>std_train_score</th>\n",
       "      <td>0.00963542</td>\n",
       "    </tr>\n",
       "  </tbody>\n",
       "</table>\n",
       "<p>116 rows × 1 columns</p>\n",
       "</div>"
      ],
      "text/plain": [
       "                             11\n",
       "mean_fit_time          0.140343\n",
       "std_fit_time         0.00531601\n",
       "mean_score_time        0.011957\n",
       "std_score_time       0.00104013\n",
       "param_bootstrap           False\n",
       "...                         ...\n",
       "split47_train_score    0.890334\n",
       "split48_train_score    0.862343\n",
       "split49_train_score    0.896466\n",
       "mean_train_score       0.875058\n",
       "std_train_score      0.00963542\n",
       "\n",
       "[116 rows x 1 columns]"
      ]
     },
     "execution_count": 127,
     "metadata": {},
     "output_type": "execute_result"
    }
   ],
   "source": [
    "parametros = pd.DataFrame(resultados.iloc[busca.best_index_])\n",
    "parametros"
   ]
  },
  {
   "cell_type": "code",
   "execution_count": 128,
   "metadata": {},
   "outputs": [
    {
     "data": {
      "text/html": [
       "<div>\n",
       "<style scoped>\n",
       "    .dataframe tbody tr th:only-of-type {\n",
       "        vertical-align: middle;\n",
       "    }\n",
       "\n",
       "    .dataframe tbody tr th {\n",
       "        vertical-align: top;\n",
       "    }\n",
       "\n",
       "    .dataframe thead th {\n",
       "        text-align: right;\n",
       "    }\n",
       "</style>\n",
       "<table border=\"1\" class=\"dataframe\">\n",
       "  <thead>\n",
       "    <tr style=\"text-align: right;\">\n",
       "      <th></th>\n",
       "      <th>11</th>\n",
       "    </tr>\n",
       "  </thead>\n",
       "  <tbody>\n",
       "    <tr>\n",
       "      <th>param_bootstrap</th>\n",
       "      <td>False</td>\n",
       "    </tr>\n",
       "    <tr>\n",
       "      <th>param_criterion</th>\n",
       "      <td>entropy</td>\n",
       "    </tr>\n",
       "    <tr>\n",
       "      <th>param_max_depth</th>\n",
       "      <td>3</td>\n",
       "    </tr>\n",
       "    <tr>\n",
       "      <th>param_min_samples_leaf</th>\n",
       "      <td>34</td>\n",
       "    </tr>\n",
       "    <tr>\n",
       "      <th>param_min_samples_split</th>\n",
       "      <td>103</td>\n",
       "    </tr>\n",
       "    <tr>\n",
       "      <th>param_n_estimators</th>\n",
       "      <td>81</td>\n",
       "    </tr>\n",
       "    <tr>\n",
       "      <th>params</th>\n",
       "      <td>{'bootstrap': False, 'criterion': 'entropy', '...</td>\n",
       "    </tr>\n",
       "  </tbody>\n",
       "</table>\n",
       "</div>"
      ],
      "text/plain": [
       "                                                                        11\n",
       "param_bootstrap                                                      False\n",
       "param_criterion                                                    entropy\n",
       "param_max_depth                                                          3\n",
       "param_min_samples_leaf                                                  34\n",
       "param_min_samples_split                                                103\n",
       "param_n_estimators                                                      81\n",
       "params                   {'bootstrap': False, 'criterion': 'entropy', '..."
      ]
     },
     "execution_count": 128,
     "metadata": {},
     "output_type": "execute_result"
    }
   ],
   "source": [
    "parametros[parametros.index.str.contains('param')]"
   ]
  },
  {
   "cell_type": "code",
   "execution_count": 134,
   "metadata": {},
   "outputs": [
    {
     "data": {
      "text/plain": [
       "array([0.77696487, 0.82005682, 0.79720466, 0.81539008, 0.81033945,\n",
       "       0.78040167, 0.86819338, 0.71115079, 0.7846754 , 0.83086513,\n",
       "       0.80022718, 0.87505773, 0.78623887, 0.7877227 , 0.5       ,\n",
       "       0.84688858, 0.5       , 0.78119786, 0.77923862, 0.81280981,\n",
       "       0.79140789, 0.8770684 , 0.80163362, 0.50469192, 0.85074183,\n",
       "       0.74956236, 0.77284503, 0.78437677, 0.8369906 , 0.83225154])"
      ]
     },
     "execution_count": 134,
     "metadata": {},
     "output_type": "execute_result"
    }
   ],
   "source": [
    "busca.cv_results_['mean_train_score']"
   ]
  },
  {
   "cell_type": "code",
   "execution_count": 137,
   "metadata": {},
   "outputs": [
    {
     "data": {
      "text/plain": [
       "array([0.71371958, 0.73900066, 0.72426765, 0.73677904, 0.74500644,\n",
       "       0.72623887, 0.77396802, 0.6833081 , 0.72041671, 0.75435405,\n",
       "       0.72611096, 0.77540631, 0.72601782, 0.71966281, 0.5       ,\n",
       "       0.76359485, 0.5       , 0.71157598, 0.71101859, 0.74072397,\n",
       "       0.71474336, 0.77348725, 0.72536889, 0.50108519, 0.76028048,\n",
       "       0.70103323, 0.72422078, 0.72668231, 0.7593712 , 0.75409648])"
      ]
     },
     "execution_count": 137,
     "metadata": {},
     "output_type": "execute_result"
    }
   ],
   "source": [
    "busca.cv_results_['mean_test_score']"
   ]
  },
  {
   "cell_type": "code",
   "execution_count": 175,
   "metadata": {},
   "outputs": [
    {
     "data": {
      "text/html": [
       "<div>\n",
       "<style scoped>\n",
       "    .dataframe tbody tr th:only-of-type {\n",
       "        vertical-align: middle;\n",
       "    }\n",
       "\n",
       "    .dataframe tbody tr th {\n",
       "        vertical-align: top;\n",
       "    }\n",
       "\n",
       "    .dataframe thead th {\n",
       "        text-align: right;\n",
       "    }\n",
       "</style>\n",
       "<table border=\"1\" class=\"dataframe\">\n",
       "  <thead>\n",
       "    <tr style=\"text-align: right;\">\n",
       "      <th></th>\n",
       "      <th>mean_fit_time</th>\n",
       "      <th>std_fit_time</th>\n",
       "      <th>mean_score_time</th>\n",
       "      <th>std_score_time</th>\n",
       "      <th>split0_test_score</th>\n",
       "      <th>split1_test_score</th>\n",
       "      <th>split2_test_score</th>\n",
       "      <th>split3_test_score</th>\n",
       "      <th>split4_test_score</th>\n",
       "      <th>split5_test_score</th>\n",
       "      <th>...</th>\n",
       "      <th>split42_train_score</th>\n",
       "      <th>split43_train_score</th>\n",
       "      <th>split44_train_score</th>\n",
       "      <th>split45_train_score</th>\n",
       "      <th>split46_train_score</th>\n",
       "      <th>split47_train_score</th>\n",
       "      <th>split48_train_score</th>\n",
       "      <th>split49_train_score</th>\n",
       "      <th>mean_train_score</th>\n",
       "      <th>std_train_score</th>\n",
       "    </tr>\n",
       "  </thead>\n",
       "  <tbody>\n",
       "    <tr>\n",
       "      <th>count</th>\n",
       "      <td>30.000000</td>\n",
       "      <td>30.000000</td>\n",
       "      <td>30.000000</td>\n",
       "      <td>30.000000</td>\n",
       "      <td>30.000000</td>\n",
       "      <td>30.000000</td>\n",
       "      <td>30.000000</td>\n",
       "      <td>30.000000</td>\n",
       "      <td>30.000000</td>\n",
       "      <td>30.000000</td>\n",
       "      <td>...</td>\n",
       "      <td>30.000000</td>\n",
       "      <td>30.000000</td>\n",
       "      <td>30.000000</td>\n",
       "      <td>30.000000</td>\n",
       "      <td>30.000000</td>\n",
       "      <td>30.000000</td>\n",
       "      <td>30.000000</td>\n",
       "      <td>30.000000</td>\n",
       "      <td>30.000000</td>\n",
       "      <td>30.000000</td>\n",
       "    </tr>\n",
       "    <tr>\n",
       "      <th>mean</th>\n",
       "      <td>0.098373</td>\n",
       "      <td>0.004212</td>\n",
       "      <td>0.009566</td>\n",
       "      <td>0.000909</td>\n",
       "      <td>0.756247</td>\n",
       "      <td>0.657283</td>\n",
       "      <td>0.747652</td>\n",
       "      <td>0.747917</td>\n",
       "      <td>0.681565</td>\n",
       "      <td>0.680781</td>\n",
       "      <td>...</td>\n",
       "      <td>0.775520</td>\n",
       "      <td>0.789875</td>\n",
       "      <td>0.772122</td>\n",
       "      <td>0.775466</td>\n",
       "      <td>0.771510</td>\n",
       "      <td>0.774199</td>\n",
       "      <td>0.776612</td>\n",
       "      <td>0.791308</td>\n",
       "      <td>0.775540</td>\n",
       "      <td>0.012843</td>\n",
       "    </tr>\n",
       "    <tr>\n",
       "      <th>std</th>\n",
       "      <td>0.037391</td>\n",
       "      <td>0.002437</td>\n",
       "      <td>0.002688</td>\n",
       "      <td>0.000450</td>\n",
       "      <td>0.091982</td>\n",
       "      <td>0.070134</td>\n",
       "      <td>0.091368</td>\n",
       "      <td>0.088826</td>\n",
       "      <td>0.062385</td>\n",
       "      <td>0.071886</td>\n",
       "      <td>...</td>\n",
       "      <td>0.090364</td>\n",
       "      <td>0.105352</td>\n",
       "      <td>0.099767</td>\n",
       "      <td>0.099937</td>\n",
       "      <td>0.098160</td>\n",
       "      <td>0.104734</td>\n",
       "      <td>0.098943</td>\n",
       "      <td>0.105313</td>\n",
       "      <td>0.099707</td>\n",
       "      <td>0.005165</td>\n",
       "    </tr>\n",
       "    <tr>\n",
       "      <th>min</th>\n",
       "      <td>0.028137</td>\n",
       "      <td>0.001237</td>\n",
       "      <td>0.004582</td>\n",
       "      <td>0.000475</td>\n",
       "      <td>0.500000</td>\n",
       "      <td>0.500000</td>\n",
       "      <td>0.500000</td>\n",
       "      <td>0.500000</td>\n",
       "      <td>0.500000</td>\n",
       "      <td>0.500000</td>\n",
       "      <td>...</td>\n",
       "      <td>0.500000</td>\n",
       "      <td>0.500000</td>\n",
       "      <td>0.500000</td>\n",
       "      <td>0.500000</td>\n",
       "      <td>0.500000</td>\n",
       "      <td>0.500000</td>\n",
       "      <td>0.500000</td>\n",
       "      <td>0.500000</td>\n",
       "      <td>0.500000</td>\n",
       "      <td>0.000000</td>\n",
       "    </tr>\n",
       "    <tr>\n",
       "      <th>25%</th>\n",
       "      <td>0.072998</td>\n",
       "      <td>0.002654</td>\n",
       "      <td>0.007857</td>\n",
       "      <td>0.000653</td>\n",
       "      <td>0.756180</td>\n",
       "      <td>0.629087</td>\n",
       "      <td>0.736077</td>\n",
       "      <td>0.750822</td>\n",
       "      <td>0.665707</td>\n",
       "      <td>0.662679</td>\n",
       "      <td>...</td>\n",
       "      <td>0.766555</td>\n",
       "      <td>0.796332</td>\n",
       "      <td>0.774228</td>\n",
       "      <td>0.781349</td>\n",
       "      <td>0.772217</td>\n",
       "      <td>0.761260</td>\n",
       "      <td>0.784408</td>\n",
       "      <td>0.798443</td>\n",
       "      <td>0.779529</td>\n",
       "      <td>0.010890</td>\n",
       "    </tr>\n",
       "    <tr>\n",
       "      <th>50%</th>\n",
       "      <td>0.104674</td>\n",
       "      <td>0.003650</td>\n",
       "      <td>0.010382</td>\n",
       "      <td>0.000785</td>\n",
       "      <td>0.774322</td>\n",
       "      <td>0.675837</td>\n",
       "      <td>0.774570</td>\n",
       "      <td>0.774260</td>\n",
       "      <td>0.700247</td>\n",
       "      <td>0.685207</td>\n",
       "      <td>...</td>\n",
       "      <td>0.786412</td>\n",
       "      <td>0.809805</td>\n",
       "      <td>0.796585</td>\n",
       "      <td>0.799745</td>\n",
       "      <td>0.793059</td>\n",
       "      <td>0.793269</td>\n",
       "      <td>0.797811</td>\n",
       "      <td>0.819296</td>\n",
       "      <td>0.794306</td>\n",
       "      <td>0.012563</td>\n",
       "    </tr>\n",
       "    <tr>\n",
       "      <th>75%</th>\n",
       "      <td>0.129191</td>\n",
       "      <td>0.005288</td>\n",
       "      <td>0.011863</td>\n",
       "      <td>0.001031</td>\n",
       "      <td>0.801535</td>\n",
       "      <td>0.706340</td>\n",
       "      <td>0.794124</td>\n",
       "      <td>0.789885</td>\n",
       "      <td>0.718133</td>\n",
       "      <td>0.725279</td>\n",
       "      <td>...</td>\n",
       "      <td>0.835223</td>\n",
       "      <td>0.841831</td>\n",
       "      <td>0.815953</td>\n",
       "      <td>0.825096</td>\n",
       "      <td>0.818912</td>\n",
       "      <td>0.834780</td>\n",
       "      <td>0.825792</td>\n",
       "      <td>0.843960</td>\n",
       "      <td>0.828163</td>\n",
       "      <td>0.014195</td>\n",
       "    </tr>\n",
       "    <tr>\n",
       "      <th>max</th>\n",
       "      <td>0.146219</td>\n",
       "      <td>0.010449</td>\n",
       "      <td>0.013004</td>\n",
       "      <td>0.002803</td>\n",
       "      <td>0.847687</td>\n",
       "      <td>0.755981</td>\n",
       "      <td>0.846028</td>\n",
       "      <td>0.826480</td>\n",
       "      <td>0.745066</td>\n",
       "      <td>0.779107</td>\n",
       "      <td>...</td>\n",
       "      <td>0.869787</td>\n",
       "      <td>0.893585</td>\n",
       "      <td>0.880542</td>\n",
       "      <td>0.873714</td>\n",
       "      <td>0.867295</td>\n",
       "      <td>0.892257</td>\n",
       "      <td>0.877408</td>\n",
       "      <td>0.896466</td>\n",
       "      <td>0.877068</td>\n",
       "      <td>0.026954</td>\n",
       "    </tr>\n",
       "  </tbody>\n",
       "</table>\n",
       "<p>8 rows × 109 columns</p>\n",
       "</div>"
      ],
      "text/plain": [
       "       mean_fit_time  std_fit_time  mean_score_time  std_score_time  \\\n",
       "count      30.000000     30.000000        30.000000       30.000000   \n",
       "mean        0.098373      0.004212         0.009566        0.000909   \n",
       "std         0.037391      0.002437         0.002688        0.000450   \n",
       "min         0.028137      0.001237         0.004582        0.000475   \n",
       "25%         0.072998      0.002654         0.007857        0.000653   \n",
       "50%         0.104674      0.003650         0.010382        0.000785   \n",
       "75%         0.129191      0.005288         0.011863        0.001031   \n",
       "max         0.146219      0.010449         0.013004        0.002803   \n",
       "\n",
       "       split0_test_score  split1_test_score  split2_test_score  \\\n",
       "count          30.000000          30.000000          30.000000   \n",
       "mean            0.756247           0.657283           0.747652   \n",
       "std             0.091982           0.070134           0.091368   \n",
       "min             0.500000           0.500000           0.500000   \n",
       "25%             0.756180           0.629087           0.736077   \n",
       "50%             0.774322           0.675837           0.774570   \n",
       "75%             0.801535           0.706340           0.794124   \n",
       "max             0.847687           0.755981           0.846028   \n",
       "\n",
       "       split3_test_score  split4_test_score  split5_test_score  ...  \\\n",
       "count          30.000000          30.000000          30.000000  ...   \n",
       "mean            0.747917           0.681565           0.680781  ...   \n",
       "std             0.088826           0.062385           0.071886  ...   \n",
       "min             0.500000           0.500000           0.500000  ...   \n",
       "25%             0.750822           0.665707           0.662679  ...   \n",
       "50%             0.774260           0.700247           0.685207  ...   \n",
       "75%             0.789885           0.718133           0.725279  ...   \n",
       "max             0.826480           0.745066           0.779107  ...   \n",
       "\n",
       "       split42_train_score  split43_train_score  split44_train_score  \\\n",
       "count            30.000000            30.000000            30.000000   \n",
       "mean              0.775520             0.789875             0.772122   \n",
       "std               0.090364             0.105352             0.099767   \n",
       "min               0.500000             0.500000             0.500000   \n",
       "25%               0.766555             0.796332             0.774228   \n",
       "50%               0.786412             0.809805             0.796585   \n",
       "75%               0.835223             0.841831             0.815953   \n",
       "max               0.869787             0.893585             0.880542   \n",
       "\n",
       "       split45_train_score  split46_train_score  split47_train_score  \\\n",
       "count            30.000000            30.000000            30.000000   \n",
       "mean              0.775466             0.771510             0.774199   \n",
       "std               0.099937             0.098160             0.104734   \n",
       "min               0.500000             0.500000             0.500000   \n",
       "25%               0.781349             0.772217             0.761260   \n",
       "50%               0.799745             0.793059             0.793269   \n",
       "75%               0.825096             0.818912             0.834780   \n",
       "max               0.873714             0.867295             0.892257   \n",
       "\n",
       "       split48_train_score  split49_train_score  mean_train_score  \\\n",
       "count            30.000000            30.000000         30.000000   \n",
       "mean              0.776612             0.791308          0.775540   \n",
       "std               0.098943             0.105313          0.099707   \n",
       "min               0.500000             0.500000          0.500000   \n",
       "25%               0.784408             0.798443          0.779529   \n",
       "50%               0.797811             0.819296          0.794306   \n",
       "75%               0.825792             0.843960          0.828163   \n",
       "max               0.877408             0.896466          0.877068   \n",
       "\n",
       "       std_train_score  \n",
       "count        30.000000  \n",
       "mean          0.012843  \n",
       "std           0.005165  \n",
       "min           0.000000  \n",
       "25%           0.010890  \n",
       "50%           0.012563  \n",
       "75%           0.014195  \n",
       "max           0.026954  \n",
       "\n",
       "[8 rows x 109 columns]"
      ]
     },
     "execution_count": 175,
     "metadata": {},
     "output_type": "execute_result"
    }
   ],
   "source": [
    "pd.DataFrame(busca.cv_results_).describe()"
   ]
  },
  {
   "cell_type": "code",
   "execution_count": null,
   "metadata": {},
   "outputs": [],
   "source": []
  }
 ],
 "metadata": {
  "kernelspec": {
   "display_name": "Python 3",
   "language": "python",
   "name": "python3"
  },
  "language_info": {
   "codemirror_mode": {
    "name": "ipython",
    "version": 3
   },
   "file_extension": ".py",
   "mimetype": "text/x-python",
   "name": "python",
   "nbconvert_exporter": "python",
   "pygments_lexer": "ipython3",
   "version": "3.7.6"
  }
 },
 "nbformat": 4,
 "nbformat_minor": 4
}
